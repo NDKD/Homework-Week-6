{
 "cells": [
  {
   "cell_type": "markdown",
   "metadata": {},
   "source": [
    "# Toronto Dwellings Analysis\n",
    "\n",
    "In this assignment, you will perform fundamental analysis for the Toronto dwellings market to allow potential real estate investors to choose rental investment properties."
   ]
  },
  {
   "cell_type": "code",
   "execution_count": 4,
   "metadata": {},
   "outputs": [],
   "source": [
    "# imports\n",
    "import panel as pn\n",
    "pn.extension('plotly')\n",
    "import plotly.express as px\n",
    "import pandas as pd\n",
    "import hvplot.pandas\n",
    "import matplotlib.pyplot as plt\n",
    "import os\n",
    "from pathlib import Path\n",
    "from dotenv import load_dotenv"
   ]
  },
  {
   "cell_type": "code",
   "execution_count": 5,
   "metadata": {},
   "outputs": [],
   "source": [
    "# Read the Mapbox API key\n",
    "load_dotenv()\n",
    "map_box_api = os.getenv(\"mapbox\")"
   ]
  },
  {
   "cell_type": "markdown",
   "metadata": {},
   "source": [
    "## Load Data"
   ]
  },
  {
   "cell_type": "code",
   "execution_count": 6,
   "metadata": {},
   "outputs": [
    {
     "data": {
      "text/html": [
       "<div>\n",
       "<style scoped>\n",
       "    .dataframe tbody tr th:only-of-type {\n",
       "        vertical-align: middle;\n",
       "    }\n",
       "\n",
       "    .dataframe tbody tr th {\n",
       "        vertical-align: top;\n",
       "    }\n",
       "\n",
       "    .dataframe thead th {\n",
       "        text-align: right;\n",
       "    }\n",
       "</style>\n",
       "<table border=\"1\" class=\"dataframe\">\n",
       "  <thead>\n",
       "    <tr style=\"text-align: right;\">\n",
       "      <th></th>\n",
       "      <th>neighbourhood</th>\n",
       "      <th>single_detached_house</th>\n",
       "      <th>apartment_five_storeys_plus</th>\n",
       "      <th>movable_dwelling</th>\n",
       "      <th>semi_detached_house</th>\n",
       "      <th>row_house</th>\n",
       "      <th>duplex</th>\n",
       "      <th>apartment_five_storeys_less</th>\n",
       "      <th>other_house</th>\n",
       "      <th>average_house_value</th>\n",
       "      <th>shelter_costs_owned</th>\n",
       "      <th>shelter_costs_rented</th>\n",
       "    </tr>\n",
       "    <tr>\n",
       "      <th>year</th>\n",
       "      <th></th>\n",
       "      <th></th>\n",
       "      <th></th>\n",
       "      <th></th>\n",
       "      <th></th>\n",
       "      <th></th>\n",
       "      <th></th>\n",
       "      <th></th>\n",
       "      <th></th>\n",
       "      <th></th>\n",
       "      <th></th>\n",
       "      <th></th>\n",
       "    </tr>\n",
       "  </thead>\n",
       "  <tbody>\n",
       "    <tr>\n",
       "      <th>2001</th>\n",
       "      <td>Agincourt North</td>\n",
       "      <td>3715</td>\n",
       "      <td>1480</td>\n",
       "      <td>0</td>\n",
       "      <td>1055</td>\n",
       "      <td>1295</td>\n",
       "      <td>195</td>\n",
       "      <td>185</td>\n",
       "      <td>5</td>\n",
       "      <td>200388</td>\n",
       "      <td>810</td>\n",
       "      <td>870</td>\n",
       "    </tr>\n",
       "    <tr>\n",
       "      <th>2001</th>\n",
       "      <td>Agincourt South-Malvern West</td>\n",
       "      <td>3250</td>\n",
       "      <td>1835</td>\n",
       "      <td>0</td>\n",
       "      <td>545</td>\n",
       "      <td>455</td>\n",
       "      <td>105</td>\n",
       "      <td>425</td>\n",
       "      <td>0</td>\n",
       "      <td>203047</td>\n",
       "      <td>806</td>\n",
       "      <td>892</td>\n",
       "    </tr>\n",
       "    <tr>\n",
       "      <th>2001</th>\n",
       "      <td>Alderwood</td>\n",
       "      <td>3175</td>\n",
       "      <td>315</td>\n",
       "      <td>0</td>\n",
       "      <td>470</td>\n",
       "      <td>50</td>\n",
       "      <td>185</td>\n",
       "      <td>370</td>\n",
       "      <td>0</td>\n",
       "      <td>259998</td>\n",
       "      <td>817</td>\n",
       "      <td>924</td>\n",
       "    </tr>\n",
       "    <tr>\n",
       "      <th>2001</th>\n",
       "      <td>Annex</td>\n",
       "      <td>1060</td>\n",
       "      <td>6090</td>\n",
       "      <td>5</td>\n",
       "      <td>1980</td>\n",
       "      <td>605</td>\n",
       "      <td>275</td>\n",
       "      <td>3710</td>\n",
       "      <td>165</td>\n",
       "      <td>453850</td>\n",
       "      <td>1027</td>\n",
       "      <td>1378</td>\n",
       "    </tr>\n",
       "    <tr>\n",
       "      <th>2001</th>\n",
       "      <td>Banbury-Don Mills</td>\n",
       "      <td>3615</td>\n",
       "      <td>4465</td>\n",
       "      <td>0</td>\n",
       "      <td>240</td>\n",
       "      <td>380</td>\n",
       "      <td>15</td>\n",
       "      <td>1360</td>\n",
       "      <td>0</td>\n",
       "      <td>371864</td>\n",
       "      <td>1007</td>\n",
       "      <td>1163</td>\n",
       "    </tr>\n",
       "  </tbody>\n",
       "</table>\n",
       "</div>"
      ],
      "text/plain": [
       "                     neighbourhood  single_detached_house  \\\n",
       "year                                                        \n",
       "2001               Agincourt North                   3715   \n",
       "2001  Agincourt South-Malvern West                   3250   \n",
       "2001                     Alderwood                   3175   \n",
       "2001                         Annex                   1060   \n",
       "2001             Banbury-Don Mills                   3615   \n",
       "\n",
       "      apartment_five_storeys_plus  movable_dwelling  semi_detached_house  \\\n",
       "year                                                                       \n",
       "2001                         1480                 0                 1055   \n",
       "2001                         1835                 0                  545   \n",
       "2001                          315                 0                  470   \n",
       "2001                         6090                 5                 1980   \n",
       "2001                         4465                 0                  240   \n",
       "\n",
       "      row_house  duplex  apartment_five_storeys_less  other_house  \\\n",
       "year                                                                \n",
       "2001       1295     195                          185            5   \n",
       "2001        455     105                          425            0   \n",
       "2001         50     185                          370            0   \n",
       "2001        605     275                         3710          165   \n",
       "2001        380      15                         1360            0   \n",
       "\n",
       "      average_house_value  shelter_costs_owned  shelter_costs_rented  \n",
       "year                                                                  \n",
       "2001               200388                  810                   870  \n",
       "2001               203047                  806                   892  \n",
       "2001               259998                  817                   924  \n",
       "2001               453850                 1027                  1378  \n",
       "2001               371864                 1007                  1163  "
      ]
     },
     "execution_count": 6,
     "metadata": {},
     "output_type": "execute_result"
    }
   ],
   "source": [
    "# Read the census data into a Pandas DataFrame\n",
    "file_path = Path(\"toronto_neighbourhoods_census_data.csv\")\n",
    "to_data = pd.read_csv(file_path, index_col=\"year\")\n",
    "to_data.head()"
   ]
  },
  {
   "cell_type": "code",
   "execution_count": 7,
   "metadata": {},
   "outputs": [
    {
     "data": {
      "text/plain": [
       "['neighbourhood',\n",
       " 'single_detached_house',\n",
       " 'apartment_five_storeys_plus',\n",
       " 'movable_dwelling',\n",
       " 'semi_detached_house',\n",
       " 'row_house',\n",
       " 'duplex',\n",
       " 'apartment_five_storeys_less',\n",
       " 'other_house',\n",
       " 'average_house_value',\n",
       " 'shelter_costs_owned',\n",
       " 'shelter_costs_rented']"
      ]
     },
     "execution_count": 7,
     "metadata": {},
     "output_type": "execute_result"
    }
   ],
   "source": [
    "list(to_data.columns)"
   ]
  },
  {
   "cell_type": "markdown",
   "metadata": {},
   "source": [
    "- - - "
   ]
  },
  {
   "cell_type": "markdown",
   "metadata": {},
   "source": [
    "## Dwelling Types Per Year\n",
    "\n",
    "In this section, you will calculate the number of dwelling types per year. Visualize the results using bar charts and the Pandas plot function. \n",
    "\n",
    "**Hint:** Use the Pandas `groupby` function.\n",
    "\n",
    "**Optional challenge:** Plot each bar chart in a different color."
   ]
  },
  {
   "cell_type": "code",
   "execution_count": 8,
   "metadata": {},
   "outputs": [],
   "source": [
    "# Calculate the sum number of dwelling types units per year (hint: use groupby)\n",
    "# YOUR CODE HERE!\n",
    "list(to_data.columns)\n",
    "\n",
    "all_columns = [\n",
    "    'single_detached_house',\n",
    "    'apartment_five_storeys_plus',\n",
    "    'movable_dwelling',\n",
    "    'semi_detached_house',\n",
    "    'row_house',\n",
    "    'duplex',\n",
    "    'apartment_five_storeys_less',\n",
    "    'other_house'\n",
    "]\n"
   ]
  },
  {
   "cell_type": "code",
   "execution_count": 9,
   "metadata": {},
   "outputs": [
    {
     "data": {
      "text/html": [
       "<div>\n",
       "<style scoped>\n",
       "    .dataframe tbody tr th:only-of-type {\n",
       "        vertical-align: middle;\n",
       "    }\n",
       "\n",
       "    .dataframe tbody tr th {\n",
       "        vertical-align: top;\n",
       "    }\n",
       "\n",
       "    .dataframe thead th {\n",
       "        text-align: right;\n",
       "    }\n",
       "</style>\n",
       "<table border=\"1\" class=\"dataframe\">\n",
       "  <thead>\n",
       "    <tr style=\"text-align: right;\">\n",
       "      <th></th>\n",
       "      <th>single_detached_house</th>\n",
       "      <th>apartment_five_storeys_plus</th>\n",
       "      <th>movable_dwelling</th>\n",
       "      <th>semi_detached_house</th>\n",
       "      <th>row_house</th>\n",
       "      <th>duplex</th>\n",
       "      <th>apartment_five_storeys_less</th>\n",
       "      <th>other_house</th>\n",
       "    </tr>\n",
       "    <tr>\n",
       "      <th>year</th>\n",
       "      <th></th>\n",
       "      <th></th>\n",
       "      <th></th>\n",
       "      <th></th>\n",
       "      <th></th>\n",
       "      <th></th>\n",
       "      <th></th>\n",
       "      <th></th>\n",
       "    </tr>\n",
       "  </thead>\n",
       "  <tbody>\n",
       "    <tr>\n",
       "      <th>2001</th>\n",
       "      <td>3715</td>\n",
       "      <td>1480</td>\n",
       "      <td>0</td>\n",
       "      <td>1055</td>\n",
       "      <td>1295</td>\n",
       "      <td>195</td>\n",
       "      <td>185</td>\n",
       "      <td>5</td>\n",
       "    </tr>\n",
       "    <tr>\n",
       "      <th>2001</th>\n",
       "      <td>3250</td>\n",
       "      <td>1835</td>\n",
       "      <td>0</td>\n",
       "      <td>545</td>\n",
       "      <td>455</td>\n",
       "      <td>105</td>\n",
       "      <td>425</td>\n",
       "      <td>0</td>\n",
       "    </tr>\n",
       "    <tr>\n",
       "      <th>2001</th>\n",
       "      <td>3175</td>\n",
       "      <td>315</td>\n",
       "      <td>0</td>\n",
       "      <td>470</td>\n",
       "      <td>50</td>\n",
       "      <td>185</td>\n",
       "      <td>370</td>\n",
       "      <td>0</td>\n",
       "    </tr>\n",
       "    <tr>\n",
       "      <th>2001</th>\n",
       "      <td>1060</td>\n",
       "      <td>6090</td>\n",
       "      <td>5</td>\n",
       "      <td>1980</td>\n",
       "      <td>605</td>\n",
       "      <td>275</td>\n",
       "      <td>3710</td>\n",
       "      <td>165</td>\n",
       "    </tr>\n",
       "    <tr>\n",
       "      <th>2001</th>\n",
       "      <td>3615</td>\n",
       "      <td>4465</td>\n",
       "      <td>0</td>\n",
       "      <td>240</td>\n",
       "      <td>380</td>\n",
       "      <td>15</td>\n",
       "      <td>1360</td>\n",
       "      <td>0</td>\n",
       "    </tr>\n",
       "  </tbody>\n",
       "</table>\n",
       "</div>"
      ],
      "text/plain": [
       "      single_detached_house  apartment_five_storeys_plus  movable_dwelling  \\\n",
       "year                                                                         \n",
       "2001                   3715                         1480                 0   \n",
       "2001                   3250                         1835                 0   \n",
       "2001                   3175                          315                 0   \n",
       "2001                   1060                         6090                 5   \n",
       "2001                   3615                         4465                 0   \n",
       "\n",
       "      semi_detached_house  row_house  duplex  apartment_five_storeys_less  \\\n",
       "year                                                                        \n",
       "2001                 1055       1295     195                          185   \n",
       "2001                  545        455     105                          425   \n",
       "2001                  470         50     185                          370   \n",
       "2001                 1980        605     275                         3710   \n",
       "2001                  240        380      15                         1360   \n",
       "\n",
       "      other_house  \n",
       "year               \n",
       "2001            5  \n",
       "2001            0  \n",
       "2001            0  \n",
       "2001          165  \n",
       "2001            0  "
      ]
     },
     "execution_count": 9,
     "metadata": {},
     "output_type": "execute_result"
    }
   ],
   "source": [
    "dwellings_types =to_data[all_columns]\n",
    "dwellings_types.head()"
   ]
  },
  {
   "cell_type": "code",
   "execution_count": 10,
   "metadata": {},
   "outputs": [
    {
     "data": {
      "text/html": [
       "<div>\n",
       "<style scoped>\n",
       "    .dataframe tbody tr th:only-of-type {\n",
       "        vertical-align: middle;\n",
       "    }\n",
       "\n",
       "    .dataframe tbody tr th {\n",
       "        vertical-align: top;\n",
       "    }\n",
       "\n",
       "    .dataframe thead th {\n",
       "        text-align: right;\n",
       "    }\n",
       "</style>\n",
       "<table border=\"1\" class=\"dataframe\">\n",
       "  <thead>\n",
       "    <tr style=\"text-align: right;\">\n",
       "      <th></th>\n",
       "      <th>single_detached_house</th>\n",
       "      <th>apartment_five_storeys_plus</th>\n",
       "      <th>movable_dwelling</th>\n",
       "      <th>semi_detached_house</th>\n",
       "      <th>row_house</th>\n",
       "      <th>duplex</th>\n",
       "      <th>apartment_five_storeys_less</th>\n",
       "      <th>other_house</th>\n",
       "    </tr>\n",
       "    <tr>\n",
       "      <th>year</th>\n",
       "      <th></th>\n",
       "      <th></th>\n",
       "      <th></th>\n",
       "      <th></th>\n",
       "      <th></th>\n",
       "      <th></th>\n",
       "      <th></th>\n",
       "      <th></th>\n",
       "    </tr>\n",
       "  </thead>\n",
       "  <tbody>\n",
       "    <tr>\n",
       "      <th>2001</th>\n",
       "      <td>300930</td>\n",
       "      <td>355015</td>\n",
       "      <td>75</td>\n",
       "      <td>90995</td>\n",
       "      <td>52355</td>\n",
       "      <td>23785</td>\n",
       "      <td>116900</td>\n",
       "      <td>3040</td>\n",
       "    </tr>\n",
       "    <tr>\n",
       "      <th>2006</th>\n",
       "      <td>266860</td>\n",
       "      <td>379400</td>\n",
       "      <td>165</td>\n",
       "      <td>69430</td>\n",
       "      <td>54690</td>\n",
       "      <td>44095</td>\n",
       "      <td>162850</td>\n",
       "      <td>1335</td>\n",
       "    </tr>\n",
       "    <tr>\n",
       "      <th>2011</th>\n",
       "      <td>274940</td>\n",
       "      <td>429220</td>\n",
       "      <td>100</td>\n",
       "      <td>72480</td>\n",
       "      <td>60355</td>\n",
       "      <td>44750</td>\n",
       "      <td>163895</td>\n",
       "      <td>2165</td>\n",
       "    </tr>\n",
       "    <tr>\n",
       "      <th>2016</th>\n",
       "      <td>269680</td>\n",
       "      <td>493270</td>\n",
       "      <td>95</td>\n",
       "      <td>71200</td>\n",
       "      <td>61565</td>\n",
       "      <td>48585</td>\n",
       "      <td>165575</td>\n",
       "      <td>2845</td>\n",
       "    </tr>\n",
       "  </tbody>\n",
       "</table>\n",
       "</div>"
      ],
      "text/plain": [
       "      single_detached_house  apartment_five_storeys_plus  movable_dwelling  \\\n",
       "year                                                                         \n",
       "2001                 300930                       355015                75   \n",
       "2006                 266860                       379400               165   \n",
       "2011                 274940                       429220               100   \n",
       "2016                 269680                       493270                95   \n",
       "\n",
       "      semi_detached_house  row_house  duplex  apartment_five_storeys_less  \\\n",
       "year                                                                        \n",
       "2001                90995      52355   23785                       116900   \n",
       "2006                69430      54690   44095                       162850   \n",
       "2011                72480      60355   44750                       163895   \n",
       "2016                71200      61565   48585                       165575   \n",
       "\n",
       "      other_house  \n",
       "year               \n",
       "2001         3040  \n",
       "2006         1335  \n",
       "2011         2165  \n",
       "2016         2845  "
      ]
     },
     "execution_count": 10,
     "metadata": {},
     "output_type": "execute_result"
    }
   ],
   "source": [
    "# Calculate the sum number of dwelling types units per year (hint: use groupby)\n",
    "# YOUR CODE HERE!\n",
    "dwellings_types_per_year =to_data[all_columns].groupby(to_data.index).sum()\n",
    "dwellings_types_per_year.head()"
   ]
  },
  {
   "cell_type": "code",
   "execution_count": 11,
   "metadata": {},
   "outputs": [],
   "source": [
    "# Save the dataframe as a csv file\n",
    "# YOUR CODE HERE!\n",
    "dwellings_types_per_year.to_csv('dwellings_types_per_year.csv', index=True)"
   ]
  },
  {
   "cell_type": "code",
   "execution_count": 12,
   "metadata": {},
   "outputs": [
    {
     "data": {
      "text/html": [
       "<div>\n",
       "<style scoped>\n",
       "    .dataframe tbody tr th:only-of-type {\n",
       "        vertical-align: middle;\n",
       "    }\n",
       "\n",
       "    .dataframe tbody tr th {\n",
       "        vertical-align: top;\n",
       "    }\n",
       "\n",
       "    .dataframe thead th {\n",
       "        text-align: right;\n",
       "    }\n",
       "</style>\n",
       "<table border=\"1\" class=\"dataframe\">\n",
       "  <thead>\n",
       "    <tr style=\"text-align: right;\">\n",
       "      <th></th>\n",
       "      <th>single_detached_house</th>\n",
       "      <th>apartment_five_storeys_plus</th>\n",
       "      <th>movable_dwelling</th>\n",
       "      <th>semi_detached_house</th>\n",
       "      <th>row_house</th>\n",
       "      <th>duplex</th>\n",
       "      <th>apartment_five_storeys_less</th>\n",
       "      <th>other_house</th>\n",
       "    </tr>\n",
       "    <tr>\n",
       "      <th>year</th>\n",
       "      <th></th>\n",
       "      <th></th>\n",
       "      <th></th>\n",
       "      <th></th>\n",
       "      <th></th>\n",
       "      <th></th>\n",
       "      <th></th>\n",
       "      <th></th>\n",
       "    </tr>\n",
       "  </thead>\n",
       "  <tbody>\n",
       "    <tr>\n",
       "      <th>2001</th>\n",
       "      <td>300930</td>\n",
       "      <td>355015</td>\n",
       "      <td>75</td>\n",
       "      <td>90995</td>\n",
       "      <td>52355</td>\n",
       "      <td>23785</td>\n",
       "      <td>116900</td>\n",
       "      <td>3040</td>\n",
       "    </tr>\n",
       "    <tr>\n",
       "      <th>2006</th>\n",
       "      <td>266860</td>\n",
       "      <td>379400</td>\n",
       "      <td>165</td>\n",
       "      <td>69430</td>\n",
       "      <td>54690</td>\n",
       "      <td>44095</td>\n",
       "      <td>162850</td>\n",
       "      <td>1335</td>\n",
       "    </tr>\n",
       "    <tr>\n",
       "      <th>2011</th>\n",
       "      <td>274940</td>\n",
       "      <td>429220</td>\n",
       "      <td>100</td>\n",
       "      <td>72480</td>\n",
       "      <td>60355</td>\n",
       "      <td>44750</td>\n",
       "      <td>163895</td>\n",
       "      <td>2165</td>\n",
       "    </tr>\n",
       "    <tr>\n",
       "      <th>2016</th>\n",
       "      <td>269680</td>\n",
       "      <td>493270</td>\n",
       "      <td>95</td>\n",
       "      <td>71200</td>\n",
       "      <td>61565</td>\n",
       "      <td>48585</td>\n",
       "      <td>165575</td>\n",
       "      <td>2845</td>\n",
       "    </tr>\n",
       "  </tbody>\n",
       "</table>\n",
       "</div>"
      ],
      "text/plain": [
       "      single_detached_house  apartment_five_storeys_plus  movable_dwelling  \\\n",
       "year                                                                         \n",
       "2001                 300930                       355015                75   \n",
       "2006                 266860                       379400               165   \n",
       "2011                 274940                       429220               100   \n",
       "2016                 269680                       493270                95   \n",
       "\n",
       "      semi_detached_house  row_house  duplex  apartment_five_storeys_less  \\\n",
       "year                                                                        \n",
       "2001                90995      52355   23785                       116900   \n",
       "2006                69430      54690   44095                       162850   \n",
       "2011                72480      60355   44750                       163895   \n",
       "2016                71200      61565   48585                       165575   \n",
       "\n",
       "      other_house  \n",
       "year               \n",
       "2001         3040  \n",
       "2006         1335  \n",
       "2011         2165  \n",
       "2016         2845  "
      ]
     },
     "execution_count": 12,
     "metadata": {},
     "output_type": "execute_result"
    }
   ],
   "source": [
    "df = pd.read_csv(\"dwellings_types_per_year.csv\", index_col=\"year\")\n",
    "df.head()\n"
   ]
  },
  {
   "cell_type": "code",
   "execution_count": 13,
   "metadata": {},
   "outputs": [],
   "source": [
    "dwellings_types_per_year.dropna(inplace=True)"
   ]
  },
  {
   "cell_type": "code",
   "execution_count": 14,
   "metadata": {},
   "outputs": [],
   "source": [
    "# Create a bar chart per year to show the number of dwelling types\n",
    "\n",
    "# Bar chart for 2001\n",
    "# YOUR CODE HERE!\n",
    "\n",
    "# Bar chart for 2006\n",
    "# YOUR CODE HERE!\n",
    "\n",
    "# Bar chart for 2011\n",
    "# YOUR CODE HERE!\n",
    "\n",
    "# Bar chart for 2016\n",
    "# YOUR CODE HERE!"
   ]
  },
  {
   "cell_type": "code",
   "execution_count": 15,
   "metadata": {},
   "outputs": [],
   "source": [
    "# Helper create_bar_chart function\n",
    "#def create_bar_chart(data, title, xlabel, ylabel, color):\n",
    "   \n",
    "   #Create a barplot based in the data argument.\n",
    "    \n",
    "    # fig = plt.figure()\n",
    "   # bar = dwellings_types_per_year.hvplot.bar(title=title, xlabel=xlabel, ylabel=ylabel, color=color,rot=90)\n",
    "   # return bar\n",
    "    # plt.show()\n",
    "    # plt.close(fig)"
   ]
  },
  {
   "cell_type": "code",
   "execution_count": 16,
   "metadata": {},
   "outputs": [
    {
     "data": {},
     "metadata": {},
     "output_type": "display_data"
    },
    {
     "data": {
      "application/vnd.holoviews_exec.v0+json": "",
      "text/html": [
       "<div id='1002'>\n",
       "\n",
       "\n",
       "\n",
       "\n",
       "\n",
       "  <div class=\"bk-root\" id=\"d0a16f3c-3383-4f28-97f6-0a960db83be8\" data-root-id=\"1002\"></div>\n",
       "</div>\n",
       "<script type=\"application/javascript\">(function(root) {\n",
       "  function embed_document(root) {\n",
       "    var docs_json = {\"8e95f5fe-41ef-412d-a2fe-8f66673f3aba\":{\"defs\":[],\"roots\":{\"references\":[{\"attributes\":{\"axis\":{\"id\":\"1016\"},\"grid_line_color\":null,\"ticker\":null},\"id\":\"1018\",\"type\":\"Grid\"},{\"attributes\":{\"text\":\"Dwelling types in Toronto in 2001\",\"text_color\":\"black\",\"text_font_size\":\"12pt\"},\"id\":\"1008\",\"type\":\"Title\"},{\"attributes\":{},\"id\":\"1037\",\"type\":\"Selection\"},{\"attributes\":{},\"id\":\"1046\",\"type\":\"CategoricalTickFormatter\"},{\"attributes\":{\"children\":[{\"id\":\"1003\"},{\"id\":\"1007\"},{\"id\":\"1072\"}],\"margin\":[0,0,0,0],\"name\":\"Row01671\",\"tags\":[\"embedded\"]},\"id\":\"1002\",\"type\":\"Row\"},{\"attributes\":{\"end\":390509.0,\"reset_end\":390509.0,\"reset_start\":0.0,\"tags\":[[[\"2001\",\"2001\",null]]]},\"id\":\"1005\",\"type\":\"Range1d\"},{\"attributes\":{},\"id\":\"1014\",\"type\":\"LinearScale\"},{\"attributes\":{},\"id\":\"1012\",\"type\":\"CategoricalScale\"},{\"attributes\":{},\"id\":\"1017\",\"type\":\"CategoricalTicker\"},{\"attributes\":{\"fill_alpha\":{\"value\":0.2},\"fill_color\":{\"value\":\"red\"},\"line_alpha\":{\"value\":0.2},\"top\":{\"field\":\"A_2001\"},\"width\":{\"value\":0.8},\"x\":{\"field\":\"index\"}},\"id\":\"1041\",\"type\":\"VBar\"},{\"attributes\":{\"margin\":[5,5,5,5],\"name\":\"HSpacer01676\",\"sizing_mode\":\"stretch_width\"},\"id\":\"1072\",\"type\":\"Spacer\"},{\"attributes\":{\"axis\":{\"id\":\"1019\"},\"dimension\":1,\"grid_line_color\":null,\"ticker\":null},\"id\":\"1022\",\"type\":\"Grid\"},{\"attributes\":{\"callback\":null,\"renderers\":[{\"id\":\"1042\"}],\"tags\":[\"hv_created\"],\"tooltips\":[[\"index\",\"@{index}\"],[\"2001\",\"@{A_2001}\"]]},\"id\":\"1006\",\"type\":\"HoverTool\"},{\"attributes\":{\"margin\":[5,5,5,5],\"name\":\"HSpacer01675\",\"sizing_mode\":\"stretch_width\"},\"id\":\"1003\",\"type\":\"Spacer\"},{\"attributes\":{},\"id\":\"1020\",\"type\":\"BasicTicker\"},{\"attributes\":{\"factors\":[\"single_detached_house\",\"apartment_five_storeys_plus\",\"movable_dwelling\",\"semi_detached_house\",\"row_house\",\"duplex\",\"apartment_five_storeys_less\",\"other_house\"],\"tags\":[[[\"index\",\"index\",null]]]},\"id\":\"1004\",\"type\":\"FactorRange\"},{\"attributes\":{\"axis_label\":\"Dwelling type units\",\"formatter\":{\"id\":\"1045\"},\"major_label_policy\":{\"id\":\"1051\"},\"ticker\":{\"id\":\"1020\"}},\"id\":\"1019\",\"type\":\"LinearAxis\"},{\"attributes\":{\"bottom\":{\"value\":0},\"fill_alpha\":{\"value\":1.0},\"fill_color\":{\"value\":\"red\"},\"hatch_alpha\":{\"value\":1.0},\"hatch_color\":{\"value\":\"black\"},\"hatch_scale\":{\"value\":12.0},\"hatch_weight\":{\"value\":1.0},\"line_alpha\":{\"value\":1.0},\"line_cap\":{\"value\":\"butt\"},\"line_color\":{\"value\":\"black\"},\"line_dash\":{\"value\":[]},\"line_dash_offset\":{\"value\":0},\"line_join\":{\"value\":\"bevel\"},\"line_width\":{\"value\":1},\"top\":{\"field\":\"A_2001\"},\"width\":{\"value\":0.8},\"x\":{\"field\":\"index\"}},\"id\":\"1044\",\"type\":\"VBar\"},{\"attributes\":{},\"id\":\"1048\",\"type\":\"AllLabels\"},{\"attributes\":{\"data\":{\"A_2001\":[300930,355015,75,90995,52355,23785,116900,3040],\"index\":[\"single_detached_house\",\"apartment_five_storeys_plus\",\"movable_dwelling\",\"semi_detached_house\",\"row_house\",\"duplex\",\"apartment_five_storeys_less\",\"other_house\"]},\"selected\":{\"id\":\"1037\"},\"selection_policy\":{\"id\":\"1062\"}},\"id\":\"1036\",\"type\":\"ColumnDataSource\"},{\"attributes\":{\"fill_alpha\":{\"value\":0.1},\"fill_color\":{\"value\":\"red\"},\"line_alpha\":{\"value\":0.1},\"top\":{\"field\":\"A_2001\"},\"width\":{\"value\":0.8},\"x\":{\"field\":\"index\"}},\"id\":\"1040\",\"type\":\"VBar\"},{\"attributes\":{\"axis_label\":\"\",\"formatter\":{\"id\":\"1046\"},\"major_label_orientation\":1.5707963267948966,\"major_label_policy\":{\"id\":\"1048\"},\"ticker\":{\"id\":\"1017\"}},\"id\":\"1016\",\"type\":\"CategoricalAxis\"},{\"attributes\":{\"format\":\"%.0f\"},\"id\":\"1045\",\"type\":\"PrintfTickFormatter\"},{\"attributes\":{\"fill_color\":{\"value\":\"red\"},\"top\":{\"field\":\"A_2001\"},\"width\":{\"value\":0.8},\"x\":{\"field\":\"index\"}},\"id\":\"1039\",\"type\":\"VBar\"},{\"attributes\":{\"source\":{\"id\":\"1036\"}},\"id\":\"1043\",\"type\":\"CDSView\"},{\"attributes\":{\"bottom_units\":\"screen\",\"fill_alpha\":0.5,\"fill_color\":\"lightgrey\",\"left_units\":\"screen\",\"level\":\"overlay\",\"line_alpha\":1.0,\"line_color\":\"black\",\"line_dash\":[4,4],\"line_width\":2,\"right_units\":\"screen\",\"syncable\":false,\"top_units\":\"screen\"},\"id\":\"1028\",\"type\":\"BoxAnnotation\"},{\"attributes\":{},\"id\":\"1023\",\"type\":\"SaveTool\"},{\"attributes\":{},\"id\":\"1062\",\"type\":\"UnionRenderers\"},{\"attributes\":{\"active_multi\":null,\"tools\":[{\"id\":\"1006\"},{\"id\":\"1023\"},{\"id\":\"1024\"},{\"id\":\"1025\"},{\"id\":\"1026\"},{\"id\":\"1027\"}]},\"id\":\"1029\",\"type\":\"Toolbar\"},{\"attributes\":{},\"id\":\"1024\",\"type\":\"PanTool\"},{\"attributes\":{},\"id\":\"1051\",\"type\":\"AllLabels\"},{\"attributes\":{\"data_source\":{\"id\":\"1036\"},\"glyph\":{\"id\":\"1039\"},\"hover_glyph\":null,\"muted_glyph\":{\"id\":\"1041\"},\"nonselection_glyph\":{\"id\":\"1040\"},\"selection_glyph\":{\"id\":\"1044\"},\"view\":{\"id\":\"1043\"}},\"id\":\"1042\",\"type\":\"GlyphRenderer\"},{\"attributes\":{},\"id\":\"1027\",\"type\":\"ResetTool\"},{\"attributes\":{\"below\":[{\"id\":\"1016\"}],\"center\":[{\"id\":\"1018\"},{\"id\":\"1022\"}],\"height\":300,\"left\":[{\"id\":\"1019\"}],\"margin\":[5,5,5,5],\"min_border_bottom\":10,\"min_border_left\":10,\"min_border_right\":10,\"min_border_top\":10,\"renderers\":[{\"id\":\"1042\"}],\"sizing_mode\":\"fixed\",\"title\":{\"id\":\"1008\"},\"toolbar\":{\"id\":\"1029\"},\"width\":700,\"x_range\":{\"id\":\"1004\"},\"x_scale\":{\"id\":\"1012\"},\"y_range\":{\"id\":\"1005\"},\"y_scale\":{\"id\":\"1014\"}},\"id\":\"1007\",\"subtype\":\"Figure\",\"type\":\"Plot\"},{\"attributes\":{},\"id\":\"1025\",\"type\":\"WheelZoomTool\"},{\"attributes\":{\"overlay\":{\"id\":\"1028\"}},\"id\":\"1026\",\"type\":\"BoxZoomTool\"}],\"root_ids\":[\"1002\"]},\"title\":\"Bokeh Application\",\"version\":\"2.3.2\"}};\n",
       "    var render_items = [{\"docid\":\"8e95f5fe-41ef-412d-a2fe-8f66673f3aba\",\"root_ids\":[\"1002\"],\"roots\":{\"1002\":\"d0a16f3c-3383-4f28-97f6-0a960db83be8\"}}];\n",
       "    root.Bokeh.embed.embed_items_notebook(docs_json, render_items);\n",
       "  }\n",
       "  if (root.Bokeh !== undefined && root.Bokeh.Panel !== undefined && root['Plotly'] !== undefined ) {\n",
       "    embed_document(root);\n",
       "  } else {\n",
       "    var attempts = 0;\n",
       "    var timer = setInterval(function(root) {\n",
       "      if (root.Bokeh !== undefined && root.Bokeh.Panel !== undefined && root['Plotly'] !== undefined) {\n",
       "        clearInterval(timer);\n",
       "        embed_document(root);\n",
       "      } else if (document.readyState == \"complete\") {\n",
       "        attempts++;\n",
       "        if (attempts > 100) {\n",
       "          clearInterval(timer);\n",
       "          console.log(\"Bokeh: ERROR: Unable to run BokehJS code because BokehJS library is missing\");\n",
       "        }\n",
       "      }\n",
       "    }, 10, root)\n",
       "  }\n",
       "})(window);</script>"
      ],
      "text/plain": [
       ":Bars   [index]   (2001)"
      ]
     },
     "execution_count": 16,
     "metadata": {
      "application/vnd.holoviews_exec.v0+json": {
       "id": "1002"
      }
     },
     "output_type": "execute_result"
    }
   ],
   "source": [
    "# Bar chart for 2001\n",
    "# YOUR CODE HERE!\n",
    "\n",
    "df.iloc[0 , :].hvplot.bar(title=\"Dwelling types in Toronto in 2001\", ylabel= \"Dwelling type units\" , color= [\"red\"],rot=90).opts(yformatter=\"%.0f\")"
   ]
  },
  {
   "cell_type": "code",
   "execution_count": 17,
   "metadata": {},
   "outputs": [
    {
     "data": {},
     "metadata": {},
     "output_type": "display_data"
    },
    {
     "data": {
      "application/vnd.holoviews_exec.v0+json": "",
      "text/html": [
       "<div id='1119'>\n",
       "\n",
       "\n",
       "\n",
       "\n",
       "\n",
       "  <div class=\"bk-root\" id=\"82d78505-314b-4452-a7ab-4e630a3faf72\" data-root-id=\"1119\"></div>\n",
       "</div>\n",
       "<script type=\"application/javascript\">(function(root) {\n",
       "  function embed_document(root) {\n",
       "    var docs_json = {\"a8fe8aee-297d-4d5d-933a-ac64083a49e2\":{\"defs\":[],\"roots\":{\"references\":[{\"attributes\":{\"axis_label\":\"\",\"formatter\":{\"id\":\"1163\"},\"major_label_orientation\":1.5707963267948966,\"major_label_policy\":{\"id\":\"1165\"},\"ticker\":{\"id\":\"1134\"}},\"id\":\"1133\",\"type\":\"CategoricalAxis\"},{\"attributes\":{},\"id\":\"1137\",\"type\":\"BasicTicker\"},{\"attributes\":{\"margin\":[5,5,5,5],\"name\":\"HSpacer01868\",\"sizing_mode\":\"stretch_width\"},\"id\":\"1120\",\"type\":\"Spacer\"},{\"attributes\":{\"axis\":{\"id\":\"1133\"},\"grid_line_color\":null,\"ticker\":null},\"id\":\"1135\",\"type\":\"Grid\"},{\"attributes\":{},\"id\":\"1131\",\"type\":\"LinearScale\"},{\"attributes\":{\"children\":[{\"id\":\"1120\"},{\"id\":\"1124\"},{\"id\":\"1189\"}],\"margin\":[0,0,0,0],\"name\":\"Row01864\",\"tags\":[\"embedded\"]},\"id\":\"1119\",\"type\":\"Row\"},{\"attributes\":{},\"id\":\"1134\",\"type\":\"CategoricalTicker\"},{\"attributes\":{\"axis_label\":\"Dwelling type units\",\"formatter\":{\"id\":\"1162\"},\"major_label_policy\":{\"id\":\"1168\"},\"ticker\":{\"id\":\"1137\"}},\"id\":\"1136\",\"type\":\"LinearAxis\"},{\"attributes\":{\"active_multi\":null,\"tools\":[{\"id\":\"1123\"},{\"id\":\"1140\"},{\"id\":\"1141\"},{\"id\":\"1142\"},{\"id\":\"1143\"},{\"id\":\"1144\"}]},\"id\":\"1146\",\"type\":\"Toolbar\"},{\"attributes\":{\"factors\":[\"single_detached_house\",\"apartment_five_storeys_plus\",\"movable_dwelling\",\"semi_detached_house\",\"row_house\",\"duplex\",\"apartment_five_storeys_less\",\"other_house\"],\"tags\":[[[\"index\",\"index\",null]]]},\"id\":\"1121\",\"type\":\"FactorRange\"},{\"attributes\":{},\"id\":\"1168\",\"type\":\"AllLabels\"},{\"attributes\":{\"axis\":{\"id\":\"1136\"},\"dimension\":1,\"grid_line_color\":null,\"ticker\":null},\"id\":\"1139\",\"type\":\"Grid\"},{\"attributes\":{\"end\":417323.5,\"reset_end\":417323.5,\"reset_start\":0.0,\"tags\":[[[\"2006\",\"2006\",null]]]},\"id\":\"1122\",\"type\":\"Range1d\"},{\"attributes\":{\"fill_alpha\":{\"value\":0.2},\"fill_color\":{\"value\":\"blue\"},\"line_alpha\":{\"value\":0.2},\"top\":{\"field\":\"A_2006\"},\"width\":{\"value\":0.8},\"x\":{\"field\":\"index\"}},\"id\":\"1158\",\"type\":\"VBar\"},{\"attributes\":{\"bottom_units\":\"screen\",\"fill_alpha\":0.5,\"fill_color\":\"lightgrey\",\"left_units\":\"screen\",\"level\":\"overlay\",\"line_alpha\":1.0,\"line_color\":\"black\",\"line_dash\":[4,4],\"line_width\":2,\"right_units\":\"screen\",\"syncable\":false,\"top_units\":\"screen\"},\"id\":\"1145\",\"type\":\"BoxAnnotation\"},{\"attributes\":{\"data_source\":{\"id\":\"1153\"},\"glyph\":{\"id\":\"1156\"},\"hover_glyph\":null,\"muted_glyph\":{\"id\":\"1158\"},\"nonselection_glyph\":{\"id\":\"1157\"},\"selection_glyph\":{\"id\":\"1161\"},\"view\":{\"id\":\"1160\"}},\"id\":\"1159\",\"type\":\"GlyphRenderer\"},{\"attributes\":{\"source\":{\"id\":\"1153\"}},\"id\":\"1160\",\"type\":\"CDSView\"},{\"attributes\":{\"bottom\":{\"value\":0},\"fill_alpha\":{\"value\":1.0},\"fill_color\":{\"value\":\"blue\"},\"hatch_alpha\":{\"value\":1.0},\"hatch_color\":{\"value\":\"black\"},\"hatch_scale\":{\"value\":12.0},\"hatch_weight\":{\"value\":1.0},\"line_alpha\":{\"value\":1.0},\"line_cap\":{\"value\":\"butt\"},\"line_color\":{\"value\":\"black\"},\"line_dash\":{\"value\":[]},\"line_dash_offset\":{\"value\":0},\"line_join\":{\"value\":\"bevel\"},\"line_width\":{\"value\":1},\"top\":{\"field\":\"A_2006\"},\"width\":{\"value\":0.8},\"x\":{\"field\":\"index\"}},\"id\":\"1161\",\"type\":\"VBar\"},{\"attributes\":{\"margin\":[5,5,5,5],\"name\":\"HSpacer01869\",\"sizing_mode\":\"stretch_width\"},\"id\":\"1189\",\"type\":\"Spacer\"},{\"attributes\":{},\"id\":\"1154\",\"type\":\"Selection\"},{\"attributes\":{},\"id\":\"1165\",\"type\":\"AllLabels\"},{\"attributes\":{\"fill_color\":{\"value\":\"blue\"},\"top\":{\"field\":\"A_2006\"},\"width\":{\"value\":0.8},\"x\":{\"field\":\"index\"}},\"id\":\"1156\",\"type\":\"VBar\"},{\"attributes\":{\"below\":[{\"id\":\"1133\"}],\"center\":[{\"id\":\"1135\"},{\"id\":\"1139\"}],\"height\":300,\"left\":[{\"id\":\"1136\"}],\"margin\":[5,5,5,5],\"min_border_bottom\":10,\"min_border_left\":10,\"min_border_right\":10,\"min_border_top\":10,\"renderers\":[{\"id\":\"1159\"}],\"sizing_mode\":\"fixed\",\"title\":{\"id\":\"1125\"},\"toolbar\":{\"id\":\"1146\"},\"width\":700,\"x_range\":{\"id\":\"1121\"},\"x_scale\":{\"id\":\"1129\"},\"y_range\":{\"id\":\"1122\"},\"y_scale\":{\"id\":\"1131\"}},\"id\":\"1124\",\"subtype\":\"Figure\",\"type\":\"Plot\"},{\"attributes\":{},\"id\":\"1140\",\"type\":\"SaveTool\"},{\"attributes\":{},\"id\":\"1163\",\"type\":\"CategoricalTickFormatter\"},{\"attributes\":{},\"id\":\"1141\",\"type\":\"PanTool\"},{\"attributes\":{\"fill_alpha\":{\"value\":0.1},\"fill_color\":{\"value\":\"blue\"},\"line_alpha\":{\"value\":0.1},\"top\":{\"field\":\"A_2006\"},\"width\":{\"value\":0.8},\"x\":{\"field\":\"index\"}},\"id\":\"1157\",\"type\":\"VBar\"},{\"attributes\":{},\"id\":\"1129\",\"type\":\"CategoricalScale\"},{\"attributes\":{},\"id\":\"1144\",\"type\":\"ResetTool\"},{\"attributes\":{},\"id\":\"1142\",\"type\":\"WheelZoomTool\"},{\"attributes\":{\"data\":{\"A_2006\":[266860,379400,165,69430,54690,44095,162850,1335],\"index\":[\"single_detached_house\",\"apartment_five_storeys_plus\",\"movable_dwelling\",\"semi_detached_house\",\"row_house\",\"duplex\",\"apartment_five_storeys_less\",\"other_house\"]},\"selected\":{\"id\":\"1154\"},\"selection_policy\":{\"id\":\"1179\"}},\"id\":\"1153\",\"type\":\"ColumnDataSource\"},{\"attributes\":{},\"id\":\"1179\",\"type\":\"UnionRenderers\"},{\"attributes\":{\"overlay\":{\"id\":\"1145\"}},\"id\":\"1143\",\"type\":\"BoxZoomTool\"},{\"attributes\":{\"format\":\"%.0f\"},\"id\":\"1162\",\"type\":\"PrintfTickFormatter\"},{\"attributes\":{\"callback\":null,\"renderers\":[{\"id\":\"1159\"}],\"tags\":[\"hv_created\"],\"tooltips\":[[\"index\",\"@{index}\"],[\"2006\",\"@{A_2006}\"]]},\"id\":\"1123\",\"type\":\"HoverTool\"},{\"attributes\":{\"text\":\"Dwelling types in Toronto in 2006\",\"text_color\":\"black\",\"text_font_size\":\"12pt\"},\"id\":\"1125\",\"type\":\"Title\"}],\"root_ids\":[\"1119\"]},\"title\":\"Bokeh Application\",\"version\":\"2.3.2\"}};\n",
       "    var render_items = [{\"docid\":\"a8fe8aee-297d-4d5d-933a-ac64083a49e2\",\"root_ids\":[\"1119\"],\"roots\":{\"1119\":\"82d78505-314b-4452-a7ab-4e630a3faf72\"}}];\n",
       "    root.Bokeh.embed.embed_items_notebook(docs_json, render_items);\n",
       "  }\n",
       "  if (root.Bokeh !== undefined && root.Bokeh.Panel !== undefined && root['Plotly'] !== undefined ) {\n",
       "    embed_document(root);\n",
       "  } else {\n",
       "    var attempts = 0;\n",
       "    var timer = setInterval(function(root) {\n",
       "      if (root.Bokeh !== undefined && root.Bokeh.Panel !== undefined && root['Plotly'] !== undefined) {\n",
       "        clearInterval(timer);\n",
       "        embed_document(root);\n",
       "      } else if (document.readyState == \"complete\") {\n",
       "        attempts++;\n",
       "        if (attempts > 100) {\n",
       "          clearInterval(timer);\n",
       "          console.log(\"Bokeh: ERROR: Unable to run BokehJS code because BokehJS library is missing\");\n",
       "        }\n",
       "      }\n",
       "    }, 10, root)\n",
       "  }\n",
       "})(window);</script>"
      ],
      "text/plain": [
       ":Bars   [index]   (2006)"
      ]
     },
     "execution_count": 17,
     "metadata": {
      "application/vnd.holoviews_exec.v0+json": {
       "id": "1119"
      }
     },
     "output_type": "execute_result"
    }
   ],
   "source": [
    "# Bar chart for 2006\n",
    "# YOUR CODE HERE!\n",
    "\n",
    "df.iloc[1 , :].hvplot.bar(title=\"Dwelling types in Toronto in 2006\", ylabel= \"Dwelling type units\" , color= [\"blue\"],rot=90).opts(yformatter=\"%.0f\")"
   ]
  },
  {
   "cell_type": "code",
   "execution_count": 18,
   "metadata": {},
   "outputs": [
    {
     "data": {},
     "metadata": {},
     "output_type": "display_data"
    },
    {
     "data": {
      "application/vnd.holoviews_exec.v0+json": "",
      "text/html": [
       "<div id='1236'>\n",
       "\n",
       "\n",
       "\n",
       "\n",
       "\n",
       "  <div class=\"bk-root\" id=\"b031693a-25aa-4f37-8587-80d8d5b7160b\" data-root-id=\"1236\"></div>\n",
       "</div>\n",
       "<script type=\"application/javascript\">(function(root) {\n",
       "  function embed_document(root) {\n",
       "    var docs_json = {\"208b39e4-1202-4dc2-acc1-abd451b21326\":{\"defs\":[],\"roots\":{\"references\":[{\"attributes\":{\"below\":[{\"id\":\"1250\"}],\"center\":[{\"id\":\"1252\"},{\"id\":\"1256\"}],\"height\":300,\"left\":[{\"id\":\"1253\"}],\"margin\":[5,5,5,5],\"min_border_bottom\":10,\"min_border_left\":10,\"min_border_right\":10,\"min_border_top\":10,\"renderers\":[{\"id\":\"1276\"}],\"sizing_mode\":\"fixed\",\"title\":{\"id\":\"1242\"},\"toolbar\":{\"id\":\"1263\"},\"width\":700,\"x_range\":{\"id\":\"1238\"},\"x_scale\":{\"id\":\"1246\"},\"y_range\":{\"id\":\"1239\"},\"y_scale\":{\"id\":\"1248\"}},\"id\":\"1241\",\"subtype\":\"Figure\",\"type\":\"Plot\"},{\"attributes\":{},\"id\":\"1271\",\"type\":\"Selection\"},{\"attributes\":{},\"id\":\"1258\",\"type\":\"PanTool\"},{\"attributes\":{\"axis\":{\"id\":\"1250\"},\"grid_line_color\":null,\"ticker\":null},\"id\":\"1252\",\"type\":\"Grid\"},{\"attributes\":{},\"id\":\"1261\",\"type\":\"ResetTool\"},{\"attributes\":{},\"id\":\"1259\",\"type\":\"WheelZoomTool\"},{\"attributes\":{\"overlay\":{\"id\":\"1262\"}},\"id\":\"1260\",\"type\":\"BoxZoomTool\"},{\"attributes\":{},\"id\":\"1280\",\"type\":\"CategoricalTickFormatter\"},{\"attributes\":{},\"id\":\"1285\",\"type\":\"AllLabels\"},{\"attributes\":{},\"id\":\"1254\",\"type\":\"BasicTicker\"},{\"attributes\":{\"text\":\"Dwelling types in Toronto in 2011\",\"text_color\":\"black\",\"text_font_size\":\"12pt\"},\"id\":\"1242\",\"type\":\"Title\"},{\"attributes\":{},\"id\":\"1296\",\"type\":\"UnionRenderers\"},{\"attributes\":{\"axis_label\":\"\",\"formatter\":{\"id\":\"1280\"},\"major_label_orientation\":1.5707963267948966,\"major_label_policy\":{\"id\":\"1282\"},\"ticker\":{\"id\":\"1251\"}},\"id\":\"1250\",\"type\":\"CategoricalAxis\"},{\"attributes\":{\"factors\":[\"single_detached_house\",\"apartment_five_storeys_plus\",\"movable_dwelling\",\"semi_detached_house\",\"row_house\",\"duplex\",\"apartment_five_storeys_less\",\"other_house\"],\"tags\":[[[\"index\",\"index\",null]]]},\"id\":\"1238\",\"type\":\"FactorRange\"},{\"attributes\":{},\"id\":\"1246\",\"type\":\"CategoricalScale\"},{\"attributes\":{},\"id\":\"1248\",\"type\":\"LinearScale\"},{\"attributes\":{\"margin\":[5,5,5,5],\"name\":\"HSpacer02062\",\"sizing_mode\":\"stretch_width\"},\"id\":\"1306\",\"type\":\"Spacer\"},{\"attributes\":{\"fill_color\":{\"value\":\"orange\"},\"top\":{\"field\":\"A_2011\"},\"width\":{\"value\":0.8},\"x\":{\"field\":\"index\"}},\"id\":\"1273\",\"type\":\"VBar\"},{\"attributes\":{},\"id\":\"1251\",\"type\":\"CategoricalTicker\"},{\"attributes\":{\"format\":\"%.0f\"},\"id\":\"1279\",\"type\":\"PrintfTickFormatter\"},{\"attributes\":{\"axis_label\":\"Dwelling type units\",\"formatter\":{\"id\":\"1279\"},\"major_label_policy\":{\"id\":\"1285\"},\"ticker\":{\"id\":\"1254\"}},\"id\":\"1253\",\"type\":\"LinearAxis\"},{\"attributes\":{\"end\":472132.0,\"reset_end\":472132.0,\"reset_start\":0.0,\"tags\":[[[\"2011\",\"2011\",null]]]},\"id\":\"1239\",\"type\":\"Range1d\"},{\"attributes\":{\"margin\":[5,5,5,5],\"name\":\"HSpacer02061\",\"sizing_mode\":\"stretch_width\"},\"id\":\"1237\",\"type\":\"Spacer\"},{\"attributes\":{\"axis\":{\"id\":\"1253\"},\"dimension\":1,\"grid_line_color\":null,\"ticker\":null},\"id\":\"1256\",\"type\":\"Grid\"},{\"attributes\":{\"active_multi\":null,\"tools\":[{\"id\":\"1240\"},{\"id\":\"1257\"},{\"id\":\"1258\"},{\"id\":\"1259\"},{\"id\":\"1260\"},{\"id\":\"1261\"}]},\"id\":\"1263\",\"type\":\"Toolbar\"},{\"attributes\":{\"callback\":null,\"renderers\":[{\"id\":\"1276\"}],\"tags\":[\"hv_created\"],\"tooltips\":[[\"index\",\"@{index}\"],[\"2011\",\"@{A_2011}\"]]},\"id\":\"1240\",\"type\":\"HoverTool\"},{\"attributes\":{\"source\":{\"id\":\"1270\"}},\"id\":\"1277\",\"type\":\"CDSView\"},{\"attributes\":{\"data\":{\"A_2011\":[274940,429220,100,72480,60355,44750,163895,2165],\"index\":[\"single_detached_house\",\"apartment_five_storeys_plus\",\"movable_dwelling\",\"semi_detached_house\",\"row_house\",\"duplex\",\"apartment_five_storeys_less\",\"other_house\"]},\"selected\":{\"id\":\"1271\"},\"selection_policy\":{\"id\":\"1296\"}},\"id\":\"1270\",\"type\":\"ColumnDataSource\"},{\"attributes\":{\"bottom_units\":\"screen\",\"fill_alpha\":0.5,\"fill_color\":\"lightgrey\",\"left_units\":\"screen\",\"level\":\"overlay\",\"line_alpha\":1.0,\"line_color\":\"black\",\"line_dash\":[4,4],\"line_width\":2,\"right_units\":\"screen\",\"syncable\":false,\"top_units\":\"screen\"},\"id\":\"1262\",\"type\":\"BoxAnnotation\"},{\"attributes\":{\"children\":[{\"id\":\"1237\"},{\"id\":\"1241\"},{\"id\":\"1306\"}],\"margin\":[0,0,0,0],\"name\":\"Row02057\",\"tags\":[\"embedded\"]},\"id\":\"1236\",\"type\":\"Row\"},{\"attributes\":{\"fill_alpha\":{\"value\":0.1},\"fill_color\":{\"value\":\"orange\"},\"line_alpha\":{\"value\":0.1},\"top\":{\"field\":\"A_2011\"},\"width\":{\"value\":0.8},\"x\":{\"field\":\"index\"}},\"id\":\"1274\",\"type\":\"VBar\"},{\"attributes\":{},\"id\":\"1282\",\"type\":\"AllLabels\"},{\"attributes\":{\"fill_alpha\":{\"value\":0.2},\"fill_color\":{\"value\":\"orange\"},\"line_alpha\":{\"value\":0.2},\"top\":{\"field\":\"A_2011\"},\"width\":{\"value\":0.8},\"x\":{\"field\":\"index\"}},\"id\":\"1275\",\"type\":\"VBar\"},{\"attributes\":{\"bottom\":{\"value\":0},\"fill_alpha\":{\"value\":1.0},\"fill_color\":{\"value\":\"orange\"},\"hatch_alpha\":{\"value\":1.0},\"hatch_color\":{\"value\":\"black\"},\"hatch_scale\":{\"value\":12.0},\"hatch_weight\":{\"value\":1.0},\"line_alpha\":{\"value\":1.0},\"line_cap\":{\"value\":\"butt\"},\"line_color\":{\"value\":\"black\"},\"line_dash\":{\"value\":[]},\"line_dash_offset\":{\"value\":0},\"line_join\":{\"value\":\"bevel\"},\"line_width\":{\"value\":1},\"top\":{\"field\":\"A_2011\"},\"width\":{\"value\":0.8},\"x\":{\"field\":\"index\"}},\"id\":\"1278\",\"type\":\"VBar\"},{\"attributes\":{\"data_source\":{\"id\":\"1270\"},\"glyph\":{\"id\":\"1273\"},\"hover_glyph\":null,\"muted_glyph\":{\"id\":\"1275\"},\"nonselection_glyph\":{\"id\":\"1274\"},\"selection_glyph\":{\"id\":\"1278\"},\"view\":{\"id\":\"1277\"}},\"id\":\"1276\",\"type\":\"GlyphRenderer\"},{\"attributes\":{},\"id\":\"1257\",\"type\":\"SaveTool\"}],\"root_ids\":[\"1236\"]},\"title\":\"Bokeh Application\",\"version\":\"2.3.2\"}};\n",
       "    var render_items = [{\"docid\":\"208b39e4-1202-4dc2-acc1-abd451b21326\",\"root_ids\":[\"1236\"],\"roots\":{\"1236\":\"b031693a-25aa-4f37-8587-80d8d5b7160b\"}}];\n",
       "    root.Bokeh.embed.embed_items_notebook(docs_json, render_items);\n",
       "  }\n",
       "  if (root.Bokeh !== undefined && root.Bokeh.Panel !== undefined && root['Plotly'] !== undefined ) {\n",
       "    embed_document(root);\n",
       "  } else {\n",
       "    var attempts = 0;\n",
       "    var timer = setInterval(function(root) {\n",
       "      if (root.Bokeh !== undefined && root.Bokeh.Panel !== undefined && root['Plotly'] !== undefined) {\n",
       "        clearInterval(timer);\n",
       "        embed_document(root);\n",
       "      } else if (document.readyState == \"complete\") {\n",
       "        attempts++;\n",
       "        if (attempts > 100) {\n",
       "          clearInterval(timer);\n",
       "          console.log(\"Bokeh: ERROR: Unable to run BokehJS code because BokehJS library is missing\");\n",
       "        }\n",
       "      }\n",
       "    }, 10, root)\n",
       "  }\n",
       "})(window);</script>"
      ],
      "text/plain": [
       ":Bars   [index]   (2011)"
      ]
     },
     "execution_count": 18,
     "metadata": {
      "application/vnd.holoviews_exec.v0+json": {
       "id": "1236"
      }
     },
     "output_type": "execute_result"
    }
   ],
   "source": [
    "# Bar chart for 2011\n",
    "# YOUR CODE HERE!\n",
    "\n",
    "df.iloc[2 , :].hvplot.bar(title=\"Dwelling types in Toronto in 2011\", ylabel= \"Dwelling type units\" , color= [\"orange\"],rot=90).opts(yformatter=\"%.0f\")"
   ]
  },
  {
   "cell_type": "code",
   "execution_count": 19,
   "metadata": {},
   "outputs": [
    {
     "data": {},
     "metadata": {},
     "output_type": "display_data"
    },
    {
     "data": {
      "application/vnd.holoviews_exec.v0+json": "",
      "text/html": [
       "<div id='1353'>\n",
       "\n",
       "\n",
       "\n",
       "\n",
       "\n",
       "  <div class=\"bk-root\" id=\"c7f9e672-69bd-4919-a3ff-6e17490af0ca\" data-root-id=\"1353\"></div>\n",
       "</div>\n",
       "<script type=\"application/javascript\">(function(root) {\n",
       "  function embed_document(root) {\n",
       "    var docs_json = {\"ba48a004-c933-43f6-8746-41448819a799\":{\"defs\":[],\"roots\":{\"references\":[{\"attributes\":{\"axis\":{\"id\":\"1370\"},\"dimension\":1,\"grid_line_color\":null,\"ticker\":null},\"id\":\"1373\",\"type\":\"Grid\"},{\"attributes\":{\"active_multi\":null,\"tools\":[{\"id\":\"1357\"},{\"id\":\"1374\"},{\"id\":\"1375\"},{\"id\":\"1376\"},{\"id\":\"1377\"},{\"id\":\"1378\"}]},\"id\":\"1380\",\"type\":\"Toolbar\"},{\"attributes\":{},\"id\":\"1402\",\"type\":\"AllLabels\"},{\"attributes\":{\"source\":{\"id\":\"1387\"}},\"id\":\"1394\",\"type\":\"CDSView\"},{\"attributes\":{\"bottom_units\":\"screen\",\"fill_alpha\":0.5,\"fill_color\":\"lightgrey\",\"left_units\":\"screen\",\"level\":\"overlay\",\"line_alpha\":1.0,\"line_color\":\"black\",\"line_dash\":[4,4],\"line_width\":2,\"right_units\":\"screen\",\"syncable\":false,\"top_units\":\"screen\"},\"id\":\"1379\",\"type\":\"BoxAnnotation\"},{\"attributes\":{\"fill_alpha\":{\"value\":0.1},\"fill_color\":{\"value\":\"magenta\"},\"line_alpha\":{\"value\":0.1},\"top\":{\"field\":\"A_2016\"},\"width\":{\"value\":0.8},\"x\":{\"field\":\"index\"}},\"id\":\"1391\",\"type\":\"VBar\"},{\"attributes\":{\"fill_alpha\":{\"value\":0.2},\"fill_color\":{\"value\":\"magenta\"},\"line_alpha\":{\"value\":0.2},\"top\":{\"field\":\"A_2016\"},\"width\":{\"value\":0.8},\"x\":{\"field\":\"index\"}},\"id\":\"1392\",\"type\":\"VBar\"},{\"attributes\":{\"bottom\":{\"value\":0},\"fill_alpha\":{\"value\":1.0},\"fill_color\":{\"value\":\"magenta\"},\"hatch_alpha\":{\"value\":1.0},\"hatch_color\":{\"value\":\"black\"},\"hatch_scale\":{\"value\":12.0},\"hatch_weight\":{\"value\":1.0},\"line_alpha\":{\"value\":1.0},\"line_cap\":{\"value\":\"butt\"},\"line_color\":{\"value\":\"black\"},\"line_dash\":{\"value\":[]},\"line_dash_offset\":{\"value\":0},\"line_join\":{\"value\":\"bevel\"},\"line_width\":{\"value\":1},\"top\":{\"field\":\"A_2016\"},\"width\":{\"value\":0.8},\"x\":{\"field\":\"index\"}},\"id\":\"1395\",\"type\":\"VBar\"},{\"attributes\":{},\"id\":\"1397\",\"type\":\"CategoricalTickFormatter\"},{\"attributes\":{\"format\":\"%.0f\"},\"id\":\"1396\",\"type\":\"PrintfTickFormatter\"},{\"attributes\":{\"below\":[{\"id\":\"1367\"}],\"center\":[{\"id\":\"1369\"},{\"id\":\"1373\"}],\"height\":300,\"left\":[{\"id\":\"1370\"}],\"margin\":[5,5,5,5],\"min_border_bottom\":10,\"min_border_left\":10,\"min_border_right\":10,\"min_border_top\":10,\"renderers\":[{\"id\":\"1393\"}],\"sizing_mode\":\"fixed\",\"title\":{\"id\":\"1359\"},\"toolbar\":{\"id\":\"1380\"},\"width\":700,\"x_range\":{\"id\":\"1355\"},\"x_scale\":{\"id\":\"1363\"},\"y_range\":{\"id\":\"1356\"},\"y_scale\":{\"id\":\"1365\"}},\"id\":\"1358\",\"subtype\":\"Figure\",\"type\":\"Plot\"},{\"attributes\":{},\"id\":\"1374\",\"type\":\"SaveTool\"},{\"attributes\":{\"margin\":[5,5,5,5],\"name\":\"HSpacer02255\",\"sizing_mode\":\"stretch_width\"},\"id\":\"1423\",\"type\":\"Spacer\"},{\"attributes\":{},\"id\":\"1375\",\"type\":\"PanTool\"},{\"attributes\":{\"axis_label\":\"Dwelling type units\",\"formatter\":{\"id\":\"1396\"},\"major_label_policy\":{\"id\":\"1402\"},\"ticker\":{\"id\":\"1371\"}},\"id\":\"1370\",\"type\":\"LinearAxis\"},{\"attributes\":{},\"id\":\"1378\",\"type\":\"ResetTool\"},{\"attributes\":{\"axis\":{\"id\":\"1367\"},\"grid_line_color\":null,\"ticker\":null},\"id\":\"1369\",\"type\":\"Grid\"},{\"attributes\":{},\"id\":\"1376\",\"type\":\"WheelZoomTool\"},{\"attributes\":{\"children\":[{\"id\":\"1354\"},{\"id\":\"1358\"},{\"id\":\"1423\"}],\"margin\":[0,0,0,0],\"name\":\"Row02250\",\"tags\":[\"embedded\"]},\"id\":\"1353\",\"type\":\"Row\"},{\"attributes\":{\"overlay\":{\"id\":\"1379\"}},\"id\":\"1377\",\"type\":\"BoxZoomTool\"},{\"attributes\":{},\"id\":\"1399\",\"type\":\"AllLabels\"},{\"attributes\":{\"data_source\":{\"id\":\"1387\"},\"glyph\":{\"id\":\"1390\"},\"hover_glyph\":null,\"muted_glyph\":{\"id\":\"1392\"},\"nonselection_glyph\":{\"id\":\"1391\"},\"selection_glyph\":{\"id\":\"1395\"},\"view\":{\"id\":\"1394\"}},\"id\":\"1393\",\"type\":\"GlyphRenderer\"},{\"attributes\":{},\"id\":\"1413\",\"type\":\"UnionRenderers\"},{\"attributes\":{},\"id\":\"1371\",\"type\":\"BasicTicker\"},{\"attributes\":{},\"id\":\"1388\",\"type\":\"Selection\"},{\"attributes\":{\"text\":\"Dwelling types in Toronto in 2016\",\"text_color\":\"black\",\"text_font_size\":\"12pt\"},\"id\":\"1359\",\"type\":\"Title\"},{\"attributes\":{\"axis_label\":\"\",\"formatter\":{\"id\":\"1397\"},\"major_label_orientation\":1.5707963267948966,\"major_label_policy\":{\"id\":\"1399\"},\"ticker\":{\"id\":\"1368\"}},\"id\":\"1367\",\"type\":\"CategoricalAxis\"},{\"attributes\":{\"margin\":[5,5,5,5],\"name\":\"HSpacer02254\",\"sizing_mode\":\"stretch_width\"},\"id\":\"1354\",\"type\":\"Spacer\"},{\"attributes\":{},\"id\":\"1363\",\"type\":\"CategoricalScale\"},{\"attributes\":{\"data\":{\"A_2016\":[269680,493270,95,71200,61565,48585,165575,2845],\"index\":[\"single_detached_house\",\"apartment_five_storeys_plus\",\"movable_dwelling\",\"semi_detached_house\",\"row_house\",\"duplex\",\"apartment_five_storeys_less\",\"other_house\"]},\"selected\":{\"id\":\"1388\"},\"selection_policy\":{\"id\":\"1413\"}},\"id\":\"1387\",\"type\":\"ColumnDataSource\"},{\"attributes\":{},\"id\":\"1365\",\"type\":\"LinearScale\"},{\"attributes\":{\"factors\":[\"single_detached_house\",\"apartment_five_storeys_plus\",\"movable_dwelling\",\"semi_detached_house\",\"row_house\",\"duplex\",\"apartment_five_storeys_less\",\"other_house\"],\"tags\":[[[\"index\",\"index\",null]]]},\"id\":\"1355\",\"type\":\"FactorRange\"},{\"attributes\":{\"fill_color\":{\"value\":\"magenta\"},\"top\":{\"field\":\"A_2016\"},\"width\":{\"value\":0.8},\"x\":{\"field\":\"index\"}},\"id\":\"1390\",\"type\":\"VBar\"},{\"attributes\":{},\"id\":\"1368\",\"type\":\"CategoricalTicker\"},{\"attributes\":{\"end\":542587.5,\"reset_end\":542587.5,\"reset_start\":0.0,\"tags\":[[[\"2016\",\"2016\",null]]]},\"id\":\"1356\",\"type\":\"Range1d\"},{\"attributes\":{\"callback\":null,\"renderers\":[{\"id\":\"1393\"}],\"tags\":[\"hv_created\"],\"tooltips\":[[\"index\",\"@{index}\"],[\"2016\",\"@{A_2016}\"]]},\"id\":\"1357\",\"type\":\"HoverTool\"}],\"root_ids\":[\"1353\"]},\"title\":\"Bokeh Application\",\"version\":\"2.3.2\"}};\n",
       "    var render_items = [{\"docid\":\"ba48a004-c933-43f6-8746-41448819a799\",\"root_ids\":[\"1353\"],\"roots\":{\"1353\":\"c7f9e672-69bd-4919-a3ff-6e17490af0ca\"}}];\n",
       "    root.Bokeh.embed.embed_items_notebook(docs_json, render_items);\n",
       "  }\n",
       "  if (root.Bokeh !== undefined && root.Bokeh.Panel !== undefined && root['Plotly'] !== undefined ) {\n",
       "    embed_document(root);\n",
       "  } else {\n",
       "    var attempts = 0;\n",
       "    var timer = setInterval(function(root) {\n",
       "      if (root.Bokeh !== undefined && root.Bokeh.Panel !== undefined && root['Plotly'] !== undefined) {\n",
       "        clearInterval(timer);\n",
       "        embed_document(root);\n",
       "      } else if (document.readyState == \"complete\") {\n",
       "        attempts++;\n",
       "        if (attempts > 100) {\n",
       "          clearInterval(timer);\n",
       "          console.log(\"Bokeh: ERROR: Unable to run BokehJS code because BokehJS library is missing\");\n",
       "        }\n",
       "      }\n",
       "    }, 10, root)\n",
       "  }\n",
       "})(window);</script>"
      ],
      "text/plain": [
       ":Bars   [index]   (2016)"
      ]
     },
     "execution_count": 19,
     "metadata": {
      "application/vnd.holoviews_exec.v0+json": {
       "id": "1353"
      }
     },
     "output_type": "execute_result"
    }
   ],
   "source": [
    "# Bar chart for 2016\n",
    "# YOUR CODE HERE!\n",
    "\n",
    "df.iloc[3 , :].hvplot.bar(title=\"Dwelling types in Toronto in 2016\", ylabel= \"Dwelling type units\" , color= [\"magenta\"],rot=90).opts(yformatter=\"%.0f\")"
   ]
  },
  {
   "cell_type": "markdown",
   "metadata": {},
   "source": [
    "- - - "
   ]
  },
  {
   "cell_type": "markdown",
   "metadata": {},
   "source": [
    "## Average Monthly Shelter Costs in Toronto Per Year\n",
    "\n",
    "In this section, you will calculate the average monthly shelter costs for owned and rented dwellings and the average house value for each year. Plot the results as a line chart.\n",
    "\n",
    "**Optional challenge:** Plot each line chart in a different color."
   ]
  },
  {
   "cell_type": "code",
   "execution_count": 20,
   "metadata": {},
   "outputs": [
    {
     "data": {
      "text/html": [
       "<div>\n",
       "<style scoped>\n",
       "    .dataframe tbody tr th:only-of-type {\n",
       "        vertical-align: middle;\n",
       "    }\n",
       "\n",
       "    .dataframe tbody tr th {\n",
       "        vertical-align: top;\n",
       "    }\n",
       "\n",
       "    .dataframe thead th {\n",
       "        text-align: right;\n",
       "    }\n",
       "</style>\n",
       "<table border=\"1\" class=\"dataframe\">\n",
       "  <thead>\n",
       "    <tr style=\"text-align: right;\">\n",
       "      <th></th>\n",
       "      <th>shelter_costs_owned</th>\n",
       "      <th>shelter_costs_rented</th>\n",
       "    </tr>\n",
       "    <tr>\n",
       "      <th>year</th>\n",
       "      <th></th>\n",
       "      <th></th>\n",
       "    </tr>\n",
       "  </thead>\n",
       "  <tbody>\n",
       "    <tr>\n",
       "      <th>2001</th>\n",
       "      <td>118563</td>\n",
       "      <td>152031</td>\n",
       "    </tr>\n",
       "    <tr>\n",
       "      <th>2006</th>\n",
       "      <td>184352</td>\n",
       "      <td>129558</td>\n",
       "    </tr>\n",
       "    <tr>\n",
       "      <th>2011</th>\n",
       "      <td>202750</td>\n",
       "      <td>142771</td>\n",
       "    </tr>\n",
       "    <tr>\n",
       "      <th>2016</th>\n",
       "      <td>246584</td>\n",
       "      <td>175885</td>\n",
       "    </tr>\n",
       "  </tbody>\n",
       "</table>\n",
       "</div>"
      ],
      "text/plain": [
       "      shelter_costs_owned  shelter_costs_rented\n",
       "year                                           \n",
       "2001               118563                152031\n",
       "2006               184352                129558\n",
       "2011               202750                142771\n",
       "2016               246584                175885"
      ]
     },
     "execution_count": 20,
     "metadata": {},
     "output_type": "execute_result"
    }
   ],
   "source": [
    "# Calculate the average monthly shelter costs for owned and rented dwellings\n",
    "# YOUR CODE HERE!\n",
    "list(to_data.columns)\n",
    "\n",
    "monthly_columns= [\n",
    "    'shelter_costs_owned',\n",
    " 'shelter_costs_rented'\n",
    "]\n",
    "total_monthly_sheleter_costs_per_year =to_data[monthly_columns].groupby(to_data.index).sum()\n",
    "total_monthly_sheleter_costs_per_year.head()\n"
   ]
  },
  {
   "cell_type": "code",
   "execution_count": 21,
   "metadata": {},
   "outputs": [
    {
     "data": {
      "text/html": [
       "<div>\n",
       "<style scoped>\n",
       "    .dataframe tbody tr th:only-of-type {\n",
       "        vertical-align: middle;\n",
       "    }\n",
       "\n",
       "    .dataframe tbody tr th {\n",
       "        vertical-align: top;\n",
       "    }\n",
       "\n",
       "    .dataframe thead th {\n",
       "        text-align: right;\n",
       "    }\n",
       "</style>\n",
       "<table border=\"1\" class=\"dataframe\">\n",
       "  <thead>\n",
       "    <tr style=\"text-align: right;\">\n",
       "      <th></th>\n",
       "      <th>shelter_costs_owned</th>\n",
       "      <th>shelter_costs_rented</th>\n",
       "    </tr>\n",
       "    <tr>\n",
       "      <th>year</th>\n",
       "      <th></th>\n",
       "      <th></th>\n",
       "    </tr>\n",
       "  </thead>\n",
       "  <tbody>\n",
       "    <tr>\n",
       "      <th>2001</th>\n",
       "      <td>140</td>\n",
       "      <td>140</td>\n",
       "    </tr>\n",
       "    <tr>\n",
       "      <th>2006</th>\n",
       "      <td>140</td>\n",
       "      <td>140</td>\n",
       "    </tr>\n",
       "    <tr>\n",
       "      <th>2011</th>\n",
       "      <td>140</td>\n",
       "      <td>140</td>\n",
       "    </tr>\n",
       "    <tr>\n",
       "      <th>2016</th>\n",
       "      <td>140</td>\n",
       "      <td>140</td>\n",
       "    </tr>\n",
       "  </tbody>\n",
       "</table>\n",
       "</div>"
      ],
      "text/plain": [
       "      shelter_costs_owned  shelter_costs_rented\n",
       "year                                           \n",
       "2001                  140                   140\n",
       "2006                  140                   140\n",
       "2011                  140                   140\n",
       "2016                  140                   140"
      ]
     },
     "execution_count": 21,
     "metadata": {},
     "output_type": "execute_result"
    }
   ],
   "source": [
    "Number_monthly_sheleter_costs_per_year =to_data[monthly_columns].groupby(to_data.index).count()\n",
    "Number_monthly_sheleter_costs_per_year.head()\n"
   ]
  },
  {
   "cell_type": "code",
   "execution_count": 22,
   "metadata": {},
   "outputs": [
    {
     "data": {
      "text/html": [
       "<div>\n",
       "<style scoped>\n",
       "    .dataframe tbody tr th:only-of-type {\n",
       "        vertical-align: middle;\n",
       "    }\n",
       "\n",
       "    .dataframe tbody tr th {\n",
       "        vertical-align: top;\n",
       "    }\n",
       "\n",
       "    .dataframe thead th {\n",
       "        text-align: right;\n",
       "    }\n",
       "</style>\n",
       "<table border=\"1\" class=\"dataframe\">\n",
       "  <thead>\n",
       "    <tr style=\"text-align: right;\">\n",
       "      <th></th>\n",
       "      <th>shelter_costs_owned</th>\n",
       "      <th>shelter_costs_rented</th>\n",
       "    </tr>\n",
       "    <tr>\n",
       "      <th>year</th>\n",
       "      <th></th>\n",
       "      <th></th>\n",
       "    </tr>\n",
       "  </thead>\n",
       "  <tbody>\n",
       "    <tr>\n",
       "      <th>2001</th>\n",
       "      <td>846.878571</td>\n",
       "      <td>1085.935714</td>\n",
       "    </tr>\n",
       "    <tr>\n",
       "      <th>2006</th>\n",
       "      <td>1316.800000</td>\n",
       "      <td>925.414286</td>\n",
       "    </tr>\n",
       "    <tr>\n",
       "      <th>2011</th>\n",
       "      <td>1448.214286</td>\n",
       "      <td>1019.792857</td>\n",
       "    </tr>\n",
       "    <tr>\n",
       "      <th>2016</th>\n",
       "      <td>1761.314286</td>\n",
       "      <td>1256.321429</td>\n",
       "    </tr>\n",
       "  </tbody>\n",
       "</table>\n",
       "</div>"
      ],
      "text/plain": [
       "      shelter_costs_owned  shelter_costs_rented\n",
       "year                                           \n",
       "2001           846.878571           1085.935714\n",
       "2006          1316.800000            925.414286\n",
       "2011          1448.214286           1019.792857\n",
       "2016          1761.314286           1256.321429"
      ]
     },
     "execution_count": 22,
     "metadata": {},
     "output_type": "execute_result"
    }
   ],
   "source": [
    "average_monthly_sheleter_costs_per_year = total_monthly_sheleter_costs_per_year / Number_monthly_sheleter_costs_per_year\n",
    "average_monthly_sheleter_costs_per_year.head()"
   ]
  },
  {
   "cell_type": "code",
   "execution_count": 23,
   "metadata": {},
   "outputs": [],
   "source": [
    "# Helper create_line_chart function\n",
    "def create_line_chart(data, title, xlabel, ylabel, color):\n",
    "    \"\"\"\n",
    "    Create a line chart based in the data argument.\n",
    "    \"\"\""
   ]
  },
  {
   "cell_type": "code",
   "execution_count": 24,
   "metadata": {},
   "outputs": [
    {
     "data": {},
     "metadata": {},
     "output_type": "display_data"
    },
    {
     "data": {
      "application/vnd.holoviews_exec.v0+json": "",
      "text/html": [
       "<div id='1470'>\n",
       "\n",
       "\n",
       "\n",
       "\n",
       "\n",
       "  <div class=\"bk-root\" id=\"9d66b4e6-084b-4454-94bc-13bacb2ceadd\" data-root-id=\"1470\"></div>\n",
       "</div>\n",
       "<script type=\"application/javascript\">(function(root) {\n",
       "  function embed_document(root) {\n",
       "    var docs_json = {\"f89f5f1a-5ed6-41ca-a310-eb28974c5f3f\":{\"defs\":[],\"roots\":{\"references\":[{\"attributes\":{\"margin\":[5,5,5,5],\"name\":\"HSpacer02404\",\"sizing_mode\":\"stretch_width\"},\"id\":\"1540\",\"type\":\"Spacer\"},{\"attributes\":{\"active_multi\":null,\"tools\":[{\"id\":\"1474\"},{\"id\":\"1492\"},{\"id\":\"1493\"},{\"id\":\"1494\"},{\"id\":\"1495\"},{\"id\":\"1496\"}]},\"id\":\"1498\",\"type\":\"Toolbar\"},{\"attributes\":{\"axis\":{\"id\":\"1488\"},\"dimension\":1,\"grid_line_color\":null,\"ticker\":null},\"id\":\"1491\",\"type\":\"Grid\"},{\"attributes\":{\"bottom_units\":\"screen\",\"fill_alpha\":0.5,\"fill_color\":\"lightgrey\",\"left_units\":\"screen\",\"level\":\"overlay\",\"line_alpha\":1.0,\"line_color\":\"black\",\"line_dash\":[4,4],\"line_width\":2,\"right_units\":\"screen\",\"syncable\":false,\"top_units\":\"screen\"},\"id\":\"1497\",\"type\":\"BoxAnnotation\"},{\"attributes\":{\"source\":{\"id\":\"1505\"}},\"id\":\"1512\",\"type\":\"CDSView\"},{\"attributes\":{},\"id\":\"1506\",\"type\":\"Selection\"},{\"attributes\":{},\"id\":\"1480\",\"type\":\"LinearScale\"},{\"attributes\":{\"line_alpha\":0.1,\"line_color\":\"blue\",\"line_width\":2,\"x\":{\"field\":\"year\"},\"y\":{\"field\":\"shelter_costs_owned\"}},\"id\":\"1509\",\"type\":\"Line\"},{\"attributes\":{\"below\":[{\"id\":\"1484\"}],\"center\":[{\"id\":\"1487\"},{\"id\":\"1491\"}],\"height\":300,\"left\":[{\"id\":\"1488\"}],\"margin\":[5,5,5,5],\"min_border_bottom\":10,\"min_border_left\":10,\"min_border_right\":10,\"min_border_top\":10,\"renderers\":[{\"id\":\"1511\"}],\"sizing_mode\":\"fixed\",\"title\":{\"id\":\"1476\"},\"toolbar\":{\"id\":\"1498\"},\"width\":700,\"x_range\":{\"id\":\"1472\"},\"x_scale\":{\"id\":\"1480\"},\"y_range\":{\"id\":\"1473\"},\"y_scale\":{\"id\":\"1482\"}},\"id\":\"1475\",\"subtype\":\"Figure\",\"type\":\"Plot\"},{\"attributes\":{},\"id\":\"1529\",\"type\":\"UnionRenderers\"},{\"attributes\":{\"data_source\":{\"id\":\"1505\"},\"glyph\":{\"id\":\"1508\"},\"hover_glyph\":null,\"muted_glyph\":{\"id\":\"1510\"},\"nonselection_glyph\":{\"id\":\"1509\"},\"selection_glyph\":{\"id\":\"1513\"},\"view\":{\"id\":\"1512\"}},\"id\":\"1511\",\"type\":\"GlyphRenderer\"},{\"attributes\":{\"line_color\":\"blue\",\"line_width\":2,\"x\":{\"field\":\"year\"},\"y\":{\"field\":\"shelter_costs_owned\"}},\"id\":\"1508\",\"type\":\"Line\"},{\"attributes\":{\"children\":[{\"id\":\"1471\"},{\"id\":\"1475\"},{\"id\":\"1540\"}],\"margin\":[0,0,0,0],\"name\":\"Row02399\",\"tags\":[\"embedded\"]},\"id\":\"1470\",\"type\":\"Row\"},{\"attributes\":{\"line_color\":\"blue\",\"line_width\":2,\"x\":{\"field\":\"year\"},\"y\":{\"field\":\"shelter_costs_owned\"}},\"id\":\"1513\",\"type\":\"Line\"},{\"attributes\":{},\"id\":\"1492\",\"type\":\"SaveTool\"},{\"attributes\":{},\"id\":\"1493\",\"type\":\"PanTool\"},{\"attributes\":{\"data\":{\"shelter_costs_owned\":{\"__ndarray__\":\"UAd1UAd3ikAzMzMzM5OUQG7btm3boJZA1EEd1EGFm0A=\",\"dtype\":\"float64\",\"order\":\"little\",\"shape\":[4]},\"year\":[2001,2006,2011,2016]},\"selected\":{\"id\":\"1506\"},\"selection_policy\":{\"id\":\"1529\"}},\"id\":\"1505\",\"type\":\"ColumnDataSource\"},{\"attributes\":{},\"id\":\"1496\",\"type\":\"ResetTool\"},{\"attributes\":{},\"id\":\"1494\",\"type\":\"WheelZoomTool\"},{\"attributes\":{},\"id\":\"1485\",\"type\":\"BasicTicker\"},{\"attributes\":{\"margin\":[5,5,5,5],\"name\":\"HSpacer02403\",\"sizing_mode\":\"stretch_width\"},\"id\":\"1471\",\"type\":\"Spacer\"},{\"attributes\":{\"overlay\":{\"id\":\"1497\"}},\"id\":\"1495\",\"type\":\"BoxZoomTool\"},{\"attributes\":{},\"id\":\"1517\",\"type\":\"BasicTickFormatter\"},{\"attributes\":{\"text\":\"Average monthly shelter costs for owned dwellings per year\",\"text_color\":\"black\",\"text_font_size\":\"12pt\"},\"id\":\"1476\",\"type\":\"Title\"},{\"attributes\":{\"end\":2016.0,\"reset_end\":2016.0,\"reset_start\":2001.0,\"start\":2001.0,\"tags\":[[[\"year\",\"year\",null]]]},\"id\":\"1472\",\"type\":\"Range1d\"},{\"attributes\":{\"line_alpha\":0.2,\"line_color\":\"blue\",\"line_width\":2,\"x\":{\"field\":\"year\"},\"y\":{\"field\":\"shelter_costs_owned\"}},\"id\":\"1510\",\"type\":\"Line\"},{\"attributes\":{\"callback\":null,\"renderers\":[{\"id\":\"1511\"}],\"tags\":[\"hv_created\"],\"tooltips\":[[\"year\",\"@{year}\"],[\"shelter_costs_owned\",\"@{shelter_costs_owned}\"]]},\"id\":\"1474\",\"type\":\"HoverTool\"},{\"attributes\":{\"axis\":{\"id\":\"1484\"},\"grid_line_color\":null,\"ticker\":null},\"id\":\"1487\",\"type\":\"Grid\"},{\"attributes\":{},\"id\":\"1482\",\"type\":\"LinearScale\"},{\"attributes\":{},\"id\":\"1519\",\"type\":\"AllLabels\"},{\"attributes\":{},\"id\":\"1489\",\"type\":\"BasicTicker\"},{\"attributes\":{\"axis_label\":\"Year\",\"formatter\":{\"id\":\"1514\"},\"major_label_orientation\":1.5707963267948966,\"major_label_policy\":{\"id\":\"1516\"},\"ticker\":{\"id\":\"1485\"}},\"id\":\"1484\",\"type\":\"LinearAxis\"},{\"attributes\":{},\"id\":\"1516\",\"type\":\"AllLabels\"},{\"attributes\":{},\"id\":\"1514\",\"type\":\"BasicTickFormatter\"},{\"attributes\":{\"end\":1852.7578571428571,\"reset_end\":1852.7578571428571,\"reset_start\":755.435,\"start\":755.435,\"tags\":[[[\"shelter_costs_owned\",\"shelter_costs_owned\",null]]]},\"id\":\"1473\",\"type\":\"Range1d\"},{\"attributes\":{\"axis_label\":\"Avg Monthly Shelter Costs\",\"formatter\":{\"id\":\"1517\"},\"major_label_policy\":{\"id\":\"1519\"},\"ticker\":{\"id\":\"1489\"}},\"id\":\"1488\",\"type\":\"LinearAxis\"}],\"root_ids\":[\"1470\"]},\"title\":\"Bokeh Application\",\"version\":\"2.3.2\"}};\n",
       "    var render_items = [{\"docid\":\"f89f5f1a-5ed6-41ca-a310-eb28974c5f3f\",\"root_ids\":[\"1470\"],\"roots\":{\"1470\":\"9d66b4e6-084b-4454-94bc-13bacb2ceadd\"}}];\n",
       "    root.Bokeh.embed.embed_items_notebook(docs_json, render_items);\n",
       "  }\n",
       "  if (root.Bokeh !== undefined && root.Bokeh.Panel !== undefined && root['Plotly'] !== undefined ) {\n",
       "    embed_document(root);\n",
       "  } else {\n",
       "    var attempts = 0;\n",
       "    var timer = setInterval(function(root) {\n",
       "      if (root.Bokeh !== undefined && root.Bokeh.Panel !== undefined && root['Plotly'] !== undefined) {\n",
       "        clearInterval(timer);\n",
       "        embed_document(root);\n",
       "      } else if (document.readyState == \"complete\") {\n",
       "        attempts++;\n",
       "        if (attempts > 100) {\n",
       "          clearInterval(timer);\n",
       "          console.log(\"Bokeh: ERROR: Unable to run BokehJS code because BokehJS library is missing\");\n",
       "        }\n",
       "      }\n",
       "    }, 10, root)\n",
       "  }\n",
       "})(window);</script>"
      ],
      "text/plain": [
       ":Curve   [year]   (shelter_costs_owned)"
      ]
     },
     "execution_count": 24,
     "metadata": {
      "application/vnd.holoviews_exec.v0+json": {
       "id": "1470"
      }
     },
     "output_type": "execute_result"
    }
   ],
   "source": [
    "# Bar chart for 2001\n",
    "# YOUR CODE HERE!\n",
    "data= average_monthly_sheleter_costs_per_year[\"shelter_costs_owned\"]\n",
    "#title = \" Average monthly shelter costs for owned dwellings per year\"\n",
    "#xlabel = \"Year\"\n",
    "#ylabel = \"Avg Monthly Shelter Costs\"\n",
    "#color = [\"blue\"]\n",
    "\n",
    "plot_average_monthly_costs_for_owned_dwellings= data.hvplot(title=\"Average monthly shelter costs for owned dwellings per year\", rot =90, xlabel= \"Year\", ylabel= \"Avg Monthly Shelter Costs\", color= \"blue\")\n",
    "plot_average_monthly_costs_for_owned_dwellings\n"
   ]
  },
  {
   "cell_type": "code",
   "execution_count": 25,
   "metadata": {},
   "outputs": [
    {
     "data": {},
     "metadata": {},
     "output_type": "display_data"
    },
    {
     "data": {
      "application/vnd.holoviews_exec.v0+json": "",
      "text/html": [
       "<div id='1592'>\n",
       "\n",
       "\n",
       "\n",
       "\n",
       "\n",
       "  <div class=\"bk-root\" id=\"632f0330-2f40-4940-aa0c-5d12f4af4827\" data-root-id=\"1592\"></div>\n",
       "</div>\n",
       "<script type=\"application/javascript\">(function(root) {\n",
       "  function embed_document(root) {\n",
       "    var docs_json = {\"c936190b-ccf3-4800-ab44-6255789b1353\":{\"defs\":[],\"roots\":{\"references\":[{\"attributes\":{\"below\":[{\"id\":\"1606\"}],\"center\":[{\"id\":\"1609\"},{\"id\":\"1613\"}],\"height\":300,\"left\":[{\"id\":\"1610\"}],\"margin\":[5,5,5,5],\"min_border_bottom\":10,\"min_border_left\":10,\"min_border_right\":10,\"min_border_top\":10,\"renderers\":[{\"id\":\"1633\"}],\"sizing_mode\":\"fixed\",\"title\":{\"id\":\"1598\"},\"toolbar\":{\"id\":\"1620\"},\"width\":700,\"x_range\":{\"id\":\"1594\"},\"x_scale\":{\"id\":\"1602\"},\"y_range\":{\"id\":\"1595\"},\"y_scale\":{\"id\":\"1604\"}},\"id\":\"1597\",\"subtype\":\"Figure\",\"type\":\"Plot\"},{\"attributes\":{\"data_source\":{\"id\":\"1627\"},\"glyph\":{\"id\":\"1630\"},\"hover_glyph\":null,\"muted_glyph\":{\"id\":\"1632\"},\"nonselection_glyph\":{\"id\":\"1631\"},\"selection_glyph\":{\"id\":\"1635\"},\"view\":{\"id\":\"1634\"}},\"id\":\"1633\",\"type\":\"GlyphRenderer\"},{\"attributes\":{},\"id\":\"1614\",\"type\":\"SaveTool\"},{\"attributes\":{},\"id\":\"1615\",\"type\":\"PanTool\"},{\"attributes\":{},\"id\":\"1628\",\"type\":\"Selection\"},{\"attributes\":{\"margin\":[5,5,5,5],\"name\":\"HSpacer02581\",\"sizing_mode\":\"stretch_width\"},\"id\":\"1593\",\"type\":\"Spacer\"},{\"attributes\":{},\"id\":\"1618\",\"type\":\"ResetTool\"},{\"attributes\":{},\"id\":\"1638\",\"type\":\"AllLabels\"},{\"attributes\":{\"line_color\":\"orange\",\"line_width\":2,\"x\":{\"field\":\"year\"},\"y\":{\"field\":\"shelter_costs_rented\"}},\"id\":\"1630\",\"type\":\"Line\"},{\"attributes\":{},\"id\":\"1616\",\"type\":\"WheelZoomTool\"},{\"attributes\":{},\"id\":\"1651\",\"type\":\"UnionRenderers\"},{\"attributes\":{},\"id\":\"1607\",\"type\":\"BasicTicker\"},{\"attributes\":{\"overlay\":{\"id\":\"1619\"}},\"id\":\"1617\",\"type\":\"BoxZoomTool\"},{\"attributes\":{\"text\":\"Average monthly shelter costs for renting dwellings per year\",\"text_color\":\"black\",\"text_font_size\":\"12pt\"},\"id\":\"1598\",\"type\":\"Title\"},{\"attributes\":{\"source\":{\"id\":\"1627\"}},\"id\":\"1634\",\"type\":\"CDSView\"},{\"attributes\":{\"line_color\":\"orange\",\"line_width\":2,\"x\":{\"field\":\"year\"},\"y\":{\"field\":\"shelter_costs_rented\"}},\"id\":\"1635\",\"type\":\"Line\"},{\"attributes\":{},\"id\":\"1602\",\"type\":\"LinearScale\"},{\"attributes\":{\"axis\":{\"id\":\"1606\"},\"grid_line_color\":null,\"ticker\":null},\"id\":\"1609\",\"type\":\"Grid\"},{\"attributes\":{},\"id\":\"1604\",\"type\":\"LinearScale\"},{\"attributes\":{\"callback\":null,\"renderers\":[{\"id\":\"1633\"}],\"tags\":[\"hv_created\"],\"tooltips\":[[\"year\",\"@{year}\"],[\"shelter_costs_rented\",\"@{shelter_costs_rented}\"]]},\"id\":\"1596\",\"type\":\"HoverTool\"},{\"attributes\":{\"axis\":{\"id\":\"1610\"},\"dimension\":1,\"grid_line_color\":null,\"ticker\":null},\"id\":\"1613\",\"type\":\"Grid\"},{\"attributes\":{\"children\":[{\"id\":\"1593\"},{\"id\":\"1597\"},{\"id\":\"1662\"}],\"margin\":[0,0,0,0],\"name\":\"Row02577\",\"tags\":[\"embedded\"]},\"id\":\"1592\",\"type\":\"Row\"},{\"attributes\":{\"axis_label\":\"Year\",\"formatter\":{\"id\":\"1636\"},\"major_label_policy\":{\"id\":\"1638\"},\"ticker\":{\"id\":\"1607\"}},\"id\":\"1606\",\"type\":\"LinearAxis\"},{\"attributes\":{},\"id\":\"1641\",\"type\":\"AllLabels\"},{\"attributes\":{},\"id\":\"1639\",\"type\":\"BasicTickFormatter\"},{\"attributes\":{\"end\":2016.0,\"reset_end\":2016.0,\"reset_start\":2001.0,\"start\":2001.0,\"tags\":[[[\"year\",\"year\",null]]]},\"id\":\"1594\",\"type\":\"Range1d\"},{\"attributes\":{},\"id\":\"1611\",\"type\":\"BasicTicker\"},{\"attributes\":{\"axis_label\":\"Avg Monthly Shelter Costs\",\"formatter\":{\"id\":\"1639\"},\"major_label_policy\":{\"id\":\"1641\"},\"ticker\":{\"id\":\"1611\"}},\"id\":\"1610\",\"type\":\"LinearAxis\"},{\"attributes\":{\"end\":1289.412142857143,\"reset_end\":1289.412142857143,\"reset_start\":892.3235714285714,\"start\":892.3235714285714,\"tags\":[[[\"shelter_costs_rented\",\"shelter_costs_rented\",null]]]},\"id\":\"1595\",\"type\":\"Range1d\"},{\"attributes\":{\"active_multi\":null,\"tools\":[{\"id\":\"1596\"},{\"id\":\"1614\"},{\"id\":\"1615\"},{\"id\":\"1616\"},{\"id\":\"1617\"},{\"id\":\"1618\"}]},\"id\":\"1620\",\"type\":\"Toolbar\"},{\"attributes\":{\"line_alpha\":0.1,\"line_color\":\"orange\",\"line_width\":2,\"x\":{\"field\":\"year\"},\"y\":{\"field\":\"shelter_costs_rented\"}},\"id\":\"1631\",\"type\":\"Line\"},{\"attributes\":{\"data\":{\"shelter_costs_rented\":{\"__ndarray__\":\"LL7iK773kEB1UAd1UOuMQMVXfMVX3o9AJUmSJEmhk0A=\",\"dtype\":\"float64\",\"order\":\"little\",\"shape\":[4]},\"year\":[2001,2006,2011,2016]},\"selected\":{\"id\":\"1628\"},\"selection_policy\":{\"id\":\"1651\"}},\"id\":\"1627\",\"type\":\"ColumnDataSource\"},{\"attributes\":{\"bottom_units\":\"screen\",\"fill_alpha\":0.5,\"fill_color\":\"lightgrey\",\"left_units\":\"screen\",\"level\":\"overlay\",\"line_alpha\":1.0,\"line_color\":\"black\",\"line_dash\":[4,4],\"line_width\":2,\"right_units\":\"screen\",\"syncable\":false,\"top_units\":\"screen\"},\"id\":\"1619\",\"type\":\"BoxAnnotation\"},{\"attributes\":{\"line_alpha\":0.2,\"line_color\":\"orange\",\"line_width\":2,\"x\":{\"field\":\"year\"},\"y\":{\"field\":\"shelter_costs_rented\"}},\"id\":\"1632\",\"type\":\"Line\"},{\"attributes\":{\"margin\":[5,5,5,5],\"name\":\"HSpacer02582\",\"sizing_mode\":\"stretch_width\"},\"id\":\"1662\",\"type\":\"Spacer\"},{\"attributes\":{},\"id\":\"1636\",\"type\":\"BasicTickFormatter\"}],\"root_ids\":[\"1592\"]},\"title\":\"Bokeh Application\",\"version\":\"2.3.2\"}};\n",
       "    var render_items = [{\"docid\":\"c936190b-ccf3-4800-ab44-6255789b1353\",\"root_ids\":[\"1592\"],\"roots\":{\"1592\":\"632f0330-2f40-4940-aa0c-5d12f4af4827\"}}];\n",
       "    root.Bokeh.embed.embed_items_notebook(docs_json, render_items);\n",
       "  }\n",
       "  if (root.Bokeh !== undefined && root.Bokeh.Panel !== undefined && root['Plotly'] !== undefined ) {\n",
       "    embed_document(root);\n",
       "  } else {\n",
       "    var attempts = 0;\n",
       "    var timer = setInterval(function(root) {\n",
       "      if (root.Bokeh !== undefined && root.Bokeh.Panel !== undefined && root['Plotly'] !== undefined) {\n",
       "        clearInterval(timer);\n",
       "        embed_document(root);\n",
       "      } else if (document.readyState == \"complete\") {\n",
       "        attempts++;\n",
       "        if (attempts > 100) {\n",
       "          clearInterval(timer);\n",
       "          console.log(\"Bokeh: ERROR: Unable to run BokehJS code because BokehJS library is missing\");\n",
       "        }\n",
       "      }\n",
       "    }, 10, root)\n",
       "  }\n",
       "})(window);</script>"
      ],
      "text/plain": [
       ":Curve   [year]   (shelter_costs_rented)"
      ]
     },
     "execution_count": 25,
     "metadata": {
      "application/vnd.holoviews_exec.v0+json": {
       "id": "1592"
      }
     },
     "output_type": "execute_result"
    }
   ],
   "source": [
    "data= average_monthly_sheleter_costs_per_year[\"shelter_costs_rented\"]\n",
    "title = \" Average monthly shelter costs for renting dwellings per year\"\n",
    "xlabel = \"Year\"\n",
    "ylabel = \"Avg Monthly Shelter Costs\"\n",
    "color = [\"orange\"]\n",
    "\n",
    "plot_average_monthly_costs_for_owned_dwellings= data.hvplot(title=title, xlabel = xlabel, ylabel = ylabel, color= color)\n",
    "plot_average_monthly_costs_for_owned_dwellings"
   ]
  },
  {
   "cell_type": "markdown",
   "metadata": {},
   "source": [
    "## Average House Value per Year\n",
    "\n",
    "In this section, you want to determine the average house value per year. An investor may want to understand better the sales price of the rental property over time. For example, a customer will want to know if they should expect an increase or decrease in the property value over time so they can determine how long to hold the rental property. You will visualize the `average_house_value` per year as a bar chart."
   ]
  },
  {
   "cell_type": "code",
   "execution_count": 26,
   "metadata": {},
   "outputs": [
    {
     "data": {
      "text/html": [
       "<div>\n",
       "<style scoped>\n",
       "    .dataframe tbody tr th:only-of-type {\n",
       "        vertical-align: middle;\n",
       "    }\n",
       "\n",
       "    .dataframe tbody tr th {\n",
       "        vertical-align: top;\n",
       "    }\n",
       "\n",
       "    .dataframe thead th {\n",
       "        text-align: right;\n",
       "    }\n",
       "</style>\n",
       "<table border=\"1\" class=\"dataframe\">\n",
       "  <thead>\n",
       "    <tr style=\"text-align: right;\">\n",
       "      <th></th>\n",
       "      <th>average_house_value</th>\n",
       "    </tr>\n",
       "    <tr>\n",
       "      <th>year</th>\n",
       "      <th></th>\n",
       "    </tr>\n",
       "  </thead>\n",
       "  <tbody>\n",
       "    <tr>\n",
       "      <th>2001</th>\n",
       "      <td>200388</td>\n",
       "    </tr>\n",
       "    <tr>\n",
       "      <th>2001</th>\n",
       "      <td>203047</td>\n",
       "    </tr>\n",
       "    <tr>\n",
       "      <th>2001</th>\n",
       "      <td>259998</td>\n",
       "    </tr>\n",
       "    <tr>\n",
       "      <th>2001</th>\n",
       "      <td>453850</td>\n",
       "    </tr>\n",
       "    <tr>\n",
       "      <th>2001</th>\n",
       "      <td>371864</td>\n",
       "    </tr>\n",
       "  </tbody>\n",
       "</table>\n",
       "</div>"
      ],
      "text/plain": [
       "      average_house_value\n",
       "year                     \n",
       "2001               200388\n",
       "2001               203047\n",
       "2001               259998\n",
       "2001               453850\n",
       "2001               371864"
      ]
     },
     "execution_count": 26,
     "metadata": {},
     "output_type": "execute_result"
    }
   ],
   "source": [
    "#Calculate the average house per year\n",
    "\n",
    "list(to_data.columns)\n",
    "house_value_column = ['average_house_value']\n",
    "house_values =to_data[house_value_column]\n",
    "house_values.head()"
   ]
  },
  {
   "cell_type": "code",
   "execution_count": 27,
   "metadata": {},
   "outputs": [
    {
     "data": {
      "text/html": [
       "<div>\n",
       "<style scoped>\n",
       "    .dataframe tbody tr th:only-of-type {\n",
       "        vertical-align: middle;\n",
       "    }\n",
       "\n",
       "    .dataframe tbody tr th {\n",
       "        vertical-align: top;\n",
       "    }\n",
       "\n",
       "    .dataframe thead th {\n",
       "        text-align: right;\n",
       "    }\n",
       "</style>\n",
       "<table border=\"1\" class=\"dataframe\">\n",
       "  <thead>\n",
       "    <tr style=\"text-align: right;\">\n",
       "      <th></th>\n",
       "      <th>average_house_value</th>\n",
       "    </tr>\n",
       "    <tr>\n",
       "      <th>year</th>\n",
       "      <th></th>\n",
       "    </tr>\n",
       "  </thead>\n",
       "  <tbody>\n",
       "    <tr>\n",
       "      <th>2001</th>\n",
       "      <td>40583604</td>\n",
       "    </tr>\n",
       "    <tr>\n",
       "      <th>2006</th>\n",
       "      <td>59368353</td>\n",
       "    </tr>\n",
       "    <tr>\n",
       "      <th>2011</th>\n",
       "      <td>74259461</td>\n",
       "    </tr>\n",
       "    <tr>\n",
       "      <th>2016</th>\n",
       "      <td>92969566</td>\n",
       "    </tr>\n",
       "  </tbody>\n",
       "</table>\n",
       "</div>"
      ],
      "text/plain": [
       "      average_house_value\n",
       "year                     \n",
       "2001             40583604\n",
       "2006             59368353\n",
       "2011             74259461\n",
       "2016             92969566"
      ]
     },
     "execution_count": 27,
     "metadata": {},
     "output_type": "execute_result"
    }
   ],
   "source": [
    "total_house_values_per_year =to_data[house_value_column].groupby(to_data.index).sum()\n",
    "total_house_values_per_year.head()\n"
   ]
  },
  {
   "cell_type": "code",
   "execution_count": 28,
   "metadata": {},
   "outputs": [
    {
     "data": {
      "text/html": [
       "<div>\n",
       "<style scoped>\n",
       "    .dataframe tbody tr th:only-of-type {\n",
       "        vertical-align: middle;\n",
       "    }\n",
       "\n",
       "    .dataframe tbody tr th {\n",
       "        vertical-align: top;\n",
       "    }\n",
       "\n",
       "    .dataframe thead th {\n",
       "        text-align: right;\n",
       "    }\n",
       "</style>\n",
       "<table border=\"1\" class=\"dataframe\">\n",
       "  <thead>\n",
       "    <tr style=\"text-align: right;\">\n",
       "      <th></th>\n",
       "      <th>average_house_value</th>\n",
       "    </tr>\n",
       "    <tr>\n",
       "      <th>year</th>\n",
       "      <th></th>\n",
       "    </tr>\n",
       "  </thead>\n",
       "  <tbody>\n",
       "    <tr>\n",
       "      <th>2001</th>\n",
       "      <td>140</td>\n",
       "    </tr>\n",
       "    <tr>\n",
       "      <th>2006</th>\n",
       "      <td>140</td>\n",
       "    </tr>\n",
       "    <tr>\n",
       "      <th>2011</th>\n",
       "      <td>140</td>\n",
       "    </tr>\n",
       "    <tr>\n",
       "      <th>2016</th>\n",
       "      <td>140</td>\n",
       "    </tr>\n",
       "  </tbody>\n",
       "</table>\n",
       "</div>"
      ],
      "text/plain": [
       "      average_house_value\n",
       "year                     \n",
       "2001                  140\n",
       "2006                  140\n",
       "2011                  140\n",
       "2016                  140"
      ]
     },
     "execution_count": 28,
     "metadata": {},
     "output_type": "execute_result"
    }
   ],
   "source": [
    "Number_house_values_per_year =to_data[house_value_column].groupby(to_data.index).count()\n",
    "Number_house_values_per_year.head()"
   ]
  },
  {
   "cell_type": "code",
   "execution_count": 29,
   "metadata": {},
   "outputs": [
    {
     "data": {
      "text/html": [
       "<div>\n",
       "<style scoped>\n",
       "    .dataframe tbody tr th:only-of-type {\n",
       "        vertical-align: middle;\n",
       "    }\n",
       "\n",
       "    .dataframe tbody tr th {\n",
       "        vertical-align: top;\n",
       "    }\n",
       "\n",
       "    .dataframe thead th {\n",
       "        text-align: right;\n",
       "    }\n",
       "</style>\n",
       "<table border=\"1\" class=\"dataframe\">\n",
       "  <thead>\n",
       "    <tr style=\"text-align: right;\">\n",
       "      <th></th>\n",
       "      <th>average_house_value</th>\n",
       "    </tr>\n",
       "    <tr>\n",
       "      <th>year</th>\n",
       "      <th></th>\n",
       "    </tr>\n",
       "  </thead>\n",
       "  <tbody>\n",
       "    <tr>\n",
       "      <th>2001</th>\n",
       "      <td>289882.885714</td>\n",
       "    </tr>\n",
       "    <tr>\n",
       "      <th>2006</th>\n",
       "      <td>424059.664286</td>\n",
       "    </tr>\n",
       "    <tr>\n",
       "      <th>2011</th>\n",
       "      <td>530424.721429</td>\n",
       "    </tr>\n",
       "    <tr>\n",
       "      <th>2016</th>\n",
       "      <td>664068.328571</td>\n",
       "    </tr>\n",
       "  </tbody>\n",
       "</table>\n",
       "</div>"
      ],
      "text/plain": [
       "      average_house_value\n",
       "year                     \n",
       "2001        289882.885714\n",
       "2006        424059.664286\n",
       "2011        530424.721429\n",
       "2016        664068.328571"
      ]
     },
     "execution_count": 29,
     "metadata": {},
     "output_type": "execute_result"
    }
   ],
   "source": [
    "average_house_values_per_year = total_house_values_per_year / Number_house_values_per_year\n",
    "average_house_values_per_year.head()"
   ]
  },
  {
   "cell_type": "code",
   "execution_count": 30,
   "metadata": {},
   "outputs": [
    {
     "data": {},
     "metadata": {},
     "output_type": "display_data"
    },
    {
     "data": {
      "application/vnd.holoviews_exec.v0+json": "",
      "text/html": [
       "<div id='1714'>\n",
       "\n",
       "\n",
       "\n",
       "\n",
       "\n",
       "  <div class=\"bk-root\" id=\"c37afc5d-db8a-47f6-a381-b4e72f31e5e2\" data-root-id=\"1714\"></div>\n",
       "</div>\n",
       "<script type=\"application/javascript\">(function(root) {\n",
       "  function embed_document(root) {\n",
       "    var docs_json = {\"f08e54dc-ba2b-49fc-9a5f-a2c3f1243f36\":{\"defs\":[],\"roots\":{\"references\":[{\"attributes\":{\"below\":[{\"id\":\"1728\"}],\"center\":[{\"id\":\"1731\"},{\"id\":\"1735\"}],\"height\":300,\"left\":[{\"id\":\"1732\"}],\"margin\":[5,5,5,5],\"min_border_bottom\":10,\"min_border_left\":10,\"min_border_right\":10,\"min_border_top\":10,\"renderers\":[{\"id\":\"1755\"}],\"sizing_mode\":\"fixed\",\"title\":{\"id\":\"1720\"},\"toolbar\":{\"id\":\"1742\"},\"width\":700,\"x_range\":{\"id\":\"1716\"},\"x_scale\":{\"id\":\"1724\"},\"y_range\":{\"id\":\"1717\"},\"y_scale\":{\"id\":\"1726\"}},\"id\":\"1719\",\"subtype\":\"Figure\",\"type\":\"Plot\"},{\"attributes\":{},\"id\":\"1736\",\"type\":\"SaveTool\"},{\"attributes\":{\"children\":[{\"id\":\"1715\"},{\"id\":\"1719\"},{\"id\":\"1785\"}],\"margin\":[0,0,0,0],\"name\":\"Row02799\",\"tags\":[\"embedded\"]},\"id\":\"1714\",\"type\":\"Row\"},{\"attributes\":{},\"id\":\"1737\",\"type\":\"PanTool\"},{\"attributes\":{},\"id\":\"1764\",\"type\":\"AllLabels\"},{\"attributes\":{},\"id\":\"1740\",\"type\":\"ResetTool\"},{\"attributes\":{},\"id\":\"1738\",\"type\":\"WheelZoomTool\"},{\"attributes\":{},\"id\":\"1759\",\"type\":\"BasicTickFormatter\"},{\"attributes\":{\"overlay\":{\"id\":\"1741\"}},\"id\":\"1739\",\"type\":\"BoxZoomTool\"},{\"attributes\":{},\"id\":\"1729\",\"type\":\"BasicTicker\"},{\"attributes\":{\"margin\":[5,5,5,5],\"name\":\"HSpacer02803\",\"sizing_mode\":\"stretch_width\"},\"id\":\"1715\",\"type\":\"Spacer\"},{\"attributes\":{\"text\":\"Average House Value Per Year\",\"text_color\":\"black\",\"text_font_size\":\"12pt\"},\"id\":\"1720\",\"type\":\"Title\"},{\"attributes\":{\"format\":\"%.0f\"},\"id\":\"1758\",\"type\":\"PrintfTickFormatter\"},{\"attributes\":{},\"id\":\"1750\",\"type\":\"Selection\"},{\"attributes\":{\"end\":2016.0,\"reset_end\":2016.0,\"reset_start\":2001.0,\"start\":2001.0,\"tags\":[[[\"year\",\"year\",null]]]},\"id\":\"1716\",\"type\":\"Range1d\"},{\"attributes\":{\"axis\":{\"id\":\"1732\"},\"dimension\":1,\"grid_line_color\":null,\"ticker\":null},\"id\":\"1735\",\"type\":\"Grid\"},{\"attributes\":{},\"id\":\"1761\",\"type\":\"AllLabels\"},{\"attributes\":{\"data\":{\"average_house_value\":{\"__ndarray__\":\"i6/4imuxEUGogzqo7uEZQfEVX3HxLyBBqIM6qAhEJEE=\",\"dtype\":\"float64\",\"order\":\"little\",\"shape\":[4]},\"year\":[2001,2006,2011,2016]},\"selected\":{\"id\":\"1750\"},\"selection_policy\":{\"id\":\"1775\"}},\"id\":\"1749\",\"type\":\"ColumnDataSource\"},{\"attributes\":{\"axis\":{\"id\":\"1728\"},\"grid_line_color\":null,\"ticker\":null},\"id\":\"1731\",\"type\":\"Grid\"},{\"attributes\":{},\"id\":\"1726\",\"type\":\"LinearScale\"},{\"attributes\":{\"end\":701486.8728571428,\"reset_end\":701486.8728571428,\"reset_start\":252464.34142857144,\"start\":252464.34142857144,\"tags\":[[[\"average_house_value\",\"average_house_value\",null]]]},\"id\":\"1717\",\"type\":\"Range1d\"},{\"attributes\":{},\"id\":\"1724\",\"type\":\"LinearScale\"},{\"attributes\":{},\"id\":\"1733\",\"type\":\"BasicTicker\"},{\"attributes\":{\"axis_label\":\"Year\",\"formatter\":{\"id\":\"1759\"},\"major_label_policy\":{\"id\":\"1761\"},\"ticker\":{\"id\":\"1729\"}},\"id\":\"1728\",\"type\":\"LinearAxis\"},{\"attributes\":{\"margin\":[5,5,5,5],\"name\":\"HSpacer02804\",\"sizing_mode\":\"stretch_width\"},\"id\":\"1785\",\"type\":\"Spacer\"},{\"attributes\":{\"line_color\":\"blue\",\"line_width\":2,\"x\":{\"field\":\"year\"},\"y\":{\"field\":\"average_house_value\"}},\"id\":\"1752\",\"type\":\"Line\"},{\"attributes\":{\"axis_label\":\"Avg House Value\",\"formatter\":{\"id\":\"1758\"},\"major_label_policy\":{\"id\":\"1764\"},\"ticker\":{\"id\":\"1733\"}},\"id\":\"1732\",\"type\":\"LinearAxis\"},{\"attributes\":{\"active_multi\":null,\"tools\":[{\"id\":\"1718\"},{\"id\":\"1736\"},{\"id\":\"1737\"},{\"id\":\"1738\"},{\"id\":\"1739\"},{\"id\":\"1740\"}]},\"id\":\"1742\",\"type\":\"Toolbar\"},{\"attributes\":{\"line_alpha\":0.1,\"line_color\":\"blue\",\"line_width\":2,\"x\":{\"field\":\"year\"},\"y\":{\"field\":\"average_house_value\"}},\"id\":\"1753\",\"type\":\"Line\"},{\"attributes\":{\"callback\":null,\"renderers\":[{\"id\":\"1755\"}],\"tags\":[\"hv_created\"],\"tooltips\":[[\"year\",\"@{year}\"],[\"average_house_value\",\"@{average_house_value}\"]]},\"id\":\"1718\",\"type\":\"HoverTool\"},{\"attributes\":{\"line_alpha\":0.2,\"line_color\":\"blue\",\"line_width\":2,\"x\":{\"field\":\"year\"},\"y\":{\"field\":\"average_house_value\"}},\"id\":\"1754\",\"type\":\"Line\"},{\"attributes\":{},\"id\":\"1775\",\"type\":\"UnionRenderers\"},{\"attributes\":{\"bottom_units\":\"screen\",\"fill_alpha\":0.5,\"fill_color\":\"lightgrey\",\"left_units\":\"screen\",\"level\":\"overlay\",\"line_alpha\":1.0,\"line_color\":\"black\",\"line_dash\":[4,4],\"line_width\":2,\"right_units\":\"screen\",\"syncable\":false,\"top_units\":\"screen\"},\"id\":\"1741\",\"type\":\"BoxAnnotation\"},{\"attributes\":{\"source\":{\"id\":\"1749\"}},\"id\":\"1756\",\"type\":\"CDSView\"},{\"attributes\":{\"data_source\":{\"id\":\"1749\"},\"glyph\":{\"id\":\"1752\"},\"hover_glyph\":null,\"muted_glyph\":{\"id\":\"1754\"},\"nonselection_glyph\":{\"id\":\"1753\"},\"selection_glyph\":{\"id\":\"1757\"},\"view\":{\"id\":\"1756\"}},\"id\":\"1755\",\"type\":\"GlyphRenderer\"},{\"attributes\":{\"line_color\":\"blue\",\"line_width\":2,\"x\":{\"field\":\"year\"},\"y\":{\"field\":\"average_house_value\"}},\"id\":\"1757\",\"type\":\"Line\"}],\"root_ids\":[\"1714\"]},\"title\":\"Bokeh Application\",\"version\":\"2.3.2\"}};\n",
       "    var render_items = [{\"docid\":\"f08e54dc-ba2b-49fc-9a5f-a2c3f1243f36\",\"root_ids\":[\"1714\"],\"roots\":{\"1714\":\"c37afc5d-db8a-47f6-a381-b4e72f31e5e2\"}}];\n",
       "    root.Bokeh.embed.embed_items_notebook(docs_json, render_items);\n",
       "  }\n",
       "  if (root.Bokeh !== undefined && root.Bokeh.Panel !== undefined && root['Plotly'] !== undefined ) {\n",
       "    embed_document(root);\n",
       "  } else {\n",
       "    var attempts = 0;\n",
       "    var timer = setInterval(function(root) {\n",
       "      if (root.Bokeh !== undefined && root.Bokeh.Panel !== undefined && root['Plotly'] !== undefined) {\n",
       "        clearInterval(timer);\n",
       "        embed_document(root);\n",
       "      } else if (document.readyState == \"complete\") {\n",
       "        attempts++;\n",
       "        if (attempts > 100) {\n",
       "          clearInterval(timer);\n",
       "          console.log(\"Bokeh: ERROR: Unable to run BokehJS code because BokehJS library is missing\");\n",
       "        }\n",
       "      }\n",
       "    }, 10, root)\n",
       "  }\n",
       "})(window);</script>"
      ],
      "text/plain": [
       ":Curve   [year]   (average_house_value)"
      ]
     },
     "execution_count": 30,
     "metadata": {
      "application/vnd.holoviews_exec.v0+json": {
       "id": "1714"
      }
     },
     "output_type": "execute_result"
    }
   ],
   "source": [
    "data= average_house_values_per_year\n",
    "title = \" Average House Value Per Year\"\n",
    "xlabel = \"Year\"\n",
    "ylabel = \"Avg House Value\"\n",
    "color = [\"blue\"]\n",
    "\n",
    "plot_average_house_values_per_year = data.hvplot(title=title, xlabel = xlabel, ylabel = ylabel, color= color).opts(yformatter=\"%.0f\")\n",
    "plot_average_house_values_per_year "
   ]
  },
  {
   "cell_type": "markdown",
   "metadata": {},
   "source": [
    "- - - "
   ]
  },
  {
   "cell_type": "markdown",
   "metadata": {},
   "source": [
    "## Average House Value by Neighbourhood\n",
    "\n",
    "In this section, you will use `hvplot` to create an interactive visualization of the average house value with a dropdown selector for the neighbourhood.\n",
    "\n",
    "**Hint:** It will be easier to create a new DataFrame from grouping the data and calculating the mean house values for each year and neighbourhood."
   ]
  },
  {
   "cell_type": "code",
   "execution_count": 31,
   "metadata": {},
   "outputs": [
    {
     "data": {
      "text/html": [
       "<div>\n",
       "<style scoped>\n",
       "    .dataframe tbody tr th:only-of-type {\n",
       "        vertical-align: middle;\n",
       "    }\n",
       "\n",
       "    .dataframe tbody tr th {\n",
       "        vertical-align: top;\n",
       "    }\n",
       "\n",
       "    .dataframe thead th {\n",
       "        text-align: right;\n",
       "    }\n",
       "</style>\n",
       "<table border=\"1\" class=\"dataframe\">\n",
       "  <thead>\n",
       "    <tr style=\"text-align: right;\">\n",
       "      <th></th>\n",
       "      <th>neighbourhood</th>\n",
       "      <th>average_house_value</th>\n",
       "    </tr>\n",
       "    <tr>\n",
       "      <th>year</th>\n",
       "      <th></th>\n",
       "      <th></th>\n",
       "    </tr>\n",
       "  </thead>\n",
       "  <tbody>\n",
       "    <tr>\n",
       "      <th>2001</th>\n",
       "      <td>Agincourt North</td>\n",
       "      <td>200388</td>\n",
       "    </tr>\n",
       "    <tr>\n",
       "      <th>2001</th>\n",
       "      <td>Agincourt South-Malvern West</td>\n",
       "      <td>203047</td>\n",
       "    </tr>\n",
       "    <tr>\n",
       "      <th>2001</th>\n",
       "      <td>Alderwood</td>\n",
       "      <td>259998</td>\n",
       "    </tr>\n",
       "    <tr>\n",
       "      <th>2001</th>\n",
       "      <td>Annex</td>\n",
       "      <td>453850</td>\n",
       "    </tr>\n",
       "    <tr>\n",
       "      <th>2001</th>\n",
       "      <td>Banbury-Don Mills</td>\n",
       "      <td>371864</td>\n",
       "    </tr>\n",
       "    <tr>\n",
       "      <th>2001</th>\n",
       "      <td>Bathurst Manor</td>\n",
       "      <td>304749</td>\n",
       "    </tr>\n",
       "    <tr>\n",
       "      <th>2001</th>\n",
       "      <td>Bay Street Corridor</td>\n",
       "      <td>257404</td>\n",
       "    </tr>\n",
       "    <tr>\n",
       "      <th>2001</th>\n",
       "      <td>Bayview Village</td>\n",
       "      <td>327644</td>\n",
       "    </tr>\n",
       "    <tr>\n",
       "      <th>2001</th>\n",
       "      <td>Bayview Woods-Steeles</td>\n",
       "      <td>343535</td>\n",
       "    </tr>\n",
       "    <tr>\n",
       "      <th>2001</th>\n",
       "      <td>Bedford Park-Nortown</td>\n",
       "      <td>565304</td>\n",
       "    </tr>\n",
       "  </tbody>\n",
       "</table>\n",
       "</div>"
      ],
      "text/plain": [
       "                     neighbourhood  average_house_value\n",
       "year                                                   \n",
       "2001               Agincourt North               200388\n",
       "2001  Agincourt South-Malvern West               203047\n",
       "2001                     Alderwood               259998\n",
       "2001                         Annex               453850\n",
       "2001             Banbury-Don Mills               371864\n",
       "2001                Bathurst Manor               304749\n",
       "2001           Bay Street Corridor               257404\n",
       "2001               Bayview Village               327644\n",
       "2001         Bayview Woods-Steeles               343535\n",
       "2001          Bedford Park-Nortown               565304"
      ]
     },
     "execution_count": 31,
     "metadata": {},
     "output_type": "execute_result"
    }
   ],
   "source": [
    "list(to_data.columns)\n",
    "average_house_value_columns = ['neighbourhood','average_house_value']\n",
    "average_house_values_neighbourhood =to_data[average_house_value_columns]\n",
    "average_house_values_neighbourhood.head(10)"
   ]
  },
  {
   "cell_type": "code",
   "execution_count": 32,
   "metadata": {},
   "outputs": [
    {
     "data": {},
     "metadata": {},
     "output_type": "display_data"
    },
    {
     "data": {},
     "metadata": {},
     "output_type": "display_data"
    },
    {
     "data": {
      "application/vnd.holoviews_exec.v0+json": "",
      "text/html": [
       "<div id='1832'>\n",
       "\n",
       "\n",
       "\n",
       "\n",
       "\n",
       "  <div class=\"bk-root\" id=\"9a90bf12-c646-4f17-836e-7c2b4d49e54c\" data-root-id=\"1832\"></div>\n",
       "</div>\n",
       "<script type=\"application/javascript\">(function(root) {\n",
       "  function embed_document(root) {\n",
       "    var docs_json = {\"7c560966-93b0-4b58-b4b6-b1cd0890ebf3\":{\"defs\":[],\"roots\":{\"references\":[{\"attributes\":{\"margin\":[20,20,20,20],\"min_width\":250,\"options\":[\"Agincourt North\",\"Agincourt South-Malvern West\",\"Alderwood\",\"Annex\",\"Banbury-Don Mills\",\"Bathurst Manor\",\"Bay Street Corridor\",\"Bayview Village\",\"Bayview Woods-Steeles\",\"Bedford Park-Nortown\",\"Beechborough-Greenbrook\",\"Bendale\",\"Birchcliffe-Cliffside\",\"Black Creek\",\"Blake-Jones\",\"Briar Hill-Belgravia\",\"Bridle Path-Sunnybrook-York Mills\",\"Broadview North\",\"Brookhaven-Amesbury\",\"Cabbagetown-South St.James Town\",\"Caledonia-Fairbank\",\"Casa Loma\",\"Centennial Scarborough\",\"Church-Yonge Corridor\",\"Clairlea-Birchmount\",\"Clanton Park\",\"Cliffcrest\",\"Corso Italia-Davenport\",\"Danforth\",\"Danforth-East York\",\"Don Valley Village\",\"Dorset Park\",\"Dovercourt-Wallace Emerson-Juncti\",\"Downsview-Roding-CFB\",\"Dufferin Grove\",\"East End-Danforth\",\"Edenbridge-Humber Valley\",\"Eglinton East\",\"Elms-Old Rexdale\",\"Englemount-Lawrence\",\"Eringate-Centennial-West Deane\",\"Etobicoke West Mall\",\"Flemingdon Park\",\"Forest Hill North\",\"Forest Hill South\",\"Glenfield-Jane Heights\",\"Greenwood-Coxwell\",\"Guildwood\",\"Henry Farm\",\"High Park North\",\"High Park-Swansea\",\"Highland Creek\",\"Hillcrest Village\",\"Humber Heights-Westmount\",\"Humber Summit\",\"Humbermede\",\"Humewood-Cedarvale\",\"Ionview\",\"Islington-City Centre West\",\"Junction Area\",\"Keelesdale-Eglinton West\",\"Kennedy Park\",\"Kensington-Chinatown\",\"Kingsview Village-The Westway\",\"Kingsway South\",\"L'Amoreaux\",\"Lambton Baby Point\",\"Lansing-Westgate\",\"Lawrence Park North\",\"Lawrence Park South\",\"Leaside-Bennington\",\"Little Portugal\",\"Long Branch\",\"Malvern\",\"Maple Leaf\",\"Markland Wood\",\"Milliken\",\"Mimico\",\"Morningside\",\"Moss Park\",\"Mount Dennis\",\"Mount Olive-Silverstone-Jamestown\",\"Mount Pleasant East\",\"Mount Pleasant West\",\"New Toronto\",\"Newtonbrook East\",\"Newtonbrook West\",\"Niagara\",\"North Riverdale\",\"North St.James Town\",\"O'Connor-Parkview\",\"Oakridge\",\"Oakwood Village\",\"Old East York\",\"Palmerston-Little Italy\",\"Parkwoods-Donalda\",\"Pelmo Park-Humberlea\",\"Playter Estates-Danforth\",\"Pleasant View\",\"Princess-Rosethorn\",\"Regent Park\",\"Rexdale-Kipling\",\"Rockcliffe-Smythe\",\"Roncesvalles\",\"Rosedale-Moore Park\",\"Rouge\",\"Runnymede-Bloor West Village\",\"Rustic\",\"Scarborough Village\",\"South Parkdale\",\"South Riverdale\",\"St.Andrew-Windfields\",\"Steeles\",\"Stonegate-Queensway\",\"Tam O'Shanter-Sullivan\",\"Taylor-Massey\",\"The Beaches\",\"Thistletown-Beaumond Heights\",\"Thorncliffe Park\",\"Trinity-Bellwoods\",\"University\",\"Victoria Village\",\"Waterfront Communities-The Island\",\"West Hill\",\"West Humber-Clairville\",\"Westminster-Branson\",\"Weston\",\"Weston-Pellam Park\",\"Wexford/Maryvale\",\"Willowdale East\",\"Willowdale West\",\"Willowridge-Martingrove-Richview\",\"Woburn\",\"Woodbine Corridor\",\"Woodbine-Lumsden\",\"Wychwood\",\"Yonge-Eglinton\",\"Yonge-St.Clair\",\"York University Heights\",\"Yorkdale-Glen Park\"],\"title\":\"neighbourhood\",\"value\":\"Agincourt North\",\"width\":250},\"id\":\"1835\",\"type\":\"Select\"},{\"attributes\":{},\"id\":\"1850\",\"type\":\"BasicTicker\"},{\"attributes\":{\"axis\":{\"id\":\"1849\"},\"grid_line_color\":null,\"ticker\":null},\"id\":\"1852\",\"type\":\"Grid\"},{\"attributes\":{},\"id\":\"1882\",\"type\":\"AllLabels\"},{\"attributes\":{},\"id\":\"1880\",\"type\":\"BasicTickFormatter\"},{\"attributes\":{},\"id\":\"1847\",\"type\":\"LinearScale\"},{\"attributes\":{\"data\":{\"average_house_value\":[200388,293140,366667,459051],\"year\":[2001,2006,2011,2016]},\"selected\":{\"id\":\"1871\"},\"selection_policy\":{\"id\":\"1902\"}},\"id\":\"1870\",\"type\":\"ColumnDataSource\"},{\"attributes\":{\"axis\":{\"id\":\"1853\"},\"dimension\":1,\"grid_line_color\":null,\"ticker\":null},\"id\":\"1856\",\"type\":\"Grid\"},{\"attributes\":{\"axis_label\":\"Year\",\"formatter\":{\"id\":\"1880\"},\"major_label_policy\":{\"id\":\"1882\"},\"ticker\":{\"id\":\"1850\"}},\"id\":\"1849\",\"type\":\"LinearAxis\"},{\"attributes\":{\"line_color\":\"blue\",\"line_width\":2,\"x\":{\"field\":\"year\"},\"y\":{\"field\":\"average_house_value\"}},\"id\":\"1873\",\"type\":\"Line\"},{\"attributes\":{\"client_comm_id\":\"fd728867ec554c1396942312f04bac9e\",\"comm_id\":\"9abc5e8bf8cd4b5a97f505e9ae5c7630\",\"plot_id\":\"1832\"},\"id\":\"1939\",\"type\":\"panel.models.comm_manager.CommManager\"},{\"attributes\":{\"format\":\"%.0f\"},\"id\":\"1879\",\"type\":\"PrintfTickFormatter\"},{\"attributes\":{},\"id\":\"1902\",\"type\":\"UnionRenderers\"},{\"attributes\":{\"end\":484917.3,\"reset_end\":484917.3,\"reset_start\":174521.7,\"start\":174521.7,\"tags\":[[[\"average_house_value\",\"average_house_value\",null]]]},\"id\":\"1838\",\"type\":\"Range1d\"},{\"attributes\":{},\"id\":\"1854\",\"type\":\"BasicTicker\"},{\"attributes\":{\"axis_label\":\"Avg House Value Per Neighbourhood \",\"formatter\":{\"id\":\"1879\"},\"major_label_policy\":{\"id\":\"1885\"},\"ticker\":{\"id\":\"1854\"}},\"id\":\"1853\",\"type\":\"LinearAxis\"},{\"attributes\":{\"active_multi\":null,\"tools\":[{\"id\":\"1839\"},{\"id\":\"1857\"},{\"id\":\"1858\"},{\"id\":\"1859\"},{\"id\":\"1860\"},{\"id\":\"1861\"}]},\"id\":\"1863\",\"type\":\"Toolbar\"},{\"attributes\":{\"callback\":null,\"renderers\":[{\"id\":\"1876\"}],\"tags\":[\"hv_created\"],\"tooltips\":[[\"year\",\"@{year}\"],[\"average_house_value\",\"@{average_house_value}\"]]},\"id\":\"1839\",\"type\":\"HoverTool\"},{\"attributes\":{\"end\":2016.0,\"reset_end\":2016.0,\"reset_start\":2001.0,\"start\":2001.0,\"tags\":[[[\"year\",\"year\",null]]]},\"id\":\"1837\",\"type\":\"Range1d\"},{\"attributes\":{},\"id\":\"1871\",\"type\":\"Selection\"},{\"attributes\":{\"children\":[{\"id\":\"1833\"},{\"id\":\"1840\"}],\"margin\":[0,0,0,0],\"name\":\"Row02925\"},\"id\":\"1832\",\"type\":\"Row\"},{\"attributes\":{\"bottom_units\":\"screen\",\"fill_alpha\":0.5,\"fill_color\":\"lightgrey\",\"left_units\":\"screen\",\"level\":\"overlay\",\"line_alpha\":1.0,\"line_color\":\"black\",\"line_dash\":[4,4],\"line_width\":2,\"right_units\":\"screen\",\"syncable\":false,\"top_units\":\"screen\"},\"id\":\"1862\",\"type\":\"BoxAnnotation\"},{\"attributes\":{\"below\":[{\"id\":\"1849\"}],\"center\":[{\"id\":\"1852\"},{\"id\":\"1856\"}],\"height\":300,\"left\":[{\"id\":\"1853\"}],\"margin\":[5,5,5,5],\"min_border_bottom\":10,\"min_border_left\":10,\"min_border_right\":10,\"min_border_top\":10,\"renderers\":[{\"id\":\"1876\"}],\"sizing_mode\":\"fixed\",\"title\":{\"id\":\"1841\"},\"toolbar\":{\"id\":\"1863\"},\"x_range\":{\"id\":\"1837\"},\"x_scale\":{\"id\":\"1845\"},\"y_range\":{\"id\":\"1838\"},\"y_scale\":{\"id\":\"1847\"}},\"id\":\"1840\",\"subtype\":\"Figure\",\"type\":\"Plot\"},{\"attributes\":{\"line_color\":\"blue\",\"line_width\":2,\"x\":{\"field\":\"year\"},\"y\":{\"field\":\"average_house_value\"}},\"id\":\"1878\",\"type\":\"Line\"},{\"attributes\":{\"margin\":[5,5,5,5],\"name\":\"VSpacer02931\",\"sizing_mode\":\"stretch_height\"},\"id\":\"1836\",\"type\":\"Spacer\"},{\"attributes\":{},\"id\":\"1885\",\"type\":\"AllLabels\"},{\"attributes\":{\"text\":\"Average House Value Per Neighbourhood\",\"text_color\":\"black\",\"text_font_size\":\"12pt\"},\"id\":\"1841\",\"type\":\"Title\"},{\"attributes\":{\"children\":[{\"id\":\"1834\"},{\"id\":\"1836\"}],\"margin\":[0,0,0,0],\"name\":\"Column02932\"},\"id\":\"1833\",\"type\":\"Column\"},{\"attributes\":{\"data_source\":{\"id\":\"1870\"},\"glyph\":{\"id\":\"1873\"},\"hover_glyph\":null,\"muted_glyph\":{\"id\":\"1875\"},\"nonselection_glyph\":{\"id\":\"1874\"},\"selection_glyph\":{\"id\":\"1878\"},\"view\":{\"id\":\"1877\"}},\"id\":\"1876\",\"type\":\"GlyphRenderer\"},{\"attributes\":{\"source\":{\"id\":\"1870\"}},\"id\":\"1877\",\"type\":\"CDSView\"},{\"attributes\":{\"line_alpha\":0.1,\"line_color\":\"blue\",\"line_width\":2,\"x\":{\"field\":\"year\"},\"y\":{\"field\":\"average_house_value\"}},\"id\":\"1874\",\"type\":\"Line\"},{\"attributes\":{\"children\":[{\"id\":\"1835\"}],\"css_classes\":[\"panel-widget-box\"],\"margin\":[5,5,5,5],\"name\":\"WidgetBox02926\"},\"id\":\"1834\",\"type\":\"Column\"},{\"attributes\":{},\"id\":\"1845\",\"type\":\"LinearScale\"},{\"attributes\":{},\"id\":\"1857\",\"type\":\"SaveTool\"},{\"attributes\":{},\"id\":\"1858\",\"type\":\"PanTool\"},{\"attributes\":{\"line_alpha\":0.2,\"line_color\":\"blue\",\"line_width\":2,\"x\":{\"field\":\"year\"},\"y\":{\"field\":\"average_house_value\"}},\"id\":\"1875\",\"type\":\"Line\"},{\"attributes\":{},\"id\":\"1861\",\"type\":\"ResetTool\"},{\"attributes\":{},\"id\":\"1859\",\"type\":\"WheelZoomTool\"},{\"attributes\":{\"overlay\":{\"id\":\"1862\"}},\"id\":\"1860\",\"type\":\"BoxZoomTool\"}],\"root_ids\":[\"1832\",\"1939\"]},\"title\":\"Bokeh Application\",\"version\":\"2.3.2\"}};\n",
       "    var render_items = [{\"docid\":\"7c560966-93b0-4b58-b4b6-b1cd0890ebf3\",\"root_ids\":[\"1832\"],\"roots\":{\"1832\":\"9a90bf12-c646-4f17-836e-7c2b4d49e54c\"}}];\n",
       "    root.Bokeh.embed.embed_items_notebook(docs_json, render_items);\n",
       "  }\n",
       "  if (root.Bokeh !== undefined && root.Bokeh.Panel !== undefined && root['Plotly'] !== undefined ) {\n",
       "    embed_document(root);\n",
       "  } else {\n",
       "    var attempts = 0;\n",
       "    var timer = setInterval(function(root) {\n",
       "      if (root.Bokeh !== undefined && root.Bokeh.Panel !== undefined && root['Plotly'] !== undefined) {\n",
       "        clearInterval(timer);\n",
       "        embed_document(root);\n",
       "      } else if (document.readyState == \"complete\") {\n",
       "        attempts++;\n",
       "        if (attempts > 100) {\n",
       "          clearInterval(timer);\n",
       "          console.log(\"Bokeh: ERROR: Unable to run BokehJS code because BokehJS library is missing\");\n",
       "        }\n",
       "      }\n",
       "    }, 10, root)\n",
       "  }\n",
       "})(window);</script>"
      ],
      "text/plain": [
       "Row\n",
       "    [0] Column\n",
       "        [0] WidgetBox\n",
       "            [0] Select(margin=(20, 20, 20, 20), name='neighbourhood', options=['Agincourt North', ...], value='Agincourt North', width=250)\n",
       "        [1] VSpacer()\n",
       "    [1] HoloViews(DynamicMap, widget_location='left_top')"
      ]
     },
     "execution_count": 32,
     "metadata": {
      "application/vnd.holoviews_exec.v0+json": {
       "id": "1832"
      }
     },
     "output_type": "execute_result"
    }
   ],
   "source": [
    "# Use hvplot to create an interactive line chart of the average house value per neighbourhood\n",
    "# The plot should have a dropdown selector for the neighbourhood\n",
    "# YOUR CODE HERE!\n",
    "data =  average_house_values_neighbourhood\n",
    "\n",
    "title = \" Average House Value Per Neighbourhood \"\n",
    "xlabel = \"Year\"\n",
    "ylabel = \"Avg House Value Per Neighbourhood \"\n",
    "color = [\"blue\"]\n",
    "\n",
    "data.hvplot( title=title, xlabel = xlabel, ylabel = ylabel, color= color, yformatter=\"%.0f\", width = 600, groupby='neighbourhood', widget_location='left_top')"
   ]
  },
  {
   "cell_type": "markdown",
   "metadata": {},
   "source": [
    "## Number of Dwelling Types per Year\n",
    "\n",
    "In this section, you will use `hvplot` to create an interactive visualization of the average number of dwelling types per year with a dropdown selector for the neighbourhood."
   ]
  },
  {
   "cell_type": "code",
   "execution_count": 33,
   "metadata": {},
   "outputs": [
    {
     "data": {
      "text/html": [
       "<div>\n",
       "<style scoped>\n",
       "    .dataframe tbody tr th:only-of-type {\n",
       "        vertical-align: middle;\n",
       "    }\n",
       "\n",
       "    .dataframe tbody tr th {\n",
       "        vertical-align: top;\n",
       "    }\n",
       "\n",
       "    .dataframe thead th {\n",
       "        text-align: right;\n",
       "    }\n",
       "</style>\n",
       "<table border=\"1\" class=\"dataframe\">\n",
       "  <thead>\n",
       "    <tr style=\"text-align: right;\">\n",
       "      <th></th>\n",
       "      <th>year</th>\n",
       "      <th>neighbourhood</th>\n",
       "      <th>single_detached_house</th>\n",
       "      <th>apartment_five_storeys_plus</th>\n",
       "      <th>movable_dwelling</th>\n",
       "      <th>semi_detached_house</th>\n",
       "      <th>row_house</th>\n",
       "      <th>duplex</th>\n",
       "      <th>apartment_five_storeys_less</th>\n",
       "      <th>other_house</th>\n",
       "      <th>average_house_value</th>\n",
       "      <th>shelter_costs_owned</th>\n",
       "      <th>shelter_costs_rented</th>\n",
       "    </tr>\n",
       "  </thead>\n",
       "  <tbody>\n",
       "    <tr>\n",
       "      <th>0</th>\n",
       "      <td>2001</td>\n",
       "      <td>Agincourt North</td>\n",
       "      <td>3715</td>\n",
       "      <td>1480</td>\n",
       "      <td>0</td>\n",
       "      <td>1055</td>\n",
       "      <td>1295</td>\n",
       "      <td>195</td>\n",
       "      <td>185</td>\n",
       "      <td>5</td>\n",
       "      <td>200388</td>\n",
       "      <td>810</td>\n",
       "      <td>870</td>\n",
       "    </tr>\n",
       "    <tr>\n",
       "      <th>1</th>\n",
       "      <td>2001</td>\n",
       "      <td>Agincourt South-Malvern West</td>\n",
       "      <td>3250</td>\n",
       "      <td>1835</td>\n",
       "      <td>0</td>\n",
       "      <td>545</td>\n",
       "      <td>455</td>\n",
       "      <td>105</td>\n",
       "      <td>425</td>\n",
       "      <td>0</td>\n",
       "      <td>203047</td>\n",
       "      <td>806</td>\n",
       "      <td>892</td>\n",
       "    </tr>\n",
       "    <tr>\n",
       "      <th>2</th>\n",
       "      <td>2001</td>\n",
       "      <td>Alderwood</td>\n",
       "      <td>3175</td>\n",
       "      <td>315</td>\n",
       "      <td>0</td>\n",
       "      <td>470</td>\n",
       "      <td>50</td>\n",
       "      <td>185</td>\n",
       "      <td>370</td>\n",
       "      <td>0</td>\n",
       "      <td>259998</td>\n",
       "      <td>817</td>\n",
       "      <td>924</td>\n",
       "    </tr>\n",
       "    <tr>\n",
       "      <th>3</th>\n",
       "      <td>2001</td>\n",
       "      <td>Annex</td>\n",
       "      <td>1060</td>\n",
       "      <td>6090</td>\n",
       "      <td>5</td>\n",
       "      <td>1980</td>\n",
       "      <td>605</td>\n",
       "      <td>275</td>\n",
       "      <td>3710</td>\n",
       "      <td>165</td>\n",
       "      <td>453850</td>\n",
       "      <td>1027</td>\n",
       "      <td>1378</td>\n",
       "    </tr>\n",
       "    <tr>\n",
       "      <th>4</th>\n",
       "      <td>2001</td>\n",
       "      <td>Banbury-Don Mills</td>\n",
       "      <td>3615</td>\n",
       "      <td>4465</td>\n",
       "      <td>0</td>\n",
       "      <td>240</td>\n",
       "      <td>380</td>\n",
       "      <td>15</td>\n",
       "      <td>1360</td>\n",
       "      <td>0</td>\n",
       "      <td>371864</td>\n",
       "      <td>1007</td>\n",
       "      <td>1163</td>\n",
       "    </tr>\n",
       "    <tr>\n",
       "      <th>5</th>\n",
       "      <td>2001</td>\n",
       "      <td>Bathurst Manor</td>\n",
       "      <td>2405</td>\n",
       "      <td>1550</td>\n",
       "      <td>0</td>\n",
       "      <td>130</td>\n",
       "      <td>130</td>\n",
       "      <td>375</td>\n",
       "      <td>745</td>\n",
       "      <td>0</td>\n",
       "      <td>304749</td>\n",
       "      <td>843</td>\n",
       "      <td>1052</td>\n",
       "    </tr>\n",
       "    <tr>\n",
       "      <th>6</th>\n",
       "      <td>2001</td>\n",
       "      <td>Bay Street Corridor</td>\n",
       "      <td>10</td>\n",
       "      <td>7575</td>\n",
       "      <td>0</td>\n",
       "      <td>0</td>\n",
       "      <td>15</td>\n",
       "      <td>0</td>\n",
       "      <td>240</td>\n",
       "      <td>0</td>\n",
       "      <td>257404</td>\n",
       "      <td>1218</td>\n",
       "      <td>1142</td>\n",
       "    </tr>\n",
       "    <tr>\n",
       "      <th>7</th>\n",
       "      <td>2001</td>\n",
       "      <td>Bayview Village</td>\n",
       "      <td>2170</td>\n",
       "      <td>630</td>\n",
       "      <td>0</td>\n",
       "      <td>170</td>\n",
       "      <td>765</td>\n",
       "      <td>15</td>\n",
       "      <td>640</td>\n",
       "      <td>0</td>\n",
       "      <td>327644</td>\n",
       "      <td>1197</td>\n",
       "      <td>1164</td>\n",
       "    </tr>\n",
       "    <tr>\n",
       "      <th>8</th>\n",
       "      <td>2001</td>\n",
       "      <td>Bayview Woods-Steeles</td>\n",
       "      <td>1650</td>\n",
       "      <td>1715</td>\n",
       "      <td>0</td>\n",
       "      <td>925</td>\n",
       "      <td>105</td>\n",
       "      <td>10</td>\n",
       "      <td>170</td>\n",
       "      <td>5</td>\n",
       "      <td>343535</td>\n",
       "      <td>1212</td>\n",
       "      <td>1018</td>\n",
       "    </tr>\n",
       "    <tr>\n",
       "      <th>9</th>\n",
       "      <td>2001</td>\n",
       "      <td>Bedford Park-Nortown</td>\n",
       "      <td>4985</td>\n",
       "      <td>2080</td>\n",
       "      <td>0</td>\n",
       "      <td>45</td>\n",
       "      <td>40</td>\n",
       "      <td>210</td>\n",
       "      <td>1235</td>\n",
       "      <td>15</td>\n",
       "      <td>565304</td>\n",
       "      <td>933</td>\n",
       "      <td>1491</td>\n",
       "    </tr>\n",
       "  </tbody>\n",
       "</table>\n",
       "</div>"
      ],
      "text/plain": [
       "   year                 neighbourhood  single_detached_house  \\\n",
       "0  2001               Agincourt North                   3715   \n",
       "1  2001  Agincourt South-Malvern West                   3250   \n",
       "2  2001                     Alderwood                   3175   \n",
       "3  2001                         Annex                   1060   \n",
       "4  2001             Banbury-Don Mills                   3615   \n",
       "5  2001                Bathurst Manor                   2405   \n",
       "6  2001           Bay Street Corridor                     10   \n",
       "7  2001               Bayview Village                   2170   \n",
       "8  2001         Bayview Woods-Steeles                   1650   \n",
       "9  2001          Bedford Park-Nortown                   4985   \n",
       "\n",
       "   apartment_five_storeys_plus  movable_dwelling  semi_detached_house  \\\n",
       "0                         1480                 0                 1055   \n",
       "1                         1835                 0                  545   \n",
       "2                          315                 0                  470   \n",
       "3                         6090                 5                 1980   \n",
       "4                         4465                 0                  240   \n",
       "5                         1550                 0                  130   \n",
       "6                         7575                 0                    0   \n",
       "7                          630                 0                  170   \n",
       "8                         1715                 0                  925   \n",
       "9                         2080                 0                   45   \n",
       "\n",
       "   row_house  duplex  apartment_five_storeys_less  other_house  \\\n",
       "0       1295     195                          185            5   \n",
       "1        455     105                          425            0   \n",
       "2         50     185                          370            0   \n",
       "3        605     275                         3710          165   \n",
       "4        380      15                         1360            0   \n",
       "5        130     375                          745            0   \n",
       "6         15       0                          240            0   \n",
       "7        765      15                          640            0   \n",
       "8        105      10                          170            5   \n",
       "9         40     210                         1235           15   \n",
       "\n",
       "   average_house_value  shelter_costs_owned  shelter_costs_rented  \n",
       "0               200388                  810                   870  \n",
       "1               203047                  806                   892  \n",
       "2               259998                  817                   924  \n",
       "3               453850                 1027                  1378  \n",
       "4               371864                 1007                  1163  \n",
       "5               304749                  843                  1052  \n",
       "6               257404                 1218                  1142  \n",
       "7               327644                 1197                  1164  \n",
       "8               343535                 1212                  1018  \n",
       "9               565304                  933                  1491  "
      ]
     },
     "execution_count": 33,
     "metadata": {},
     "output_type": "execute_result"
    }
   ],
   "source": [
    "# Fetch the data of all dwelling types per year\n",
    "# YOUR CODE HERE!\n",
    "dwelling_types = to_data\n",
    "dwelling_top10 = dwelling_types.head(10)\n",
    "dwelling_top10.reset_index()\n",
    "\n"
   ]
  },
  {
   "cell_type": "code",
   "execution_count": 34,
   "metadata": {},
   "outputs": [
    {
     "data": {
      "text/html": [
       "<div>\n",
       "<style scoped>\n",
       "    .dataframe tbody tr th:only-of-type {\n",
       "        vertical-align: middle;\n",
       "    }\n",
       "\n",
       "    .dataframe tbody tr th {\n",
       "        vertical-align: top;\n",
       "    }\n",
       "\n",
       "    .dataframe thead th {\n",
       "        text-align: right;\n",
       "    }\n",
       "</style>\n",
       "<table border=\"1\" class=\"dataframe\">\n",
       "  <thead>\n",
       "    <tr style=\"text-align: right;\">\n",
       "      <th></th>\n",
       "      <th>neighbourhood</th>\n",
       "      <th>single_detached_house</th>\n",
       "      <th>apartment_five_storeys_plus</th>\n",
       "      <th>movable_dwelling</th>\n",
       "      <th>semi_detached_house</th>\n",
       "      <th>row_house</th>\n",
       "      <th>duplex</th>\n",
       "      <th>apartment_five_storeys_less</th>\n",
       "      <th>other_house</th>\n",
       "    </tr>\n",
       "    <tr>\n",
       "      <th>year</th>\n",
       "      <th></th>\n",
       "      <th></th>\n",
       "      <th></th>\n",
       "      <th></th>\n",
       "      <th></th>\n",
       "      <th></th>\n",
       "      <th></th>\n",
       "      <th></th>\n",
       "      <th></th>\n",
       "    </tr>\n",
       "  </thead>\n",
       "  <tbody>\n",
       "    <tr>\n",
       "      <th>2001</th>\n",
       "      <td>Agincourt North</td>\n",
       "      <td>3715</td>\n",
       "      <td>1480</td>\n",
       "      <td>0</td>\n",
       "      <td>1055</td>\n",
       "      <td>1295</td>\n",
       "      <td>195</td>\n",
       "      <td>185</td>\n",
       "      <td>5</td>\n",
       "    </tr>\n",
       "    <tr>\n",
       "      <th>2001</th>\n",
       "      <td>Agincourt South-Malvern West</td>\n",
       "      <td>3250</td>\n",
       "      <td>1835</td>\n",
       "      <td>0</td>\n",
       "      <td>545</td>\n",
       "      <td>455</td>\n",
       "      <td>105</td>\n",
       "      <td>425</td>\n",
       "      <td>0</td>\n",
       "    </tr>\n",
       "    <tr>\n",
       "      <th>2001</th>\n",
       "      <td>Alderwood</td>\n",
       "      <td>3175</td>\n",
       "      <td>315</td>\n",
       "      <td>0</td>\n",
       "      <td>470</td>\n",
       "      <td>50</td>\n",
       "      <td>185</td>\n",
       "      <td>370</td>\n",
       "      <td>0</td>\n",
       "    </tr>\n",
       "    <tr>\n",
       "      <th>2001</th>\n",
       "      <td>Annex</td>\n",
       "      <td>1060</td>\n",
       "      <td>6090</td>\n",
       "      <td>5</td>\n",
       "      <td>1980</td>\n",
       "      <td>605</td>\n",
       "      <td>275</td>\n",
       "      <td>3710</td>\n",
       "      <td>165</td>\n",
       "    </tr>\n",
       "    <tr>\n",
       "      <th>2001</th>\n",
       "      <td>Banbury-Don Mills</td>\n",
       "      <td>3615</td>\n",
       "      <td>4465</td>\n",
       "      <td>0</td>\n",
       "      <td>240</td>\n",
       "      <td>380</td>\n",
       "      <td>15</td>\n",
       "      <td>1360</td>\n",
       "      <td>0</td>\n",
       "    </tr>\n",
       "  </tbody>\n",
       "</table>\n",
       "</div>"
      ],
      "text/plain": [
       "                     neighbourhood  single_detached_house  \\\n",
       "year                                                        \n",
       "2001               Agincourt North                   3715   \n",
       "2001  Agincourt South-Malvern West                   3250   \n",
       "2001                     Alderwood                   3175   \n",
       "2001                         Annex                   1060   \n",
       "2001             Banbury-Don Mills                   3615   \n",
       "\n",
       "      apartment_five_storeys_plus  movable_dwelling  semi_detached_house  \\\n",
       "year                                                                       \n",
       "2001                         1480                 0                 1055   \n",
       "2001                         1835                 0                  545   \n",
       "2001                          315                 0                  470   \n",
       "2001                         6090                 5                 1980   \n",
       "2001                         4465                 0                  240   \n",
       "\n",
       "      row_house  duplex  apartment_five_storeys_less  other_house  \n",
       "year                                                               \n",
       "2001       1295     195                          185            5  \n",
       "2001        455     105                          425            0  \n",
       "2001         50     185                          370            0  \n",
       "2001        605     275                         3710          165  \n",
       "2001        380      15                         1360            0  "
      ]
     },
     "execution_count": 34,
     "metadata": {},
     "output_type": "execute_result"
    }
   ],
   "source": [
    "list(to_data.columns)\n",
    "all_columns_types = ['neighbourhood',\n",
    "    'single_detached_house',\n",
    "    'apartment_five_storeys_plus',\n",
    "    'movable_dwelling',\n",
    "    'semi_detached_house',\n",
    "    'row_house',\n",
    "    'duplex',\n",
    "    'apartment_five_storeys_less',\n",
    "    'other_house'\n",
    "]\n",
    "dwelling_types_neighbourhood = to_data[all_columns_types]\n",
    "dwelling_types_neighbourhood.head()"
   ]
  },
  {
   "cell_type": "code",
   "execution_count": 35,
   "metadata": {},
   "outputs": [
    {
     "data": {},
     "metadata": {},
     "output_type": "display_data"
    },
    {
     "data": {},
     "metadata": {},
     "output_type": "display_data"
    },
    {
     "data": {
      "application/vnd.holoviews_exec.v0+json": "",
      "text/html": [
       "<div id='1985'>\n",
       "\n",
       "\n",
       "\n",
       "\n",
       "\n",
       "  <div class=\"bk-root\" id=\"60500aee-8f36-43d4-b43b-5a442f0860a9\" data-root-id=\"1985\"></div>\n",
       "</div>\n",
       "<script type=\"application/javascript\">(function(root) {\n",
       "  function embed_document(root) {\n",
       "    var docs_json = {\"78c75492-8465-4de2-8160-6bc8ad31c6bb\":{\"defs\":[],\"roots\":{\"references\":[{\"attributes\":{},\"id\":\"2014\",\"type\":\"BasicTicker\"},{\"attributes\":{\"line_color\":\"blue\",\"line_width\":2,\"x\":{\"field\":\"year\"},\"y\":{\"field\":\"value\"}},\"id\":\"2042\",\"type\":\"Line\"},{\"attributes\":{},\"id\":\"2040\",\"type\":\"Selection\"},{\"attributes\":{},\"id\":\"2081\",\"type\":\"Selection\"},{\"attributes\":{\"axis\":{\"id\":\"2013\"},\"dimension\":1,\"grid_line_color\":null,\"ticker\":null},\"id\":\"2016\",\"type\":\"Grid\"},{\"attributes\":{\"label\":{\"value\":\"apartment_five_storeys_plus\"},\"renderers\":[{\"id\":\"2065\"}]},\"id\":\"2078\",\"type\":\"LegendItem\"},{\"attributes\":{\"line_alpha\":0.2,\"line_color\":\"purple\",\"line_width\":2,\"x\":{\"field\":\"year\"},\"y\":{\"field\":\"value\"}},\"id\":\"2108\",\"type\":\"Line\"},{\"attributes\":{\"label\":{\"value\":\"semi_detached_house\"},\"renderers\":[{\"id\":\"2109\"}]},\"id\":\"2126\",\"type\":\"LegendItem\"},{\"attributes\":{},\"id\":\"2060\",\"type\":\"Selection\"},{\"attributes\":{\"data_source\":{\"id\":\"2080\"},\"glyph\":{\"id\":\"2083\"},\"hover_glyph\":null,\"muted_glyph\":{\"id\":\"2085\"},\"nonselection_glyph\":{\"id\":\"2084\"},\"selection_glyph\":{\"id\":\"2102\"},\"view\":{\"id\":\"2087\"}},\"id\":\"2086\",\"type\":\"GlyphRenderer\"},{\"attributes\":{},\"id\":\"2125\",\"type\":\"UnionRenderers\"},{\"attributes\":{\"line_color\":\"purple\",\"line_width\":2,\"x\":{\"field\":\"year\"},\"y\":{\"field\":\"value\"}},\"id\":\"2127\",\"type\":\"Line\"},{\"attributes\":{\"line_color\":\"red\",\"line_width\":2,\"x\":{\"field\":\"year\"},\"y\":{\"field\":\"value\"}},\"id\":\"2214\",\"type\":\"Line\"},{\"attributes\":{},\"id\":\"2036\",\"type\":\"AllLabels\"},{\"attributes\":{},\"id\":\"2129\",\"type\":\"Selection\"},{\"attributes\":{\"source\":{\"id\":\"2184\"}},\"id\":\"2191\",\"type\":\"CDSView\"},{\"attributes\":{},\"id\":\"2017\",\"type\":\"SaveTool\"},{\"attributes\":{\"data_source\":{\"id\":\"2155\"},\"glyph\":{\"id\":\"2158\"},\"hover_glyph\":null,\"muted_glyph\":{\"id\":\"2160\"},\"nonselection_glyph\":{\"id\":\"2159\"},\"selection_glyph\":{\"id\":\"2183\"},\"view\":{\"id\":\"2162\"}},\"id\":\"2161\",\"type\":\"GlyphRenderer\"},{\"attributes\":{},\"id\":\"2018\",\"type\":\"PanTool\"},{\"attributes\":{\"data\":{\"Variable\":[\"other_house\",\"other_house\",\"other_house\",\"other_house\"],\"value\":[5,0,20,15],\"year\":[2001,2006,2011,2016]},\"selected\":{\"id\":\"2216\"},\"selection_policy\":{\"id\":\"2245\"}},\"id\":\"2215\",\"type\":\"ColumnDataSource\"},{\"attributes\":{},\"id\":\"2021\",\"type\":\"ResetTool\"},{\"attributes\":{\"line_color\":\"purple\",\"line_width\":2,\"x\":{\"field\":\"year\"},\"y\":{\"field\":\"value\"}},\"id\":\"2106\",\"type\":\"Line\"},{\"attributes\":{},\"id\":\"2185\",\"type\":\"Selection\"},{\"attributes\":{\"label\":{\"value\":\"duplex\"},\"renderers\":[{\"id\":\"2161\"}]},\"id\":\"2182\",\"type\":\"LegendItem\"},{\"attributes\":{},\"id\":\"2019\",\"type\":\"WheelZoomTool\"},{\"attributes\":{\"line_alpha\":0.1,\"line_color\":\"purple\",\"line_width\":2,\"x\":{\"field\":\"year\"},\"y\":{\"field\":\"value\"}},\"id\":\"2107\",\"type\":\"Line\"},{\"attributes\":{\"data_source\":{\"id\":\"2184\"},\"glyph\":{\"id\":\"2187\"},\"hover_glyph\":null,\"muted_glyph\":{\"id\":\"2189\"},\"nonselection_glyph\":{\"id\":\"2188\"},\"selection_glyph\":{\"id\":\"2214\"},\"view\":{\"id\":\"2191\"}},\"id\":\"2190\",\"type\":\"GlyphRenderer\"},{\"attributes\":{\"overlay\":{\"id\":\"2022\"}},\"id\":\"2020\",\"type\":\"BoxZoomTool\"},{\"attributes\":{\"line_alpha\":0.2,\"line_color\":\"blue\",\"line_width\":2,\"x\":{\"field\":\"year\"},\"y\":{\"field\":\"value\"}},\"id\":\"2044\",\"type\":\"Line\"},{\"attributes\":{},\"id\":\"2005\",\"type\":\"LinearScale\"},{\"attributes\":{\"label\":{\"value\":\"movable_dwelling\"},\"renderers\":[{\"id\":\"2086\"}]},\"id\":\"2101\",\"type\":\"LegendItem\"},{\"attributes\":{},\"id\":\"2031\",\"type\":\"BasicTickFormatter\"},{\"attributes\":{\"end\":2016.0,\"reset_end\":2016.0,\"reset_start\":2001.0,\"start\":2001.0,\"tags\":[[[\"year\",\"year\",null]]]},\"id\":\"1990\",\"type\":\"Range1d\"},{\"attributes\":{\"end\":4086.5,\"reset_end\":4086.5,\"reset_start\":-371.5,\"start\":-371.5,\"tags\":[[[\"value\",\"value\",null]]]},\"id\":\"1991\",\"type\":\"Range1d\"},{\"attributes\":{\"source\":{\"id\":\"2128\"}},\"id\":\"2135\",\"type\":\"CDSView\"},{\"attributes\":{\"line_color\":\"orange\",\"line_width\":2,\"x\":{\"field\":\"year\"},\"y\":{\"field\":\"value\"}},\"id\":\"2158\",\"type\":\"Line\"},{\"attributes\":{},\"id\":\"2216\",\"type\":\"Selection\"},{\"attributes\":{\"data\":{\"Variable\":[\"apartment_five_storeys_less\",\"apartment_five_storeys_less\",\"apartment_five_storeys_less\",\"apartment_five_storeys_less\"],\"value\":[185,565,705,735],\"year\":[2001,2006,2011,2016]},\"selected\":{\"id\":\"2185\"},\"selection_policy\":{\"id\":\"2212\"}},\"id\":\"2184\",\"type\":\"ColumnDataSource\"},{\"attributes\":{\"data_source\":{\"id\":\"2059\"},\"glyph\":{\"id\":\"2062\"},\"hover_glyph\":null,\"muted_glyph\":{\"id\":\"2064\"},\"nonselection_glyph\":{\"id\":\"2063\"},\"selection_glyph\":{\"id\":\"2079\"},\"view\":{\"id\":\"2066\"}},\"id\":\"2065\",\"type\":\"GlyphRenderer\"},{\"attributes\":{\"source\":{\"id\":\"2080\"}},\"id\":\"2087\",\"type\":\"CDSView\"},{\"attributes\":{\"data_source\":{\"id\":\"2103\"},\"glyph\":{\"id\":\"2106\"},\"hover_glyph\":null,\"muted_glyph\":{\"id\":\"2108\"},\"nonselection_glyph\":{\"id\":\"2107\"},\"selection_glyph\":{\"id\":\"2127\"},\"view\":{\"id\":\"2110\"}},\"id\":\"2109\",\"type\":\"GlyphRenderer\"},{\"attributes\":{\"line_alpha\":0.1,\"line_color\":\"grey\",\"line_width\":2,\"x\":{\"field\":\"year\"},\"y\":{\"field\":\"value\"}},\"id\":\"2132\",\"type\":\"Line\"},{\"attributes\":{},\"id\":\"2100\",\"type\":\"UnionRenderers\"},{\"attributes\":{\"data\":{\"Variable\":[\"semi_detached_house\",\"semi_detached_house\",\"semi_detached_house\",\"semi_detached_house\"],\"value\":[1055,775,820,805],\"year\":[2001,2006,2011,2016]},\"selected\":{\"id\":\"2104\"},\"selection_policy\":{\"id\":\"2125\"}},\"id\":\"2103\",\"type\":\"ColumnDataSource\"},{\"attributes\":{\"line_color\":\"blue\",\"line_width\":2,\"x\":{\"field\":\"year\"},\"y\":{\"field\":\"value\"}},\"id\":\"2058\",\"type\":\"Line\"},{\"attributes\":{\"label\":{\"value\":\"single_detached_house\"},\"renderers\":[{\"id\":\"2045\"}]},\"id\":\"2057\",\"type\":\"LegendItem\"},{\"attributes\":{\"margin\":[5,5,5,5],\"name\":\"VSpacer03190\",\"sizing_mode\":\"stretch_height\"},\"id\":\"1989\",\"type\":\"Spacer\"},{\"attributes\":{\"line_alpha\":0.1,\"line_color\":\"violet\",\"line_width\":2,\"x\":{\"field\":\"year\"},\"y\":{\"field\":\"value\"}},\"id\":\"2219\",\"type\":\"Line\"},{\"attributes\":{\"line_alpha\":0.1,\"line_color\":\"red\",\"line_width\":2,\"x\":{\"field\":\"year\"},\"y\":{\"field\":\"value\"}},\"id\":\"2188\",\"type\":\"Line\"},{\"attributes\":{\"data\":{\"Variable\":[\"movable_dwelling\",\"movable_dwelling\",\"movable_dwelling\",\"movable_dwelling\"],\"value\":[0,0,5,5],\"year\":[2001,2006,2011,2016]},\"selected\":{\"id\":\"2081\"},\"selection_policy\":{\"id\":\"2100\"}},\"id\":\"2080\",\"type\":\"ColumnDataSource\"},{\"attributes\":{},\"id\":\"2033\",\"type\":\"AllLabels\"},{\"attributes\":{\"line_width\":2,\"x\":{\"field\":\"year\"},\"y\":{\"field\":\"value\"}},\"id\":\"2083\",\"type\":\"Line\"},{\"attributes\":{\"active_multi\":null,\"tools\":[{\"id\":\"1992\"},{\"id\":\"2017\"},{\"id\":\"2018\"},{\"id\":\"2019\"},{\"id\":\"2020\"},{\"id\":\"2021\"}]},\"id\":\"2023\",\"type\":\"Toolbar\"},{\"attributes\":{\"line_color\":\"grey\",\"line_width\":2,\"x\":{\"field\":\"year\"},\"y\":{\"field\":\"value\"}},\"id\":\"2154\",\"type\":\"Line\"},{\"attributes\":{\"data_source\":{\"id\":\"2215\"},\"glyph\":{\"id\":\"2218\"},\"hover_glyph\":null,\"muted_glyph\":{\"id\":\"2220\"},\"nonselection_glyph\":{\"id\":\"2219\"},\"selection_glyph\":{\"id\":\"2247\"},\"view\":{\"id\":\"2222\"}},\"id\":\"2221\",\"type\":\"GlyphRenderer\"},{\"attributes\":{\"line_color\":\"violet\",\"line_width\":2,\"x\":{\"field\":\"year\"},\"y\":{\"field\":\"value\"}},\"id\":\"2218\",\"type\":\"Line\"},{\"attributes\":{},\"id\":\"2077\",\"type\":\"UnionRenderers\"},{\"attributes\":{},\"id\":\"2156\",\"type\":\"Selection\"},{\"attributes\":{\"line_alpha\":0.1,\"line_color\":\"green\",\"line_width\":2,\"x\":{\"field\":\"year\"},\"y\":{\"field\":\"value\"}},\"id\":\"2063\",\"type\":\"Line\"},{\"attributes\":{\"bottom_units\":\"screen\",\"fill_alpha\":0.5,\"fill_color\":\"lightgrey\",\"left_units\":\"screen\",\"level\":\"overlay\",\"line_alpha\":1.0,\"line_color\":\"black\",\"line_dash\":[4,4],\"line_width\":2,\"right_units\":\"screen\",\"syncable\":false,\"top_units\":\"screen\"},\"id\":\"2022\",\"type\":\"BoxAnnotation\"},{\"attributes\":{\"source\":{\"id\":\"2059\"}},\"id\":\"2066\",\"type\":\"CDSView\"},{\"attributes\":{},\"id\":\"2104\",\"type\":\"Selection\"},{\"attributes\":{\"data_source\":{\"id\":\"2128\"},\"glyph\":{\"id\":\"2131\"},\"hover_glyph\":null,\"muted_glyph\":{\"id\":\"2133\"},\"nonselection_glyph\":{\"id\":\"2132\"},\"selection_glyph\":{\"id\":\"2154\"},\"view\":{\"id\":\"2135\"}},\"id\":\"2134\",\"type\":\"GlyphRenderer\"},{\"attributes\":{\"line_alpha\":0.2,\"line_color\":\"grey\",\"line_width\":2,\"x\":{\"field\":\"year\"},\"y\":{\"field\":\"value\"}},\"id\":\"2133\",\"type\":\"Line\"},{\"attributes\":{\"line_alpha\":0.2,\"line_width\":2,\"x\":{\"field\":\"year\"},\"y\":{\"field\":\"value\"}},\"id\":\"2085\",\"type\":\"Line\"},{\"attributes\":{\"line_color\":\"grey\",\"line_width\":2,\"x\":{\"field\":\"year\"},\"y\":{\"field\":\"value\"}},\"id\":\"2131\",\"type\":\"Line\"},{\"attributes\":{\"data\":{\"Variable\":[\"single_detached_house\",\"single_detached_house\",\"single_detached_house\",\"single_detached_house\"],\"value\":[3715,3295,3385,3345],\"year\":[2001,2006,2011,2016]},\"selected\":{\"id\":\"2040\"},\"selection_policy\":{\"id\":\"2055\"}},\"id\":\"2039\",\"type\":\"ColumnDataSource\"},{\"attributes\":{\"line_width\":2,\"x\":{\"field\":\"year\"},\"y\":{\"field\":\"value\"}},\"id\":\"2102\",\"type\":\"Line\"},{\"attributes\":{\"line_color\":\"orange\",\"line_width\":2,\"x\":{\"field\":\"year\"},\"y\":{\"field\":\"value\"}},\"id\":\"2183\",\"type\":\"Line\"},{\"attributes\":{\"line_color\":\"green\",\"line_width\":2,\"x\":{\"field\":\"year\"},\"y\":{\"field\":\"value\"}},\"id\":\"2079\",\"type\":\"Line\"},{\"attributes\":{\"source\":{\"id\":\"2103\"}},\"id\":\"2110\",\"type\":\"CDSView\"},{\"attributes\":{\"source\":{\"id\":\"2155\"}},\"id\":\"2162\",\"type\":\"CDSView\"},{\"attributes\":{\"format\":\"%.0f\"},\"id\":\"2030\",\"type\":\"PrintfTickFormatter\"},{\"attributes\":{\"data\":{\"Variable\":[\"duplex\",\"duplex\",\"duplex\",\"duplex\"],\"value\":[195,600,610,645],\"year\":[2001,2006,2011,2016]},\"selected\":{\"id\":\"2156\"},\"selection_policy\":{\"id\":\"2181\"}},\"id\":\"2155\",\"type\":\"ColumnDataSource\"},{\"attributes\":{\"source\":{\"id\":\"2215\"}},\"id\":\"2222\",\"type\":\"CDSView\"},{\"attributes\":{\"data_source\":{\"id\":\"2039\"},\"glyph\":{\"id\":\"2042\"},\"hover_glyph\":null,\"muted_glyph\":{\"id\":\"2044\"},\"nonselection_glyph\":{\"id\":\"2043\"},\"selection_glyph\":{\"id\":\"2058\"},\"view\":{\"id\":\"2046\"}},\"id\":\"2045\",\"type\":\"GlyphRenderer\"},{\"attributes\":{\"children\":[{\"id\":\"1986\"},{\"id\":\"2000\"}],\"margin\":[0,0,0,0],\"name\":\"Row03184\"},\"id\":\"1985\",\"type\":\"Row\"},{\"attributes\":{\"data\":{\"Variable\":[\"row_house\",\"row_house\",\"row_house\",\"row_house\"],\"value\":[1295,1425,1465,1440],\"year\":[2001,2006,2011,2016]},\"selected\":{\"id\":\"2129\"},\"selection_policy\":{\"id\":\"2152\"}},\"id\":\"2128\",\"type\":\"ColumnDataSource\"},{\"attributes\":{\"line_alpha\":0.1,\"line_width\":2,\"x\":{\"field\":\"year\"},\"y\":{\"field\":\"value\"}},\"id\":\"2084\",\"type\":\"Line\"},{\"attributes\":{\"line_alpha\":0.2,\"line_color\":\"green\",\"line_width\":2,\"x\":{\"field\":\"year\"},\"y\":{\"field\":\"value\"}},\"id\":\"2064\",\"type\":\"Line\"},{\"attributes\":{\"source\":{\"id\":\"2039\"}},\"id\":\"2046\",\"type\":\"CDSView\"},{\"attributes\":{\"label\":{\"value\":\"other_house\"},\"renderers\":[{\"id\":\"2221\"}]},\"id\":\"2246\",\"type\":\"LegendItem\"},{\"attributes\":{},\"id\":\"2010\",\"type\":\"BasicTicker\"},{\"attributes\":{},\"id\":\"2055\",\"type\":\"UnionRenderers\"},{\"attributes\":{},\"id\":\"2245\",\"type\":\"UnionRenderers\"},{\"attributes\":{\"click_policy\":\"mute\",\"items\":[{\"id\":\"2057\"},{\"id\":\"2078\"},{\"id\":\"2101\"},{\"id\":\"2126\"},{\"id\":\"2153\"},{\"id\":\"2182\"},{\"id\":\"2213\"},{\"id\":\"2246\"}],\"location\":[0,0],\"title\":\"Variable\"},\"id\":\"2056\",\"type\":\"Legend\"},{\"attributes\":{\"axis\":{\"id\":\"2009\"},\"grid_line_color\":null,\"ticker\":null},\"id\":\"2012\",\"type\":\"Grid\"},{\"attributes\":{\"line_color\":\"green\",\"line_width\":2,\"x\":{\"field\":\"year\"},\"y\":{\"field\":\"value\"}},\"id\":\"2062\",\"type\":\"Line\"},{\"attributes\":{\"children\":[{\"id\":\"1987\"},{\"id\":\"1989\"}],\"margin\":[0,0,0,0],\"name\":\"Column03191\"},\"id\":\"1986\",\"type\":\"Column\"},{\"attributes\":{},\"id\":\"2152\",\"type\":\"UnionRenderers\"},{\"attributes\":{\"text\":\"Number of Dwelling Types Per Neighbourhood\",\"text_color\":\"black\",\"text_font_size\":\"12pt\"},\"id\":\"2001\",\"type\":\"Title\"},{\"attributes\":{},\"id\":\"2181\",\"type\":\"UnionRenderers\"},{\"attributes\":{\"below\":[{\"id\":\"2009\"}],\"center\":[{\"id\":\"2012\"},{\"id\":\"2016\"}],\"height\":300,\"left\":[{\"id\":\"2013\"}],\"margin\":[5,5,5,5],\"min_border_bottom\":10,\"min_border_left\":10,\"min_border_right\":10,\"min_border_top\":10,\"renderers\":[{\"id\":\"2045\"},{\"id\":\"2065\"},{\"id\":\"2086\"},{\"id\":\"2109\"},{\"id\":\"2134\"},{\"id\":\"2161\"},{\"id\":\"2190\"},{\"id\":\"2221\"}],\"right\":[{\"id\":\"2056\"}],\"sizing_mode\":\"fixed\",\"title\":{\"id\":\"2001\"},\"toolbar\":{\"id\":\"2023\"},\"width\":700,\"x_range\":{\"id\":\"1990\"},\"x_scale\":{\"id\":\"2005\"},\"y_range\":{\"id\":\"1991\"},\"y_scale\":{\"id\":\"2007\"}},\"id\":\"2000\",\"subtype\":\"Figure\",\"type\":\"Plot\"},{\"attributes\":{\"line_color\":\"red\",\"line_width\":2,\"x\":{\"field\":\"year\"},\"y\":{\"field\":\"value\"}},\"id\":\"2187\",\"type\":\"Line\"},{\"attributes\":{\"line_alpha\":0.1,\"line_color\":\"orange\",\"line_width\":2,\"x\":{\"field\":\"year\"},\"y\":{\"field\":\"value\"}},\"id\":\"2159\",\"type\":\"Line\"},{\"attributes\":{\"label\":{\"value\":\"row_house\"},\"renderers\":[{\"id\":\"2134\"}]},\"id\":\"2153\",\"type\":\"LegendItem\"},{\"attributes\":{\"client_comm_id\":\"ec1cd8625a4f491792b428e91136b66a\",\"comm_id\":\"959ca2d01b774b91ac9691f3303762ab\",\"plot_id\":\"1985\"},\"id\":\"2530\",\"type\":\"panel.models.comm_manager.CommManager\"},{\"attributes\":{\"line_alpha\":0.2,\"line_color\":\"violet\",\"line_width\":2,\"x\":{\"field\":\"year\"},\"y\":{\"field\":\"value\"}},\"id\":\"2220\",\"type\":\"Line\"},{\"attributes\":{\"children\":[{\"id\":\"1988\"}],\"css_classes\":[\"panel-widget-box\"],\"margin\":[5,5,5,5],\"name\":\"WidgetBox03185\"},\"id\":\"1987\",\"type\":\"Column\"},{\"attributes\":{\"label\":{\"value\":\"apartment_five_storeys_less\"},\"renderers\":[{\"id\":\"2190\"}]},\"id\":\"2213\",\"type\":\"LegendItem\"},{\"attributes\":{},\"id\":\"2212\",\"type\":\"UnionRenderers\"},{\"attributes\":{},\"id\":\"2007\",\"type\":\"LinearScale\"},{\"attributes\":{\"data\":{\"Variable\":[\"apartment_five_storeys_plus\",\"apartment_five_storeys_plus\",\"apartment_five_storeys_plus\",\"apartment_five_storeys_plus\"],\"value\":[1480,2060,2130,2120],\"year\":[2001,2006,2011,2016]},\"selected\":{\"id\":\"2060\"},\"selection_policy\":{\"id\":\"2077\"}},\"id\":\"2059\",\"type\":\"ColumnDataSource\"},{\"attributes\":{\"line_alpha\":0.1,\"line_color\":\"blue\",\"line_width\":2,\"x\":{\"field\":\"year\"},\"y\":{\"field\":\"value\"}},\"id\":\"2043\",\"type\":\"Line\"},{\"attributes\":{\"axis_label\":\" Number of Dwelling Types Per Neighbourhoodd \",\"formatter\":{\"id\":\"2030\"},\"major_label_policy\":{\"id\":\"2036\"},\"ticker\":{\"id\":\"2014\"}},\"id\":\"2013\",\"type\":\"LinearAxis\"},{\"attributes\":{\"line_alpha\":0.2,\"line_color\":\"orange\",\"line_width\":2,\"x\":{\"field\":\"year\"},\"y\":{\"field\":\"value\"}},\"id\":\"2160\",\"type\":\"Line\"},{\"attributes\":{\"line_alpha\":0.2,\"line_color\":\"red\",\"line_width\":2,\"x\":{\"field\":\"year\"},\"y\":{\"field\":\"value\"}},\"id\":\"2189\",\"type\":\"Line\"},{\"attributes\":{\"axis_label\":\"Year\",\"formatter\":{\"id\":\"2031\"},\"major_label_policy\":{\"id\":\"2033\"},\"ticker\":{\"id\":\"2010\"}},\"id\":\"2009\",\"type\":\"LinearAxis\"},{\"attributes\":{\"margin\":[20,20,20,20],\"min_width\":250,\"options\":[\"Agincourt North\",\"Agincourt South-Malvern West\",\"Alderwood\",\"Annex\",\"Banbury-Don Mills\",\"Bathurst Manor\",\"Bay Street Corridor\",\"Bayview Village\",\"Bayview Woods-Steeles\",\"Bedford Park-Nortown\",\"Beechborough-Greenbrook\",\"Bendale\",\"Birchcliffe-Cliffside\",\"Black Creek\",\"Blake-Jones\",\"Briar Hill-Belgravia\",\"Bridle Path-Sunnybrook-York Mills\",\"Broadview North\",\"Brookhaven-Amesbury\",\"Cabbagetown-South St.James Town\",\"Caledonia-Fairbank\",\"Casa Loma\",\"Centennial Scarborough\",\"Church-Yonge Corridor\",\"Clairlea-Birchmount\",\"Clanton Park\",\"Cliffcrest\",\"Corso Italia-Davenport\",\"Danforth\",\"Danforth-East York\",\"Don Valley Village\",\"Dorset Park\",\"Dovercourt-Wallace Emerson-Juncti\",\"Downsview-Roding-CFB\",\"Dufferin Grove\",\"East End-Danforth\",\"Edenbridge-Humber Valley\",\"Eglinton East\",\"Elms-Old Rexdale\",\"Englemount-Lawrence\",\"Eringate-Centennial-West Deane\",\"Etobicoke West Mall\",\"Flemingdon Park\",\"Forest Hill North\",\"Forest Hill South\",\"Glenfield-Jane Heights\",\"Greenwood-Coxwell\",\"Guildwood\",\"Henry Farm\",\"High Park North\",\"High Park-Swansea\",\"Highland Creek\",\"Hillcrest Village\",\"Humber Heights-Westmount\",\"Humber Summit\",\"Humbermede\",\"Humewood-Cedarvale\",\"Ionview\",\"Islington-City Centre West\",\"Junction Area\",\"Keelesdale-Eglinton West\",\"Kennedy Park\",\"Kensington-Chinatown\",\"Kingsview Village-The Westway\",\"Kingsway South\",\"L'Amoreaux\",\"Lambton Baby Point\",\"Lansing-Westgate\",\"Lawrence Park North\",\"Lawrence Park South\",\"Leaside-Bennington\",\"Little Portugal\",\"Long Branch\",\"Malvern\",\"Maple Leaf\",\"Markland Wood\",\"Milliken\",\"Mimico\",\"Morningside\",\"Moss Park\",\"Mount Dennis\",\"Mount Olive-Silverstone-Jamestown\",\"Mount Pleasant East\",\"Mount Pleasant West\",\"New Toronto\",\"Newtonbrook East\",\"Newtonbrook West\",\"Niagara\",\"North Riverdale\",\"North St.James Town\",\"O'Connor-Parkview\",\"Oakridge\",\"Oakwood Village\",\"Old East York\",\"Palmerston-Little Italy\",\"Parkwoods-Donalda\",\"Pelmo Park-Humberlea\",\"Playter Estates-Danforth\",\"Pleasant View\",\"Princess-Rosethorn\",\"Regent Park\",\"Rexdale-Kipling\",\"Rockcliffe-Smythe\",\"Roncesvalles\",\"Rosedale-Moore Park\",\"Rouge\",\"Runnymede-Bloor West Village\",\"Rustic\",\"Scarborough Village\",\"South Parkdale\",\"South Riverdale\",\"St.Andrew-Windfields\",\"Steeles\",\"Stonegate-Queensway\",\"Tam O'Shanter-Sullivan\",\"Taylor-Massey\",\"The Beaches\",\"Thistletown-Beaumond Heights\",\"Thorncliffe Park\",\"Trinity-Bellwoods\",\"University\",\"Victoria Village\",\"Waterfront Communities-The Island\",\"West Hill\",\"West Humber-Clairville\",\"Westminster-Branson\",\"Weston\",\"Weston-Pellam Park\",\"Wexford/Maryvale\",\"Willowdale East\",\"Willowdale West\",\"Willowridge-Martingrove-Richview\",\"Woburn\",\"Woodbine Corridor\",\"Woodbine-Lumsden\",\"Wychwood\",\"Yonge-Eglinton\",\"Yonge-St.Clair\",\"York University Heights\",\"Yorkdale-Glen Park\"],\"title\":\"neighbourhood\",\"value\":\"Agincourt North\",\"width\":250},\"id\":\"1988\",\"type\":\"Select\"},{\"attributes\":{\"line_color\":\"violet\",\"line_width\":2,\"x\":{\"field\":\"year\"},\"y\":{\"field\":\"value\"}},\"id\":\"2247\",\"type\":\"Line\"},{\"attributes\":{\"callback\":null,\"renderers\":[{\"id\":\"2045\"},{\"id\":\"2065\"},{\"id\":\"2086\"},{\"id\":\"2109\"},{\"id\":\"2134\"},{\"id\":\"2161\"},{\"id\":\"2190\"},{\"id\":\"2221\"}],\"tags\":[\"hv_created\"],\"tooltips\":[[\"Variable\",\"@{Variable}\"],[\"year\",\"@{year}\"],[\"value\",\"@{value}\"]]},\"id\":\"1992\",\"type\":\"HoverTool\"}],\"root_ids\":[\"1985\",\"2530\"]},\"title\":\"Bokeh Application\",\"version\":\"2.3.2\"}};\n",
       "    var render_items = [{\"docid\":\"78c75492-8465-4de2-8160-6bc8ad31c6bb\",\"root_ids\":[\"1985\"],\"roots\":{\"1985\":\"60500aee-8f36-43d4-b43b-5a442f0860a9\"}}];\n",
       "    root.Bokeh.embed.embed_items_notebook(docs_json, render_items);\n",
       "  }\n",
       "  if (root.Bokeh !== undefined && root.Bokeh.Panel !== undefined && root['Plotly'] !== undefined ) {\n",
       "    embed_document(root);\n",
       "  } else {\n",
       "    var attempts = 0;\n",
       "    var timer = setInterval(function(root) {\n",
       "      if (root.Bokeh !== undefined && root.Bokeh.Panel !== undefined && root['Plotly'] !== undefined) {\n",
       "        clearInterval(timer);\n",
       "        embed_document(root);\n",
       "      } else if (document.readyState == \"complete\") {\n",
       "        attempts++;\n",
       "        if (attempts > 100) {\n",
       "          clearInterval(timer);\n",
       "          console.log(\"Bokeh: ERROR: Unable to run BokehJS code because BokehJS library is missing\");\n",
       "        }\n",
       "      }\n",
       "    }, 10, root)\n",
       "  }\n",
       "})(window);</script>"
      ],
      "text/plain": [
       "Row\n",
       "    [0] Column\n",
       "        [0] WidgetBox\n",
       "            [0] Select(margin=(20, 20, 20, 20), name='neighbourhood', options=['Agincourt North', ...], value='Agincourt North', width=250)\n",
       "        [1] VSpacer()\n",
       "    [1] HoloViews(DynamicMap, widget_location='left_top')"
      ]
     },
     "execution_count": 35,
     "metadata": {
      "application/vnd.holoviews_exec.v0+json": {
       "id": "1985"
      }
     },
     "output_type": "execute_result"
    }
   ],
   "source": [
    "title = \" Number of Dwelling Types Per Neighbourhood \"\n",
    "xlabel = \"Year\"\n",
    "ylabel = \" Number of Dwelling Types Per Neighbourhoodd \"\n",
    "color = [\"blue\", \"green\",\"black\",\"purple\",\"grey\",\"orange\",\"red\",\"violet\"]\n",
    "\n",
    "dwelling_types_neighbourhood.hvplot( title=title, xlabel = xlabel, ylabel = ylabel, color= color, yformatter=\"%.0f\", width = 700, groupby='neighbourhood', widget_location='left_top')"
   ]
  },
  {
   "cell_type": "markdown",
   "metadata": {},
   "source": [
    "- - - "
   ]
  },
  {
   "cell_type": "markdown",
   "metadata": {},
   "source": [
    "## The Top 10 Most Expensive Neighbourhoods\n",
    "\n",
    "In this section, you will need to calculate the house value for each neighbourhood and then sort the values to obtain the top 10 most expensive neighbourhoods on average. Plot the results as a bar chart."
   ]
  },
  {
   "cell_type": "code",
   "execution_count": 52,
   "metadata": {},
   "outputs": [
    {
     "data": {
      "text/html": [
       "<div>\n",
       "<style scoped>\n",
       "    .dataframe tbody tr th:only-of-type {\n",
       "        vertical-align: middle;\n",
       "    }\n",
       "\n",
       "    .dataframe tbody tr th {\n",
       "        vertical-align: top;\n",
       "    }\n",
       "\n",
       "    .dataframe thead th {\n",
       "        text-align: right;\n",
       "    }\n",
       "</style>\n",
       "<table border=\"1\" class=\"dataframe\">\n",
       "  <thead>\n",
       "    <tr style=\"text-align: right;\">\n",
       "      <th></th>\n",
       "      <th>single_detached_house</th>\n",
       "      <th>apartment_five_storeys_plus</th>\n",
       "      <th>movable_dwelling</th>\n",
       "      <th>semi_detached_house</th>\n",
       "      <th>row_house</th>\n",
       "      <th>duplex</th>\n",
       "      <th>apartment_five_storeys_less</th>\n",
       "      <th>other_house</th>\n",
       "      <th>average_house_value</th>\n",
       "      <th>shelter_costs_owned</th>\n",
       "      <th>shelter_costs_rented</th>\n",
       "    </tr>\n",
       "    <tr>\n",
       "      <th>neighbourhood</th>\n",
       "      <th></th>\n",
       "      <th></th>\n",
       "      <th></th>\n",
       "      <th></th>\n",
       "      <th></th>\n",
       "      <th></th>\n",
       "      <th></th>\n",
       "      <th></th>\n",
       "      <th></th>\n",
       "      <th></th>\n",
       "      <th></th>\n",
       "    </tr>\n",
       "  </thead>\n",
       "  <tbody>\n",
       "    <tr>\n",
       "      <th>Bridle Path-Sunnybrook-York Mills</th>\n",
       "      <td>2260.00</td>\n",
       "      <td>331.25</td>\n",
       "      <td>0.00</td>\n",
       "      <td>36.25</td>\n",
       "      <td>90.00</td>\n",
       "      <td>25.0</td>\n",
       "      <td>40.00</td>\n",
       "      <td>0.00</td>\n",
       "      <td>1526485.75</td>\n",
       "      <td>2360.75</td>\n",
       "      <td>2321.75</td>\n",
       "    </tr>\n",
       "    <tr>\n",
       "      <th>Forest Hill South</th>\n",
       "      <td>1742.50</td>\n",
       "      <td>2031.25</td>\n",
       "      <td>1.25</td>\n",
       "      <td>61.25</td>\n",
       "      <td>45.00</td>\n",
       "      <td>75.0</td>\n",
       "      <td>1027.50</td>\n",
       "      <td>3.75</td>\n",
       "      <td>1195992.50</td>\n",
       "      <td>1781.00</td>\n",
       "      <td>1313.75</td>\n",
       "    </tr>\n",
       "    <tr>\n",
       "      <th>Lawrence Park South</th>\n",
       "      <td>3472.50</td>\n",
       "      <td>773.75</td>\n",
       "      <td>0.00</td>\n",
       "      <td>126.25</td>\n",
       "      <td>38.75</td>\n",
       "      <td>225.0</td>\n",
       "      <td>966.25</td>\n",
       "      <td>16.25</td>\n",
       "      <td>1094027.75</td>\n",
       "      <td>1954.00</td>\n",
       "      <td>1372.75</td>\n",
       "    </tr>\n",
       "    <tr>\n",
       "      <th>Rosedale-Moore Park</th>\n",
       "      <td>2498.75</td>\n",
       "      <td>4641.25</td>\n",
       "      <td>0.00</td>\n",
       "      <td>486.25</td>\n",
       "      <td>245.00</td>\n",
       "      <td>327.5</td>\n",
       "      <td>1618.75</td>\n",
       "      <td>2.50</td>\n",
       "      <td>1093640.00</td>\n",
       "      <td>1909.75</td>\n",
       "      <td>1537.25</td>\n",
       "    </tr>\n",
       "    <tr>\n",
       "      <th>St.Andrew-Windfields</th>\n",
       "      <td>3225.00</td>\n",
       "      <td>1670.00</td>\n",
       "      <td>0.00</td>\n",
       "      <td>185.00</td>\n",
       "      <td>552.50</td>\n",
       "      <td>97.5</td>\n",
       "      <td>586.25</td>\n",
       "      <td>5.00</td>\n",
       "      <td>999107.00</td>\n",
       "      <td>1880.25</td>\n",
       "      <td>1384.50</td>\n",
       "    </tr>\n",
       "    <tr>\n",
       "      <th>Casa Loma</th>\n",
       "      <td>916.25</td>\n",
       "      <td>2310.00</td>\n",
       "      <td>0.00</td>\n",
       "      <td>288.75</td>\n",
       "      <td>201.25</td>\n",
       "      <td>162.5</td>\n",
       "      <td>1192.50</td>\n",
       "      <td>2.50</td>\n",
       "      <td>981064.25</td>\n",
       "      <td>1873.75</td>\n",
       "      <td>1547.75</td>\n",
       "    </tr>\n",
       "    <tr>\n",
       "      <th>Bedford Park-Nortown</th>\n",
       "      <td>4865.00</td>\n",
       "      <td>1981.25</td>\n",
       "      <td>0.00</td>\n",
       "      <td>43.75</td>\n",
       "      <td>57.50</td>\n",
       "      <td>287.5</td>\n",
       "      <td>1275.00</td>\n",
       "      <td>88.75</td>\n",
       "      <td>930415.25</td>\n",
       "      <td>1786.75</td>\n",
       "      <td>1255.00</td>\n",
       "    </tr>\n",
       "    <tr>\n",
       "      <th>Forest Hill North</th>\n",
       "      <td>1488.75</td>\n",
       "      <td>3392.50</td>\n",
       "      <td>0.00</td>\n",
       "      <td>12.50</td>\n",
       "      <td>16.25</td>\n",
       "      <td>82.5</td>\n",
       "      <td>402.50</td>\n",
       "      <td>1.25</td>\n",
       "      <td>851680.50</td>\n",
       "      <td>1722.75</td>\n",
       "      <td>1245.50</td>\n",
       "    </tr>\n",
       "    <tr>\n",
       "      <th>Kingsway South</th>\n",
       "      <td>2326.25</td>\n",
       "      <td>576.25</td>\n",
       "      <td>0.00</td>\n",
       "      <td>66.25</td>\n",
       "      <td>48.75</td>\n",
       "      <td>20.0</td>\n",
       "      <td>336.25</td>\n",
       "      <td>2.50</td>\n",
       "      <td>843234.25</td>\n",
       "      <td>1736.75</td>\n",
       "      <td>1622.00</td>\n",
       "    </tr>\n",
       "    <tr>\n",
       "      <th>Yonge-St.Clair</th>\n",
       "      <td>565.00</td>\n",
       "      <td>3948.75</td>\n",
       "      <td>0.00</td>\n",
       "      <td>425.00</td>\n",
       "      <td>212.50</td>\n",
       "      <td>172.5</td>\n",
       "      <td>1308.75</td>\n",
       "      <td>6.25</td>\n",
       "      <td>813220.25</td>\n",
       "      <td>1680.75</td>\n",
       "      <td>1369.00</td>\n",
       "    </tr>\n",
       "  </tbody>\n",
       "</table>\n",
       "</div>"
      ],
      "text/plain": [
       "                                   single_detached_house  \\\n",
       "neighbourhood                                              \n",
       "Bridle Path-Sunnybrook-York Mills                2260.00   \n",
       "Forest Hill South                                1742.50   \n",
       "Lawrence Park South                              3472.50   \n",
       "Rosedale-Moore Park                              2498.75   \n",
       "St.Andrew-Windfields                             3225.00   \n",
       "Casa Loma                                         916.25   \n",
       "Bedford Park-Nortown                             4865.00   \n",
       "Forest Hill North                                1488.75   \n",
       "Kingsway South                                   2326.25   \n",
       "Yonge-St.Clair                                    565.00   \n",
       "\n",
       "                                   apartment_five_storeys_plus  \\\n",
       "neighbourhood                                                    \n",
       "Bridle Path-Sunnybrook-York Mills                       331.25   \n",
       "Forest Hill South                                      2031.25   \n",
       "Lawrence Park South                                     773.75   \n",
       "Rosedale-Moore Park                                    4641.25   \n",
       "St.Andrew-Windfields                                   1670.00   \n",
       "Casa Loma                                              2310.00   \n",
       "Bedford Park-Nortown                                   1981.25   \n",
       "Forest Hill North                                      3392.50   \n",
       "Kingsway South                                          576.25   \n",
       "Yonge-St.Clair                                         3948.75   \n",
       "\n",
       "                                   movable_dwelling  semi_detached_house  \\\n",
       "neighbourhood                                                              \n",
       "Bridle Path-Sunnybrook-York Mills              0.00                36.25   \n",
       "Forest Hill South                              1.25                61.25   \n",
       "Lawrence Park South                            0.00               126.25   \n",
       "Rosedale-Moore Park                            0.00               486.25   \n",
       "St.Andrew-Windfields                           0.00               185.00   \n",
       "Casa Loma                                      0.00               288.75   \n",
       "Bedford Park-Nortown                           0.00                43.75   \n",
       "Forest Hill North                              0.00                12.50   \n",
       "Kingsway South                                 0.00                66.25   \n",
       "Yonge-St.Clair                                 0.00               425.00   \n",
       "\n",
       "                                   row_house  duplex  \\\n",
       "neighbourhood                                          \n",
       "Bridle Path-Sunnybrook-York Mills      90.00    25.0   \n",
       "Forest Hill South                      45.00    75.0   \n",
       "Lawrence Park South                    38.75   225.0   \n",
       "Rosedale-Moore Park                   245.00   327.5   \n",
       "St.Andrew-Windfields                  552.50    97.5   \n",
       "Casa Loma                             201.25   162.5   \n",
       "Bedford Park-Nortown                   57.50   287.5   \n",
       "Forest Hill North                      16.25    82.5   \n",
       "Kingsway South                         48.75    20.0   \n",
       "Yonge-St.Clair                        212.50   172.5   \n",
       "\n",
       "                                   apartment_five_storeys_less  other_house  \\\n",
       "neighbourhood                                                                 \n",
       "Bridle Path-Sunnybrook-York Mills                        40.00         0.00   \n",
       "Forest Hill South                                      1027.50         3.75   \n",
       "Lawrence Park South                                     966.25        16.25   \n",
       "Rosedale-Moore Park                                    1618.75         2.50   \n",
       "St.Andrew-Windfields                                    586.25         5.00   \n",
       "Casa Loma                                              1192.50         2.50   \n",
       "Bedford Park-Nortown                                   1275.00        88.75   \n",
       "Forest Hill North                                       402.50         1.25   \n",
       "Kingsway South                                          336.25         2.50   \n",
       "Yonge-St.Clair                                         1308.75         6.25   \n",
       "\n",
       "                                   average_house_value  shelter_costs_owned  \\\n",
       "neighbourhood                                                                 \n",
       "Bridle Path-Sunnybrook-York Mills           1526485.75              2360.75   \n",
       "Forest Hill South                           1195992.50              1781.00   \n",
       "Lawrence Park South                         1094027.75              1954.00   \n",
       "Rosedale-Moore Park                         1093640.00              1909.75   \n",
       "St.Andrew-Windfields                         999107.00              1880.25   \n",
       "Casa Loma                                    981064.25              1873.75   \n",
       "Bedford Park-Nortown                         930415.25              1786.75   \n",
       "Forest Hill North                            851680.50              1722.75   \n",
       "Kingsway South                               843234.25              1736.75   \n",
       "Yonge-St.Clair                               813220.25              1680.75   \n",
       "\n",
       "                                   shelter_costs_rented  \n",
       "neighbourhood                                            \n",
       "Bridle Path-Sunnybrook-York Mills               2321.75  \n",
       "Forest Hill South                               1313.75  \n",
       "Lawrence Park South                             1372.75  \n",
       "Rosedale-Moore Park                             1537.25  \n",
       "St.Andrew-Windfields                            1384.50  \n",
       "Casa Loma                                       1547.75  \n",
       "Bedford Park-Nortown                            1255.00  \n",
       "Forest Hill North                               1245.50  \n",
       "Kingsway South                                  1622.00  \n",
       "Yonge-St.Clair                                  1369.00  "
      ]
     },
     "execution_count": 52,
     "metadata": {},
     "output_type": "execute_result"
    }
   ],
   "source": [
    "# Getting the data from the top 10 expensive neighbourhoods\n",
    "# YOUR CODE HERE!\n",
    "dwelling_types.sort_values(by='neighbourhood')\n",
    "dwelling_types.reset_index(drop=True)\n",
    "expensive_dwellings = dwelling_types.groupby(['neighbourhood']).mean().sort_values(by='average_house_value', ascending=False).head(10)\n",
    "expensive_dwellings.head(10)\n"
   ]
  },
  {
   "cell_type": "code",
   "execution_count": 37,
   "metadata": {},
   "outputs": [
    {
     "data": {
      "text/html": [
       "<div>\n",
       "<style scoped>\n",
       "    .dataframe tbody tr th:only-of-type {\n",
       "        vertical-align: middle;\n",
       "    }\n",
       "\n",
       "    .dataframe tbody tr th {\n",
       "        vertical-align: top;\n",
       "    }\n",
       "\n",
       "    .dataframe thead th {\n",
       "        text-align: right;\n",
       "    }\n",
       "</style>\n",
       "<table border=\"1\" class=\"dataframe\">\n",
       "  <thead>\n",
       "    <tr style=\"text-align: right;\">\n",
       "      <th></th>\n",
       "      <th>neighbourhood</th>\n",
       "      <th>single_detached_house</th>\n",
       "      <th>apartment_five_storeys_plus</th>\n",
       "      <th>movable_dwelling</th>\n",
       "      <th>semi_detached_house</th>\n",
       "      <th>row_house</th>\n",
       "      <th>duplex</th>\n",
       "      <th>apartment_five_storeys_less</th>\n",
       "      <th>other_house</th>\n",
       "      <th>average_house_value</th>\n",
       "      <th>shelter_costs_owned</th>\n",
       "      <th>shelter_costs_rented</th>\n",
       "    </tr>\n",
       "  </thead>\n",
       "  <tbody>\n",
       "    <tr>\n",
       "      <th>0</th>\n",
       "      <td>Bridle Path-Sunnybrook-York Mills</td>\n",
       "      <td>2260.00</td>\n",
       "      <td>331.25</td>\n",
       "      <td>0.00</td>\n",
       "      <td>36.25</td>\n",
       "      <td>90.00</td>\n",
       "      <td>25.0</td>\n",
       "      <td>40.00</td>\n",
       "      <td>0.00</td>\n",
       "      <td>1526485.75</td>\n",
       "      <td>2360.75</td>\n",
       "      <td>2321.75</td>\n",
       "    </tr>\n",
       "    <tr>\n",
       "      <th>1</th>\n",
       "      <td>Forest Hill South</td>\n",
       "      <td>1742.50</td>\n",
       "      <td>2031.25</td>\n",
       "      <td>1.25</td>\n",
       "      <td>61.25</td>\n",
       "      <td>45.00</td>\n",
       "      <td>75.0</td>\n",
       "      <td>1027.50</td>\n",
       "      <td>3.75</td>\n",
       "      <td>1195992.50</td>\n",
       "      <td>1781.00</td>\n",
       "      <td>1313.75</td>\n",
       "    </tr>\n",
       "    <tr>\n",
       "      <th>2</th>\n",
       "      <td>Lawrence Park South</td>\n",
       "      <td>3472.50</td>\n",
       "      <td>773.75</td>\n",
       "      <td>0.00</td>\n",
       "      <td>126.25</td>\n",
       "      <td>38.75</td>\n",
       "      <td>225.0</td>\n",
       "      <td>966.25</td>\n",
       "      <td>16.25</td>\n",
       "      <td>1094027.75</td>\n",
       "      <td>1954.00</td>\n",
       "      <td>1372.75</td>\n",
       "    </tr>\n",
       "    <tr>\n",
       "      <th>3</th>\n",
       "      <td>Rosedale-Moore Park</td>\n",
       "      <td>2498.75</td>\n",
       "      <td>4641.25</td>\n",
       "      <td>0.00</td>\n",
       "      <td>486.25</td>\n",
       "      <td>245.00</td>\n",
       "      <td>327.5</td>\n",
       "      <td>1618.75</td>\n",
       "      <td>2.50</td>\n",
       "      <td>1093640.00</td>\n",
       "      <td>1909.75</td>\n",
       "      <td>1537.25</td>\n",
       "    </tr>\n",
       "    <tr>\n",
       "      <th>4</th>\n",
       "      <td>St.Andrew-Windfields</td>\n",
       "      <td>3225.00</td>\n",
       "      <td>1670.00</td>\n",
       "      <td>0.00</td>\n",
       "      <td>185.00</td>\n",
       "      <td>552.50</td>\n",
       "      <td>97.5</td>\n",
       "      <td>586.25</td>\n",
       "      <td>5.00</td>\n",
       "      <td>999107.00</td>\n",
       "      <td>1880.25</td>\n",
       "      <td>1384.50</td>\n",
       "    </tr>\n",
       "    <tr>\n",
       "      <th>5</th>\n",
       "      <td>Casa Loma</td>\n",
       "      <td>916.25</td>\n",
       "      <td>2310.00</td>\n",
       "      <td>0.00</td>\n",
       "      <td>288.75</td>\n",
       "      <td>201.25</td>\n",
       "      <td>162.5</td>\n",
       "      <td>1192.50</td>\n",
       "      <td>2.50</td>\n",
       "      <td>981064.25</td>\n",
       "      <td>1873.75</td>\n",
       "      <td>1547.75</td>\n",
       "    </tr>\n",
       "    <tr>\n",
       "      <th>6</th>\n",
       "      <td>Bedford Park-Nortown</td>\n",
       "      <td>4865.00</td>\n",
       "      <td>1981.25</td>\n",
       "      <td>0.00</td>\n",
       "      <td>43.75</td>\n",
       "      <td>57.50</td>\n",
       "      <td>287.5</td>\n",
       "      <td>1275.00</td>\n",
       "      <td>88.75</td>\n",
       "      <td>930415.25</td>\n",
       "      <td>1786.75</td>\n",
       "      <td>1255.00</td>\n",
       "    </tr>\n",
       "    <tr>\n",
       "      <th>7</th>\n",
       "      <td>Forest Hill North</td>\n",
       "      <td>1488.75</td>\n",
       "      <td>3392.50</td>\n",
       "      <td>0.00</td>\n",
       "      <td>12.50</td>\n",
       "      <td>16.25</td>\n",
       "      <td>82.5</td>\n",
       "      <td>402.50</td>\n",
       "      <td>1.25</td>\n",
       "      <td>851680.50</td>\n",
       "      <td>1722.75</td>\n",
       "      <td>1245.50</td>\n",
       "    </tr>\n",
       "    <tr>\n",
       "      <th>8</th>\n",
       "      <td>Kingsway South</td>\n",
       "      <td>2326.25</td>\n",
       "      <td>576.25</td>\n",
       "      <td>0.00</td>\n",
       "      <td>66.25</td>\n",
       "      <td>48.75</td>\n",
       "      <td>20.0</td>\n",
       "      <td>336.25</td>\n",
       "      <td>2.50</td>\n",
       "      <td>843234.25</td>\n",
       "      <td>1736.75</td>\n",
       "      <td>1622.00</td>\n",
       "    </tr>\n",
       "    <tr>\n",
       "      <th>9</th>\n",
       "      <td>Yonge-St.Clair</td>\n",
       "      <td>565.00</td>\n",
       "      <td>3948.75</td>\n",
       "      <td>0.00</td>\n",
       "      <td>425.00</td>\n",
       "      <td>212.50</td>\n",
       "      <td>172.5</td>\n",
       "      <td>1308.75</td>\n",
       "      <td>6.25</td>\n",
       "      <td>813220.25</td>\n",
       "      <td>1680.75</td>\n",
       "      <td>1369.00</td>\n",
       "    </tr>\n",
       "  </tbody>\n",
       "</table>\n",
       "</div>"
      ],
      "text/plain": [
       "                       neighbourhood  single_detached_house  \\\n",
       "0  Bridle Path-Sunnybrook-York Mills                2260.00   \n",
       "1                  Forest Hill South                1742.50   \n",
       "2                Lawrence Park South                3472.50   \n",
       "3                Rosedale-Moore Park                2498.75   \n",
       "4               St.Andrew-Windfields                3225.00   \n",
       "5                          Casa Loma                 916.25   \n",
       "6               Bedford Park-Nortown                4865.00   \n",
       "7                  Forest Hill North                1488.75   \n",
       "8                     Kingsway South                2326.25   \n",
       "9                     Yonge-St.Clair                 565.00   \n",
       "\n",
       "   apartment_five_storeys_plus  movable_dwelling  semi_detached_house  \\\n",
       "0                       331.25              0.00                36.25   \n",
       "1                      2031.25              1.25                61.25   \n",
       "2                       773.75              0.00               126.25   \n",
       "3                      4641.25              0.00               486.25   \n",
       "4                      1670.00              0.00               185.00   \n",
       "5                      2310.00              0.00               288.75   \n",
       "6                      1981.25              0.00                43.75   \n",
       "7                      3392.50              0.00                12.50   \n",
       "8                       576.25              0.00                66.25   \n",
       "9                      3948.75              0.00               425.00   \n",
       "\n",
       "   row_house  duplex  apartment_five_storeys_less  other_house  \\\n",
       "0      90.00    25.0                        40.00         0.00   \n",
       "1      45.00    75.0                      1027.50         3.75   \n",
       "2      38.75   225.0                       966.25        16.25   \n",
       "3     245.00   327.5                      1618.75         2.50   \n",
       "4     552.50    97.5                       586.25         5.00   \n",
       "5     201.25   162.5                      1192.50         2.50   \n",
       "6      57.50   287.5                      1275.00        88.75   \n",
       "7      16.25    82.5                       402.50         1.25   \n",
       "8      48.75    20.0                       336.25         2.50   \n",
       "9     212.50   172.5                      1308.75         6.25   \n",
       "\n",
       "   average_house_value  shelter_costs_owned  shelter_costs_rented  \n",
       "0           1526485.75              2360.75               2321.75  \n",
       "1           1195992.50              1781.00               1313.75  \n",
       "2           1094027.75              1954.00               1372.75  \n",
       "3           1093640.00              1909.75               1537.25  \n",
       "4            999107.00              1880.25               1384.50  \n",
       "5            981064.25              1873.75               1547.75  \n",
       "6            930415.25              1786.75               1255.00  \n",
       "7            851680.50              1722.75               1245.50  \n",
       "8            843234.25              1736.75               1622.00  \n",
       "9            813220.25              1680.75               1369.00  "
      ]
     },
     "execution_count": 37,
     "metadata": {},
     "output_type": "execute_result"
    }
   ],
   "source": [
    "expensive_dwellings.reset_index()"
   ]
  },
  {
   "cell_type": "code",
   "execution_count": 53,
   "metadata": {},
   "outputs": [
    {
     "data": {},
     "metadata": {},
     "output_type": "display_data"
    },
    {
     "data": {
      "application/vnd.holoviews_exec.v0+json": "",
      "text/html": [
       "<div id='2764'>\n",
       "\n",
       "\n",
       "\n",
       "\n",
       "\n",
       "  <div class=\"bk-root\" id=\"ede61b15-df9d-494b-992e-8986c08e39b3\" data-root-id=\"2764\"></div>\n",
       "</div>\n",
       "<script type=\"application/javascript\">(function(root) {\n",
       "  function embed_document(root) {\n",
       "    var docs_json = {\"dbb96dba-9587-4241-afb9-b0b1c7c685ea\":{\"defs\":[],\"roots\":{\"references\":[{\"attributes\":{},\"id\":\"2825\",\"type\":\"UnionRenderers\"},{\"attributes\":{\"margin\":[5,5,5,5],\"name\":\"HSpacer05553\",\"sizing_mode\":\"stretch_width\"},\"id\":\"2765\",\"type\":\"Spacer\"},{\"attributes\":{},\"id\":\"2814\",\"type\":\"AllLabels\"},{\"attributes\":{\"bottom_units\":\"screen\",\"fill_alpha\":0.5,\"fill_color\":\"lightgrey\",\"left_units\":\"screen\",\"level\":\"overlay\",\"line_alpha\":1.0,\"line_color\":\"black\",\"line_dash\":[4,4],\"line_width\":2,\"right_units\":\"screen\",\"syncable\":false,\"top_units\":\"screen\"},\"id\":\"2790\",\"type\":\"BoxAnnotation\"},{\"attributes\":{\"active_multi\":null,\"tools\":[{\"id\":\"2768\"},{\"id\":\"2785\"},{\"id\":\"2786\"},{\"id\":\"2787\"},{\"id\":\"2788\"},{\"id\":\"2789\"}]},\"id\":\"2791\",\"type\":\"Toolbar\"},{\"attributes\":{},\"id\":\"2800\",\"type\":\"Selection\"},{\"attributes\":{\"text\":\"The Top 10 Expensive Neighbourhoods\",\"text_color\":\"black\",\"text_font_size\":\"12pt\"},\"id\":\"2770\",\"type\":\"Title\"},{\"attributes\":{},\"id\":\"2774\",\"type\":\"CategoricalScale\"},{\"attributes\":{\"factors\":[\"single_detached_house\",\"apartment_five_storeys_plus\",\"movable_dwelling\",\"semi_detached_house\",\"row_house\",\"duplex\",\"apartment_five_storeys_less\",\"other_house\",\"average_house_value\",\"shelter_costs_owned\",\"shelter_costs_rented\"],\"palette\":[\"#30a2da\",\"#fc4f30\",\"#e5ae38\",\"#6d904f\",\"#8b8b8b\",\"#17becf\",\"#9467bd\",\"#d62728\",\"#1f77b4\",\"#e377c2\",\"#8c564b\"]},\"id\":\"2798\",\"type\":\"CategoricalColorMapper\"},{\"attributes\":{\"below\":[{\"id\":\"2778\"}],\"center\":[{\"id\":\"2780\"},{\"id\":\"2784\"}],\"height\":800,\"left\":[{\"id\":\"2781\"}],\"margin\":[5,5,5,5],\"min_border_bottom\":10,\"min_border_left\":10,\"min_border_right\":10,\"min_border_top\":10,\"renderers\":[{\"id\":\"2805\"}],\"sizing_mode\":\"fixed\",\"title\":{\"id\":\"2770\"},\"toolbar\":{\"id\":\"2791\"},\"width\":1500,\"x_range\":{\"id\":\"2766\"},\"x_scale\":{\"id\":\"2774\"},\"y_range\":{\"id\":\"2767\"},\"y_scale\":{\"id\":\"2776\"}},\"id\":\"2769\",\"subtype\":\"Figure\",\"type\":\"Plot\"},{\"attributes\":{\"margin\":[5,5,5,5],\"name\":\"HSpacer05554\",\"sizing_mode\":\"stretch_width\"},\"id\":\"2835\",\"type\":\"Spacer\"},{\"attributes\":{},\"id\":\"2785\",\"type\":\"SaveTool\"},{\"attributes\":{\"fill_alpha\":{\"value\":0.1},\"fill_color\":{\"field\":\"Variable\",\"transform\":{\"id\":\"2798\"}},\"line_alpha\":{\"value\":0.1},\"top\":{\"field\":\"value\"},\"width\":{\"value\":0.8},\"x\":{\"field\":\"xoffsets\"}},\"id\":\"2803\",\"type\":\"VBar\"},{\"attributes\":{},\"id\":\"2786\",\"type\":\"PanTool\"},{\"attributes\":{},\"id\":\"2789\",\"type\":\"ResetTool\"},{\"attributes\":{},\"id\":\"2787\",\"type\":\"WheelZoomTool\"},{\"attributes\":{\"bottom\":{\"value\":0},\"fill_alpha\":{\"value\":1.0},\"fill_color\":{\"field\":\"Variable\",\"transform\":{\"id\":\"2798\"}},\"hatch_alpha\":{\"value\":1.0},\"hatch_color\":{\"value\":\"black\"},\"hatch_scale\":{\"value\":12.0},\"hatch_weight\":{\"value\":1.0},\"line_alpha\":{\"value\":1.0},\"line_cap\":{\"value\":\"butt\"},\"line_color\":{\"value\":\"black\"},\"line_dash\":{\"value\":[]},\"line_dash_offset\":{\"value\":0},\"line_join\":{\"value\":\"bevel\"},\"line_width\":{\"value\":1},\"top\":{\"field\":\"value\"},\"width\":{\"value\":0.8},\"x\":{\"field\":\"xoffsets\"}},\"id\":\"2807\",\"type\":\"VBar\"},{\"attributes\":{\"overlay\":{\"id\":\"2790\"}},\"id\":\"2788\",\"type\":\"BoxZoomTool\"},{\"attributes\":{\"axis_label\":\"Year\",\"formatter\":{\"id\":\"2809\"},\"major_label_orientation\":1.5707963267948966,\"major_label_policy\":{\"id\":\"2811\"},\"ticker\":{\"id\":\"2779\"}},\"id\":\"2778\",\"type\":\"CategoricalAxis\"},{\"attributes\":{\"data\":{\"Variable\":[\"single_detached_house\",\"single_detached_house\",\"single_detached_house\",\"single_detached_house\",\"single_detached_house\",\"single_detached_house\",\"single_detached_house\",\"single_detached_house\",\"single_detached_house\",\"single_detached_house\",\"apartment_five_storeys_plus\",\"apartment_five_storeys_plus\",\"apartment_five_storeys_plus\",\"apartment_five_storeys_plus\",\"apartment_five_storeys_plus\",\"apartment_five_storeys_plus\",\"apartment_five_storeys_plus\",\"apartment_five_storeys_plus\",\"apartment_five_storeys_plus\",\"apartment_five_storeys_plus\",\"movable_dwelling\",\"movable_dwelling\",\"movable_dwelling\",\"movable_dwelling\",\"movable_dwelling\",\"movable_dwelling\",\"movable_dwelling\",\"movable_dwelling\",\"movable_dwelling\",\"movable_dwelling\",\"semi_detached_house\",\"semi_detached_house\",\"semi_detached_house\",\"semi_detached_house\",\"semi_detached_house\",\"semi_detached_house\",\"semi_detached_house\",\"semi_detached_house\",\"semi_detached_house\",\"semi_detached_house\",\"row_house\",\"row_house\",\"row_house\",\"row_house\",\"row_house\",\"row_house\",\"row_house\",\"row_house\",\"row_house\",\"row_house\",\"duplex\",\"duplex\",\"duplex\",\"duplex\",\"duplex\",\"duplex\",\"duplex\",\"duplex\",\"duplex\",\"duplex\",\"apartment_five_storeys_less\",\"apartment_five_storeys_less\",\"apartment_five_storeys_less\",\"apartment_five_storeys_less\",\"apartment_five_storeys_less\",\"apartment_five_storeys_less\",\"apartment_five_storeys_less\",\"apartment_five_storeys_less\",\"apartment_five_storeys_less\",\"apartment_five_storeys_less\",\"other_house\",\"other_house\",\"other_house\",\"other_house\",\"other_house\",\"other_house\",\"other_house\",\"other_house\",\"other_house\",\"other_house\",\"average_house_value\",\"average_house_value\",\"average_house_value\",\"average_house_value\",\"average_house_value\",\"average_house_value\",\"average_house_value\",\"average_house_value\",\"average_house_value\",\"average_house_value\",\"shelter_costs_owned\",\"shelter_costs_owned\",\"shelter_costs_owned\",\"shelter_costs_owned\",\"shelter_costs_owned\",\"shelter_costs_owned\",\"shelter_costs_owned\",\"shelter_costs_owned\",\"shelter_costs_owned\",\"shelter_costs_owned\",\"shelter_costs_rented\",\"shelter_costs_rented\",\"shelter_costs_rented\",\"shelter_costs_rented\",\"shelter_costs_rented\",\"shelter_costs_rented\",\"shelter_costs_rented\",\"shelter_costs_rented\",\"shelter_costs_rented\",\"shelter_costs_rented\"],\"neighbourhood\":[\"Bridle Path-Sunnybrook-York Mills\",\"Forest Hill South\",\"Lawrence Park South\",\"Rosedale-Moore Park\",\"St.Andrew-Windfields\",\"Casa Loma\",\"Bedford Park-Nortown\",\"Forest Hill North\",\"Kingsway South\",\"Yonge-St.Clair\",\"Bridle Path-Sunnybrook-York Mills\",\"Forest Hill South\",\"Lawrence Park South\",\"Rosedale-Moore Park\",\"St.Andrew-Windfields\",\"Casa Loma\",\"Bedford Park-Nortown\",\"Forest Hill North\",\"Kingsway South\",\"Yonge-St.Clair\",\"Bridle Path-Sunnybrook-York Mills\",\"Forest Hill South\",\"Lawrence Park South\",\"Rosedale-Moore Park\",\"St.Andrew-Windfields\",\"Casa Loma\",\"Bedford Park-Nortown\",\"Forest Hill North\",\"Kingsway South\",\"Yonge-St.Clair\",\"Bridle Path-Sunnybrook-York Mills\",\"Forest Hill South\",\"Lawrence Park South\",\"Rosedale-Moore Park\",\"St.Andrew-Windfields\",\"Casa Loma\",\"Bedford Park-Nortown\",\"Forest Hill North\",\"Kingsway South\",\"Yonge-St.Clair\",\"Bridle Path-Sunnybrook-York Mills\",\"Forest Hill South\",\"Lawrence Park South\",\"Rosedale-Moore Park\",\"St.Andrew-Windfields\",\"Casa Loma\",\"Bedford Park-Nortown\",\"Forest Hill North\",\"Kingsway South\",\"Yonge-St.Clair\",\"Bridle Path-Sunnybrook-York Mills\",\"Forest Hill South\",\"Lawrence Park South\",\"Rosedale-Moore Park\",\"St.Andrew-Windfields\",\"Casa Loma\",\"Bedford Park-Nortown\",\"Forest Hill North\",\"Kingsway South\",\"Yonge-St.Clair\",\"Bridle Path-Sunnybrook-York Mills\",\"Forest Hill South\",\"Lawrence Park South\",\"Rosedale-Moore Park\",\"St.Andrew-Windfields\",\"Casa Loma\",\"Bedford Park-Nortown\",\"Forest Hill North\",\"Kingsway South\",\"Yonge-St.Clair\",\"Bridle Path-Sunnybrook-York Mills\",\"Forest Hill South\",\"Lawrence Park South\",\"Rosedale-Moore Park\",\"St.Andrew-Windfields\",\"Casa Loma\",\"Bedford Park-Nortown\",\"Forest Hill North\",\"Kingsway South\",\"Yonge-St.Clair\",\"Bridle Path-Sunnybrook-York Mills\",\"Forest Hill South\",\"Lawrence Park South\",\"Rosedale-Moore Park\",\"St.Andrew-Windfields\",\"Casa Loma\",\"Bedford Park-Nortown\",\"Forest Hill North\",\"Kingsway South\",\"Yonge-St.Clair\",\"Bridle Path-Sunnybrook-York Mills\",\"Forest Hill South\",\"Lawrence Park South\",\"Rosedale-Moore Park\",\"St.Andrew-Windfields\",\"Casa Loma\",\"Bedford Park-Nortown\",\"Forest Hill North\",\"Kingsway South\",\"Yonge-St.Clair\",\"Bridle Path-Sunnybrook-York Mills\",\"Forest Hill South\",\"Lawrence Park South\",\"Rosedale-Moore Park\",\"St.Andrew-Windfields\",\"Casa Loma\",\"Bedford Park-Nortown\",\"Forest Hill North\",\"Kingsway South\",\"Yonge-St.Clair\"],\"value\":{\"__ndarray__\":\"AAAAAACooUAAAAAAADqbQAAAAAAAIatAAAAAAICFo0AAAAAAADKpQAAAAAAAooxAAAAAAAABs0AAAAAAAEOXQAAAAACALKJAAAAAAACogUAAAAAAALR0QAAAAAAAvZ9AAAAAAAAuiEAAAAAAQCGyQAAAAAAAGJpAAAAAAAAMokAAAAAAAPWeQAAAAAAAgapAAAAAAAACgkAAAAAAgNmuQAAAAAAAAAAAAAAAAAAA9D8AAAAAAAAAAAAAAAAAAAAAAAAAAAAAAAAAAAAAAAAAAAAAAAAAAAAAAAAAAAAAAAAAAAAAAAAAAAAAAAAAAAAAAAAAAAAgQkAAAAAAAKBOQAAAAAAAkF9AAAAAAABkfkAAAAAAACBnQAAAAAAADHJAAAAAAADgRUAAAAAAAAApQAAAAAAAkFBAAAAAAACQekAAAAAAAIBWQAAAAAAAgEZAAAAAAABgQ0AAAAAAAKBuQAAAAAAARIFAAAAAAAAoaUAAAAAAAMBMQAAAAAAAQDBAAAAAAABgSEAAAAAAAJBqQAAAAAAAADlAAAAAAADAUkAAAAAAACBsQAAAAAAAeHRAAAAAAABgWEAAAAAAAFBkQAAAAAAA+HFAAAAAAACgVEAAAAAAAAA0QAAAAAAAkGVAAAAAAAAAREAAAAAAAA6QQAAAAAAAMo5AAAAAAABLmUAAAAAAAFKCQAAAAAAAopJAAAAAAADsk0AAAAAAACh5QAAAAAAABHVAAAAAAABzlEAAAAAAAAAAAAAAAAAAAA5AAAAAAABAMEAAAAAAAAAEQAAAAAAAABRAAAAAAAAABEAAAAAAADBWQAAAAAAAAPQ/AAAAAAAABEAAAAAAAAAZQAAAAMDVSjdBAAAAgNg/MkEAAADAi7EwQQAAAAAIsDBBAAAAAIZ9LkEAAACAkPAtQQAAAIDeZCxBAAAAAMH9KUEAAACAxLspQQAAAIBI0ShBAAAAAIBxokAAAAAAANSbQAAAAAAAiJ5AAAAAAADXnUAAAAAAAGGdQAAAAAAAR51AAAAAAADrm0AAAAAAAOuaQAAAAAAAI5tAAAAAAABDmkAAAAAAgCOiQAAAAAAAh5RAAAAAAABzlUAAAAAAAAWYQAAAAAAAopVAAAAAAAAvmEAAAAAAAJyTQAAAAAAAdpNAAAAAAABYmUAAAAAAAGSVQA==\",\"dtype\":\"float64\",\"order\":\"little\",\"shape\":[110]},\"xoffsets\":[[\"Bridle Path-Sunnybrook-York Mills\",\"single_detached_house\"],[\"Forest Hill South\",\"single_detached_house\"],[\"Lawrence Park South\",\"single_detached_house\"],[\"Rosedale-Moore Park\",\"single_detached_house\"],[\"St.Andrew-Windfields\",\"single_detached_house\"],[\"Casa Loma\",\"single_detached_house\"],[\"Bedford Park-Nortown\",\"single_detached_house\"],[\"Forest Hill North\",\"single_detached_house\"],[\"Kingsway South\",\"single_detached_house\"],[\"Yonge-St.Clair\",\"single_detached_house\"],[\"Bridle Path-Sunnybrook-York Mills\",\"apartment_five_storeys_plus\"],[\"Forest Hill South\",\"apartment_five_storeys_plus\"],[\"Lawrence Park South\",\"apartment_five_storeys_plus\"],[\"Rosedale-Moore Park\",\"apartment_five_storeys_plus\"],[\"St.Andrew-Windfields\",\"apartment_five_storeys_plus\"],[\"Casa Loma\",\"apartment_five_storeys_plus\"],[\"Bedford Park-Nortown\",\"apartment_five_storeys_plus\"],[\"Forest Hill North\",\"apartment_five_storeys_plus\"],[\"Kingsway South\",\"apartment_five_storeys_plus\"],[\"Yonge-St.Clair\",\"apartment_five_storeys_plus\"],[\"Bridle Path-Sunnybrook-York Mills\",\"movable_dwelling\"],[\"Forest Hill South\",\"movable_dwelling\"],[\"Lawrence Park South\",\"movable_dwelling\"],[\"Rosedale-Moore Park\",\"movable_dwelling\"],[\"St.Andrew-Windfields\",\"movable_dwelling\"],[\"Casa Loma\",\"movable_dwelling\"],[\"Bedford Park-Nortown\",\"movable_dwelling\"],[\"Forest Hill North\",\"movable_dwelling\"],[\"Kingsway South\",\"movable_dwelling\"],[\"Yonge-St.Clair\",\"movable_dwelling\"],[\"Bridle Path-Sunnybrook-York Mills\",\"semi_detached_house\"],[\"Forest Hill South\",\"semi_detached_house\"],[\"Lawrence Park South\",\"semi_detached_house\"],[\"Rosedale-Moore Park\",\"semi_detached_house\"],[\"St.Andrew-Windfields\",\"semi_detached_house\"],[\"Casa Loma\",\"semi_detached_house\"],[\"Bedford Park-Nortown\",\"semi_detached_house\"],[\"Forest Hill North\",\"semi_detached_house\"],[\"Kingsway South\",\"semi_detached_house\"],[\"Yonge-St.Clair\",\"semi_detached_house\"],[\"Bridle Path-Sunnybrook-York Mills\",\"row_house\"],[\"Forest Hill South\",\"row_house\"],[\"Lawrence Park South\",\"row_house\"],[\"Rosedale-Moore Park\",\"row_house\"],[\"St.Andrew-Windfields\",\"row_house\"],[\"Casa Loma\",\"row_house\"],[\"Bedford Park-Nortown\",\"row_house\"],[\"Forest Hill North\",\"row_house\"],[\"Kingsway South\",\"row_house\"],[\"Yonge-St.Clair\",\"row_house\"],[\"Bridle Path-Sunnybrook-York Mills\",\"duplex\"],[\"Forest Hill South\",\"duplex\"],[\"Lawrence Park South\",\"duplex\"],[\"Rosedale-Moore Park\",\"duplex\"],[\"St.Andrew-Windfields\",\"duplex\"],[\"Casa Loma\",\"duplex\"],[\"Bedford Park-Nortown\",\"duplex\"],[\"Forest Hill North\",\"duplex\"],[\"Kingsway South\",\"duplex\"],[\"Yonge-St.Clair\",\"duplex\"],[\"Bridle Path-Sunnybrook-York Mills\",\"apartment_five_storeys_less\"],[\"Forest Hill South\",\"apartment_five_storeys_less\"],[\"Lawrence Park South\",\"apartment_five_storeys_less\"],[\"Rosedale-Moore Park\",\"apartment_five_storeys_less\"],[\"St.Andrew-Windfields\",\"apartment_five_storeys_less\"],[\"Casa Loma\",\"apartment_five_storeys_less\"],[\"Bedford Park-Nortown\",\"apartment_five_storeys_less\"],[\"Forest Hill North\",\"apartment_five_storeys_less\"],[\"Kingsway South\",\"apartment_five_storeys_less\"],[\"Yonge-St.Clair\",\"apartment_five_storeys_less\"],[\"Bridle Path-Sunnybrook-York Mills\",\"other_house\"],[\"Forest Hill South\",\"other_house\"],[\"Lawrence Park South\",\"other_house\"],[\"Rosedale-Moore Park\",\"other_house\"],[\"St.Andrew-Windfields\",\"other_house\"],[\"Casa Loma\",\"other_house\"],[\"Bedford Park-Nortown\",\"other_house\"],[\"Forest Hill North\",\"other_house\"],[\"Kingsway South\",\"other_house\"],[\"Yonge-St.Clair\",\"other_house\"],[\"Bridle Path-Sunnybrook-York Mills\",\"average_house_value\"],[\"Forest Hill South\",\"average_house_value\"],[\"Lawrence Park South\",\"average_house_value\"],[\"Rosedale-Moore Park\",\"average_house_value\"],[\"St.Andrew-Windfields\",\"average_house_value\"],[\"Casa Loma\",\"average_house_value\"],[\"Bedford Park-Nortown\",\"average_house_value\"],[\"Forest Hill North\",\"average_house_value\"],[\"Kingsway South\",\"average_house_value\"],[\"Yonge-St.Clair\",\"average_house_value\"],[\"Bridle Path-Sunnybrook-York Mills\",\"shelter_costs_owned\"],[\"Forest Hill South\",\"shelter_costs_owned\"],[\"Lawrence Park South\",\"shelter_costs_owned\"],[\"Rosedale-Moore Park\",\"shelter_costs_owned\"],[\"St.Andrew-Windfields\",\"shelter_costs_owned\"],[\"Casa Loma\",\"shelter_costs_owned\"],[\"Bedford Park-Nortown\",\"shelter_costs_owned\"],[\"Forest Hill North\",\"shelter_costs_owned\"],[\"Kingsway South\",\"shelter_costs_owned\"],[\"Yonge-St.Clair\",\"shelter_costs_owned\"],[\"Bridle Path-Sunnybrook-York Mills\",\"shelter_costs_rented\"],[\"Forest Hill South\",\"shelter_costs_rented\"],[\"Lawrence Park South\",\"shelter_costs_rented\"],[\"Rosedale-Moore Park\",\"shelter_costs_rented\"],[\"St.Andrew-Windfields\",\"shelter_costs_rented\"],[\"Casa Loma\",\"shelter_costs_rented\"],[\"Bedford Park-Nortown\",\"shelter_costs_rented\"],[\"Forest Hill North\",\"shelter_costs_rented\"],[\"Kingsway South\",\"shelter_costs_rented\"],[\"Yonge-St.Clair\",\"shelter_costs_rented\"]]},\"selected\":{\"id\":\"2800\"},\"selection_policy\":{\"id\":\"2825\"}},\"id\":\"2799\",\"type\":\"ColumnDataSource\"},{\"attributes\":{\"axis\":{\"id\":\"2778\"},\"grid_line_color\":null,\"ticker\":null},\"id\":\"2780\",\"type\":\"Grid\"},{\"attributes\":{\"factors\":[[\"Bridle Path-Sunnybrook-York Mills\",\"shelter_costs_rented\"],[\"Bridle Path-Sunnybrook-York Mills\",\"shelter_costs_owned\"],[\"Bridle Path-Sunnybrook-York Mills\",\"average_house_value\"],[\"Bridle Path-Sunnybrook-York Mills\",\"other_house\"],[\"Bridle Path-Sunnybrook-York Mills\",\"apartment_five_storeys_less\"],[\"Bridle Path-Sunnybrook-York Mills\",\"duplex\"],[\"Bridle Path-Sunnybrook-York Mills\",\"row_house\"],[\"Bridle Path-Sunnybrook-York Mills\",\"semi_detached_house\"],[\"Bridle Path-Sunnybrook-York Mills\",\"movable_dwelling\"],[\"Bridle Path-Sunnybrook-York Mills\",\"apartment_five_storeys_plus\"],[\"Bridle Path-Sunnybrook-York Mills\",\"single_detached_house\"],[\"Forest Hill South\",\"shelter_costs_rented\"],[\"Forest Hill South\",\"shelter_costs_owned\"],[\"Forest Hill South\",\"average_house_value\"],[\"Forest Hill South\",\"other_house\"],[\"Forest Hill South\",\"apartment_five_storeys_less\"],[\"Forest Hill South\",\"duplex\"],[\"Forest Hill South\",\"row_house\"],[\"Forest Hill South\",\"semi_detached_house\"],[\"Forest Hill South\",\"movable_dwelling\"],[\"Forest Hill South\",\"apartment_five_storeys_plus\"],[\"Forest Hill South\",\"single_detached_house\"],[\"Lawrence Park South\",\"shelter_costs_rented\"],[\"Lawrence Park South\",\"shelter_costs_owned\"],[\"Lawrence Park South\",\"average_house_value\"],[\"Lawrence Park South\",\"other_house\"],[\"Lawrence Park South\",\"apartment_five_storeys_less\"],[\"Lawrence Park South\",\"duplex\"],[\"Lawrence Park South\",\"row_house\"],[\"Lawrence Park South\",\"semi_detached_house\"],[\"Lawrence Park South\",\"movable_dwelling\"],[\"Lawrence Park South\",\"apartment_five_storeys_plus\"],[\"Lawrence Park South\",\"single_detached_house\"],[\"Rosedale-Moore Park\",\"shelter_costs_rented\"],[\"Rosedale-Moore Park\",\"shelter_costs_owned\"],[\"Rosedale-Moore Park\",\"average_house_value\"],[\"Rosedale-Moore Park\",\"other_house\"],[\"Rosedale-Moore Park\",\"apartment_five_storeys_less\"],[\"Rosedale-Moore Park\",\"duplex\"],[\"Rosedale-Moore Park\",\"row_house\"],[\"Rosedale-Moore Park\",\"semi_detached_house\"],[\"Rosedale-Moore Park\",\"movable_dwelling\"],[\"Rosedale-Moore Park\",\"apartment_five_storeys_plus\"],[\"Rosedale-Moore Park\",\"single_detached_house\"],[\"St.Andrew-Windfields\",\"shelter_costs_rented\"],[\"St.Andrew-Windfields\",\"shelter_costs_owned\"],[\"St.Andrew-Windfields\",\"average_house_value\"],[\"St.Andrew-Windfields\",\"other_house\"],[\"St.Andrew-Windfields\",\"apartment_five_storeys_less\"],[\"St.Andrew-Windfields\",\"duplex\"],[\"St.Andrew-Windfields\",\"row_house\"],[\"St.Andrew-Windfields\",\"semi_detached_house\"],[\"St.Andrew-Windfields\",\"movable_dwelling\"],[\"St.Andrew-Windfields\",\"apartment_five_storeys_plus\"],[\"St.Andrew-Windfields\",\"single_detached_house\"],[\"Casa Loma\",\"shelter_costs_rented\"],[\"Casa Loma\",\"shelter_costs_owned\"],[\"Casa Loma\",\"average_house_value\"],[\"Casa Loma\",\"other_house\"],[\"Casa Loma\",\"apartment_five_storeys_less\"],[\"Casa Loma\",\"duplex\"],[\"Casa Loma\",\"row_house\"],[\"Casa Loma\",\"semi_detached_house\"],[\"Casa Loma\",\"movable_dwelling\"],[\"Casa Loma\",\"apartment_five_storeys_plus\"],[\"Casa Loma\",\"single_detached_house\"],[\"Bedford Park-Nortown\",\"shelter_costs_rented\"],[\"Bedford Park-Nortown\",\"shelter_costs_owned\"],[\"Bedford Park-Nortown\",\"average_house_value\"],[\"Bedford Park-Nortown\",\"other_house\"],[\"Bedford Park-Nortown\",\"apartment_five_storeys_less\"],[\"Bedford Park-Nortown\",\"duplex\"],[\"Bedford Park-Nortown\",\"row_house\"],[\"Bedford Park-Nortown\",\"semi_detached_house\"],[\"Bedford Park-Nortown\",\"movable_dwelling\"],[\"Bedford Park-Nortown\",\"apartment_five_storeys_plus\"],[\"Bedford Park-Nortown\",\"single_detached_house\"],[\"Forest Hill North\",\"shelter_costs_rented\"],[\"Forest Hill North\",\"shelter_costs_owned\"],[\"Forest Hill North\",\"average_house_value\"],[\"Forest Hill North\",\"other_house\"],[\"Forest Hill North\",\"apartment_five_storeys_less\"],[\"Forest Hill North\",\"duplex\"],[\"Forest Hill North\",\"row_house\"],[\"Forest Hill North\",\"semi_detached_house\"],[\"Forest Hill North\",\"movable_dwelling\"],[\"Forest Hill North\",\"apartment_five_storeys_plus\"],[\"Forest Hill North\",\"single_detached_house\"],[\"Kingsway South\",\"shelter_costs_rented\"],[\"Kingsway South\",\"shelter_costs_owned\"],[\"Kingsway South\",\"average_house_value\"],[\"Kingsway South\",\"other_house\"],[\"Kingsway South\",\"apartment_five_storeys_less\"],[\"Kingsway South\",\"duplex\"],[\"Kingsway South\",\"row_house\"],[\"Kingsway South\",\"semi_detached_house\"],[\"Kingsway South\",\"movable_dwelling\"],[\"Kingsway South\",\"apartment_five_storeys_plus\"],[\"Kingsway South\",\"single_detached_house\"],[\"Yonge-St.Clair\",\"shelter_costs_rented\"],[\"Yonge-St.Clair\",\"shelter_costs_owned\"],[\"Yonge-St.Clair\",\"average_house_value\"],[\"Yonge-St.Clair\",\"other_house\"],[\"Yonge-St.Clair\",\"apartment_five_storeys_less\"],[\"Yonge-St.Clair\",\"duplex\"],[\"Yonge-St.Clair\",\"row_house\"],[\"Yonge-St.Clair\",\"semi_detached_house\"],[\"Yonge-St.Clair\",\"movable_dwelling\"],[\"Yonge-St.Clair\",\"apartment_five_storeys_plus\"],[\"Yonge-St.Clair\",\"single_detached_house\"]],\"tags\":[[[\"neighbourhood\",\"neighbourhood\",null],[\"Variable\",\"Variable\",null]]]},\"id\":\"2766\",\"type\":\"FactorRange\"},{\"attributes\":{\"fill_alpha\":{\"value\":0.2},\"fill_color\":{\"field\":\"Variable\",\"transform\":{\"id\":\"2798\"}},\"line_alpha\":{\"value\":0.2},\"top\":{\"field\":\"value\"},\"width\":{\"value\":0.8},\"x\":{\"field\":\"xoffsets\"}},\"id\":\"2804\",\"type\":\"VBar\"},{\"attributes\":{\"data_source\":{\"id\":\"2799\"},\"glyph\":{\"id\":\"2802\"},\"hover_glyph\":null,\"muted_glyph\":{\"id\":\"2804\"},\"nonselection_glyph\":{\"id\":\"2803\"},\"selection_glyph\":{\"id\":\"2807\"},\"view\":{\"id\":\"2806\"}},\"id\":\"2805\",\"type\":\"GlyphRenderer\"},{\"attributes\":{\"format\":\"%.0f\"},\"id\":\"2808\",\"type\":\"PrintfTickFormatter\"},{\"attributes\":{},\"id\":\"2776\",\"type\":\"LinearScale\"},{\"attributes\":{},\"id\":\"2811\",\"type\":\"AllLabels\"},{\"attributes\":{\"callback\":null,\"renderers\":[{\"id\":\"2805\"}],\"tags\":[\"hv_created\"],\"tooltips\":[[\"neighbourhood\",\"@{neighbourhood}\"],[\"Variable\",\"@{Variable}\"],[\"value\",\"@{value}\"]]},\"id\":\"2768\",\"type\":\"HoverTool\"},{\"attributes\":{},\"id\":\"2779\",\"type\":\"CategoricalTicker\"},{\"attributes\":{\"axis\":{\"id\":\"2781\"},\"dimension\":1,\"grid_line_color\":null,\"ticker\":null},\"id\":\"2784\",\"type\":\"Grid\"},{\"attributes\":{\"source\":{\"id\":\"2799\"}},\"id\":\"2806\",\"type\":\"CDSView\"},{\"attributes\":{\"children\":[{\"id\":\"2765\"},{\"id\":\"2769\"},{\"id\":\"2835\"}],\"margin\":[0,0,0,0],\"name\":\"Row05549\",\"tags\":[\"embedded\"]},\"id\":\"2764\",\"type\":\"Row\"},{\"attributes\":{\"end\":1679134.325,\"reset_end\":1679134.325,\"reset_start\":0.0,\"tags\":[[[\"value\",\"value\",null]]]},\"id\":\"2767\",\"type\":\"Range1d\"},{\"attributes\":{},\"id\":\"2782\",\"type\":\"BasicTicker\"},{\"attributes\":{\"fill_color\":{\"field\":\"Variable\",\"transform\":{\"id\":\"2798\"}},\"top\":{\"field\":\"value\"},\"width\":{\"value\":0.8},\"x\":{\"field\":\"xoffsets\"}},\"id\":\"2802\",\"type\":\"VBar\"},{\"attributes\":{\"axis_label\":\" Top 10 Expensive Neighbourhoods \",\"formatter\":{\"id\":\"2808\"},\"major_label_policy\":{\"id\":\"2814\"},\"ticker\":{\"id\":\"2782\"}},\"id\":\"2781\",\"type\":\"LinearAxis\"},{\"attributes\":{},\"id\":\"2809\",\"type\":\"CategoricalTickFormatter\"}],\"root_ids\":[\"2764\"]},\"title\":\"Bokeh Application\",\"version\":\"2.3.2\"}};\n",
       "    var render_items = [{\"docid\":\"dbb96dba-9587-4241-afb9-b0b1c7c685ea\",\"root_ids\":[\"2764\"],\"roots\":{\"2764\":\"ede61b15-df9d-494b-992e-8986c08e39b3\"}}];\n",
       "    root.Bokeh.embed.embed_items_notebook(docs_json, render_items);\n",
       "  }\n",
       "  if (root.Bokeh !== undefined && root.Bokeh.Panel !== undefined && root['Plotly'] !== undefined ) {\n",
       "    embed_document(root);\n",
       "  } else {\n",
       "    var attempts = 0;\n",
       "    var timer = setInterval(function(root) {\n",
       "      if (root.Bokeh !== undefined && root.Bokeh.Panel !== undefined && root['Plotly'] !== undefined) {\n",
       "        clearInterval(timer);\n",
       "        embed_document(root);\n",
       "      } else if (document.readyState == \"complete\") {\n",
       "        attempts++;\n",
       "        if (attempts > 100) {\n",
       "          clearInterval(timer);\n",
       "          console.log(\"Bokeh: ERROR: Unable to run BokehJS code because BokehJS library is missing\");\n",
       "        }\n",
       "      }\n",
       "    }, 10, root)\n",
       "  }\n",
       "})(window);</script>"
      ],
      "text/plain": [
       ":Bars   [neighbourhood,Variable]   (value)"
      ]
     },
     "execution_count": 53,
     "metadata": {
      "application/vnd.holoviews_exec.v0+json": {
       "id": "2764"
      }
     },
     "output_type": "execute_result"
    }
   ],
   "source": [
    "# Plotting the data from the top 10 expensive neighbourhoods\n",
    "# YOUR CODE HERE!\n",
    "#df.nlargest(3, 'a')\n",
    "top10_expensive_neighbourhood = expensive_dwellings.nlargest(10, 'average_house_value')\n",
    "title = \" The Top 10 Expensive Neighbourhoods \"\n",
    "xlabel = \"Year\"\n",
    "ylabel = \" Top 10 Expensive Neighbourhoods \"\n",
    "\n",
    "\n",
    "top10_expensive_neighbourhood.hvplot(kind=\"bar\", title=title, xlabel = xlabel, ylabel = ylabel,yformatter=\"%.0f\",rot=90, width = 1500, height = 800)"
   ]
  },
  {
   "cell_type": "markdown",
   "metadata": {},
   "source": [
    "- - - "
   ]
  },
  {
   "cell_type": "markdown",
   "metadata": {},
   "source": [
    "## Neighbourhood Map\n",
    "\n",
    "In this section, you will read in neighbourhoods location data and build an interactive map with the average house value per neighbourhood. Use a `scatter_mapbox` from Plotly express to create the visualization. Remember, you will need your Mapbox API key for this."
   ]
  },
  {
   "cell_type": "markdown",
   "metadata": {},
   "source": [
    "### Load Location Data"
   ]
  },
  {
   "cell_type": "code",
   "execution_count": 54,
   "metadata": {},
   "outputs": [
    {
     "data": {
      "text/html": [
       "<div>\n",
       "<style scoped>\n",
       "    .dataframe tbody tr th:only-of-type {\n",
       "        vertical-align: middle;\n",
       "    }\n",
       "\n",
       "    .dataframe tbody tr th {\n",
       "        vertical-align: top;\n",
       "    }\n",
       "\n",
       "    .dataframe thead th {\n",
       "        text-align: right;\n",
       "    }\n",
       "</style>\n",
       "<table border=\"1\" class=\"dataframe\">\n",
       "  <thead>\n",
       "    <tr style=\"text-align: right;\">\n",
       "      <th></th>\n",
       "      <th>neighbourhood</th>\n",
       "      <th>lat</th>\n",
       "      <th>lon</th>\n",
       "    </tr>\n",
       "  </thead>\n",
       "  <tbody>\n",
       "    <tr>\n",
       "      <th>0</th>\n",
       "      <td>Agincourt North</td>\n",
       "      <td>43.805441</td>\n",
       "      <td>-79.266712</td>\n",
       "    </tr>\n",
       "    <tr>\n",
       "      <th>1</th>\n",
       "      <td>Agincourt South-Malvern West</td>\n",
       "      <td>43.788658</td>\n",
       "      <td>-79.265612</td>\n",
       "    </tr>\n",
       "    <tr>\n",
       "      <th>2</th>\n",
       "      <td>Alderwood</td>\n",
       "      <td>43.604937</td>\n",
       "      <td>-79.541611</td>\n",
       "    </tr>\n",
       "    <tr>\n",
       "      <th>3</th>\n",
       "      <td>Annex</td>\n",
       "      <td>43.671585</td>\n",
       "      <td>-79.404001</td>\n",
       "    </tr>\n",
       "    <tr>\n",
       "      <th>4</th>\n",
       "      <td>Banbury-Don Mills</td>\n",
       "      <td>43.737657</td>\n",
       "      <td>-79.349718</td>\n",
       "    </tr>\n",
       "  </tbody>\n",
       "</table>\n",
       "</div>"
      ],
      "text/plain": [
       "                  neighbourhood        lat        lon\n",
       "0               Agincourt North  43.805441 -79.266712\n",
       "1  Agincourt South-Malvern West  43.788658 -79.265612\n",
       "2                     Alderwood  43.604937 -79.541611\n",
       "3                         Annex  43.671585 -79.404001\n",
       "4             Banbury-Don Mills  43.737657 -79.349718"
      ]
     },
     "execution_count": 54,
     "metadata": {},
     "output_type": "execute_result"
    }
   ],
   "source": [
    "# Load neighbourhoods coordinates data\n",
    "file_path = Path(\"toronto_neighbourhoods_coordinates.csv\")\n",
    "df_neighbourhood_locations = pd.read_csv(file_path)\n",
    "df_neighbourhood_locations.head()"
   ]
  },
  {
   "cell_type": "markdown",
   "metadata": {},
   "source": [
    "### Data Preparation\n",
    "\n",
    "You will need to join the location data with the mean values per neighbourhood.\n",
    "\n",
    "1. Calculate the mean values for each neighbourhood.\n",
    "\n",
    "2. Join the average values with the neighbourhood locations."
   ]
  },
  {
   "cell_type": "code",
   "execution_count": 55,
   "metadata": {},
   "outputs": [
    {
     "data": {
      "text/html": [
       "<div>\n",
       "<style scoped>\n",
       "    .dataframe tbody tr th:only-of-type {\n",
       "        vertical-align: middle;\n",
       "    }\n",
       "\n",
       "    .dataframe tbody tr th {\n",
       "        vertical-align: top;\n",
       "    }\n",
       "\n",
       "    .dataframe thead th {\n",
       "        text-align: right;\n",
       "    }\n",
       "</style>\n",
       "<table border=\"1\" class=\"dataframe\">\n",
       "  <thead>\n",
       "    <tr style=\"text-align: right;\">\n",
       "      <th></th>\n",
       "      <th>neighbourhood</th>\n",
       "      <th>single_detached_house</th>\n",
       "      <th>apartment_five_storeys_plus</th>\n",
       "      <th>movable_dwelling</th>\n",
       "      <th>semi_detached_house</th>\n",
       "      <th>row_house</th>\n",
       "      <th>duplex</th>\n",
       "      <th>apartment_five_storeys_less</th>\n",
       "      <th>other_house</th>\n",
       "      <th>average_house_value</th>\n",
       "      <th>shelter_costs_owned</th>\n",
       "      <th>shelter_costs_rented</th>\n",
       "    </tr>\n",
       "  </thead>\n",
       "  <tbody>\n",
       "    <tr>\n",
       "      <th>0</th>\n",
       "      <td>Agincourt North</td>\n",
       "      <td>3435.00</td>\n",
       "      <td>1947.50</td>\n",
       "      <td>2.50</td>\n",
       "      <td>863.75</td>\n",
       "      <td>1406.25</td>\n",
       "      <td>512.50</td>\n",
       "      <td>547.50</td>\n",
       "      <td>10.00</td>\n",
       "      <td>329811.5</td>\n",
       "      <td>1109.00</td>\n",
       "      <td>983.50</td>\n",
       "    </tr>\n",
       "    <tr>\n",
       "      <th>1</th>\n",
       "      <td>Agincourt South-Malvern West</td>\n",
       "      <td>2897.50</td>\n",
       "      <td>2180.00</td>\n",
       "      <td>1.25</td>\n",
       "      <td>375.00</td>\n",
       "      <td>456.25</td>\n",
       "      <td>523.75</td>\n",
       "      <td>628.75</td>\n",
       "      <td>32.50</td>\n",
       "      <td>334189.0</td>\n",
       "      <td>1131.25</td>\n",
       "      <td>985.00</td>\n",
       "    </tr>\n",
       "    <tr>\n",
       "      <th>2</th>\n",
       "      <td>Alderwood</td>\n",
       "      <td>2903.75</td>\n",
       "      <td>302.50</td>\n",
       "      <td>1.25</td>\n",
       "      <td>503.75</td>\n",
       "      <td>76.25</td>\n",
       "      <td>302.50</td>\n",
       "      <td>502.50</td>\n",
       "      <td>1.25</td>\n",
       "      <td>427922.5</td>\n",
       "      <td>1166.75</td>\n",
       "      <td>1003.25</td>\n",
       "    </tr>\n",
       "    <tr>\n",
       "      <th>3</th>\n",
       "      <td>Annex</td>\n",
       "      <td>751.25</td>\n",
       "      <td>7235.00</td>\n",
       "      <td>1.25</td>\n",
       "      <td>1375.00</td>\n",
       "      <td>613.75</td>\n",
       "      <td>355.00</td>\n",
       "      <td>4605.00</td>\n",
       "      <td>83.75</td>\n",
       "      <td>746977.0</td>\n",
       "      <td>1692.75</td>\n",
       "      <td>1315.25</td>\n",
       "    </tr>\n",
       "    <tr>\n",
       "      <th>4</th>\n",
       "      <td>Banbury-Don Mills</td>\n",
       "      <td>3572.50</td>\n",
       "      <td>5388.75</td>\n",
       "      <td>1.25</td>\n",
       "      <td>273.75</td>\n",
       "      <td>626.25</td>\n",
       "      <td>32.50</td>\n",
       "      <td>1340.00</td>\n",
       "      <td>0.00</td>\n",
       "      <td>612039.0</td>\n",
       "      <td>1463.50</td>\n",
       "      <td>1242.75</td>\n",
       "    </tr>\n",
       "  </tbody>\n",
       "</table>\n",
       "</div>"
      ],
      "text/plain": [
       "                  neighbourhood  single_detached_house  \\\n",
       "0               Agincourt North                3435.00   \n",
       "1  Agincourt South-Malvern West                2897.50   \n",
       "2                     Alderwood                2903.75   \n",
       "3                         Annex                 751.25   \n",
       "4             Banbury-Don Mills                3572.50   \n",
       "\n",
       "   apartment_five_storeys_plus  movable_dwelling  semi_detached_house  \\\n",
       "0                      1947.50              2.50               863.75   \n",
       "1                      2180.00              1.25               375.00   \n",
       "2                       302.50              1.25               503.75   \n",
       "3                      7235.00              1.25              1375.00   \n",
       "4                      5388.75              1.25               273.75   \n",
       "\n",
       "   row_house  duplex  apartment_five_storeys_less  other_house  \\\n",
       "0    1406.25  512.50                       547.50        10.00   \n",
       "1     456.25  523.75                       628.75        32.50   \n",
       "2      76.25  302.50                       502.50         1.25   \n",
       "3     613.75  355.00                      4605.00        83.75   \n",
       "4     626.25   32.50                      1340.00         0.00   \n",
       "\n",
       "   average_house_value  shelter_costs_owned  shelter_costs_rented  \n",
       "0             329811.5              1109.00                983.50  \n",
       "1             334189.0              1131.25                985.00  \n",
       "2             427922.5              1166.75               1003.25  \n",
       "3             746977.0              1692.75               1315.25  \n",
       "4             612039.0              1463.50               1242.75  "
      ]
     },
     "execution_count": 55,
     "metadata": {},
     "output_type": "execute_result"
    }
   ],
   "source": [
    "neighbourhood_dwellings = dwelling_types.groupby(['neighbourhood']).mean().reset_index()\n",
    "neighbourhood_dwellings.sort_values(\"neighbourhood\", inplace=True)\n",
    "neighbourhood_dwellings.head()"
   ]
  },
  {
   "cell_type": "code",
   "execution_count": 56,
   "metadata": {},
   "outputs": [
    {
     "data": {
      "text/html": [
       "<div>\n",
       "<style scoped>\n",
       "    .dataframe tbody tr th:only-of-type {\n",
       "        vertical-align: middle;\n",
       "    }\n",
       "\n",
       "    .dataframe tbody tr th {\n",
       "        vertical-align: top;\n",
       "    }\n",
       "\n",
       "    .dataframe thead th {\n",
       "        text-align: right;\n",
       "    }\n",
       "</style>\n",
       "<table border=\"1\" class=\"dataframe\">\n",
       "  <thead>\n",
       "    <tr style=\"text-align: right;\">\n",
       "      <th></th>\n",
       "      <th>neighbourhood</th>\n",
       "      <th>lat</th>\n",
       "      <th>lon</th>\n",
       "      <th>single_detached_house</th>\n",
       "      <th>apartment_five_storeys_plus</th>\n",
       "      <th>movable_dwelling</th>\n",
       "      <th>semi_detached_house</th>\n",
       "      <th>row_house</th>\n",
       "      <th>duplex</th>\n",
       "      <th>apartment_five_storeys_less</th>\n",
       "      <th>other_house</th>\n",
       "      <th>average_house_value</th>\n",
       "      <th>shelter_costs_owned</th>\n",
       "      <th>shelter_costs_rented</th>\n",
       "    </tr>\n",
       "  </thead>\n",
       "  <tbody>\n",
       "    <tr>\n",
       "      <th>0</th>\n",
       "      <td>Agincourt North</td>\n",
       "      <td>43.805441</td>\n",
       "      <td>-79.266712</td>\n",
       "      <td>3435.00</td>\n",
       "      <td>1947.50</td>\n",
       "      <td>2.50</td>\n",
       "      <td>863.75</td>\n",
       "      <td>1406.25</td>\n",
       "      <td>512.50</td>\n",
       "      <td>547.50</td>\n",
       "      <td>10.00</td>\n",
       "      <td>329811.5</td>\n",
       "      <td>1109.00</td>\n",
       "      <td>983.50</td>\n",
       "    </tr>\n",
       "    <tr>\n",
       "      <th>1</th>\n",
       "      <td>Agincourt South-Malvern West</td>\n",
       "      <td>43.788658</td>\n",
       "      <td>-79.265612</td>\n",
       "      <td>2897.50</td>\n",
       "      <td>2180.00</td>\n",
       "      <td>1.25</td>\n",
       "      <td>375.00</td>\n",
       "      <td>456.25</td>\n",
       "      <td>523.75</td>\n",
       "      <td>628.75</td>\n",
       "      <td>32.50</td>\n",
       "      <td>334189.0</td>\n",
       "      <td>1131.25</td>\n",
       "      <td>985.00</td>\n",
       "    </tr>\n",
       "    <tr>\n",
       "      <th>2</th>\n",
       "      <td>Alderwood</td>\n",
       "      <td>43.604937</td>\n",
       "      <td>-79.541611</td>\n",
       "      <td>2903.75</td>\n",
       "      <td>302.50</td>\n",
       "      <td>1.25</td>\n",
       "      <td>503.75</td>\n",
       "      <td>76.25</td>\n",
       "      <td>302.50</td>\n",
       "      <td>502.50</td>\n",
       "      <td>1.25</td>\n",
       "      <td>427922.5</td>\n",
       "      <td>1166.75</td>\n",
       "      <td>1003.25</td>\n",
       "    </tr>\n",
       "    <tr>\n",
       "      <th>3</th>\n",
       "      <td>Annex</td>\n",
       "      <td>43.671585</td>\n",
       "      <td>-79.404001</td>\n",
       "      <td>751.25</td>\n",
       "      <td>7235.00</td>\n",
       "      <td>1.25</td>\n",
       "      <td>1375.00</td>\n",
       "      <td>613.75</td>\n",
       "      <td>355.00</td>\n",
       "      <td>4605.00</td>\n",
       "      <td>83.75</td>\n",
       "      <td>746977.0</td>\n",
       "      <td>1692.75</td>\n",
       "      <td>1315.25</td>\n",
       "    </tr>\n",
       "    <tr>\n",
       "      <th>4</th>\n",
       "      <td>Banbury-Don Mills</td>\n",
       "      <td>43.737657</td>\n",
       "      <td>-79.349718</td>\n",
       "      <td>3572.50</td>\n",
       "      <td>5388.75</td>\n",
       "      <td>1.25</td>\n",
       "      <td>273.75</td>\n",
       "      <td>626.25</td>\n",
       "      <td>32.50</td>\n",
       "      <td>1340.00</td>\n",
       "      <td>0.00</td>\n",
       "      <td>612039.0</td>\n",
       "      <td>1463.50</td>\n",
       "      <td>1242.75</td>\n",
       "    </tr>\n",
       "  </tbody>\n",
       "</table>\n",
       "</div>"
      ],
      "text/plain": [
       "                  neighbourhood        lat        lon  single_detached_house  \\\n",
       "0               Agincourt North  43.805441 -79.266712                3435.00   \n",
       "1  Agincourt South-Malvern West  43.788658 -79.265612                2897.50   \n",
       "2                     Alderwood  43.604937 -79.541611                2903.75   \n",
       "3                         Annex  43.671585 -79.404001                 751.25   \n",
       "4             Banbury-Don Mills  43.737657 -79.349718                3572.50   \n",
       "\n",
       "   apartment_five_storeys_plus  movable_dwelling  semi_detached_house  \\\n",
       "0                      1947.50              2.50               863.75   \n",
       "1                      2180.00              1.25               375.00   \n",
       "2                       302.50              1.25               503.75   \n",
       "3                      7235.00              1.25              1375.00   \n",
       "4                      5388.75              1.25               273.75   \n",
       "\n",
       "   row_house  duplex  apartment_five_storeys_less  other_house  \\\n",
       "0    1406.25  512.50                       547.50        10.00   \n",
       "1     456.25  523.75                       628.75        32.50   \n",
       "2      76.25  302.50                       502.50         1.25   \n",
       "3     613.75  355.00                      4605.00        83.75   \n",
       "4     626.25   32.50                      1340.00         0.00   \n",
       "\n",
       "   average_house_value  shelter_costs_owned  shelter_costs_rented  \n",
       "0             329811.5              1109.00                983.50  \n",
       "1             334189.0              1131.25                985.00  \n",
       "2             427922.5              1166.75               1003.25  \n",
       "3             746977.0              1692.75               1315.25  \n",
       "4             612039.0              1463.50               1242.75  "
      ]
     },
     "execution_count": 56,
     "metadata": {},
     "output_type": "execute_result"
    }
   ],
   "source": [
    "# Join the average values with the neighbourhood locations\n",
    "# YOUR CODE HERE!\n",
    "join_mean_values_neighbourhood_locations = pd.merge(df_neighbourhood_locations , neighbourhood_dwellings, on=\"neighbourhood\")\n",
    "join_mean_values_neighbourhood_locations.head()"
   ]
  },
  {
   "cell_type": "code",
   "execution_count": null,
   "metadata": {},
   "outputs": [],
   "source": []
  },
  {
   "cell_type": "markdown",
   "metadata": {},
   "source": [
    "### Mapbox Visualization\n",
    "\n",
    "Plot the average values per neighbourhood using a Plotly express `scatter_mapbox` visualization."
   ]
  },
  {
   "cell_type": "code",
   "execution_count": 57,
   "metadata": {},
   "outputs": [],
   "source": [
    "# Set the Mapbox API\n",
    "px.set_mapbox_access_token(map_box_api)"
   ]
  },
  {
   "cell_type": "code",
   "execution_count": 58,
   "metadata": {},
   "outputs": [
    {
     "name": "stdout",
     "output_type": "stream",
     "text": [
      "pk.eyJ1IjoibmQwMyIsImEiOiJja3B4anluMGowMWRqMm5scjk4bDA2anozIn0.EfR48N3e0CwEHNW-kH0fug\n"
     ]
    }
   ],
   "source": [
    "print(map_box_api)"
   ]
  },
  {
   "cell_type": "code",
   "execution_count": 59,
   "metadata": {},
   "outputs": [
    {
     "data": {
      "application/vnd.plotly.v1+json": {
       "config": {
        "plotlyServerURL": "https://plot.ly"
       },
       "data": [
        {
         "customdata": [
          [
           983.5,
           3435,
           1947.5,
           2.5,
           863.75,
           1406.25,
           512.5,
           547.5,
           10
          ],
          [
           985,
           2897.5,
           2180,
           1.25,
           375,
           456.25,
           523.75,
           628.75,
           32.5
          ],
          [
           1003.25,
           2903.75,
           302.5,
           1.25,
           503.75,
           76.25,
           302.5,
           502.5,
           1.25
          ],
          [
           1315.25,
           751.25,
           7235,
           1.25,
           1375,
           613.75,
           355,
           4605,
           83.75
          ],
          [
           1242.75,
           3572.5,
           5388.75,
           1.25,
           273.75,
           626.25,
           32.5,
           1340,
           0
          ],
          [
           1059.5,
           2131.25,
           1815,
           0,
           151.25,
           70,
           677.5,
           973.75,
           8.75
          ],
          [
           1436.75,
           3.75,
           10470,
           0,
           1.25,
           18.75,
           1.25,
           271.25,
           2.5
          ],
          [
           1422,
           2101.25,
           3222.5,
           2.5,
           141.25,
           830,
           70,
           500,
           2.5
          ],
          [
           1399.5,
           1585,
           1700,
           0,
           580,
           175,
           86.25,
           522.5,
           1.25
          ],
          [
           1255,
           4865,
           1981.25,
           0,
           43.75,
           57.5,
           287.5,
           1275,
           88.75
          ],
          [
           797.5,
           686.25,
           671.25,
           0,
           70,
           16.25,
           97.5,
           1060,
           3.75
          ],
          [
           994.5,
           3993.75,
           3582.5,
           2.5,
           323.75,
           258.75,
           921.25,
           330,
           10
          ],
          [
           918.75,
           5045,
           920,
           0,
           418.75,
           47.5,
           781.25,
           1957.5,
           26.25
          ],
          [
           864.5,
           732.5,
           4356.25,
           0,
           685,
           1116.25,
           113.75,
           238.75,
           2.5
          ],
          [
           897.75,
           526.25,
           491.25,
           0,
           810,
           380,
           151.25,
           748.75,
           25
          ],
          [
           1030.25,
           1713.75,
           2401.25,
           0,
           150,
           37.5,
           351.25,
           1035,
           5
          ],
          [
           2321.75,
           2260,
           331.25,
           0,
           36.25,
           90,
           25,
           40,
           0
          ],
          [
           1007.75,
           880,
           3213.75,
           0,
           448.75,
           81.25,
           112.5,
           793.75,
           1.25
          ],
          [
           932.5,
           1775,
           3568.75,
           0,
           255,
           8.75,
           108.75,
           501.25,
           6.25
          ],
          [
           1072.25,
           268.75,
           3322.5,
           0,
           451.25,
           615,
           127.5,
           1422.5,
           12.5
          ],
          [
           989,
           1757.5,
           166.25,
           0,
           421.25,
           18.75,
           371.25,
           853.75,
           5
          ],
          [
           1547.75,
           916.25,
           2310,
           0,
           288.75,
           201.25,
           162.5,
           1192.5,
           2.5
          ],
          [
           1148.75,
           3341.25,
           0,
           2.5,
           166.25,
           420,
           125,
           40,
           5
          ],
          [
           1202.75,
           28.75,
           15042.5,
           1.25,
           32.5,
           231.25,
           38.75,
           1337.5,
           27.5
          ],
          [
           952,
           3223.75,
           1746.25,
           2.5,
           890,
           525,
           563.75,
           1020,
           28.75
          ],
          [
           1024,
           2480,
           1352.5,
           6.25,
           11.25,
           12.5,
           517.5,
           1256.25,
           15
          ],
          [
           911.25,
           3407.5,
           1317.5,
           1.25,
           63.75,
           342.5,
           372.5,
           147.5,
           43.75
          ],
          [
           986.75,
           1451.25,
           3.75,
           0,
           1375,
           103.75,
           482.5,
           1811.25,
           35
          ],
          [
           930.75,
           708.75,
           337.5,
           0,
           1350,
           33.75,
           197.5,
           1275,
           30
          ],
          [
           982,
           3001.25,
           778.75,
           0,
           1721.25,
           32.5,
           512.5,
           856.25,
           30
          ],
          [
           1117.75,
           2155,
           5256.25,
           1.25,
           397.5,
           1438.75,
           120,
           247.5,
           2.5
          ],
          [
           953.5,
           2106.25,
           3743.75,
           0,
           326.25,
           1318.75,
           405,
           413.75,
           3.75
          ],
          [
           1003.25,
           1901.25,
           1666.25,
           2.5,
           2683.75,
           927.5,
           867.5,
           5661.25,
           105
          ],
          [
           928,
           4328.75,
           3183.75,
           2.5,
           893.75,
           535,
           330,
           3415,
           15
          ],
          [
           1063.25,
           402.5,
           1235,
           0,
           713.75,
           112.5,
           296.25,
           2322.5,
           35
          ],
          [
           970.25,
           1835,
           2061.25,
           2.5,
           1973.75,
           445,
           460,
           2093.75,
           40
          ],
          [
           1194.25,
           2570,
           2071.25,
           0,
           90,
           131.25,
           43.75,
           1043.75,
           1.25
          ],
          [
           907.25,
           1637.5,
           5045,
           0,
           108.75,
           403.75,
           481.25,
           251.25,
           6.25
          ],
          [
           998.5,
           1036.25,
           1377.5,
           0,
           75,
           476.25,
           153.75,
           50,
           0
          ],
          [
           987,
           2052.5,
           2722.5,
           0,
           27.5,
           262.5,
           423.75,
           2502.5,
           7.5
          ],
          [
           1103,
           3951.25,
           1742.5,
           0,
           326.25,
           553.75,
           93.75,
           70,
           6.25
          ],
          [
           1071.25,
           987.5,
           2772.5,
           0,
           96.25,
           222.5,
           45,
           56.25,
           10
          ],
          [
           973,
           5,
           6368.75,
           0,
           182.5,
           630,
           3.75,
           591.25,
           0
          ],
          [
           1245.5,
           1488.75,
           3392.5,
           0,
           12.5,
           16.25,
           82.5,
           402.5,
           1.25
          ],
          [
           1313.75,
           1742.5,
           2031.25,
           1.25,
           61.25,
           45,
           75,
           1027.5,
           3.75
          ],
          [
           860.5,
           441.25,
           3413.75,
           0,
           3538.75,
           1322.5,
           298.75,
           923.75,
           6.25
          ],
          [
           910.5,
           1077.5,
           517.5,
           1.25,
           1718.75,
           371.25,
           275,
           2082.5,
           12.5
          ],
          [
           1084.5,
           2213.75,
           1082.5,
           0,
           116.25,
           296.25,
           122.5,
           100,
           1.25
          ],
          [
           1178.5,
           500,
           3558.75,
           0,
           15,
           496.25,
           11.25,
           30,
           1.25
          ],
          [
           1183,
           1442.5,
           6020,
           0,
           617.5,
           118.75,
           487.5,
           1891.25,
           13.75
          ],
          [
           1129.75,
           2782.5,
           2507.5,
           1.25,
           520,
           202.5,
           692.5,
           3066.25,
           20
          ],
          [
           967,
           3125,
           1.25,
           1.25,
           3.75,
           10,
           470,
           23.75,
           0
          ],
          [
           765.75,
           1696.25,
           1950,
           0,
           900,
           1085,
           140,
           670,
           0
          ],
          [
           1055.5,
           1727.5,
           1958.75,
           1.25,
           58.75,
           58.75,
           133.75,
           153.75,
           1.25
          ],
          [
           935.5,
           503.75,
           720,
           1.25,
           2031.25,
           101.25,
           85,
           375,
           0
          ],
          [
           988,
           583.75,
           1568.75,
           0,
           1333.75,
           267.5,
           68.75,
           990,
           1.25
          ],
          [
           1094,
           1885,
           1700,
           0,
           258.75,
           6.25,
           160,
           2495,
           1.25
          ],
          [
           902.25,
           1110,
           2858.75,
           0,
           380,
           138.75,
           285,
           205,
           75
          ],
          [
           1109.25,
           5206.25,
           8633.75,
           0,
           127.5,
           448.75,
           207.5,
           666.25,
           5
          ],
          [
           1085,
           822.5,
           348.75,
           0,
           952.5,
           526.25,
           563.75,
           2218.75,
           20
          ],
          [
           855.25,
           1787.5,
           511.25,
           2.5,
           380,
           11.25,
           385,
           943.75,
           1.25
          ],
          [
           805.25,
           1785,
           2852.5,
           1.25,
           436.25,
           122.5,
           581.25,
           667.5,
           61.25
          ],
          [
           1071.5,
           118.75,
           4041.25,
           1.25,
           328.75,
           761.25,
           135,
           2663.75,
           78.75
          ],
          [
           1046,
           2197.5,
           4758.75,
           0,
           137.5,
           307.5,
           148.75,
           200,
           1.25
          ],
          [
           1622,
           2326.25,
           576.25,
           0,
           66.25,
           48.75,
           20,
           336.25,
           2.5
          ],
          [
           945.75,
           1285,
           692.5,
           0,
           548.75,
           145,
           86.25,
           362.5,
           2.5
          ],
          [
           948,
           3731.25,
           6731.25,
           0,
           1032.5,
           2441.25,
           340,
           645,
           10
          ],
          [
           1360.25,
           2447.5,
           2508.75,
           1.25,
           42.5,
           0,
           153.75,
           592.5,
           12.5
          ],
          [
           1372.75,
           3196.25,
           201.25,
           0,
           871.25,
           23.75,
           177.5,
           1008.75,
           1.25
          ],
          [
           1372.75,
           3472.5,
           773.75,
           0,
           126.25,
           38.75,
           225,
           966.25,
           16.25
          ],
          [
           1250.5,
           3601.25,
           548.75,
           0,
           791.25,
           75,
           47.5,
           1421.25,
           8.75
          ],
          [
           1043.5,
           343.75,
           1097.5,
           0,
           666.25,
           658.75,
           212.5,
           2560,
           38.75
          ],
          [
           993.5,
           1513.75,
           960,
           0,
           76.25,
           85,
           216.25,
           1696.25,
           15
          ],
          [
           998.75,
           3693.75,
           2982.5,
           0,
           1317.5,
           3410,
           878.75,
           552.5,
           55
          ],
          [
           949.25,
           1690,
           861.25,
           2.5,
           167.5,
           97.5,
           151.25,
           595,
           3.75
          ],
          [
           1117.5,
           1788.75,
           2010,
           0,
           6.25,
           270,
           81.25,
           108.75,
           2.5
          ],
          [
           951,
           3910,
           1948.75,
           0,
           550,
           605,
           395,
           95,
           22.5
          ],
          [
           1084.5,
           2406.25,
           6996.25,
           1.25,
           266.25,
           766.25,
           407.5,
           2966.25,
           18.75
          ],
          [
           917.75,
           2256.25,
           2105,
           1.25,
           27.5,
           880,
           255,
           211.25,
           2.5
          ],
          [
           938.5,
           110,
           5908.75,
           0,
           167.5,
           630,
           106.25,
           1973.75,
           23.75
          ],
          [
           957.25,
           1028.75,
           2238.75,
           0,
           138.75,
           302.5,
           176.25,
           912.5,
           2.5
          ],
          [
           955.25,
           1730,
           5916.25,
           1.25,
           176.25,
           1033.75,
           603.75,
           127.5,
           1.25
          ],
          [
           1205.75,
           2225,
           2008.75,
           1.25,
           1611.25,
           146.25,
           170,
           1066.25,
           97.5
          ],
          [
           1219.75,
           503.75,
           13042.5,
           6.25,
           193.75,
           237.5,
           96.25,
           1877.5,
           21.25
          ],
          [
           865.5,
           1601.25,
           1091.25,
           1.25,
           205,
           203.75,
           188.75,
           1763.75,
           3.75
          ],
          [
           1230,
           2906.25,
           2403.75,
           1.25,
           8.75,
           35,
           265,
           302.5,
           0
          ],
          [
           1139.25,
           2696.25,
           3677.5,
           0,
           631.25,
           500,
           273.75,
           392.5,
           1.25
          ],
          [
           1343.75,
           52.5,
           8266.25,
           0,
           142.5,
           857.5,
           232.5,
           1683.75,
           17.5
          ],
          [
           1134.5,
           875,
           667.5,
           0,
           1391.25,
           236.25,
           262.5,
           1575,
           31.25
          ],
          [
           1015.5,
           15,
           8233.75,
           1.25,
           22.5,
           80,
           17.5,
           513.75,
           6.25
          ],
          [
           785.5,
           1142.5,
           3193.75,
           0,
           150,
           206.25,
           300,
           217.5,
           15
          ],
          [
           937.5,
           3000,
           1600,
           0,
           1282.5,
           31.25,
           667.5,
           2055,
           21.25
          ],
          [
           939,
           3033.75,
           2320,
           1.25,
           127.5,
           118.75,
           293.75,
           1487.5,
           6.25
          ],
          [
           993.75,
           2313.75,
           528.75,
           0,
           170,
           0,
           358.75,
           423.75,
           12.5
          ],
          [
           1201.5,
           458.75,
           263.75,
           1.25,
           1150,
           298.75,
           240,
           3713.75,
           66.25
          ],
          [
           1125,
           2567.5,
           6465,
           1.25,
           1445,
           1365,
           83.75,
           1157.5,
           5
          ],
          [
           1012,
           1795,
           420,
           0,
           321.25,
           120,
           281.25,
           142.5,
           5
          ],
          [
           1198.25,
           720,
           931.25,
           0,
           652.5,
           62.5,
           201.25,
           1000,
           17.5
          ],
          [
           1072,
           1026.25,
           1467.5,
           0,
           1978.75,
           272.5,
           71.25,
           676.25,
           6.25
          ],
          [
           1239.75,
           3298.75,
           445,
           0,
           2.5,
           41.25,
           47.5,
           10,
           2.5
          ],
          [
           815.25,
           15,
           2506.25,
           0,
           57.5,
           577.5,
           8.75,
           911.25,
           16.25
          ],
          [
           900.5,
           1886.25,
           635,
           0,
           36.25,
           451.25,
           326.25,
           552.5,
           0
          ],
          [
           867.5,
           2902.5,
           3225,
           1.25,
           1081.25,
           233.75,
           381.25,
           1043.75,
           0
          ],
          [
           1037,
           843.75,
           1635,
           10,
           1148.75,
           356.25,
           390,
           2278.75,
           53.75
          ],
          [
           1537.25,
           2498.75,
           4641.25,
           0,
           486.25,
           245,
           327.5,
           1618.75,
           2.5
          ],
          [
           1130,
           6937.5,
           936.25,
           0,
           975,
           1621.25,
           732.5,
           608.75,
           6.25
          ],
          [
           1147,
           2058.75,
           1.25,
           0,
           760,
           47.5,
           261.25,
           683.75,
           7.5
          ],
          [
           791.75,
           1168.75,
           1945,
           0,
           198.75,
           2.5,
           71.25,
           208.75,
           3.75
          ],
          [
           903.75,
           1081.25,
           3948.75,
           0,
           32.5,
           206.25,
           138.75,
           320,
           0
          ],
          [
           1019.5,
           337.5,
           6557.5,
           5,
           243.75,
           278.75,
           192.5,
           2968.75,
           12.5
          ],
          [
           971,
           1005,
           1012.5,
           3.75,
           2686.25,
           1566.25,
           467.5,
           3823.75,
           85
          ],
          [
           1384.5,
           3225,
           1670,
           0,
           185,
           552.5,
           97.5,
           586.25,
           5
          ],
          [
           1125.75,
           3711.25,
           2592.5,
           1.25,
           190,
           558.75,
           275,
           257.5,
           0
          ],
          [
           1041.25,
           5872.5,
           867.5,
           0,
           93.75,
           357.5,
           222.5,
           2788.75,
           6.25
          ],
          [
           973.75,
           3168.75,
           4542.5,
           0,
           170,
           891.25,
           477.5,
           408.75,
           10
          ],
          [
           919.25,
           622.5,
           4795,
           0,
           203.75,
           216.25,
           150,
           218.75,
           15
          ],
          [
           1257.75,
           2642.5,
           488.75,
           1.25,
           1543.75,
           285,
           461.25,
           3770,
           23.75
          ],
          [
           938.5,
           1682.5,
           666.25,
           0,
           322.5,
           52.5,
           253.75,
           237.5,
           3.75
          ],
          [
           1088.5,
           3.75,
           6318.75,
           0,
           0,
           141.25,
           0,
           187.5,
           5
          ],
          [
           1160,
           442.5,
           178.75,
           0,
           1023.75,
           1027.5,
           460,
           3310,
           168.75
          ],
          [
           1263,
           155,
           830,
           0,
           301.25,
           321.25,
           146.25,
           1252.5,
           46.25
          ],
          [
           916.25,
           1256.25,
           3150,
           0,
           315,
           308.75,
           130,
           2002.5,
           11.25
          ],
          [
           1438.75,
           267.5,
           21913.75,
           2.5,
           68.75,
           528.75,
           31.25,
           667.5,
           15
          ],
          [
           761.25,
           3250,
           3441.25,
           0,
           475,
           1252.5,
           576.25,
           575,
           16.25
          ],
          [
           986.25,
           4381.25,
           1725,
           0,
           273.75,
           1341.25,
           1345,
           505,
           2.5
          ],
          [
           1121.5,
           846.25,
           7665,
           0,
           642.5,
           400,
           117.5,
           277.5,
           12.5
          ],
          [
           927.75,
           1742.5,
           4387.5,
           0,
           216.25,
           142.5,
           193.75,
           768.75,
           5
          ],
          [
           804.5,
           650,
           553.75,
           1.25,
           1342.5,
           307.5,
           186.25,
           1135,
           21.25
          ],
          [
           926.5,
           5482.5,
           1810,
           2.5,
           13.75,
           251.25,
           1313.75,
           1090,
           10
          ],
          [
           1424,
           3533.75,
           11598.75,
           6.25,
           63.75,
           736.25,
           205,
           1378.75,
           10
          ],
          [
           1149.75,
           2178.75,
           3253.75,
           1.25,
           143.75,
           133.75,
           251.25,
           202.5,
           0
          ],
          [
           1109.75,
           3647.5,
           3373.75,
           0,
           531.25,
           277.5,
           183.75,
           42.5,
           0
          ],
          [
           884.25,
           6623.75,
           8898.75,
           1.25,
           326.25,
           241.25,
           1417.5,
           430,
           7.5
          ],
          [
           909,
           898.75,
           577.5,
           0,
           1646.25,
           253.75,
           161.25,
           1721.25,
           23.75
          ],
          [
           906.5,
           1938.75,
           633.75,
           0,
           323.75,
           21.25,
           257.5,
           303.75,
           7.5
          ],
          [
           1017.25,
           1056.25,
           1236.25,
           0,
           992.5,
           298.75,
           325,
           1878.75,
           17.5
          ],
          [
           1347.75,
           1468.75,
           1638.75,
           0,
           470,
           33.75,
           328.75,
           1385,
           6.25
          ],
          [
           1369,
           565,
           3948.75,
           0,
           425,
           212.5,
           172.5,
           1308.75,
           6.25
          ],
          [
           937.5,
           1355,
           5165,
           1.25,
           1316.25,
           662.5,
           188.75,
           1085,
           33.75
          ],
          [
           942.5,
           2286.25,
           1347.5,
           0,
           73.75,
           450,
           377.5,
           722.5,
           7.5
          ]
         ],
         "hovertemplate": "<b>%{hovertext}</b><br><br>lat=%{lat}<br>lon=%{lon}<br>shelter_costs_rented=%{customdata[0]}<br>single_detached_house=%{customdata[1]}<br>apartment_five_storeys_plus=%{customdata[2]}<br>movable_dwelling=%{customdata[3]}<br>semi_detached_house=%{customdata[4]}<br>row_house=%{customdata[5]}<br>duplex=%{customdata[6]}<br>apartment_five_storeys_less=%{customdata[7]}<br>other_house=%{customdata[8]}<br>average_house_value=%{marker.color}<extra></extra>",
         "hovertext": [
          "Agincourt North",
          "Agincourt South-Malvern West",
          "Alderwood",
          "Annex",
          "Banbury-Don Mills",
          "Bathurst Manor",
          "Bay Street Corridor",
          "Bayview Village",
          "Bayview Woods-Steeles",
          "Bedford Park-Nortown",
          "Beechborough-Greenbrook",
          "Bendale",
          "Birchcliffe-Cliffside",
          "Black Creek",
          "Blake-Jones",
          "Briar Hill-Belgravia",
          "Bridle Path-Sunnybrook-York Mills",
          "Broadview North",
          "Brookhaven-Amesbury",
          "Cabbagetown-South St.James Town",
          "Caledonia-Fairbank",
          "Casa Loma",
          "Centennial Scarborough",
          "Church-Yonge Corridor",
          "Clairlea-Birchmount",
          "Clanton Park",
          "Cliffcrest",
          "Corso Italia-Davenport",
          "Danforth",
          "Danforth-East York",
          "Don Valley Village",
          "Dorset Park",
          "Dovercourt-Wallace Emerson-Juncti",
          "Downsview-Roding-CFB",
          "Dufferin Grove",
          "East End-Danforth",
          "Edenbridge-Humber Valley",
          "Eglinton East",
          "Elms-Old Rexdale",
          "Englemount-Lawrence",
          "Eringate-Centennial-West Deane",
          "Etobicoke West Mall",
          "Flemingdon Park",
          "Forest Hill North",
          "Forest Hill South",
          "Glenfield-Jane Heights",
          "Greenwood-Coxwell",
          "Guildwood",
          "Henry Farm",
          "High Park North",
          "High Park-Swansea",
          "Highland Creek",
          "Hillcrest Village",
          "Humber Heights-Westmount",
          "Humber Summit",
          "Humbermede",
          "Humewood-Cedarvale",
          "Ionview",
          "Islington-City Centre West",
          "Junction Area",
          "Keelesdale-Eglinton West",
          "Kennedy Park",
          "Kensington-Chinatown",
          "Kingsview Village-The Westway",
          "Kingsway South",
          "L'Amoreaux",
          "Lambton Baby Point",
          "Lansing-Westgate",
          "Lawrence Park North",
          "Lawrence Park South",
          "Leaside-Bennington",
          "Little Portugal",
          "Long Branch",
          "Malvern",
          "Maple Leaf",
          "Markland Wood",
          "Milliken",
          "Mimico",
          "Morningside",
          "Moss Park",
          "Mount Dennis",
          "Mount Olive-Silverstone-Jamestown",
          "Mount Pleasant East",
          "Mount Pleasant West",
          "New Toronto",
          "Newtonbrook East",
          "Newtonbrook West",
          "Niagara",
          "North Riverdale",
          "North St.James Town",
          "O'Connor-Parkview",
          "Oakridge",
          "Oakwood Village",
          "Old East York",
          "Palmerston-Little Italy",
          "Parkwoods-Donalda",
          "Pelmo Park-Humberlea",
          "Playter Estates-Danforth",
          "Pleasant View",
          "Princess-Rosethorn",
          "Regent Park",
          "Rexdale-Kipling",
          "Rockcliffe-Smythe",
          "Roncesvalles",
          "Rosedale-Moore Park",
          "Rouge",
          "Runnymede-Bloor West Village",
          "Rustic",
          "Scarborough Village",
          "South Parkdale",
          "South Riverdale",
          "St.Andrew-Windfields",
          "Steeles",
          "Stonegate-Queensway",
          "Tam O'Shanter-Sullivan",
          "Taylor-Massey",
          "The Beaches",
          "Thistletown-Beaumond Heights",
          "Thorncliffe Park",
          "Trinity-Bellwoods",
          "University",
          "Victoria Village",
          "Waterfront Communities-The Island",
          "West Hill",
          "West Humber-Clairville",
          "Westminster-Branson",
          "Weston",
          "Weston-Pellam Park",
          "Wexford/Maryvale",
          "Willowdale East",
          "Willowdale West",
          "Willowridge-Martingrove-Richview",
          "Woburn",
          "Woodbine Corridor",
          "Woodbine-Lumsden",
          "Wychwood",
          "Yonge-Eglinton",
          "Yonge-St.Clair",
          "York University Heights",
          "Yorkdale-Glen Park"
         ],
         "lat": [
          43.80544058,
          43.78865755,
          43.6049369,
          43.67158544,
          43.737657,
          43.76481331,
          43.65751135,
          43.77636052,
          43.79680187,
          43.73148623,
          43.69321649,
          43.76036631,
          43.69468198,
          43.76489025,
          43.67617288,
          43.69902438,
          43.73101314,
          43.68882512,
          43.70132631,
          43.66764773,
          43.68856865,
          43.6818521,
          43.7823765,
          43.65964886,
          43.71359238,
          43.74197843,
          43.72112117,
          43.67766091,
          43.68402547,
          43.68946809,
          43.78329369,
          43.75927437,
          43.66567693,
          43.73329235,
          43.65542833,
          43.68417388,
          43.67088591,
          43.7409223,
          43.72151887,
          43.72034467,
          43.65801676,
          43.64506262,
          43.71592975,
          43.70421756,
          43.69452576,
          43.74563575,
          43.67261231,
          43.74882934,
          43.77114414,
          43.65756491,
          43.64506458,
          43.79077477,
          43.80298783,
          43.6922328,
          43.75891975,
          43.74342952,
          43.69136981,
          43.73536441,
          43.63346335,
          43.66788977,
          43.68572747,
          43.72555572,
          43.65355413,
          43.69899257,
          43.65352043,
          43.79571603,
          43.65742013,
          43.75427115,
          43.73006017,
          43.7172117,
          43.70379663,
          43.64753593,
          43.59236169,
          43.80365820000001,
          43.71557394,
          43.63354175,
          43.82069079,
          43.61592386,
          43.78239861,
          43.65651762,
          43.68814409,
          43.7468678,
          43.70485217,
          43.70443517,
          43.6005886,
          43.79153579,
          43.78582994,
          43.63668088,
          43.67199515,
          43.66962341,
          43.70680049,
          43.69740813,
          43.68856556,
          43.69678127,
          43.6591571,
          43.75503347,
          43.7175146,
          43.67970047,
          43.78698176,
          43.6660506,
          43.65999214,
          43.72372548,
          43.67479045,
          43.64612299,
          43.68282043,
          43.82120126,
          43.65926882,
          43.71160912,
          43.73865186,
          43.63669952,
          43.64929206,
          43.75624583,
          43.81295883,
          43.63551813,
          43.78012985,
          43.69499819,
          43.67104999,
          43.73798792,
          43.70774921,
          43.6501763,
          43.6625062,
          43.72848902,
          43.63388036,
          43.76749026,
          43.7161804,
          43.77881322,
          43.70271605,
          43.67396204,
          43.74857214,
          43.77060226,
          43.77121049,
          43.68364496,
          43.76674024,
          43.67677292,
          43.69410674,
          43.67691927,
          43.70468937,
          43.68785887,
          43.76573649,
          43.71467153
         ],
         "legendgroup": "",
         "lon": [
          -79.26671217,
          -79.2656118,
          -79.54161093,
          -79.40400062,
          -79.34971798,
          -79.45605516,
          -79.38572125,
          -79.37711686,
          -79.38211795,
          -79.42022735,
          -79.47947251,
          -79.25740037,
          -79.26509259,
          -79.52197932,
          -79.33739417,
          -79.45285129999999,
          -79.37890418,
          -79.35562951,
          -79.48558926,
          -79.36610666,
          -79.45521208,
          -79.40800665,
          -79.15084327,
          -79.37901717,
          -79.28138178,
          -79.44630258,
          -79.23552957,
          -79.44746933,
          -79.32981941,
          -79.33140338,
          -79.35364413,
          -79.27890794,
          -79.4385407,
          -79.49049735,
          -79.43734104,
          -79.29935867,
          -79.52245776,
          -79.24559804,
          -79.54898272,
          -79.43740855,
          -79.58044524,
          -79.56893877,
          -79.33264597,
          -79.42814316,
          -79.41431786,
          -79.51346532,
          -79.32431802,
          -79.19505535,
          -79.34124067,
          -79.46630217,
          -79.46787222,
          -79.17747247,
          -79.354804,
          -79.5224162,
          -79.55617474,
          -79.54236712,
          -79.42768335,
          -79.27247049,
          -79.54331654,
          -79.47143987,
          -79.47143711,
          -79.26038221,
          -79.39723988,
          -79.54786331,
          -79.5105768,
          -79.31408424,
          -79.49604526,
          -79.42474772,
          -79.40397836,
          -79.40603941,
          -79.36607234,
          -79.43032271,
          -79.53334545,
          -79.22251662,
          -79.48075802,
          -79.57343155,
          -79.27500892,
          -79.50013664,
          -79.20704119,
          -79.36729703,
          -79.49998906,
          -79.58725926,
          -79.38492395,
          -79.39335955,
          -79.51035809,
          -79.40593745,
          -79.43142151,
          -79.4124204,
          -79.35126041,
          -79.37524658,
          -79.31222777,
          -79.27970834,
          -79.43978548,
          -79.33548836,
          -79.41840873,
          -79.33017952,
          -79.5282822,
          -79.35488729,
          -79.33494843,
          -79.54455929,
          -79.36050881,
          -79.56622841,
          -79.49442045,
          -79.44299245,
          -79.3796694,
          -79.18634345,
          -79.48570818,
          -79.49809147,
          -79.21681262,
          -79.43933783,
          -79.33565132,
          -79.37903709,
          -79.32120701,
          -79.50112821,
          -79.30291871,
          -79.29590112,
          -79.29960129999999,
          -79.56349102,
          -79.34998361,
          -79.41534216,
          -79.40117975,
          -79.31487383,
          -79.37720231,
          -79.17667603,
          -79.59635645,
          -79.45241823,
          -79.51572255,
          -79.46024391,
          -79.29863657,
          -79.40148379,
          -79.4275578,
          -79.55422105,
          -79.22858577,
          -79.31540738,
          -79.31116353,
          -79.42551495,
          -79.40359017,
          -79.39787077,
          -79.48888293,
          -79.45710807
         ],
         "marker": {
          "color": [
           329811.5,
           334189,
           427922.5,
           746977,
           612039,
           501576.75,
           423653.5,
           539258.75,
           565413.5,
           930415.25,
           370927.75,
           301123.25,
           437315,
           260841.75,
           511437,
           365524.5,
           1526485.75,
           443373.25,
           350943,
           494110.5,
           361714.25,
           981064.25,
           409862.75,
           406117.5,
           354555.25,
           551561.25,
           417422,
           419930.5,
           466943,
           421679.25,
           398010.25,
           262000.25,
           434699.5,
           381415.5,
           457588.75,
           478054.25,
           796162.5,
           268966.5,
           268341.25,
           568936.75,
           397781.75,
           309412,
           207799,
           851680.5,
           1195992.5,
           327597.75,
           387055.5,
           369373.5,
           369958,
           532497,
           582977.75,
           428838.5,
           395023,
           449150.5,
           352082.5,
           319783.75,
           697085.5,
           287685.75,
           451685.25,
           433269.25,
           322774.75,
           287233.5,
           440485.75,
           338344.75,
           843234.25,
           650307.75,
           336617.75,
           613216.5,
           759392.5,
           1094027.75,
           806471.75,
           540192.5,
           385830.25,
           256880.25,
           453229,
           443974.75,
           344988.25,
           393490.5,
           285013.5,
           409456,
           262308.75,
           253182.25,
           677370.25,
           468181.75,
           407812,
           559573.25,
           460568.5,
           369993,
           703063.25,
           411455.75,
           298315.75,
           422257.5,
           441202.75,
           443413.5,
           622191.75,
           454652.5,
           405431.25,
           648859.25,
           373375.25,
           765746.5,
           392578.25,
           360999.25,
           345660.25,
           508937.25,
           1093640,
           376286.75,
           552082,
           431090.5,
           329835.75,
           447478.5,
           455020.5,
           999107,
           376014.5,
           550432.25,
           353926.5,
           239414,
           666306,
           375864,
           255264.75,
           534465.75,
           618316.75,
           352133,
           376863,
           284647.5,
           343254.25,
           349320.25,
           308007.75,
           351802,
           348319.25,
           469045.5,
           466134.75,
           464278,
           298505.75,
           445382.75,
           369918.5,
           565976.5,
           809745.75,
           813220.25,
           305899.5,
           430861.25
          ],
          "coloraxis": "coloraxis"
         },
         "mode": "markers",
         "name": "",
         "showlegend": false,
         "subplot": "mapbox",
         "type": "scattermapbox"
        }
       ],
       "layout": {
        "autosize": true,
        "coloraxis": {
         "colorbar": {
          "title": {
           "text": "average_house_value"
          }
         },
         "colorscale": [
          [
           0,
           "#0d0887"
          ],
          [
           0.1111111111111111,
           "#46039f"
          ],
          [
           0.2222222222222222,
           "#7201a8"
          ],
          [
           0.3333333333333333,
           "#9c179e"
          ],
          [
           0.4444444444444444,
           "#bd3786"
          ],
          [
           0.5555555555555556,
           "#d8576b"
          ],
          [
           0.6666666666666666,
           "#ed7953"
          ],
          [
           0.7777777777777778,
           "#fb9f3a"
          ],
          [
           0.8888888888888888,
           "#fdca26"
          ],
          [
           1,
           "#f0f921"
          ]
         ]
        },
        "legend": {
         "tracegroupgap": 0
        },
        "mapbox": {
         "accesstoken": "pk.eyJ1IjoibmQwMyIsImEiOiJja3B4anluMGowMWRqMm5scjk4bDA2anozIn0.EfR48N3e0CwEHNW-kH0fug",
         "center": {
          "lat": 43.708840577642846,
          "lon": -79.4001855035
         },
         "domain": {
          "x": [
           0,
           1
          ],
          "y": [
           0,
           1
          ]
         },
         "zoom": 8
        },
        "margin": {
         "t": 60
        },
        "template": {
         "data": {
          "bar": [
           {
            "error_x": {
             "color": "#2a3f5f"
            },
            "error_y": {
             "color": "#2a3f5f"
            },
            "marker": {
             "line": {
              "color": "#E5ECF6",
              "width": 0.5
             }
            },
            "type": "bar"
           }
          ],
          "barpolar": [
           {
            "marker": {
             "line": {
              "color": "#E5ECF6",
              "width": 0.5
             }
            },
            "type": "barpolar"
           }
          ],
          "carpet": [
           {
            "aaxis": {
             "endlinecolor": "#2a3f5f",
             "gridcolor": "white",
             "linecolor": "white",
             "minorgridcolor": "white",
             "startlinecolor": "#2a3f5f"
            },
            "baxis": {
             "endlinecolor": "#2a3f5f",
             "gridcolor": "white",
             "linecolor": "white",
             "minorgridcolor": "white",
             "startlinecolor": "#2a3f5f"
            },
            "type": "carpet"
           }
          ],
          "choropleth": [
           {
            "colorbar": {
             "outlinewidth": 0,
             "ticks": ""
            },
            "type": "choropleth"
           }
          ],
          "contour": [
           {
            "colorbar": {
             "outlinewidth": 0,
             "ticks": ""
            },
            "colorscale": [
             [
              0,
              "#0d0887"
             ],
             [
              0.1111111111111111,
              "#46039f"
             ],
             [
              0.2222222222222222,
              "#7201a8"
             ],
             [
              0.3333333333333333,
              "#9c179e"
             ],
             [
              0.4444444444444444,
              "#bd3786"
             ],
             [
              0.5555555555555556,
              "#d8576b"
             ],
             [
              0.6666666666666666,
              "#ed7953"
             ],
             [
              0.7777777777777778,
              "#fb9f3a"
             ],
             [
              0.8888888888888888,
              "#fdca26"
             ],
             [
              1,
              "#f0f921"
             ]
            ],
            "type": "contour"
           }
          ],
          "contourcarpet": [
           {
            "colorbar": {
             "outlinewidth": 0,
             "ticks": ""
            },
            "type": "contourcarpet"
           }
          ],
          "heatmap": [
           {
            "colorbar": {
             "outlinewidth": 0,
             "ticks": ""
            },
            "colorscale": [
             [
              0,
              "#0d0887"
             ],
             [
              0.1111111111111111,
              "#46039f"
             ],
             [
              0.2222222222222222,
              "#7201a8"
             ],
             [
              0.3333333333333333,
              "#9c179e"
             ],
             [
              0.4444444444444444,
              "#bd3786"
             ],
             [
              0.5555555555555556,
              "#d8576b"
             ],
             [
              0.6666666666666666,
              "#ed7953"
             ],
             [
              0.7777777777777778,
              "#fb9f3a"
             ],
             [
              0.8888888888888888,
              "#fdca26"
             ],
             [
              1,
              "#f0f921"
             ]
            ],
            "type": "heatmap"
           }
          ],
          "heatmapgl": [
           {
            "colorbar": {
             "outlinewidth": 0,
             "ticks": ""
            },
            "colorscale": [
             [
              0,
              "#0d0887"
             ],
             [
              0.1111111111111111,
              "#46039f"
             ],
             [
              0.2222222222222222,
              "#7201a8"
             ],
             [
              0.3333333333333333,
              "#9c179e"
             ],
             [
              0.4444444444444444,
              "#bd3786"
             ],
             [
              0.5555555555555556,
              "#d8576b"
             ],
             [
              0.6666666666666666,
              "#ed7953"
             ],
             [
              0.7777777777777778,
              "#fb9f3a"
             ],
             [
              0.8888888888888888,
              "#fdca26"
             ],
             [
              1,
              "#f0f921"
             ]
            ],
            "type": "heatmapgl"
           }
          ],
          "histogram": [
           {
            "marker": {
             "colorbar": {
              "outlinewidth": 0,
              "ticks": ""
             }
            },
            "type": "histogram"
           }
          ],
          "histogram2d": [
           {
            "colorbar": {
             "outlinewidth": 0,
             "ticks": ""
            },
            "colorscale": [
             [
              0,
              "#0d0887"
             ],
             [
              0.1111111111111111,
              "#46039f"
             ],
             [
              0.2222222222222222,
              "#7201a8"
             ],
             [
              0.3333333333333333,
              "#9c179e"
             ],
             [
              0.4444444444444444,
              "#bd3786"
             ],
             [
              0.5555555555555556,
              "#d8576b"
             ],
             [
              0.6666666666666666,
              "#ed7953"
             ],
             [
              0.7777777777777778,
              "#fb9f3a"
             ],
             [
              0.8888888888888888,
              "#fdca26"
             ],
             [
              1,
              "#f0f921"
             ]
            ],
            "type": "histogram2d"
           }
          ],
          "histogram2dcontour": [
           {
            "colorbar": {
             "outlinewidth": 0,
             "ticks": ""
            },
            "colorscale": [
             [
              0,
              "#0d0887"
             ],
             [
              0.1111111111111111,
              "#46039f"
             ],
             [
              0.2222222222222222,
              "#7201a8"
             ],
             [
              0.3333333333333333,
              "#9c179e"
             ],
             [
              0.4444444444444444,
              "#bd3786"
             ],
             [
              0.5555555555555556,
              "#d8576b"
             ],
             [
              0.6666666666666666,
              "#ed7953"
             ],
             [
              0.7777777777777778,
              "#fb9f3a"
             ],
             [
              0.8888888888888888,
              "#fdca26"
             ],
             [
              1,
              "#f0f921"
             ]
            ],
            "type": "histogram2dcontour"
           }
          ],
          "mesh3d": [
           {
            "colorbar": {
             "outlinewidth": 0,
             "ticks": ""
            },
            "type": "mesh3d"
           }
          ],
          "parcoords": [
           {
            "line": {
             "colorbar": {
              "outlinewidth": 0,
              "ticks": ""
             }
            },
            "type": "parcoords"
           }
          ],
          "pie": [
           {
            "automargin": true,
            "type": "pie"
           }
          ],
          "scatter": [
           {
            "marker": {
             "colorbar": {
              "outlinewidth": 0,
              "ticks": ""
             }
            },
            "type": "scatter"
           }
          ],
          "scatter3d": [
           {
            "line": {
             "colorbar": {
              "outlinewidth": 0,
              "ticks": ""
             }
            },
            "marker": {
             "colorbar": {
              "outlinewidth": 0,
              "ticks": ""
             }
            },
            "type": "scatter3d"
           }
          ],
          "scattercarpet": [
           {
            "marker": {
             "colorbar": {
              "outlinewidth": 0,
              "ticks": ""
             }
            },
            "type": "scattercarpet"
           }
          ],
          "scattergeo": [
           {
            "marker": {
             "colorbar": {
              "outlinewidth": 0,
              "ticks": ""
             }
            },
            "type": "scattergeo"
           }
          ],
          "scattergl": [
           {
            "marker": {
             "colorbar": {
              "outlinewidth": 0,
              "ticks": ""
             }
            },
            "type": "scattergl"
           }
          ],
          "scattermapbox": [
           {
            "marker": {
             "colorbar": {
              "outlinewidth": 0,
              "ticks": ""
             }
            },
            "type": "scattermapbox"
           }
          ],
          "scatterpolar": [
           {
            "marker": {
             "colorbar": {
              "outlinewidth": 0,
              "ticks": ""
             }
            },
            "type": "scatterpolar"
           }
          ],
          "scatterpolargl": [
           {
            "marker": {
             "colorbar": {
              "outlinewidth": 0,
              "ticks": ""
             }
            },
            "type": "scatterpolargl"
           }
          ],
          "scatterternary": [
           {
            "marker": {
             "colorbar": {
              "outlinewidth": 0,
              "ticks": ""
             }
            },
            "type": "scatterternary"
           }
          ],
          "surface": [
           {
            "colorbar": {
             "outlinewidth": 0,
             "ticks": ""
            },
            "colorscale": [
             [
              0,
              "#0d0887"
             ],
             [
              0.1111111111111111,
              "#46039f"
             ],
             [
              0.2222222222222222,
              "#7201a8"
             ],
             [
              0.3333333333333333,
              "#9c179e"
             ],
             [
              0.4444444444444444,
              "#bd3786"
             ],
             [
              0.5555555555555556,
              "#d8576b"
             ],
             [
              0.6666666666666666,
              "#ed7953"
             ],
             [
              0.7777777777777778,
              "#fb9f3a"
             ],
             [
              0.8888888888888888,
              "#fdca26"
             ],
             [
              1,
              "#f0f921"
             ]
            ],
            "type": "surface"
           }
          ],
          "table": [
           {
            "cells": {
             "fill": {
              "color": "#EBF0F8"
             },
             "line": {
              "color": "white"
             }
            },
            "header": {
             "fill": {
              "color": "#C8D4E3"
             },
             "line": {
              "color": "white"
             }
            },
            "type": "table"
           }
          ]
         },
         "layout": {
          "annotationdefaults": {
           "arrowcolor": "#2a3f5f",
           "arrowhead": 0,
           "arrowwidth": 1
          },
          "autotypenumbers": "strict",
          "coloraxis": {
           "colorbar": {
            "outlinewidth": 0,
            "ticks": ""
           }
          },
          "colorscale": {
           "diverging": [
            [
             0,
             "#8e0152"
            ],
            [
             0.1,
             "#c51b7d"
            ],
            [
             0.2,
             "#de77ae"
            ],
            [
             0.3,
             "#f1b6da"
            ],
            [
             0.4,
             "#fde0ef"
            ],
            [
             0.5,
             "#f7f7f7"
            ],
            [
             0.6,
             "#e6f5d0"
            ],
            [
             0.7,
             "#b8e186"
            ],
            [
             0.8,
             "#7fbc41"
            ],
            [
             0.9,
             "#4d9221"
            ],
            [
             1,
             "#276419"
            ]
           ],
           "sequential": [
            [
             0,
             "#0d0887"
            ],
            [
             0.1111111111111111,
             "#46039f"
            ],
            [
             0.2222222222222222,
             "#7201a8"
            ],
            [
             0.3333333333333333,
             "#9c179e"
            ],
            [
             0.4444444444444444,
             "#bd3786"
            ],
            [
             0.5555555555555556,
             "#d8576b"
            ],
            [
             0.6666666666666666,
             "#ed7953"
            ],
            [
             0.7777777777777778,
             "#fb9f3a"
            ],
            [
             0.8888888888888888,
             "#fdca26"
            ],
            [
             1,
             "#f0f921"
            ]
           ],
           "sequentialminus": [
            [
             0,
             "#0d0887"
            ],
            [
             0.1111111111111111,
             "#46039f"
            ],
            [
             0.2222222222222222,
             "#7201a8"
            ],
            [
             0.3333333333333333,
             "#9c179e"
            ],
            [
             0.4444444444444444,
             "#bd3786"
            ],
            [
             0.5555555555555556,
             "#d8576b"
            ],
            [
             0.6666666666666666,
             "#ed7953"
            ],
            [
             0.7777777777777778,
             "#fb9f3a"
            ],
            [
             0.8888888888888888,
             "#fdca26"
            ],
            [
             1,
             "#f0f921"
            ]
           ]
          },
          "colorway": [
           "#636efa",
           "#EF553B",
           "#00cc96",
           "#ab63fa",
           "#FFA15A",
           "#19d3f3",
           "#FF6692",
           "#B6E880",
           "#FF97FF",
           "#FECB52"
          ],
          "font": {
           "color": "#2a3f5f"
          },
          "geo": {
           "bgcolor": "white",
           "lakecolor": "white",
           "landcolor": "#E5ECF6",
           "showlakes": true,
           "showland": true,
           "subunitcolor": "white"
          },
          "hoverlabel": {
           "align": "left"
          },
          "hovermode": "closest",
          "mapbox": {
           "style": "light"
          },
          "paper_bgcolor": "white",
          "plot_bgcolor": "#E5ECF6",
          "polar": {
           "angularaxis": {
            "gridcolor": "white",
            "linecolor": "white",
            "ticks": ""
           },
           "bgcolor": "#E5ECF6",
           "radialaxis": {
            "gridcolor": "white",
            "linecolor": "white",
            "ticks": ""
           }
          },
          "scene": {
           "xaxis": {
            "backgroundcolor": "#E5ECF6",
            "gridcolor": "white",
            "gridwidth": 2,
            "linecolor": "white",
            "showbackground": true,
            "ticks": "",
            "zerolinecolor": "white"
           },
           "yaxis": {
            "backgroundcolor": "#E5ECF6",
            "gridcolor": "white",
            "gridwidth": 2,
            "linecolor": "white",
            "showbackground": true,
            "ticks": "",
            "zerolinecolor": "white"
           },
           "zaxis": {
            "backgroundcolor": "#E5ECF6",
            "gridcolor": "white",
            "gridwidth": 2,
            "linecolor": "white",
            "showbackground": true,
            "ticks": "",
            "zerolinecolor": "white"
           }
          },
          "shapedefaults": {
           "line": {
            "color": "#2a3f5f"
           }
          },
          "ternary": {
           "aaxis": {
            "gridcolor": "white",
            "linecolor": "white",
            "ticks": ""
           },
           "baxis": {
            "gridcolor": "white",
            "linecolor": "white",
            "ticks": ""
           },
           "bgcolor": "#E5ECF6",
           "caxis": {
            "gridcolor": "white",
            "linecolor": "white",
            "ticks": ""
           }
          },
          "title": {
           "x": 0.05
          },
          "xaxis": {
           "automargin": true,
           "gridcolor": "white",
           "linecolor": "white",
           "ticks": "",
           "title": {
            "standoff": 15
           },
           "zerolinecolor": "white",
           "zerolinewidth": 2
          },
          "yaxis": {
           "automargin": true,
           "gridcolor": "white",
           "linecolor": "white",
           "ticks": "",
           "title": {
            "standoff": 15
           },
           "zerolinecolor": "white",
           "zerolinewidth": 2
          }
         }
        }
       }
      },
      "image/png": "[encoded data removed]",
      "text/html": [
       "<div>                            <div id=\"d2cb68bb-a9a7-458d-a412-dd956b08f148\" class=\"plotly-graph-div\" style=\"height:525px; width:100%;\"></div>            <script type=\"text/javascript\">                require([\"plotly\"], function(Plotly) {                    window.PLOTLYENV=window.PLOTLYENV || {};                                    if (document.getElementById(\"d2cb68bb-a9a7-458d-a412-dd956b08f148\")) {                    Plotly.newPlot(                        \"d2cb68bb-a9a7-458d-a412-dd956b08f148\",                        [{\"customdata\": [[983.5, 3435.0, 1947.5, 2.5, 863.75, 1406.25, 512.5, 547.5, 10.0], [985.0, 2897.5, 2180.0, 1.25, 375.0, 456.25, 523.75, 628.75, 32.5], [1003.25, 2903.75, 302.5, 1.25, 503.75, 76.25, 302.5, 502.5, 1.25], [1315.25, 751.25, 7235.0, 1.25, 1375.0, 613.75, 355.0, 4605.0, 83.75], [1242.75, 3572.5, 5388.75, 1.25, 273.75, 626.25, 32.5, 1340.0, 0.0], [1059.5, 2131.25, 1815.0, 0.0, 151.25, 70.0, 677.5, 973.75, 8.75], [1436.75, 3.75, 10470.0, 0.0, 1.25, 18.75, 1.25, 271.25, 2.5], [1422.0, 2101.25, 3222.5, 2.5, 141.25, 830.0, 70.0, 500.0, 2.5], [1399.5, 1585.0, 1700.0, 0.0, 580.0, 175.0, 86.25, 522.5, 1.25], [1255.0, 4865.0, 1981.25, 0.0, 43.75, 57.5, 287.5, 1275.0, 88.75], [797.5, 686.25, 671.25, 0.0, 70.0, 16.25, 97.5, 1060.0, 3.75], [994.5, 3993.75, 3582.5, 2.5, 323.75, 258.75, 921.25, 330.0, 10.0], [918.75, 5045.0, 920.0, 0.0, 418.75, 47.5, 781.25, 1957.5, 26.25], [864.5, 732.5, 4356.25, 0.0, 685.0, 1116.25, 113.75, 238.75, 2.5], [897.75, 526.25, 491.25, 0.0, 810.0, 380.0, 151.25, 748.75, 25.0], [1030.25, 1713.75, 2401.25, 0.0, 150.0, 37.5, 351.25, 1035.0, 5.0], [2321.75, 2260.0, 331.25, 0.0, 36.25, 90.0, 25.0, 40.0, 0.0], [1007.75, 880.0, 3213.75, 0.0, 448.75, 81.25, 112.5, 793.75, 1.25], [932.5, 1775.0, 3568.75, 0.0, 255.0, 8.75, 108.75, 501.25, 6.25], [1072.25, 268.75, 3322.5, 0.0, 451.25, 615.0, 127.5, 1422.5, 12.5], [989.0, 1757.5, 166.25, 0.0, 421.25, 18.75, 371.25, 853.75, 5.0], [1547.75, 916.25, 2310.0, 0.0, 288.75, 201.25, 162.5, 1192.5, 2.5], [1148.75, 3341.25, 0.0, 2.5, 166.25, 420.0, 125.0, 40.0, 5.0], [1202.75, 28.75, 15042.5, 1.25, 32.5, 231.25, 38.75, 1337.5, 27.5], [952.0, 3223.75, 1746.25, 2.5, 890.0, 525.0, 563.75, 1020.0, 28.75], [1024.0, 2480.0, 1352.5, 6.25, 11.25, 12.5, 517.5, 1256.25, 15.0], [911.25, 3407.5, 1317.5, 1.25, 63.75, 342.5, 372.5, 147.5, 43.75], [986.75, 1451.25, 3.75, 0.0, 1375.0, 103.75, 482.5, 1811.25, 35.0], [930.75, 708.75, 337.5, 0.0, 1350.0, 33.75, 197.5, 1275.0, 30.0], [982.0, 3001.25, 778.75, 0.0, 1721.25, 32.5, 512.5, 856.25, 30.0], [1117.75, 2155.0, 5256.25, 1.25, 397.5, 1438.75, 120.0, 247.5, 2.5], [953.5, 2106.25, 3743.75, 0.0, 326.25, 1318.75, 405.0, 413.75, 3.75], [1003.25, 1901.25, 1666.25, 2.5, 2683.75, 927.5, 867.5, 5661.25, 105.0], [928.0, 4328.75, 3183.75, 2.5, 893.75, 535.0, 330.0, 3415.0, 15.0], [1063.25, 402.5, 1235.0, 0.0, 713.75, 112.5, 296.25, 2322.5, 35.0], [970.25, 1835.0, 2061.25, 2.5, 1973.75, 445.0, 460.0, 2093.75, 40.0], [1194.25, 2570.0, 2071.25, 0.0, 90.0, 131.25, 43.75, 1043.75, 1.25], [907.25, 1637.5, 5045.0, 0.0, 108.75, 403.75, 481.25, 251.25, 6.25], [998.5, 1036.25, 1377.5, 0.0, 75.0, 476.25, 153.75, 50.0, 0.0], [987.0, 2052.5, 2722.5, 0.0, 27.5, 262.5, 423.75, 2502.5, 7.5], [1103.0, 3951.25, 1742.5, 0.0, 326.25, 553.75, 93.75, 70.0, 6.25], [1071.25, 987.5, 2772.5, 0.0, 96.25, 222.5, 45.0, 56.25, 10.0], [973.0, 5.0, 6368.75, 0.0, 182.5, 630.0, 3.75, 591.25, 0.0], [1245.5, 1488.75, 3392.5, 0.0, 12.5, 16.25, 82.5, 402.5, 1.25], [1313.75, 1742.5, 2031.25, 1.25, 61.25, 45.0, 75.0, 1027.5, 3.75], [860.5, 441.25, 3413.75, 0.0, 3538.75, 1322.5, 298.75, 923.75, 6.25], [910.5, 1077.5, 517.5, 1.25, 1718.75, 371.25, 275.0, 2082.5, 12.5], [1084.5, 2213.75, 1082.5, 0.0, 116.25, 296.25, 122.5, 100.0, 1.25], [1178.5, 500.0, 3558.75, 0.0, 15.0, 496.25, 11.25, 30.0, 1.25], [1183.0, 1442.5, 6020.0, 0.0, 617.5, 118.75, 487.5, 1891.25, 13.75], [1129.75, 2782.5, 2507.5, 1.25, 520.0, 202.5, 692.5, 3066.25, 20.0], [967.0, 3125.0, 1.25, 1.25, 3.75, 10.0, 470.0, 23.75, 0.0], [765.75, 1696.25, 1950.0, 0.0, 900.0, 1085.0, 140.0, 670.0, 0.0], [1055.5, 1727.5, 1958.75, 1.25, 58.75, 58.75, 133.75, 153.75, 1.25], [935.5, 503.75, 720.0, 1.25, 2031.25, 101.25, 85.0, 375.0, 0.0], [988.0, 583.75, 1568.75, 0.0, 1333.75, 267.5, 68.75, 990.0, 1.25], [1094.0, 1885.0, 1700.0, 0.0, 258.75, 6.25, 160.0, 2495.0, 1.25], [902.25, 1110.0, 2858.75, 0.0, 380.0, 138.75, 285.0, 205.0, 75.0], [1109.25, 5206.25, 8633.75, 0.0, 127.5, 448.75, 207.5, 666.25, 5.0], [1085.0, 822.5, 348.75, 0.0, 952.5, 526.25, 563.75, 2218.75, 20.0], [855.25, 1787.5, 511.25, 2.5, 380.0, 11.25, 385.0, 943.75, 1.25], [805.25, 1785.0, 2852.5, 1.25, 436.25, 122.5, 581.25, 667.5, 61.25], [1071.5, 118.75, 4041.25, 1.25, 328.75, 761.25, 135.0, 2663.75, 78.75], [1046.0, 2197.5, 4758.75, 0.0, 137.5, 307.5, 148.75, 200.0, 1.25], [1622.0, 2326.25, 576.25, 0.0, 66.25, 48.75, 20.0, 336.25, 2.5], [945.75, 1285.0, 692.5, 0.0, 548.75, 145.0, 86.25, 362.5, 2.5], [948.0, 3731.25, 6731.25, 0.0, 1032.5, 2441.25, 340.0, 645.0, 10.0], [1360.25, 2447.5, 2508.75, 1.25, 42.5, 0.0, 153.75, 592.5, 12.5], [1372.75, 3196.25, 201.25, 0.0, 871.25, 23.75, 177.5, 1008.75, 1.25], [1372.75, 3472.5, 773.75, 0.0, 126.25, 38.75, 225.0, 966.25, 16.25], [1250.5, 3601.25, 548.75, 0.0, 791.25, 75.0, 47.5, 1421.25, 8.75], [1043.5, 343.75, 1097.5, 0.0, 666.25, 658.75, 212.5, 2560.0, 38.75], [993.5, 1513.75, 960.0, 0.0, 76.25, 85.0, 216.25, 1696.25, 15.0], [998.75, 3693.75, 2982.5, 0.0, 1317.5, 3410.0, 878.75, 552.5, 55.0], [949.25, 1690.0, 861.25, 2.5, 167.5, 97.5, 151.25, 595.0, 3.75], [1117.5, 1788.75, 2010.0, 0.0, 6.25, 270.0, 81.25, 108.75, 2.5], [951.0, 3910.0, 1948.75, 0.0, 550.0, 605.0, 395.0, 95.0, 22.5], [1084.5, 2406.25, 6996.25, 1.25, 266.25, 766.25, 407.5, 2966.25, 18.75], [917.75, 2256.25, 2105.0, 1.25, 27.5, 880.0, 255.0, 211.25, 2.5], [938.5, 110.0, 5908.75, 0.0, 167.5, 630.0, 106.25, 1973.75, 23.75], [957.25, 1028.75, 2238.75, 0.0, 138.75, 302.5, 176.25, 912.5, 2.5], [955.25, 1730.0, 5916.25, 1.25, 176.25, 1033.75, 603.75, 127.5, 1.25], [1205.75, 2225.0, 2008.75, 1.25, 1611.25, 146.25, 170.0, 1066.25, 97.5], [1219.75, 503.75, 13042.5, 6.25, 193.75, 237.5, 96.25, 1877.5, 21.25], [865.5, 1601.25, 1091.25, 1.25, 205.0, 203.75, 188.75, 1763.75, 3.75], [1230.0, 2906.25, 2403.75, 1.25, 8.75, 35.0, 265.0, 302.5, 0.0], [1139.25, 2696.25, 3677.5, 0.0, 631.25, 500.0, 273.75, 392.5, 1.25], [1343.75, 52.5, 8266.25, 0.0, 142.5, 857.5, 232.5, 1683.75, 17.5], [1134.5, 875.0, 667.5, 0.0, 1391.25, 236.25, 262.5, 1575.0, 31.25], [1015.5, 15.0, 8233.75, 1.25, 22.5, 80.0, 17.5, 513.75, 6.25], [785.5, 1142.5, 3193.75, 0.0, 150.0, 206.25, 300.0, 217.5, 15.0], [937.5, 3000.0, 1600.0, 0.0, 1282.5, 31.25, 667.5, 2055.0, 21.25], [939.0, 3033.75, 2320.0, 1.25, 127.5, 118.75, 293.75, 1487.5, 6.25], [993.75, 2313.75, 528.75, 0.0, 170.0, 0.0, 358.75, 423.75, 12.5], [1201.5, 458.75, 263.75, 1.25, 1150.0, 298.75, 240.0, 3713.75, 66.25], [1125.0, 2567.5, 6465.0, 1.25, 1445.0, 1365.0, 83.75, 1157.5, 5.0], [1012.0, 1795.0, 420.0, 0.0, 321.25, 120.0, 281.25, 142.5, 5.0], [1198.25, 720.0, 931.25, 0.0, 652.5, 62.5, 201.25, 1000.0, 17.5], [1072.0, 1026.25, 1467.5, 0.0, 1978.75, 272.5, 71.25, 676.25, 6.25], [1239.75, 3298.75, 445.0, 0.0, 2.5, 41.25, 47.5, 10.0, 2.5], [815.25, 15.0, 2506.25, 0.0, 57.5, 577.5, 8.75, 911.25, 16.25], [900.5, 1886.25, 635.0, 0.0, 36.25, 451.25, 326.25, 552.5, 0.0], [867.5, 2902.5, 3225.0, 1.25, 1081.25, 233.75, 381.25, 1043.75, 0.0], [1037.0, 843.75, 1635.0, 10.0, 1148.75, 356.25, 390.0, 2278.75, 53.75], [1537.25, 2498.75, 4641.25, 0.0, 486.25, 245.0, 327.5, 1618.75, 2.5], [1130.0, 6937.5, 936.25, 0.0, 975.0, 1621.25, 732.5, 608.75, 6.25], [1147.0, 2058.75, 1.25, 0.0, 760.0, 47.5, 261.25, 683.75, 7.5], [791.75, 1168.75, 1945.0, 0.0, 198.75, 2.5, 71.25, 208.75, 3.75], [903.75, 1081.25, 3948.75, 0.0, 32.5, 206.25, 138.75, 320.0, 0.0], [1019.5, 337.5, 6557.5, 5.0, 243.75, 278.75, 192.5, 2968.75, 12.5], [971.0, 1005.0, 1012.5, 3.75, 2686.25, 1566.25, 467.5, 3823.75, 85.0], [1384.5, 3225.0, 1670.0, 0.0, 185.0, 552.5, 97.5, 586.25, 5.0], [1125.75, 3711.25, 2592.5, 1.25, 190.0, 558.75, 275.0, 257.5, 0.0], [1041.25, 5872.5, 867.5, 0.0, 93.75, 357.5, 222.5, 2788.75, 6.25], [973.75, 3168.75, 4542.5, 0.0, 170.0, 891.25, 477.5, 408.75, 10.0], [919.25, 622.5, 4795.0, 0.0, 203.75, 216.25, 150.0, 218.75, 15.0], [1257.75, 2642.5, 488.75, 1.25, 1543.75, 285.0, 461.25, 3770.0, 23.75], [938.5, 1682.5, 666.25, 0.0, 322.5, 52.5, 253.75, 237.5, 3.75], [1088.5, 3.75, 6318.75, 0.0, 0.0, 141.25, 0.0, 187.5, 5.0], [1160.0, 442.5, 178.75, 0.0, 1023.75, 1027.5, 460.0, 3310.0, 168.75], [1263.0, 155.0, 830.0, 0.0, 301.25, 321.25, 146.25, 1252.5, 46.25], [916.25, 1256.25, 3150.0, 0.0, 315.0, 308.75, 130.0, 2002.5, 11.25], [1438.75, 267.5, 21913.75, 2.5, 68.75, 528.75, 31.25, 667.5, 15.0], [761.25, 3250.0, 3441.25, 0.0, 475.0, 1252.5, 576.25, 575.0, 16.25], [986.25, 4381.25, 1725.0, 0.0, 273.75, 1341.25, 1345.0, 505.0, 2.5], [1121.5, 846.25, 7665.0, 0.0, 642.5, 400.0, 117.5, 277.5, 12.5], [927.75, 1742.5, 4387.5, 0.0, 216.25, 142.5, 193.75, 768.75, 5.0], [804.5, 650.0, 553.75, 1.25, 1342.5, 307.5, 186.25, 1135.0, 21.25], [926.5, 5482.5, 1810.0, 2.5, 13.75, 251.25, 1313.75, 1090.0, 10.0], [1424.0, 3533.75, 11598.75, 6.25, 63.75, 736.25, 205.0, 1378.75, 10.0], [1149.75, 2178.75, 3253.75, 1.25, 143.75, 133.75, 251.25, 202.5, 0.0], [1109.75, 3647.5, 3373.75, 0.0, 531.25, 277.5, 183.75, 42.5, 0.0], [884.25, 6623.75, 8898.75, 1.25, 326.25, 241.25, 1417.5, 430.0, 7.5], [909.0, 898.75, 577.5, 0.0, 1646.25, 253.75, 161.25, 1721.25, 23.75], [906.5, 1938.75, 633.75, 0.0, 323.75, 21.25, 257.5, 303.75, 7.5], [1017.25, 1056.25, 1236.25, 0.0, 992.5, 298.75, 325.0, 1878.75, 17.5], [1347.75, 1468.75, 1638.75, 0.0, 470.0, 33.75, 328.75, 1385.0, 6.25], [1369.0, 565.0, 3948.75, 0.0, 425.0, 212.5, 172.5, 1308.75, 6.25], [937.5, 1355.0, 5165.0, 1.25, 1316.25, 662.5, 188.75, 1085.0, 33.75], [942.5, 2286.25, 1347.5, 0.0, 73.75, 450.0, 377.5, 722.5, 7.5]], \"hovertemplate\": \"<b>%{hovertext}</b><br><br>lat=%{lat}<br>lon=%{lon}<br>shelter_costs_rented=%{customdata[0]}<br>single_detached_house=%{customdata[1]}<br>apartment_five_storeys_plus=%{customdata[2]}<br>movable_dwelling=%{customdata[3]}<br>semi_detached_house=%{customdata[4]}<br>row_house=%{customdata[5]}<br>duplex=%{customdata[6]}<br>apartment_five_storeys_less=%{customdata[7]}<br>other_house=%{customdata[8]}<br>average_house_value=%{marker.color}<extra></extra>\", \"hovertext\": [\"Agincourt North\", \"Agincourt South-Malvern West\", \"Alderwood\", \"Annex\", \"Banbury-Don Mills\", \"Bathurst Manor\", \"Bay Street Corridor\", \"Bayview Village\", \"Bayview Woods-Steeles\", \"Bedford Park-Nortown\", \"Beechborough-Greenbrook\", \"Bendale\", \"Birchcliffe-Cliffside\", \"Black Creek\", \"Blake-Jones\", \"Briar Hill-Belgravia\", \"Bridle Path-Sunnybrook-York Mills\", \"Broadview North\", \"Brookhaven-Amesbury\", \"Cabbagetown-South St.James Town\", \"Caledonia-Fairbank\", \"Casa Loma\", \"Centennial Scarborough\", \"Church-Yonge Corridor\", \"Clairlea-Birchmount\", \"Clanton Park\", \"Cliffcrest\", \"Corso Italia-Davenport\", \"Danforth\", \"Danforth-East York\", \"Don Valley Village\", \"Dorset Park\", \"Dovercourt-Wallace Emerson-Juncti\", \"Downsview-Roding-CFB\", \"Dufferin Grove\", \"East End-Danforth\", \"Edenbridge-Humber Valley\", \"Eglinton East\", \"Elms-Old Rexdale\", \"Englemount-Lawrence\", \"Eringate-Centennial-West Deane\", \"Etobicoke West Mall\", \"Flemingdon Park\", \"Forest Hill North\", \"Forest Hill South\", \"Glenfield-Jane Heights\", \"Greenwood-Coxwell\", \"Guildwood\", \"Henry Farm\", \"High Park North\", \"High Park-Swansea\", \"Highland Creek\", \"Hillcrest Village\", \"Humber Heights-Westmount\", \"Humber Summit\", \"Humbermede\", \"Humewood-Cedarvale\", \"Ionview\", \"Islington-City Centre West\", \"Junction Area\", \"Keelesdale-Eglinton West\", \"Kennedy Park\", \"Kensington-Chinatown\", \"Kingsview Village-The Westway\", \"Kingsway South\", \"L'Amoreaux\", \"Lambton Baby Point\", \"Lansing-Westgate\", \"Lawrence Park North\", \"Lawrence Park South\", \"Leaside-Bennington\", \"Little Portugal\", \"Long Branch\", \"Malvern\", \"Maple Leaf\", \"Markland Wood\", \"Milliken\", \"Mimico\", \"Morningside\", \"Moss Park\", \"Mount Dennis\", \"Mount Olive-Silverstone-Jamestown\", \"Mount Pleasant East\", \"Mount Pleasant West\", \"New Toronto\", \"Newtonbrook East\", \"Newtonbrook West\", \"Niagara\", \"North Riverdale\", \"North St.James Town\", \"O'Connor-Parkview\", \"Oakridge\", \"Oakwood Village\", \"Old East York\", \"Palmerston-Little Italy\", \"Parkwoods-Donalda\", \"Pelmo Park-Humberlea\", \"Playter Estates-Danforth\", \"Pleasant View\", \"Princess-Rosethorn\", \"Regent Park\", \"Rexdale-Kipling\", \"Rockcliffe-Smythe\", \"Roncesvalles\", \"Rosedale-Moore Park\", \"Rouge\", \"Runnymede-Bloor West Village\", \"Rustic\", \"Scarborough Village\", \"South Parkdale\", \"South Riverdale\", \"St.Andrew-Windfields\", \"Steeles\", \"Stonegate-Queensway\", \"Tam O'Shanter-Sullivan\", \"Taylor-Massey\", \"The Beaches\", \"Thistletown-Beaumond Heights\", \"Thorncliffe Park\", \"Trinity-Bellwoods\", \"University\", \"Victoria Village\", \"Waterfront Communities-The Island\", \"West Hill\", \"West Humber-Clairville\", \"Westminster-Branson\", \"Weston\", \"Weston-Pellam Park\", \"Wexford/Maryvale\", \"Willowdale East\", \"Willowdale West\", \"Willowridge-Martingrove-Richview\", \"Woburn\", \"Woodbine Corridor\", \"Woodbine-Lumsden\", \"Wychwood\", \"Yonge-Eglinton\", \"Yonge-St.Clair\", \"York University Heights\", \"Yorkdale-Glen Park\"], \"lat\": [43.80544058, 43.78865755, 43.6049369, 43.67158544, 43.737657, 43.76481331, 43.65751135, 43.77636052, 43.79680187, 43.73148623, 43.69321649, 43.76036631, 43.69468198, 43.76489025, 43.67617288, 43.69902438, 43.73101314, 43.68882512, 43.70132631, 43.66764773, 43.68856865, 43.6818521, 43.7823765, 43.65964886, 43.71359238, 43.74197843, 43.72112117, 43.67766091, 43.68402547, 43.68946809, 43.78329369, 43.75927437, 43.66567693, 43.73329235, 43.65542833, 43.68417388, 43.67088591, 43.7409223, 43.72151887, 43.72034467, 43.65801676, 43.64506262, 43.71592975, 43.70421756, 43.69452576, 43.74563575, 43.67261231, 43.74882934, 43.77114414, 43.65756491, 43.64506458, 43.79077477, 43.80298783, 43.6922328, 43.75891975, 43.74342952, 43.69136981, 43.73536441, 43.63346335, 43.66788977, 43.68572747, 43.72555572, 43.65355413, 43.69899257, 43.65352043, 43.79571603, 43.65742013, 43.75427115, 43.73006017, 43.7172117, 43.70379663, 43.64753593, 43.59236169, 43.80365820000001, 43.71557394, 43.63354175, 43.82069079, 43.61592386, 43.78239861, 43.65651762, 43.68814409, 43.7468678, 43.70485217, 43.70443517, 43.6005886, 43.79153579, 43.78582994, 43.63668088, 43.67199515, 43.66962341, 43.70680049, 43.69740813, 43.68856556, 43.69678127, 43.6591571, 43.75503347, 43.7175146, 43.67970047, 43.78698176, 43.6660506, 43.65999214, 43.72372548, 43.67479045, 43.64612299, 43.68282043, 43.82120126, 43.65926882, 43.71160912, 43.73865186, 43.63669952, 43.64929206, 43.75624583, 43.81295883, 43.63551813, 43.78012985, 43.69499819, 43.67104999, 43.73798792, 43.70774921, 43.6501763, 43.6625062, 43.72848902, 43.63388036, 43.76749026, 43.7161804, 43.77881322, 43.70271605, 43.67396204, 43.74857214, 43.77060226, 43.77121049, 43.68364496, 43.76674024, 43.67677292, 43.69410674, 43.67691927, 43.70468937, 43.68785887, 43.76573649, 43.71467153], \"legendgroup\": \"\", \"lon\": [-79.26671217, -79.2656118, -79.54161093, -79.40400062, -79.34971798, -79.45605516, -79.38572125, -79.37711686, -79.38211795, -79.42022735, -79.47947251, -79.25740037, -79.26509259, -79.52197932, -79.33739417, -79.45285129999999, -79.37890418, -79.35562951, -79.48558926, -79.36610666, -79.45521208, -79.40800665, -79.15084327, -79.37901717, -79.28138178, -79.44630258, -79.23552957, -79.44746933, -79.32981941, -79.33140338, -79.35364413, -79.27890794, -79.4385407, -79.49049735, -79.43734104, -79.29935867, -79.52245776, -79.24559804, -79.54898272, -79.43740855, -79.58044524, -79.56893877, -79.33264597, -79.42814316, -79.41431786, -79.51346532, -79.32431802, -79.19505535, -79.34124067, -79.46630217, -79.46787222, -79.17747247, -79.354804, -79.5224162, -79.55617474, -79.54236712, -79.42768335, -79.27247049, -79.54331654, -79.47143987, -79.47143711, -79.26038221, -79.39723988, -79.54786331, -79.5105768, -79.31408424, -79.49604526, -79.42474772, -79.40397836, -79.40603941, -79.36607234, -79.43032271, -79.53334545, -79.22251662, -79.48075802, -79.57343155, -79.27500892, -79.50013664, -79.20704119, -79.36729703, -79.49998906, -79.58725926, -79.38492395, -79.39335955, -79.51035809, -79.40593745, -79.43142151, -79.4124204, -79.35126041, -79.37524658, -79.31222777, -79.27970834, -79.43978548, -79.33548836, -79.41840873, -79.33017952, -79.5282822, -79.35488729, -79.33494843, -79.54455929, -79.36050881, -79.56622841, -79.49442045, -79.44299245, -79.3796694, -79.18634345, -79.48570818, -79.49809147, -79.21681262, -79.43933783, -79.33565132, -79.37903709, -79.32120701, -79.50112821, -79.30291871, -79.29590112, -79.29960129999999, -79.56349102, -79.34998361, -79.41534216, -79.40117975, -79.31487383, -79.37720231, -79.17667603, -79.59635645, -79.45241823, -79.51572255, -79.46024391, -79.29863657, -79.40148379, -79.4275578, -79.55422105, -79.22858577, -79.31540738, -79.31116353, -79.42551495, -79.40359017, -79.39787077, -79.48888293, -79.45710807], \"marker\": {\"color\": [329811.5, 334189.0, 427922.5, 746977.0, 612039.0, 501576.75, 423653.5, 539258.75, 565413.5, 930415.25, 370927.75, 301123.25, 437315.0, 260841.75, 511437.0, 365524.5, 1526485.75, 443373.25, 350943.0, 494110.5, 361714.25, 981064.25, 409862.75, 406117.5, 354555.25, 551561.25, 417422.0, 419930.5, 466943.0, 421679.25, 398010.25, 262000.25, 434699.5, 381415.5, 457588.75, 478054.25, 796162.5, 268966.5, 268341.25, 568936.75, 397781.75, 309412.0, 207799.0, 851680.5, 1195992.5, 327597.75, 387055.5, 369373.5, 369958.0, 532497.0, 582977.75, 428838.5, 395023.0, 449150.5, 352082.5, 319783.75, 697085.5, 287685.75, 451685.25, 433269.25, 322774.75, 287233.5, 440485.75, 338344.75, 843234.25, 650307.75, 336617.75, 613216.5, 759392.5, 1094027.75, 806471.75, 540192.5, 385830.25, 256880.25, 453229.0, 443974.75, 344988.25, 393490.5, 285013.5, 409456.0, 262308.75, 253182.25, 677370.25, 468181.75, 407812.0, 559573.25, 460568.5, 369993.0, 703063.25, 411455.75, 298315.75, 422257.5, 441202.75, 443413.5, 622191.75, 454652.5, 405431.25, 648859.25, 373375.25, 765746.5, 392578.25, 360999.25, 345660.25, 508937.25, 1093640.0, 376286.75, 552082.0, 431090.5, 329835.75, 447478.5, 455020.5, 999107.0, 376014.5, 550432.25, 353926.5, 239414.0, 666306.0, 375864.0, 255264.75, 534465.75, 618316.75, 352133.0, 376863.0, 284647.5, 343254.25, 349320.25, 308007.75, 351802.0, 348319.25, 469045.5, 466134.75, 464278.0, 298505.75, 445382.75, 369918.5, 565976.5, 809745.75, 813220.25, 305899.5, 430861.25], \"coloraxis\": \"coloraxis\"}, \"mode\": \"markers\", \"name\": \"\", \"showlegend\": false, \"subplot\": \"mapbox\", \"type\": \"scattermapbox\"}],                        {\"coloraxis\": {\"colorbar\": {\"title\": {\"text\": \"average_house_value\"}}, \"colorscale\": [[0.0, \"#0d0887\"], [0.1111111111111111, \"#46039f\"], [0.2222222222222222, \"#7201a8\"], [0.3333333333333333, \"#9c179e\"], [0.4444444444444444, \"#bd3786\"], [0.5555555555555556, \"#d8576b\"], [0.6666666666666666, \"#ed7953\"], [0.7777777777777778, \"#fb9f3a\"], [0.8888888888888888, \"#fdca26\"], [1.0, \"#f0f921\"]]}, \"legend\": {\"tracegroupgap\": 0}, \"mapbox\": {\"accesstoken\": \"pk.eyJ1IjoibmQwMyIsImEiOiJja3B4anluMGowMWRqMm5scjk4bDA2anozIn0.EfR48N3e0CwEHNW-kH0fug\", \"center\": {\"lat\": 43.708840577642846, \"lon\": -79.4001855035}, \"domain\": {\"x\": [0.0, 1.0], \"y\": [0.0, 1.0]}, \"zoom\": 8}, \"margin\": {\"t\": 60}, \"template\": {\"data\": {\"bar\": [{\"error_x\": {\"color\": \"#2a3f5f\"}, \"error_y\": {\"color\": \"#2a3f5f\"}, \"marker\": {\"line\": {\"color\": \"#E5ECF6\", \"width\": 0.5}}, \"type\": \"bar\"}], \"barpolar\": [{\"marker\": {\"line\": {\"color\": \"#E5ECF6\", \"width\": 0.5}}, \"type\": \"barpolar\"}], \"carpet\": [{\"aaxis\": {\"endlinecolor\": \"#2a3f5f\", \"gridcolor\": \"white\", \"linecolor\": \"white\", \"minorgridcolor\": \"white\", \"startlinecolor\": \"#2a3f5f\"}, \"baxis\": {\"endlinecolor\": \"#2a3f5f\", \"gridcolor\": \"white\", \"linecolor\": \"white\", \"minorgridcolor\": \"white\", \"startlinecolor\": \"#2a3f5f\"}, \"type\": \"carpet\"}], \"choropleth\": [{\"colorbar\": {\"outlinewidth\": 0, \"ticks\": \"\"}, \"type\": \"choropleth\"}], \"contour\": [{\"colorbar\": {\"outlinewidth\": 0, \"ticks\": \"\"}, \"colorscale\": [[0.0, \"#0d0887\"], [0.1111111111111111, \"#46039f\"], [0.2222222222222222, \"#7201a8\"], [0.3333333333333333, \"#9c179e\"], [0.4444444444444444, \"#bd3786\"], [0.5555555555555556, \"#d8576b\"], [0.6666666666666666, \"#ed7953\"], [0.7777777777777778, \"#fb9f3a\"], [0.8888888888888888, \"#fdca26\"], [1.0, \"#f0f921\"]], \"type\": \"contour\"}], \"contourcarpet\": [{\"colorbar\": {\"outlinewidth\": 0, \"ticks\": \"\"}, \"type\": \"contourcarpet\"}], \"heatmap\": [{\"colorbar\": {\"outlinewidth\": 0, \"ticks\": \"\"}, \"colorscale\": [[0.0, \"#0d0887\"], [0.1111111111111111, \"#46039f\"], [0.2222222222222222, \"#7201a8\"], [0.3333333333333333, \"#9c179e\"], [0.4444444444444444, \"#bd3786\"], [0.5555555555555556, \"#d8576b\"], [0.6666666666666666, \"#ed7953\"], [0.7777777777777778, \"#fb9f3a\"], [0.8888888888888888, \"#fdca26\"], [1.0, \"#f0f921\"]], \"type\": \"heatmap\"}], \"heatmapgl\": [{\"colorbar\": {\"outlinewidth\": 0, \"ticks\": \"\"}, \"colorscale\": [[0.0, \"#0d0887\"], [0.1111111111111111, \"#46039f\"], [0.2222222222222222, \"#7201a8\"], [0.3333333333333333, \"#9c179e\"], [0.4444444444444444, \"#bd3786\"], [0.5555555555555556, \"#d8576b\"], [0.6666666666666666, \"#ed7953\"], [0.7777777777777778, \"#fb9f3a\"], [0.8888888888888888, \"#fdca26\"], [1.0, \"#f0f921\"]], \"type\": \"heatmapgl\"}], \"histogram\": [{\"marker\": {\"colorbar\": {\"outlinewidth\": 0, \"ticks\": \"\"}}, \"type\": \"histogram\"}], \"histogram2d\": [{\"colorbar\": {\"outlinewidth\": 0, \"ticks\": \"\"}, \"colorscale\": [[0.0, \"#0d0887\"], [0.1111111111111111, \"#46039f\"], [0.2222222222222222, \"#7201a8\"], [0.3333333333333333, \"#9c179e\"], [0.4444444444444444, \"#bd3786\"], [0.5555555555555556, \"#d8576b\"], [0.6666666666666666, \"#ed7953\"], [0.7777777777777778, \"#fb9f3a\"], [0.8888888888888888, \"#fdca26\"], [1.0, \"#f0f921\"]], \"type\": \"histogram2d\"}], \"histogram2dcontour\": [{\"colorbar\": {\"outlinewidth\": 0, \"ticks\": \"\"}, \"colorscale\": [[0.0, \"#0d0887\"], [0.1111111111111111, \"#46039f\"], [0.2222222222222222, \"#7201a8\"], [0.3333333333333333, \"#9c179e\"], [0.4444444444444444, \"#bd3786\"], [0.5555555555555556, \"#d8576b\"], [0.6666666666666666, \"#ed7953\"], [0.7777777777777778, \"#fb9f3a\"], [0.8888888888888888, \"#fdca26\"], [1.0, \"#f0f921\"]], \"type\": \"histogram2dcontour\"}], \"mesh3d\": [{\"colorbar\": {\"outlinewidth\": 0, \"ticks\": \"\"}, \"type\": \"mesh3d\"}], \"parcoords\": [{\"line\": {\"colorbar\": {\"outlinewidth\": 0, \"ticks\": \"\"}}, \"type\": \"parcoords\"}], \"pie\": [{\"automargin\": true, \"type\": \"pie\"}], \"scatter\": [{\"marker\": {\"colorbar\": {\"outlinewidth\": 0, \"ticks\": \"\"}}, \"type\": \"scatter\"}], \"scatter3d\": [{\"line\": {\"colorbar\": {\"outlinewidth\": 0, \"ticks\": \"\"}}, \"marker\": {\"colorbar\": {\"outlinewidth\": 0, \"ticks\": \"\"}}, \"type\": \"scatter3d\"}], \"scattercarpet\": [{\"marker\": {\"colorbar\": {\"outlinewidth\": 0, \"ticks\": \"\"}}, \"type\": \"scattercarpet\"}], \"scattergeo\": [{\"marker\": {\"colorbar\": {\"outlinewidth\": 0, \"ticks\": \"\"}}, \"type\": \"scattergeo\"}], \"scattergl\": [{\"marker\": {\"colorbar\": {\"outlinewidth\": 0, \"ticks\": \"\"}}, \"type\": \"scattergl\"}], \"scattermapbox\": [{\"marker\": {\"colorbar\": {\"outlinewidth\": 0, \"ticks\": \"\"}}, \"type\": \"scattermapbox\"}], \"scatterpolar\": [{\"marker\": {\"colorbar\": {\"outlinewidth\": 0, \"ticks\": \"\"}}, \"type\": \"scatterpolar\"}], \"scatterpolargl\": [{\"marker\": {\"colorbar\": {\"outlinewidth\": 0, \"ticks\": \"\"}}, \"type\": \"scatterpolargl\"}], \"scatterternary\": [{\"marker\": {\"colorbar\": {\"outlinewidth\": 0, \"ticks\": \"\"}}, \"type\": \"scatterternary\"}], \"surface\": [{\"colorbar\": {\"outlinewidth\": 0, \"ticks\": \"\"}, \"colorscale\": [[0.0, \"#0d0887\"], [0.1111111111111111, \"#46039f\"], [0.2222222222222222, \"#7201a8\"], [0.3333333333333333, \"#9c179e\"], [0.4444444444444444, \"#bd3786\"], [0.5555555555555556, \"#d8576b\"], [0.6666666666666666, \"#ed7953\"], [0.7777777777777778, \"#fb9f3a\"], [0.8888888888888888, \"#fdca26\"], [1.0, \"#f0f921\"]], \"type\": \"surface\"}], \"table\": [{\"cells\": {\"fill\": {\"color\": \"#EBF0F8\"}, \"line\": {\"color\": \"white\"}}, \"header\": {\"fill\": {\"color\": \"#C8D4E3\"}, \"line\": {\"color\": \"white\"}}, \"type\": \"table\"}]}, \"layout\": {\"annotationdefaults\": {\"arrowcolor\": \"#2a3f5f\", \"arrowhead\": 0, \"arrowwidth\": 1}, \"autotypenumbers\": \"strict\", \"coloraxis\": {\"colorbar\": {\"outlinewidth\": 0, \"ticks\": \"\"}}, \"colorscale\": {\"diverging\": [[0, \"#8e0152\"], [0.1, \"#c51b7d\"], [0.2, \"#de77ae\"], [0.3, \"#f1b6da\"], [0.4, \"#fde0ef\"], [0.5, \"#f7f7f7\"], [0.6, \"#e6f5d0\"], [0.7, \"#b8e186\"], [0.8, \"#7fbc41\"], [0.9, \"#4d9221\"], [1, \"#276419\"]], \"sequential\": [[0.0, \"#0d0887\"], [0.1111111111111111, \"#46039f\"], [0.2222222222222222, \"#7201a8\"], [0.3333333333333333, \"#9c179e\"], [0.4444444444444444, \"#bd3786\"], [0.5555555555555556, \"#d8576b\"], [0.6666666666666666, \"#ed7953\"], [0.7777777777777778, \"#fb9f3a\"], [0.8888888888888888, \"#fdca26\"], [1.0, \"#f0f921\"]], \"sequentialminus\": [[0.0, \"#0d0887\"], [0.1111111111111111, \"#46039f\"], [0.2222222222222222, \"#7201a8\"], [0.3333333333333333, \"#9c179e\"], [0.4444444444444444, \"#bd3786\"], [0.5555555555555556, \"#d8576b\"], [0.6666666666666666, \"#ed7953\"], [0.7777777777777778, \"#fb9f3a\"], [0.8888888888888888, \"#fdca26\"], [1.0, \"#f0f921\"]]}, \"colorway\": [\"#636efa\", \"#EF553B\", \"#00cc96\", \"#ab63fa\", \"#FFA15A\", \"#19d3f3\", \"#FF6692\", \"#B6E880\", \"#FF97FF\", \"#FECB52\"], \"font\": {\"color\": \"#2a3f5f\"}, \"geo\": {\"bgcolor\": \"white\", \"lakecolor\": \"white\", \"landcolor\": \"#E5ECF6\", \"showlakes\": true, \"showland\": true, \"subunitcolor\": \"white\"}, \"hoverlabel\": {\"align\": \"left\"}, \"hovermode\": \"closest\", \"mapbox\": {\"style\": \"light\"}, \"paper_bgcolor\": \"white\", \"plot_bgcolor\": \"#E5ECF6\", \"polar\": {\"angularaxis\": {\"gridcolor\": \"white\", \"linecolor\": \"white\", \"ticks\": \"\"}, \"bgcolor\": \"#E5ECF6\", \"radialaxis\": {\"gridcolor\": \"white\", \"linecolor\": \"white\", \"ticks\": \"\"}}, \"scene\": {\"xaxis\": {\"backgroundcolor\": \"#E5ECF6\", \"gridcolor\": \"white\", \"gridwidth\": 2, \"linecolor\": \"white\", \"showbackground\": true, \"ticks\": \"\", \"zerolinecolor\": \"white\"}, \"yaxis\": {\"backgroundcolor\": \"#E5ECF6\", \"gridcolor\": \"white\", \"gridwidth\": 2, \"linecolor\": \"white\", \"showbackground\": true, \"ticks\": \"\", \"zerolinecolor\": \"white\"}, \"zaxis\": {\"backgroundcolor\": \"#E5ECF6\", \"gridcolor\": \"white\", \"gridwidth\": 2, \"linecolor\": \"white\", \"showbackground\": true, \"ticks\": \"\", \"zerolinecolor\": \"white\"}}, \"shapedefaults\": {\"line\": {\"color\": \"#2a3f5f\"}}, \"ternary\": {\"aaxis\": {\"gridcolor\": \"white\", \"linecolor\": \"white\", \"ticks\": \"\"}, \"baxis\": {\"gridcolor\": \"white\", \"linecolor\": \"white\", \"ticks\": \"\"}, \"bgcolor\": \"#E5ECF6\", \"caxis\": {\"gridcolor\": \"white\", \"linecolor\": \"white\", \"ticks\": \"\"}}, \"title\": {\"x\": 0.05}, \"xaxis\": {\"automargin\": true, \"gridcolor\": \"white\", \"linecolor\": \"white\", \"ticks\": \"\", \"title\": {\"standoff\": 15}, \"zerolinecolor\": \"white\", \"zerolinewidth\": 2}, \"yaxis\": {\"automargin\": true, \"gridcolor\": \"white\", \"linecolor\": \"white\", \"ticks\": \"\", \"title\": {\"standoff\": 15}, \"zerolinecolor\": \"white\", \"zerolinewidth\": 2}}}},                        {\"responsive\": true}                    ).then(function(){\n",
       "                            \n",
       "var gd = document.getElementById('d2cb68bb-a9a7-458d-a412-dd956b08f148');\n",
       "var x = new MutationObserver(function (mutations, observer) {{\n",
       "        var display = window.getComputedStyle(gd).display;\n",
       "        if (!display || display === 'none') {{\n",
       "            console.log([gd, 'removed!']);\n",
       "            Plotly.purge(gd);\n",
       "            observer.disconnect();\n",
       "        }}\n",
       "}});\n",
       "\n",
       "// Listen for the removal of the full notebook cells\n",
       "var notebookContainer = gd.closest('#notebook-container');\n",
       "if (notebookContainer) {{\n",
       "    x.observe(notebookContainer, {childList: true});\n",
       "}}\n",
       "\n",
       "// Listen for the clearing of the current output cell\n",
       "var outputEl = gd.closest('.output');\n",
       "if (outputEl) {{\n",
       "    x.observe(outputEl, {childList: true});\n",
       "}}\n",
       "\n",
       "                        })                };                });            </script>        </div>"
      ]
     },
     "metadata": {},
     "output_type": "display_data"
    }
   ],
   "source": [
    "# Create a scatter mapbox to analyze neighbourhood info\n",
    "# YOUR CODE HERE!\n",
    "map_plot = px.scatter_mapbox(join_mean_values_neighbourhood_locations, lat = \"lat\" , lon = \"lon\",  color= \"average_house_value\", hover_name=\"neighbourhood\",\n",
    "                             hover_data=(\"shelter_costs_rented\",\"single_detached_house\",\"apartment_five_storeys_plus\", \"movable_dwelling\", \"semi_detached_house\",\"row_house\",\n",
    "                                         \"duplex\",\"apartment_five_storeys_less\",\"other_house\"))\n",
    "map_plot.show()\n",
    "\n",
    "#map_plot = px.scatter_mapbox(places_of_interest, lat = \"Latitude\" , lon = \"Longitude\", size= \"Borough\" , zoom =4 )"
   ]
  },
  {
   "cell_type": "markdown",
   "metadata": {},
   "source": [
    "- - -"
   ]
  },
  {
   "cell_type": "markdown",
   "metadata": {},
   "source": [
    "## Cost Analysis - Optional Challenge\n",
    "\n",
    "In this section, you will use Plotly express to a couple of plots that investors can interactively filter and explore various factors related to the house value of the Toronto's neighbourhoods. \n",
    "\n",
    "### Create a bar chart row facet to plot the average house values for all Toronto's neighbourhoods per year"
   ]
  },
  {
   "cell_type": "code",
   "execution_count": 60,
   "metadata": {},
   "outputs": [
    {
     "data": {
      "text/html": [
       "<div>\n",
       "<style scoped>\n",
       "    .dataframe tbody tr th:only-of-type {\n",
       "        vertical-align: middle;\n",
       "    }\n",
       "\n",
       "    .dataframe tbody tr th {\n",
       "        vertical-align: top;\n",
       "    }\n",
       "\n",
       "    .dataframe thead th {\n",
       "        text-align: right;\n",
       "    }\n",
       "</style>\n",
       "<table border=\"1\" class=\"dataframe\">\n",
       "  <thead>\n",
       "    <tr style=\"text-align: right;\">\n",
       "      <th></th>\n",
       "      <th>year</th>\n",
       "      <th>neighbourhood</th>\n",
       "      <th>average_house_value</th>\n",
       "    </tr>\n",
       "  </thead>\n",
       "  <tbody>\n",
       "    <tr>\n",
       "      <th>0</th>\n",
       "      <td>2001</td>\n",
       "      <td>Agincourt North</td>\n",
       "      <td>200388</td>\n",
       "    </tr>\n",
       "    <tr>\n",
       "      <th>1</th>\n",
       "      <td>2001</td>\n",
       "      <td>Agincourt South-Malvern West</td>\n",
       "      <td>203047</td>\n",
       "    </tr>\n",
       "    <tr>\n",
       "      <th>2</th>\n",
       "      <td>2001</td>\n",
       "      <td>Alderwood</td>\n",
       "      <td>259998</td>\n",
       "    </tr>\n",
       "    <tr>\n",
       "      <th>3</th>\n",
       "      <td>2001</td>\n",
       "      <td>Annex</td>\n",
       "      <td>453850</td>\n",
       "    </tr>\n",
       "    <tr>\n",
       "      <th>4</th>\n",
       "      <td>2001</td>\n",
       "      <td>Banbury-Don Mills</td>\n",
       "      <td>371864</td>\n",
       "    </tr>\n",
       "  </tbody>\n",
       "</table>\n",
       "</div>"
      ],
      "text/plain": [
       "   year                 neighbourhood  average_house_value\n",
       "0  2001               Agincourt North               200388\n",
       "1  2001  Agincourt South-Malvern West               203047\n",
       "2  2001                     Alderwood               259998\n",
       "3  2001                         Annex               453850\n",
       "4  2001             Banbury-Don Mills               371864"
      ]
     },
     "execution_count": 60,
     "metadata": {},
     "output_type": "execute_result"
    }
   ],
   "source": [
    "# YOUR CODE HERE!\n",
    "\n",
    "data_average =  average_house_values_neighbourhood\n",
    "average_house_values_neighbourhood.head()\n",
    "average_house_values_neighbourhood.reset_index(inplace=True)\n",
    "\n",
    "list(average_house_values_neighbourhood.columns)\n",
    "\n",
    "all_columns = ['year', 'neighbourhood', 'average_house_value']\n",
    "avg_val =average_house_values_neighbourhood[all_columns]\n",
    "avg_val.head()\n",
    "\n",
    "#px.bar(average_house_values_neighbourhood, x='neighbourhood', y=\"average_house_value\", color='year', facet_row='year', height=800, title=\"Average House Values in Toronto per Neighbourhood\")\n"
   ]
  },
  {
   "cell_type": "code",
   "execution_count": 61,
   "metadata": {},
   "outputs": [
    {
     "data": {
      "application/vnd.plotly.v1+json": {
       "config": {
        "plotlyServerURL": "https://plot.ly"
       },
       "data": [
        {
         "alignmentgroup": "True",
         "hovertemplate": "year=%{marker.color}<br>neighbourhood=%{x}<br>average_house_value=%{y}<extra></extra>",
         "legendgroup": "",
         "marker": {
          "color": [
           2001,
           2001,
           2001,
           2001,
           2001,
           2001,
           2001,
           2001,
           2001,
           2001,
           2001,
           2001,
           2001,
           2001,
           2001,
           2001,
           2001,
           2001,
           2001,
           2001,
           2001,
           2001,
           2001,
           2001,
           2001,
           2001,
           2001,
           2001,
           2001,
           2001,
           2001,
           2001,
           2001,
           2001,
           2001,
           2001,
           2001,
           2001,
           2001,
           2001,
           2001,
           2001,
           2001,
           2001,
           2001,
           2001,
           2001,
           2001,
           2001,
           2001,
           2001,
           2001,
           2001,
           2001,
           2001,
           2001,
           2001,
           2001,
           2001,
           2001,
           2001,
           2001,
           2001,
           2001,
           2001,
           2001,
           2001,
           2001,
           2001,
           2001,
           2001,
           2001,
           2001,
           2001,
           2001,
           2001,
           2001,
           2001,
           2001,
           2001,
           2001,
           2001,
           2001,
           2001,
           2001,
           2001,
           2001,
           2001,
           2001,
           2001,
           2001,
           2001,
           2001,
           2001,
           2001,
           2001,
           2001,
           2001,
           2001,
           2001,
           2001,
           2001,
           2001,
           2001,
           2001,
           2001,
           2001,
           2001,
           2001,
           2001,
           2001,
           2001,
           2001,
           2001,
           2001,
           2001,
           2001,
           2001,
           2001,
           2001,
           2001,
           2001,
           2001,
           2001,
           2001,
           2001,
           2001,
           2001,
           2001,
           2001,
           2001,
           2001,
           2001,
           2001,
           2001,
           2001,
           2001,
           2001,
           2001,
           2001
          ],
          "coloraxis": "coloraxis"
         },
         "name": "",
         "offsetgroup": "",
         "orientation": "v",
         "showlegend": false,
         "textposition": "auto",
         "type": "bar",
         "x": [
          "Agincourt North",
          "Agincourt South-Malvern West",
          "Alderwood",
          "Annex",
          "Banbury-Don Mills",
          "Bathurst Manor",
          "Bay Street Corridor",
          "Bayview Village",
          "Bayview Woods-Steeles",
          "Bedford Park-Nortown",
          "Beechborough-Greenbrook",
          "Bendale",
          "Birchcliffe-Cliffside",
          "Black Creek",
          "Blake-Jones",
          "Briar Hill-Belgravia",
          "Bridle Path-Sunnybrook-York Mills",
          "Broadview North",
          "Brookhaven-Amesbury",
          "Cabbagetown-South St.James Town",
          "Caledonia-Fairbank",
          "Casa Loma",
          "Centennial Scarborough",
          "Church-Yonge Corridor",
          "Clairlea-Birchmount",
          "Clanton Park",
          "Cliffcrest",
          "Corso Italia-Davenport",
          "Danforth",
          "Danforth-East York",
          "Don Valley Village",
          "Dorset Park",
          "Dovercourt-Wallace Emerson-Juncti",
          "Downsview-Roding-CFB",
          "Dufferin Grove",
          "East End-Danforth",
          "Edenbridge-Humber Valley",
          "Eglinton East",
          "Elms-Old Rexdale",
          "Englemount-Lawrence",
          "Eringate-Centennial-West Deane",
          "Etobicoke West Mall",
          "Flemingdon Park",
          "Forest Hill North",
          "Forest Hill South",
          "Glenfield-Jane Heights",
          "Greenwood-Coxwell",
          "Guildwood",
          "Henry Farm",
          "High Park North",
          "High Park-Swansea",
          "Highland Creek",
          "Hillcrest Village",
          "Humber Heights-Westmount",
          "Humber Summit",
          "Humbermede",
          "Humewood-Cedarvale",
          "Ionview",
          "Islington-City Centre West",
          "Junction Area",
          "Keelesdale-Eglinton West",
          "Kennedy Park",
          "Kensington-Chinatown",
          "Kingsview Village-The Westway",
          "Kingsway South",
          "L'Amoreaux",
          "Lambton Baby Point",
          "Lansing-Westgate",
          "Lawrence Park North",
          "Lawrence Park South",
          "Leaside-Bennington",
          "Little Portugal",
          "Long Branch",
          "Malvern",
          "Maple Leaf",
          "Markland Wood",
          "Milliken",
          "Mimico",
          "Morningside",
          "Moss Park",
          "Mount Dennis",
          "Mount Olive-Silverstone-Jamestown",
          "Mount Pleasant East",
          "Mount Pleasant West",
          "New Toronto",
          "Newtonbrook East",
          "Newtonbrook West",
          "Niagara",
          "North Riverdale",
          "North St.James Town",
          "O'Connor-Parkview",
          "Oakridge",
          "Oakwood Village",
          "Old East York",
          "Palmerston-Little Italy",
          "Parkwoods-Donalda",
          "Pelmo Park-Humberlea",
          "Playter Estates-Danforth",
          "Pleasant View",
          "Princess-Rosethorn",
          "Regent Park",
          "Rexdale-Kipling",
          "Rockcliffe-Smythe",
          "Roncesvalles",
          "Rosedale-Moore Park",
          "Rouge",
          "Runnymede-Bloor West Village",
          "Rustic",
          "Scarborough Village",
          "South Parkdale",
          "South Riverdale",
          "St.Andrew-Windfields",
          "Steeles",
          "Stonegate-Queensway",
          "Tam O'Shanter-Sullivan",
          "Taylor-Massey",
          "The Beaches",
          "Thistletown-Beaumond Heights",
          "Thorncliffe Park",
          "Trinity-Bellwoods",
          "University",
          "Victoria Village",
          "Waterfront Communities-The Island",
          "West Hill",
          "West Humber-Clairville",
          "Westminster-Branson",
          "Weston",
          "Weston-Pellam Park",
          "Wexford/Maryvale",
          "Willowdale East",
          "Willowdale West",
          "Willowridge-Martingrove-Richview",
          "Woburn",
          "Woodbine Corridor",
          "Woodbine-Lumsden",
          "Wychwood",
          "Yonge-Eglinton",
          "Yonge-St.Clair",
          "York University Heights",
          "Yorkdale-Glen Park"
         ],
         "xaxis": "x4",
         "y": [
          200388,
          203047,
          259998,
          453850,
          371864,
          304749,
          257404,
          327644,
          343535,
          565304,
          225369,
          182957,
          265705,
          158483,
          310740,
          222086,
          927466,
          269386,
          213227,
          300213,
          219771,
          596077,
          249025,
          246750,
          215421,
          335119,
          253618,
          255142,
          283706,
          256205,
          241824,
          159187,
          264116,
          231741,
          278023,
          290457,
          483734,
          163419,
          163039,
          345676,
          241685,
          187993,
          126255,
          517466,
          726664,
          199043,
          235168,
          224425,
          224780,
          323536,
          354207,
          260555,
          240009,
          272896,
          213919,
          194295,
          423537,
          174793,
          274436,
          263247,
          196112,
          174518,
          267631,
          205572,
          512334,
          395115,
          204523,
          372579,
          461393,
          664712,
          489998,
          328211,
          234424,
          156076,
          275374,
          269751,
          209609,
          239078,
          173169,
          248778,
          159374,
          153829,
          411558,
          284459,
          247779,
          339987,
          279833,
          224801,
          427169,
          249993,
          181251,
          256556,
          268067,
          269410,
          378033,
          276239,
          246333,
          394235,
          226856,
          465254,
          238524,
          219337,
          210017,
          309221,
          664476,
          228625,
          335435,
          261923,
          200402,
          271880,
          276462,
          607040,
          228460,
          334433,
          215039,
          145464,
          404836,
          228368,
          155094,
          324732,
          375678,
          213950,
          228975,
          172947,
          208555,
          212241,
          187140,
          213749,
          211633,
          284984,
          283215,
          282087,
          181367,
          270607,
          224756,
          343877,
          491987,
          494098,
          185859,
          261784
         ],
         "yaxis": "y4"
        },
        {
         "alignmentgroup": "True",
         "hovertemplate": "year=%{marker.color}<br>neighbourhood=%{x}<br>average_house_value=%{y}<extra></extra>",
         "legendgroup": "",
         "marker": {
          "color": [
           2006,
           2006,
           2006,
           2006,
           2006,
           2006,
           2006,
           2006,
           2006,
           2006,
           2006,
           2006,
           2006,
           2006,
           2006,
           2006,
           2006,
           2006,
           2006,
           2006,
           2006,
           2006,
           2006,
           2006,
           2006,
           2006,
           2006,
           2006,
           2006,
           2006,
           2006,
           2006,
           2006,
           2006,
           2006,
           2006,
           2006,
           2006,
           2006,
           2006,
           2006,
           2006,
           2006,
           2006,
           2006,
           2006,
           2006,
           2006,
           2006,
           2006,
           2006,
           2006,
           2006,
           2006,
           2006,
           2006,
           2006,
           2006,
           2006,
           2006,
           2006,
           2006,
           2006,
           2006,
           2006,
           2006,
           2006,
           2006,
           2006,
           2006,
           2006,
           2006,
           2006,
           2006,
           2006,
           2006,
           2006,
           2006,
           2006,
           2006,
           2006,
           2006,
           2006,
           2006,
           2006,
           2006,
           2006,
           2006,
           2006,
           2006,
           2006,
           2006,
           2006,
           2006,
           2006,
           2006,
           2006,
           2006,
           2006,
           2006,
           2006,
           2006,
           2006,
           2006,
           2006,
           2006,
           2006,
           2006,
           2006,
           2006,
           2006,
           2006,
           2006,
           2006,
           2006,
           2006,
           2006,
           2006,
           2006,
           2006,
           2006,
           2006,
           2006,
           2006,
           2006,
           2006,
           2006,
           2006,
           2006,
           2006,
           2006,
           2006,
           2006,
           2006,
           2006,
           2006,
           2006,
           2006,
           2006,
           2006
          ],
          "coloraxis": "coloraxis"
         },
         "name": "",
         "offsetgroup": "",
         "orientation": "v",
         "showlegend": false,
         "textposition": "auto",
         "type": "bar",
         "x": [
          "Agincourt North",
          "Agincourt South-Malvern West",
          "Alderwood",
          "Annex",
          "Banbury-Don Mills",
          "Bathurst Manor",
          "Bay Street Corridor",
          "Bayview Village",
          "Bayview Woods-Steeles",
          "Bedford Park-Nortown",
          "Beechborough-Greenbrook",
          "Bendale",
          "Birchcliffe-Cliffside",
          "Black Creek",
          "Blake-Jones",
          "Briar Hill-Belgravia",
          "Bridle Path-Sunnybrook-York Mills",
          "Broadview North",
          "Brookhaven-Amesbury",
          "Cabbagetown-South St.James Town",
          "Caledonia-Fairbank",
          "Casa Loma",
          "Centennial Scarborough",
          "Church-Yonge Corridor",
          "Clairlea-Birchmount",
          "Clanton Park",
          "Cliffcrest",
          "Corso Italia-Davenport",
          "Danforth",
          "Danforth-East York",
          "Don Valley Village",
          "Dorset Park",
          "Dovercourt-Wallace Emerson-Juncti",
          "Downsview-Roding-CFB",
          "Dufferin Grove",
          "East End-Danforth",
          "Edenbridge-Humber Valley",
          "Eglinton East",
          "Elms-Old Rexdale",
          "Englemount-Lawrence",
          "Eringate-Centennial-West Deane",
          "Etobicoke West Mall",
          "Flemingdon Park",
          "Forest Hill North",
          "Forest Hill South",
          "Glenfield-Jane Heights",
          "Greenwood-Coxwell",
          "Guildwood",
          "Henry Farm",
          "High Park North",
          "High Park-Swansea",
          "Highland Creek",
          "Hillcrest Village",
          "Humber Heights-Westmount",
          "Humber Summit",
          "Humbermede",
          "Humewood-Cedarvale",
          "Ionview",
          "Islington-City Centre West",
          "Junction Area",
          "Keelesdale-Eglinton West",
          "Kennedy Park",
          "Kensington-Chinatown",
          "Kingsview Village-The Westway",
          "Kingsway South",
          "L'Amoreaux",
          "Lambton Baby Point",
          "Lansing-Westgate",
          "Lawrence Park North",
          "Lawrence Park South",
          "Leaside-Bennington",
          "Little Portugal",
          "Long Branch",
          "Malvern",
          "Maple Leaf",
          "Markland Wood",
          "Milliken",
          "Mimico",
          "Morningside",
          "Moss Park",
          "Mount Dennis",
          "Mount Olive-Silverstone-Jamestown",
          "Mount Pleasant East",
          "Mount Pleasant West",
          "New Toronto",
          "Newtonbrook East",
          "Newtonbrook West",
          "Niagara",
          "North Riverdale",
          "North St.James Town",
          "O'Connor-Parkview",
          "Oakridge",
          "Oakwood Village",
          "Old East York",
          "Palmerston-Little Italy",
          "Parkwoods-Donalda",
          "Pelmo Park-Humberlea",
          "Playter Estates-Danforth",
          "Pleasant View",
          "Princess-Rosethorn",
          "Regent Park",
          "Rexdale-Kipling",
          "Rockcliffe-Smythe",
          "Roncesvalles",
          "Rosedale-Moore Park",
          "Rouge",
          "Runnymede-Bloor West Village",
          "Rustic",
          "Scarborough Village",
          "South Parkdale",
          "South Riverdale",
          "St.Andrew-Windfields",
          "Steeles",
          "Stonegate-Queensway",
          "Tam O'Shanter-Sullivan",
          "Taylor-Massey",
          "The Beaches",
          "Thistletown-Beaumond Heights",
          "Thorncliffe Park",
          "Trinity-Bellwoods",
          "University",
          "Victoria Village",
          "Waterfront Communities-The Island",
          "West Hill",
          "West Humber-Clairville",
          "Westminster-Branson",
          "Weston",
          "Weston-Pellam Park",
          "Wexford/Maryvale",
          "Willowdale East",
          "Willowdale West",
          "Willowridge-Martingrove-Richview",
          "Woburn",
          "Woodbine Corridor",
          "Woodbine-Lumsden",
          "Wychwood",
          "Yonge-Eglinton",
          "Yonge-St.Clair",
          "York University Heights",
          "Yorkdale-Glen Park"
         ],
         "xaxis": "x3",
         "y": [
          293140,
          297031,
          380342,
          663921,
          543987,
          445807,
          376548,
          479299,
          502546,
          826963,
          329685,
          267642,
          388690,
          231839,
          454571,
          324882,
          1356757,
          394075,
          311922,
          439171,
          321496,
          871981,
          364291,
          360962,
          315133,
          490234,
          371009,
          373239,
          415024,
          374793,
          353756,
          232869,
          386366,
          339006,
          406710,
          424900,
          707638,
          239060,
          238505,
          505677,
          353553,
          275009,
          184694,
          756983,
          1063011,
          291172,
          344019,
          328303,
          328823,
          473289,
          518157,
          381156,
          351101,
          399210,
          312935,
          284227,
          619577,
          255698,
          401463,
          385094,
          286886,
          255296,
          391509,
          300725,
          749476,
          578001,
          299190,
          545034,
          674957,
          972384,
          716801,
          480129,
          342930,
          228318,
          402835,
          394610,
          306629,
          349739,
          253323,
          363929,
          233143,
          225031,
          602054,
          416125,
          362468,
          497355,
          409358,
          328854,
          624890,
          365706,
          265146,
          375307,
          392146,
          394111,
          553011,
          404100,
          360352,
          576713,
          331860,
          680604,
          348928,
          320860,
          307227,
          452349,
          972039,
          334448,
          490697,
          383158,
          293162,
          397724,
          404427,
          888017,
          334206,
          489230,
          314574,
          212794,
          592220,
          334072,
          226882,
          475039,
          549567,
          312980,
          334960,
          252998,
          305088,
          310480,
          273761,
          312685,
          309590,
          416893,
          414306,
          412655,
          265315,
          395861,
          328788,
          503046,
          719711,
          722799,
          271887,
          382954
         ],
         "yaxis": "y3"
        },
        {
         "alignmentgroup": "True",
         "hovertemplate": "year=%{marker.color}<br>neighbourhood=%{x}<br>average_house_value=%{y}<extra></extra>",
         "legendgroup": "",
         "marker": {
          "color": [
           2011,
           2011,
           2011,
           2011,
           2011,
           2011,
           2011,
           2011,
           2011,
           2011,
           2011,
           2011,
           2011,
           2011,
           2011,
           2011,
           2011,
           2011,
           2011,
           2011,
           2011,
           2011,
           2011,
           2011,
           2011,
           2011,
           2011,
           2011,
           2011,
           2011,
           2011,
           2011,
           2011,
           2011,
           2011,
           2011,
           2011,
           2011,
           2011,
           2011,
           2011,
           2011,
           2011,
           2011,
           2011,
           2011,
           2011,
           2011,
           2011,
           2011,
           2011,
           2011,
           2011,
           2011,
           2011,
           2011,
           2011,
           2011,
           2011,
           2011,
           2011,
           2011,
           2011,
           2011,
           2011,
           2011,
           2011,
           2011,
           2011,
           2011,
           2011,
           2011,
           2011,
           2011,
           2011,
           2011,
           2011,
           2011,
           2011,
           2011,
           2011,
           2011,
           2011,
           2011,
           2011,
           2011,
           2011,
           2011,
           2011,
           2011,
           2011,
           2011,
           2011,
           2011,
           2011,
           2011,
           2011,
           2011,
           2011,
           2011,
           2011,
           2011,
           2011,
           2011,
           2011,
           2011,
           2011,
           2011,
           2011,
           2011,
           2011,
           2011,
           2011,
           2011,
           2011,
           2011,
           2011,
           2011,
           2011,
           2011,
           2011,
           2011,
           2011,
           2011,
           2011,
           2011,
           2011,
           2011,
           2011,
           2011,
           2011,
           2011,
           2011,
           2011,
           2011,
           2011,
           2011,
           2011,
           2011,
           2011
          ],
          "coloraxis": "coloraxis"
         },
         "name": "",
         "offsetgroup": "",
         "orientation": "v",
         "showlegend": false,
         "textposition": "auto",
         "type": "bar",
         "x": [
          "Agincourt North",
          "Agincourt South-Malvern West",
          "Alderwood",
          "Annex",
          "Banbury-Don Mills",
          "Bathurst Manor",
          "Bay Street Corridor",
          "Bayview Village",
          "Bayview Woods-Steeles",
          "Bedford Park-Nortown",
          "Beechborough-Greenbrook",
          "Bendale",
          "Birchcliffe-Cliffside",
          "Black Creek",
          "Blake-Jones",
          "Briar Hill-Belgravia",
          "Bridle Path-Sunnybrook-York Mills",
          "Broadview North",
          "Brookhaven-Amesbury",
          "Cabbagetown-South St.James Town",
          "Caledonia-Fairbank",
          "Casa Loma",
          "Centennial Scarborough",
          "Church-Yonge Corridor",
          "Clairlea-Birchmount",
          "Clanton Park",
          "Cliffcrest",
          "Corso Italia-Davenport",
          "Danforth",
          "Danforth-East York",
          "Don Valley Village",
          "Dorset Park",
          "Dovercourt-Wallace Emerson-Juncti",
          "Downsview-Roding-CFB",
          "Dufferin Grove",
          "East End-Danforth",
          "Edenbridge-Humber Valley",
          "Eglinton East",
          "Elms-Old Rexdale",
          "Englemount-Lawrence",
          "Eringate-Centennial-West Deane",
          "Etobicoke West Mall",
          "Flemingdon Park",
          "Forest Hill North",
          "Forest Hill South",
          "Glenfield-Jane Heights",
          "Greenwood-Coxwell",
          "Guildwood",
          "Henry Farm",
          "High Park North",
          "High Park-Swansea",
          "Highland Creek",
          "Hillcrest Village",
          "Humber Heights-Westmount",
          "Humber Summit",
          "Humbermede",
          "Humewood-Cedarvale",
          "Ionview",
          "Islington-City Centre West",
          "Junction Area",
          "Keelesdale-Eglinton West",
          "Kennedy Park",
          "Kensington-Chinatown",
          "Kingsview Village-The Westway",
          "Kingsway South",
          "L'Amoreaux",
          "Lambton Baby Point",
          "Lansing-Westgate",
          "Lawrence Park North",
          "Lawrence Park South",
          "Leaside-Bennington",
          "Little Portugal",
          "Long Branch",
          "Malvern",
          "Maple Leaf",
          "Markland Wood",
          "Milliken",
          "Mimico",
          "Morningside",
          "Moss Park",
          "Mount Dennis",
          "Mount Olive-Silverstone-Jamestown",
          "Mount Pleasant East",
          "Mount Pleasant West",
          "New Toronto",
          "Newtonbrook East",
          "Newtonbrook West",
          "Niagara",
          "North Riverdale",
          "North St.James Town",
          "O'Connor-Parkview",
          "Oakridge",
          "Oakwood Village",
          "Old East York",
          "Palmerston-Little Italy",
          "Parkwoods-Donalda",
          "Pelmo Park-Humberlea",
          "Playter Estates-Danforth",
          "Pleasant View",
          "Princess-Rosethorn",
          "Regent Park",
          "Rexdale-Kipling",
          "Rockcliffe-Smythe",
          "Roncesvalles",
          "Rosedale-Moore Park",
          "Rouge",
          "Runnymede-Bloor West Village",
          "Rustic",
          "Scarborough Village",
          "South Parkdale",
          "South Riverdale",
          "St.Andrew-Windfields",
          "Steeles",
          "Stonegate-Queensway",
          "Tam O'Shanter-Sullivan",
          "Taylor-Massey",
          "The Beaches",
          "Thistletown-Beaumond Heights",
          "Thorncliffe Park",
          "Trinity-Bellwoods",
          "University",
          "Victoria Village",
          "Waterfront Communities-The Island",
          "West Hill",
          "West Humber-Clairville",
          "Westminster-Branson",
          "Weston",
          "Weston-Pellam Park",
          "Wexford/Maryvale",
          "Willowdale East",
          "Willowdale West",
          "Willowridge-Martingrove-Richview",
          "Woburn",
          "Woodbine Corridor",
          "Woodbine-Lumsden",
          "Wychwood",
          "Yonge-Eglinton",
          "Yonge-St.Clair",
          "York University Heights",
          "Yorkdale-Glen Park"
         ],
         "xaxis": "x2",
         "y": [
          366667,
          371534,
          475742,
          830450,
          680433,
          557627,
          470996,
          599520,
          628597,
          1034387,
          412378,
          334773,
          486184,
          289990,
          568589,
          406371,
          1697067,
          492919,
          390160,
          549326,
          402135,
          1090696,
          455664,
          451500,
          394176,
          613197,
          464068,
          466857,
          519123,
          468801,
          442487,
          291278,
          483276,
          424038,
          508723,
          531476,
          885132,
          299023,
          298328,
          632514,
          442233,
          343988,
          231020,
          946854,
          1329642,
          364206,
          430308,
          410650,
          411300,
          592002,
          648124,
          476760,
          439166,
          499342,
          391427,
          355519,
          774983,
          319834,
          502160,
          481686,
          358844,
          319331,
          489709,
          376154,
          937464,
          722978,
          374234,
          681742,
          844253,
          1216283,
          896593,
          600558,
          428946,
          285586,
          503876,
          493588,
          383540,
          437462,
          316863,
          455212,
          291621,
          281475,
          753065,
          520500,
          453384,
          622104,
          512036,
          411339,
          781629,
          457435,
          331652,
          469444,
          490506,
          492964,
          691720,
          505459,
          450737,
          721368,
          415099,
          851317,
          436448,
          401340,
          384287,
          565810,
          1215852,
          418336,
          613776,
          479264,
          366694,
          497483,
          505868,
          1110755,
          418033,
          611942,
          393477,
          266168,
          740764,
          417866,
          283790,
          594191,
          687412,
          391483,
          418977,
          316456,
          381612,
          388356,
          342427,
          391115,
          387243,
          521460,
          518224,
          516160,
          331863,
          495153,
          411256,
          629223,
          900233,
          904096,
          340083,
          479009
         ],
         "yaxis": "y2"
        },
        {
         "alignmentgroup": "True",
         "hovertemplate": "year=%{marker.color}<br>neighbourhood=%{x}<br>average_house_value=%{y}<extra></extra>",
         "legendgroup": "",
         "marker": {
          "color": [
           2016,
           2016,
           2016,
           2016,
           2016,
           2016,
           2016,
           2016,
           2016,
           2016,
           2016,
           2016,
           2016,
           2016,
           2016,
           2016,
           2016,
           2016,
           2016,
           2016,
           2016,
           2016,
           2016,
           2016,
           2016,
           2016,
           2016,
           2016,
           2016,
           2016,
           2016,
           2016,
           2016,
           2016,
           2016,
           2016,
           2016,
           2016,
           2016,
           2016,
           2016,
           2016,
           2016,
           2016,
           2016,
           2016,
           2016,
           2016,
           2016,
           2016,
           2016,
           2016,
           2016,
           2016,
           2016,
           2016,
           2016,
           2016,
           2016,
           2016,
           2016,
           2016,
           2016,
           2016,
           2016,
           2016,
           2016,
           2016,
           2016,
           2016,
           2016,
           2016,
           2016,
           2016,
           2016,
           2016,
           2016,
           2016,
           2016,
           2016,
           2016,
           2016,
           2016,
           2016,
           2016,
           2016,
           2016,
           2016,
           2016,
           2016,
           2016,
           2016,
           2016,
           2016,
           2016,
           2016,
           2016,
           2016,
           2016,
           2016,
           2016,
           2016,
           2016,
           2016,
           2016,
           2016,
           2016,
           2016,
           2016,
           2016,
           2016,
           2016,
           2016,
           2016,
           2016,
           2016,
           2016,
           2016,
           2016,
           2016,
           2016,
           2016,
           2016,
           2016,
           2016,
           2016,
           2016,
           2016,
           2016,
           2016,
           2016,
           2016,
           2016,
           2016,
           2016,
           2016,
           2016,
           2016,
           2016,
           2016
          ],
          "coloraxis": "coloraxis"
         },
         "name": "",
         "offsetgroup": "",
         "orientation": "v",
         "showlegend": false,
         "textposition": "auto",
         "type": "bar",
         "x": [
          "Agincourt North",
          "Agincourt South-Malvern West",
          "Alderwood",
          "Annex",
          "Banbury-Don Mills",
          "Bathurst Manor",
          "Bay Street Corridor",
          "Bayview Village",
          "Bayview Woods-Steeles",
          "Bedford Park-Nortown",
          "Beechborough-Greenbrook",
          "Bendale",
          "Birchcliffe-Cliffside",
          "Black Creek",
          "Blake-Jones",
          "Briar Hill-Belgravia",
          "Bridle Path-Sunnybrook-York Mills",
          "Broadview North",
          "Brookhaven-Amesbury",
          "Cabbagetown-South St.James Town",
          "Caledonia-Fairbank",
          "Casa Loma",
          "Centennial Scarborough",
          "Church-Yonge Corridor",
          "Clairlea-Birchmount",
          "Clanton Park",
          "Cliffcrest",
          "Corso Italia-Davenport",
          "Danforth",
          "Danforth-East York",
          "Don Valley Village",
          "Dorset Park",
          "Dovercourt-Wallace Emerson-Juncti",
          "Downsview-Roding-CFB",
          "Dufferin Grove",
          "East End-Danforth",
          "Edenbridge-Humber Valley",
          "Eglinton East",
          "Elms-Old Rexdale",
          "Englemount-Lawrence",
          "Eringate-Centennial-West Deane",
          "Etobicoke West Mall",
          "Flemingdon Park",
          "Forest Hill North",
          "Forest Hill South",
          "Glenfield-Jane Heights",
          "Greenwood-Coxwell",
          "Guildwood",
          "Henry Farm",
          "High Park North",
          "High Park-Swansea",
          "Highland Creek",
          "Hillcrest Village",
          "Humber Heights-Westmount",
          "Humber Summit",
          "Humbermede",
          "Humewood-Cedarvale",
          "Ionview",
          "Islington-City Centre West",
          "Junction Area",
          "Keelesdale-Eglinton West",
          "Kennedy Park",
          "Kensington-Chinatown",
          "Kingsview Village-The Westway",
          "Kingsway South",
          "L'Amoreaux",
          "Lambton Baby Point",
          "Lansing-Westgate",
          "Lawrence Park North",
          "Lawrence Park South",
          "Leaside-Bennington",
          "Little Portugal",
          "Long Branch",
          "Malvern",
          "Maple Leaf",
          "Markland Wood",
          "Milliken",
          "Mimico",
          "Morningside",
          "Moss Park",
          "Mount Dennis",
          "Mount Olive-Silverstone-Jamestown",
          "Mount Pleasant East",
          "Mount Pleasant West",
          "New Toronto",
          "Newtonbrook East",
          "Newtonbrook West",
          "Niagara",
          "North Riverdale",
          "North St.James Town",
          "O'Connor-Parkview",
          "Oakridge",
          "Oakwood Village",
          "Old East York",
          "Palmerston-Little Italy",
          "Parkwoods-Donalda",
          "Pelmo Park-Humberlea",
          "Playter Estates-Danforth",
          "Pleasant View",
          "Princess-Rosethorn",
          "Regent Park",
          "Rexdale-Kipling",
          "Rockcliffe-Smythe",
          "Roncesvalles",
          "Rosedale-Moore Park",
          "Rouge",
          "Runnymede-Bloor West Village",
          "Rustic",
          "Scarborough Village",
          "South Parkdale",
          "South Riverdale",
          "St.Andrew-Windfields",
          "Steeles",
          "Stonegate-Queensway",
          "Tam O'Shanter-Sullivan",
          "Taylor-Massey",
          "The Beaches",
          "Thistletown-Beaumond Heights",
          "Thorncliffe Park",
          "Trinity-Bellwoods",
          "University",
          "Victoria Village",
          "Waterfront Communities-The Island",
          "West Hill",
          "West Humber-Clairville",
          "Westminster-Branson",
          "Weston",
          "Weston-Pellam Park",
          "Wexford/Maryvale",
          "Willowdale East",
          "Willowdale West",
          "Willowridge-Martingrove-Richview",
          "Woburn",
          "Woodbine Corridor",
          "Woodbine-Lumsden",
          "Wychwood",
          "Yonge-Eglinton",
          "Yonge-St.Clair",
          "York University Heights",
          "Yorkdale-Glen Park"
         ],
         "xaxis": "x",
         "y": [
          459051,
          465144,
          595608,
          1039687,
          851872,
          698124,
          589666,
          750572,
          786976,
          1295007,
          516279,
          419121,
          608681,
          363055,
          711848,
          508759,
          2124653,
          617113,
          488463,
          687732,
          503455,
          1365503,
          570471,
          565258,
          493491,
          767695,
          580993,
          584484,
          649919,
          586918,
          553974,
          364667,
          605040,
          530877,
          636899,
          665384,
          1108146,
          374364,
          373493,
          791880,
          553656,
          430658,
          289227,
          1185419,
          1664653,
          455970,
          538727,
          514116,
          514929,
          741161,
          811423,
          596883,
          549816,
          625154,
          490049,
          445094,
          970245,
          400418,
          628682,
          603050,
          449257,
          399789,
          613094,
          470928,
          1173663,
          905137,
          468524,
          853511,
          1056967,
          1522732,
          1122495,
          751872,
          537021,
          357541,
          630831,
          617950,
          480175,
          547683,
          396699,
          569905,
          365097,
          352394,
          942804,
          651643,
          567617,
          778847,
          641047,
          514978,
          978565,
          572689,
          415214,
          587723,
          614092,
          617169,
          866003,
          632812,
          564303,
          903121,
          519686,
          1065811,
          546413,
          502460,
          481110,
          708369,
          1522193,
          523738,
          768420,
          600017,
          459085,
          622827,
          633325,
          1390616,
          523359,
          766124,
          492616,
          333230,
          927404,
          523150,
          355293,
          743901,
          860610,
          490119,
          524540,
          396189,
          477762,
          486204,
          428703,
          489659,
          484811,
          652845,
          648794,
          646210,
          415478,
          619910,
          514874,
          787760,
          1127052,
          1131888,
          425769,
          599698
         ],
         "yaxis": "y"
        }
       ],
       "layout": {
        "annotations": [
         {
          "font": {},
          "showarrow": false,
          "text": "year=2016",
          "textangle": 90,
          "x": 0.98,
          "xanchor": "left",
          "xref": "paper",
          "y": 0.11375,
          "yanchor": "middle",
          "yref": "paper"
         },
         {
          "font": {},
          "showarrow": false,
          "text": "year=2011",
          "textangle": 90,
          "x": 0.98,
          "xanchor": "left",
          "xref": "paper",
          "y": 0.37124999999999997,
          "yanchor": "middle",
          "yref": "paper"
         },
         {
          "font": {},
          "showarrow": false,
          "text": "year=2006",
          "textangle": 90,
          "x": 0.98,
          "xanchor": "left",
          "xref": "paper",
          "y": 0.62875,
          "yanchor": "middle",
          "yref": "paper"
         },
         {
          "font": {},
          "showarrow": false,
          "text": "year=2001",
          "textangle": 90,
          "x": 0.98,
          "xanchor": "left",
          "xref": "paper",
          "y": 0.88625,
          "yanchor": "middle",
          "yref": "paper"
         }
        ],
        "autosize": true,
        "barmode": "relative",
        "coloraxis": {
         "colorbar": {
          "title": {
           "text": "year"
          }
         },
         "colorscale": [
          [
           0,
           "#0d0887"
          ],
          [
           0.1111111111111111,
           "#46039f"
          ],
          [
           0.2222222222222222,
           "#7201a8"
          ],
          [
           0.3333333333333333,
           "#9c179e"
          ],
          [
           0.4444444444444444,
           "#bd3786"
          ],
          [
           0.5555555555555556,
           "#d8576b"
          ],
          [
           0.6666666666666666,
           "#ed7953"
          ],
          [
           0.7777777777777778,
           "#fb9f3a"
          ],
          [
           0.8888888888888888,
           "#fdca26"
          ],
          [
           1,
           "#f0f921"
          ]
         ]
        },
        "legend": {
         "tracegroupgap": 0
        },
        "template": {
         "data": {
          "bar": [
           {
            "error_x": {
             "color": "#2a3f5f"
            },
            "error_y": {
             "color": "#2a3f5f"
            },
            "marker": {
             "line": {
              "color": "#E5ECF6",
              "width": 0.5
             }
            },
            "type": "bar"
           }
          ],
          "barpolar": [
           {
            "marker": {
             "line": {
              "color": "#E5ECF6",
              "width": 0.5
             }
            },
            "type": "barpolar"
           }
          ],
          "carpet": [
           {
            "aaxis": {
             "endlinecolor": "#2a3f5f",
             "gridcolor": "white",
             "linecolor": "white",
             "minorgridcolor": "white",
             "startlinecolor": "#2a3f5f"
            },
            "baxis": {
             "endlinecolor": "#2a3f5f",
             "gridcolor": "white",
             "linecolor": "white",
             "minorgridcolor": "white",
             "startlinecolor": "#2a3f5f"
            },
            "type": "carpet"
           }
          ],
          "choropleth": [
           {
            "colorbar": {
             "outlinewidth": 0,
             "ticks": ""
            },
            "type": "choropleth"
           }
          ],
          "contour": [
           {
            "colorbar": {
             "outlinewidth": 0,
             "ticks": ""
            },
            "colorscale": [
             [
              0,
              "#0d0887"
             ],
             [
              0.1111111111111111,
              "#46039f"
             ],
             [
              0.2222222222222222,
              "#7201a8"
             ],
             [
              0.3333333333333333,
              "#9c179e"
             ],
             [
              0.4444444444444444,
              "#bd3786"
             ],
             [
              0.5555555555555556,
              "#d8576b"
             ],
             [
              0.6666666666666666,
              "#ed7953"
             ],
             [
              0.7777777777777778,
              "#fb9f3a"
             ],
             [
              0.8888888888888888,
              "#fdca26"
             ],
             [
              1,
              "#f0f921"
             ]
            ],
            "type": "contour"
           }
          ],
          "contourcarpet": [
           {
            "colorbar": {
             "outlinewidth": 0,
             "ticks": ""
            },
            "type": "contourcarpet"
           }
          ],
          "heatmap": [
           {
            "colorbar": {
             "outlinewidth": 0,
             "ticks": ""
            },
            "colorscale": [
             [
              0,
              "#0d0887"
             ],
             [
              0.1111111111111111,
              "#46039f"
             ],
             [
              0.2222222222222222,
              "#7201a8"
             ],
             [
              0.3333333333333333,
              "#9c179e"
             ],
             [
              0.4444444444444444,
              "#bd3786"
             ],
             [
              0.5555555555555556,
              "#d8576b"
             ],
             [
              0.6666666666666666,
              "#ed7953"
             ],
             [
              0.7777777777777778,
              "#fb9f3a"
             ],
             [
              0.8888888888888888,
              "#fdca26"
             ],
             [
              1,
              "#f0f921"
             ]
            ],
            "type": "heatmap"
           }
          ],
          "heatmapgl": [
           {
            "colorbar": {
             "outlinewidth": 0,
             "ticks": ""
            },
            "colorscale": [
             [
              0,
              "#0d0887"
             ],
             [
              0.1111111111111111,
              "#46039f"
             ],
             [
              0.2222222222222222,
              "#7201a8"
             ],
             [
              0.3333333333333333,
              "#9c179e"
             ],
             [
              0.4444444444444444,
              "#bd3786"
             ],
             [
              0.5555555555555556,
              "#d8576b"
             ],
             [
              0.6666666666666666,
              "#ed7953"
             ],
             [
              0.7777777777777778,
              "#fb9f3a"
             ],
             [
              0.8888888888888888,
              "#fdca26"
             ],
             [
              1,
              "#f0f921"
             ]
            ],
            "type": "heatmapgl"
           }
          ],
          "histogram": [
           {
            "marker": {
             "colorbar": {
              "outlinewidth": 0,
              "ticks": ""
             }
            },
            "type": "histogram"
           }
          ],
          "histogram2d": [
           {
            "colorbar": {
             "outlinewidth": 0,
             "ticks": ""
            },
            "colorscale": [
             [
              0,
              "#0d0887"
             ],
             [
              0.1111111111111111,
              "#46039f"
             ],
             [
              0.2222222222222222,
              "#7201a8"
             ],
             [
              0.3333333333333333,
              "#9c179e"
             ],
             [
              0.4444444444444444,
              "#bd3786"
             ],
             [
              0.5555555555555556,
              "#d8576b"
             ],
             [
              0.6666666666666666,
              "#ed7953"
             ],
             [
              0.7777777777777778,
              "#fb9f3a"
             ],
             [
              0.8888888888888888,
              "#fdca26"
             ],
             [
              1,
              "#f0f921"
             ]
            ],
            "type": "histogram2d"
           }
          ],
          "histogram2dcontour": [
           {
            "colorbar": {
             "outlinewidth": 0,
             "ticks": ""
            },
            "colorscale": [
             [
              0,
              "#0d0887"
             ],
             [
              0.1111111111111111,
              "#46039f"
             ],
             [
              0.2222222222222222,
              "#7201a8"
             ],
             [
              0.3333333333333333,
              "#9c179e"
             ],
             [
              0.4444444444444444,
              "#bd3786"
             ],
             [
              0.5555555555555556,
              "#d8576b"
             ],
             [
              0.6666666666666666,
              "#ed7953"
             ],
             [
              0.7777777777777778,
              "#fb9f3a"
             ],
             [
              0.8888888888888888,
              "#fdca26"
             ],
             [
              1,
              "#f0f921"
             ]
            ],
            "type": "histogram2dcontour"
           }
          ],
          "mesh3d": [
           {
            "colorbar": {
             "outlinewidth": 0,
             "ticks": ""
            },
            "type": "mesh3d"
           }
          ],
          "parcoords": [
           {
            "line": {
             "colorbar": {
              "outlinewidth": 0,
              "ticks": ""
             }
            },
            "type": "parcoords"
           }
          ],
          "pie": [
           {
            "automargin": true,
            "type": "pie"
           }
          ],
          "scatter": [
           {
            "marker": {
             "colorbar": {
              "outlinewidth": 0,
              "ticks": ""
             }
            },
            "type": "scatter"
           }
          ],
          "scatter3d": [
           {
            "line": {
             "colorbar": {
              "outlinewidth": 0,
              "ticks": ""
             }
            },
            "marker": {
             "colorbar": {
              "outlinewidth": 0,
              "ticks": ""
             }
            },
            "type": "scatter3d"
           }
          ],
          "scattercarpet": [
           {
            "marker": {
             "colorbar": {
              "outlinewidth": 0,
              "ticks": ""
             }
            },
            "type": "scattercarpet"
           }
          ],
          "scattergeo": [
           {
            "marker": {
             "colorbar": {
              "outlinewidth": 0,
              "ticks": ""
             }
            },
            "type": "scattergeo"
           }
          ],
          "scattergl": [
           {
            "marker": {
             "colorbar": {
              "outlinewidth": 0,
              "ticks": ""
             }
            },
            "type": "scattergl"
           }
          ],
          "scattermapbox": [
           {
            "marker": {
             "colorbar": {
              "outlinewidth": 0,
              "ticks": ""
             }
            },
            "type": "scattermapbox"
           }
          ],
          "scatterpolar": [
           {
            "marker": {
             "colorbar": {
              "outlinewidth": 0,
              "ticks": ""
             }
            },
            "type": "scatterpolar"
           }
          ],
          "scatterpolargl": [
           {
            "marker": {
             "colorbar": {
              "outlinewidth": 0,
              "ticks": ""
             }
            },
            "type": "scatterpolargl"
           }
          ],
          "scatterternary": [
           {
            "marker": {
             "colorbar": {
              "outlinewidth": 0,
              "ticks": ""
             }
            },
            "type": "scatterternary"
           }
          ],
          "surface": [
           {
            "colorbar": {
             "outlinewidth": 0,
             "ticks": ""
            },
            "colorscale": [
             [
              0,
              "#0d0887"
             ],
             [
              0.1111111111111111,
              "#46039f"
             ],
             [
              0.2222222222222222,
              "#7201a8"
             ],
             [
              0.3333333333333333,
              "#9c179e"
             ],
             [
              0.4444444444444444,
              "#bd3786"
             ],
             [
              0.5555555555555556,
              "#d8576b"
             ],
             [
              0.6666666666666666,
              "#ed7953"
             ],
             [
              0.7777777777777778,
              "#fb9f3a"
             ],
             [
              0.8888888888888888,
              "#fdca26"
             ],
             [
              1,
              "#f0f921"
             ]
            ],
            "type": "surface"
           }
          ],
          "table": [
           {
            "cells": {
             "fill": {
              "color": "#EBF0F8"
             },
             "line": {
              "color": "white"
             }
            },
            "header": {
             "fill": {
              "color": "#C8D4E3"
             },
             "line": {
              "color": "white"
             }
            },
            "type": "table"
           }
          ]
         },
         "layout": {
          "annotationdefaults": {
           "arrowcolor": "#2a3f5f",
           "arrowhead": 0,
           "arrowwidth": 1
          },
          "autotypenumbers": "strict",
          "coloraxis": {
           "colorbar": {
            "outlinewidth": 0,
            "ticks": ""
           }
          },
          "colorscale": {
           "diverging": [
            [
             0,
             "#8e0152"
            ],
            [
             0.1,
             "#c51b7d"
            ],
            [
             0.2,
             "#de77ae"
            ],
            [
             0.3,
             "#f1b6da"
            ],
            [
             0.4,
             "#fde0ef"
            ],
            [
             0.5,
             "#f7f7f7"
            ],
            [
             0.6,
             "#e6f5d0"
            ],
            [
             0.7,
             "#b8e186"
            ],
            [
             0.8,
             "#7fbc41"
            ],
            [
             0.9,
             "#4d9221"
            ],
            [
             1,
             "#276419"
            ]
           ],
           "sequential": [
            [
             0,
             "#0d0887"
            ],
            [
             0.1111111111111111,
             "#46039f"
            ],
            [
             0.2222222222222222,
             "#7201a8"
            ],
            [
             0.3333333333333333,
             "#9c179e"
            ],
            [
             0.4444444444444444,
             "#bd3786"
            ],
            [
             0.5555555555555556,
             "#d8576b"
            ],
            [
             0.6666666666666666,
             "#ed7953"
            ],
            [
             0.7777777777777778,
             "#fb9f3a"
            ],
            [
             0.8888888888888888,
             "#fdca26"
            ],
            [
             1,
             "#f0f921"
            ]
           ],
           "sequentialminus": [
            [
             0,
             "#0d0887"
            ],
            [
             0.1111111111111111,
             "#46039f"
            ],
            [
             0.2222222222222222,
             "#7201a8"
            ],
            [
             0.3333333333333333,
             "#9c179e"
            ],
            [
             0.4444444444444444,
             "#bd3786"
            ],
            [
             0.5555555555555556,
             "#d8576b"
            ],
            [
             0.6666666666666666,
             "#ed7953"
            ],
            [
             0.7777777777777778,
             "#fb9f3a"
            ],
            [
             0.8888888888888888,
             "#fdca26"
            ],
            [
             1,
             "#f0f921"
            ]
           ]
          },
          "colorway": [
           "#636efa",
           "#EF553B",
           "#00cc96",
           "#ab63fa",
           "#FFA15A",
           "#19d3f3",
           "#FF6692",
           "#B6E880",
           "#FF97FF",
           "#FECB52"
          ],
          "font": {
           "color": "#2a3f5f"
          },
          "geo": {
           "bgcolor": "white",
           "lakecolor": "white",
           "landcolor": "#E5ECF6",
           "showlakes": true,
           "showland": true,
           "subunitcolor": "white"
          },
          "hoverlabel": {
           "align": "left"
          },
          "hovermode": "closest",
          "mapbox": {
           "style": "light"
          },
          "paper_bgcolor": "white",
          "plot_bgcolor": "#E5ECF6",
          "polar": {
           "angularaxis": {
            "gridcolor": "white",
            "linecolor": "white",
            "ticks": ""
           },
           "bgcolor": "#E5ECF6",
           "radialaxis": {
            "gridcolor": "white",
            "linecolor": "white",
            "ticks": ""
           }
          },
          "scene": {
           "xaxis": {
            "backgroundcolor": "#E5ECF6",
            "gridcolor": "white",
            "gridwidth": 2,
            "linecolor": "white",
            "showbackground": true,
            "ticks": "",
            "zerolinecolor": "white"
           },
           "yaxis": {
            "backgroundcolor": "#E5ECF6",
            "gridcolor": "white",
            "gridwidth": 2,
            "linecolor": "white",
            "showbackground": true,
            "ticks": "",
            "zerolinecolor": "white"
           },
           "zaxis": {
            "backgroundcolor": "#E5ECF6",
            "gridcolor": "white",
            "gridwidth": 2,
            "linecolor": "white",
            "showbackground": true,
            "ticks": "",
            "zerolinecolor": "white"
           }
          },
          "shapedefaults": {
           "line": {
            "color": "#2a3f5f"
           }
          },
          "ternary": {
           "aaxis": {
            "gridcolor": "white",
            "linecolor": "white",
            "ticks": ""
           },
           "baxis": {
            "gridcolor": "white",
            "linecolor": "white",
            "ticks": ""
           },
           "bgcolor": "#E5ECF6",
           "caxis": {
            "gridcolor": "white",
            "linecolor": "white",
            "ticks": ""
           }
          },
          "title": {
           "x": 0.05
          },
          "xaxis": {
           "automargin": true,
           "gridcolor": "white",
           "linecolor": "white",
           "ticks": "",
           "title": {
            "standoff": 15
           },
           "zerolinecolor": "white",
           "zerolinewidth": 2
          },
          "yaxis": {
           "automargin": true,
           "gridcolor": "white",
           "linecolor": "white",
           "ticks": "",
           "title": {
            "standoff": 15
           },
           "zerolinecolor": "white",
           "zerolinewidth": 2
          }
         }
        },
        "title": {
         "text": "Average House Values in Toronto per Neighbourhood"
        },
        "xaxis": {
         "anchor": "y",
         "autorange": true,
         "domain": [
          0,
          0.98
         ],
         "range": [
          -0.5,
          139.5
         ],
         "title": {
          "text": "neighbourhood"
         },
         "type": "category"
        },
        "xaxis2": {
         "anchor": "y2",
         "autorange": true,
         "domain": [
          0,
          0.98
         ],
         "matches": "x",
         "range": [
          -0.5,
          139.5
         ],
         "showticklabels": false,
         "type": "category"
        },
        "xaxis3": {
         "anchor": "y3",
         "autorange": true,
         "domain": [
          0,
          0.98
         ],
         "matches": "x",
         "range": [
          -0.5,
          139.5
         ],
         "showticklabels": false,
         "type": "category"
        },
        "xaxis4": {
         "anchor": "y4",
         "autorange": true,
         "domain": [
          0,
          0.98
         ],
         "matches": "x",
         "range": [
          -0.5,
          139.5
         ],
         "showticklabels": false,
         "type": "category"
        },
        "yaxis": {
         "anchor": "x",
         "autorange": true,
         "domain": [
          0,
          0.2275
         ],
         "range": [
          0,
          2236476.8421052634
         ],
         "title": {
          "text": "average_house_value"
         },
         "type": "linear"
        },
        "yaxis2": {
         "anchor": "x2",
         "autorange": true,
         "domain": [
          0.2575,
          0.485
         ],
         "matches": "y",
         "range": [
          0,
          2236476.8421052634
         ],
         "title": {
          "text": "average_house_value"
         },
         "type": "linear"
        },
        "yaxis3": {
         "anchor": "x3",
         "autorange": true,
         "domain": [
          0.515,
          0.7425
         ],
         "matches": "y",
         "range": [
          0,
          2236476.8421052634
         ],
         "title": {
          "text": "average_house_value"
         },
         "type": "linear"
        },
        "yaxis4": {
         "anchor": "x4",
         "autorange": true,
         "domain": [
          0.7725,
          1
         ],
         "matches": "y",
         "range": [
          0,
          2236476.8421052634
         ],
         "title": {
          "text": "average_house_value"
         },
         "type": "linear"
        }
       }
      },
      "image/png": "[encoded data removed]",
      "text/html": [
       "<div>                            <div id=\"73bae5ca-28c9-44ab-a77b-212e3d3dfe1a\" class=\"plotly-graph-div\" style=\"height:800px; width:100%;\"></div>            <script type=\"text/javascript\">                require([\"plotly\"], function(Plotly) {                    window.PLOTLYENV=window.PLOTLYENV || {};                                    if (document.getElementById(\"73bae5ca-28c9-44ab-a77b-212e3d3dfe1a\")) {                    Plotly.newPlot(                        \"73bae5ca-28c9-44ab-a77b-212e3d3dfe1a\",                        [{\"alignmentgroup\": \"True\", \"hovertemplate\": \"year=%{marker.color}<br>neighbourhood=%{x}<br>average_house_value=%{y}<extra></extra>\", \"legendgroup\": \"\", \"marker\": {\"color\": [2001, 2001, 2001, 2001, 2001, 2001, 2001, 2001, 2001, 2001, 2001, 2001, 2001, 2001, 2001, 2001, 2001, 2001, 2001, 2001, 2001, 2001, 2001, 2001, 2001, 2001, 2001, 2001, 2001, 2001, 2001, 2001, 2001, 2001, 2001, 2001, 2001, 2001, 2001, 2001, 2001, 2001, 2001, 2001, 2001, 2001, 2001, 2001, 2001, 2001, 2001, 2001, 2001, 2001, 2001, 2001, 2001, 2001, 2001, 2001, 2001, 2001, 2001, 2001, 2001, 2001, 2001, 2001, 2001, 2001, 2001, 2001, 2001, 2001, 2001, 2001, 2001, 2001, 2001, 2001, 2001, 2001, 2001, 2001, 2001, 2001, 2001, 2001, 2001, 2001, 2001, 2001, 2001, 2001, 2001, 2001, 2001, 2001, 2001, 2001, 2001, 2001, 2001, 2001, 2001, 2001, 2001, 2001, 2001, 2001, 2001, 2001, 2001, 2001, 2001, 2001, 2001, 2001, 2001, 2001, 2001, 2001, 2001, 2001, 2001, 2001, 2001, 2001, 2001, 2001, 2001, 2001, 2001, 2001, 2001, 2001, 2001, 2001, 2001, 2001], \"coloraxis\": \"coloraxis\"}, \"name\": \"\", \"offsetgroup\": \"\", \"orientation\": \"v\", \"showlegend\": false, \"textposition\": \"auto\", \"type\": \"bar\", \"x\": [\"Agincourt North\", \"Agincourt South-Malvern West\", \"Alderwood\", \"Annex\", \"Banbury-Don Mills\", \"Bathurst Manor\", \"Bay Street Corridor\", \"Bayview Village\", \"Bayview Woods-Steeles\", \"Bedford Park-Nortown\", \"Beechborough-Greenbrook\", \"Bendale\", \"Birchcliffe-Cliffside\", \"Black Creek\", \"Blake-Jones\", \"Briar Hill-Belgravia\", \"Bridle Path-Sunnybrook-York Mills\", \"Broadview North\", \"Brookhaven-Amesbury\", \"Cabbagetown-South St.James Town\", \"Caledonia-Fairbank\", \"Casa Loma\", \"Centennial Scarborough\", \"Church-Yonge Corridor\", \"Clairlea-Birchmount\", \"Clanton Park\", \"Cliffcrest\", \"Corso Italia-Davenport\", \"Danforth\", \"Danforth-East York\", \"Don Valley Village\", \"Dorset Park\", \"Dovercourt-Wallace Emerson-Juncti\", \"Downsview-Roding-CFB\", \"Dufferin Grove\", \"East End-Danforth\", \"Edenbridge-Humber Valley\", \"Eglinton East\", \"Elms-Old Rexdale\", \"Englemount-Lawrence\", \"Eringate-Centennial-West Deane\", \"Etobicoke West Mall\", \"Flemingdon Park\", \"Forest Hill North\", \"Forest Hill South\", \"Glenfield-Jane Heights\", \"Greenwood-Coxwell\", \"Guildwood\", \"Henry Farm\", \"High Park North\", \"High Park-Swansea\", \"Highland Creek\", \"Hillcrest Village\", \"Humber Heights-Westmount\", \"Humber Summit\", \"Humbermede\", \"Humewood-Cedarvale\", \"Ionview\", \"Islington-City Centre West\", \"Junction Area\", \"Keelesdale-Eglinton West\", \"Kennedy Park\", \"Kensington-Chinatown\", \"Kingsview Village-The Westway\", \"Kingsway South\", \"L'Amoreaux\", \"Lambton Baby Point\", \"Lansing-Westgate\", \"Lawrence Park North\", \"Lawrence Park South\", \"Leaside-Bennington\", \"Little Portugal\", \"Long Branch\", \"Malvern\", \"Maple Leaf\", \"Markland Wood\", \"Milliken\", \"Mimico\", \"Morningside\", \"Moss Park\", \"Mount Dennis\", \"Mount Olive-Silverstone-Jamestown\", \"Mount Pleasant East\", \"Mount Pleasant West\", \"New Toronto\", \"Newtonbrook East\", \"Newtonbrook West\", \"Niagara\", \"North Riverdale\", \"North St.James Town\", \"O'Connor-Parkview\", \"Oakridge\", \"Oakwood Village\", \"Old East York\", \"Palmerston-Little Italy\", \"Parkwoods-Donalda\", \"Pelmo Park-Humberlea\", \"Playter Estates-Danforth\", \"Pleasant View\", \"Princess-Rosethorn\", \"Regent Park\", \"Rexdale-Kipling\", \"Rockcliffe-Smythe\", \"Roncesvalles\", \"Rosedale-Moore Park\", \"Rouge\", \"Runnymede-Bloor West Village\", \"Rustic\", \"Scarborough Village\", \"South Parkdale\", \"South Riverdale\", \"St.Andrew-Windfields\", \"Steeles\", \"Stonegate-Queensway\", \"Tam O'Shanter-Sullivan\", \"Taylor-Massey\", \"The Beaches\", \"Thistletown-Beaumond Heights\", \"Thorncliffe Park\", \"Trinity-Bellwoods\", \"University\", \"Victoria Village\", \"Waterfront Communities-The Island\", \"West Hill\", \"West Humber-Clairville\", \"Westminster-Branson\", \"Weston\", \"Weston-Pellam Park\", \"Wexford/Maryvale\", \"Willowdale East\", \"Willowdale West\", \"Willowridge-Martingrove-Richview\", \"Woburn\", \"Woodbine Corridor\", \"Woodbine-Lumsden\", \"Wychwood\", \"Yonge-Eglinton\", \"Yonge-St.Clair\", \"York University Heights\", \"Yorkdale-Glen Park\"], \"xaxis\": \"x4\", \"y\": [200388, 203047, 259998, 453850, 371864, 304749, 257404, 327644, 343535, 565304, 225369, 182957, 265705, 158483, 310740, 222086, 927466, 269386, 213227, 300213, 219771, 596077, 249025, 246750, 215421, 335119, 253618, 255142, 283706, 256205, 241824, 159187, 264116, 231741, 278023, 290457, 483734, 163419, 163039, 345676, 241685, 187993, 126255, 517466, 726664, 199043, 235168, 224425, 224780, 323536, 354207, 260555, 240009, 272896, 213919, 194295, 423537, 174793, 274436, 263247, 196112, 174518, 267631, 205572, 512334, 395115, 204523, 372579, 461393, 664712, 489998, 328211, 234424, 156076, 275374, 269751, 209609, 239078, 173169, 248778, 159374, 153829, 411558, 284459, 247779, 339987, 279833, 224801, 427169, 249993, 181251, 256556, 268067, 269410, 378033, 276239, 246333, 394235, 226856, 465254, 238524, 219337, 210017, 309221, 664476, 228625, 335435, 261923, 200402, 271880, 276462, 607040, 228460, 334433, 215039, 145464, 404836, 228368, 155094, 324732, 375678, 213950, 228975, 172947, 208555, 212241, 187140, 213749, 211633, 284984, 283215, 282087, 181367, 270607, 224756, 343877, 491987, 494098, 185859, 261784], \"yaxis\": \"y4\"}, {\"alignmentgroup\": \"True\", \"hovertemplate\": \"year=%{marker.color}<br>neighbourhood=%{x}<br>average_house_value=%{y}<extra></extra>\", \"legendgroup\": \"\", \"marker\": {\"color\": [2006, 2006, 2006, 2006, 2006, 2006, 2006, 2006, 2006, 2006, 2006, 2006, 2006, 2006, 2006, 2006, 2006, 2006, 2006, 2006, 2006, 2006, 2006, 2006, 2006, 2006, 2006, 2006, 2006, 2006, 2006, 2006, 2006, 2006, 2006, 2006, 2006, 2006, 2006, 2006, 2006, 2006, 2006, 2006, 2006, 2006, 2006, 2006, 2006, 2006, 2006, 2006, 2006, 2006, 2006, 2006, 2006, 2006, 2006, 2006, 2006, 2006, 2006, 2006, 2006, 2006, 2006, 2006, 2006, 2006, 2006, 2006, 2006, 2006, 2006, 2006, 2006, 2006, 2006, 2006, 2006, 2006, 2006, 2006, 2006, 2006, 2006, 2006, 2006, 2006, 2006, 2006, 2006, 2006, 2006, 2006, 2006, 2006, 2006, 2006, 2006, 2006, 2006, 2006, 2006, 2006, 2006, 2006, 2006, 2006, 2006, 2006, 2006, 2006, 2006, 2006, 2006, 2006, 2006, 2006, 2006, 2006, 2006, 2006, 2006, 2006, 2006, 2006, 2006, 2006, 2006, 2006, 2006, 2006, 2006, 2006, 2006, 2006, 2006, 2006], \"coloraxis\": \"coloraxis\"}, \"name\": \"\", \"offsetgroup\": \"\", \"orientation\": \"v\", \"showlegend\": false, \"textposition\": \"auto\", \"type\": \"bar\", \"x\": [\"Agincourt North\", \"Agincourt South-Malvern West\", \"Alderwood\", \"Annex\", \"Banbury-Don Mills\", \"Bathurst Manor\", \"Bay Street Corridor\", \"Bayview Village\", \"Bayview Woods-Steeles\", \"Bedford Park-Nortown\", \"Beechborough-Greenbrook\", \"Bendale\", \"Birchcliffe-Cliffside\", \"Black Creek\", \"Blake-Jones\", \"Briar Hill-Belgravia\", \"Bridle Path-Sunnybrook-York Mills\", \"Broadview North\", \"Brookhaven-Amesbury\", \"Cabbagetown-South St.James Town\", \"Caledonia-Fairbank\", \"Casa Loma\", \"Centennial Scarborough\", \"Church-Yonge Corridor\", \"Clairlea-Birchmount\", \"Clanton Park\", \"Cliffcrest\", \"Corso Italia-Davenport\", \"Danforth\", \"Danforth-East York\", \"Don Valley Village\", \"Dorset Park\", \"Dovercourt-Wallace Emerson-Juncti\", \"Downsview-Roding-CFB\", \"Dufferin Grove\", \"East End-Danforth\", \"Edenbridge-Humber Valley\", \"Eglinton East\", \"Elms-Old Rexdale\", \"Englemount-Lawrence\", \"Eringate-Centennial-West Deane\", \"Etobicoke West Mall\", \"Flemingdon Park\", \"Forest Hill North\", \"Forest Hill South\", \"Glenfield-Jane Heights\", \"Greenwood-Coxwell\", \"Guildwood\", \"Henry Farm\", \"High Park North\", \"High Park-Swansea\", \"Highland Creek\", \"Hillcrest Village\", \"Humber Heights-Westmount\", \"Humber Summit\", \"Humbermede\", \"Humewood-Cedarvale\", \"Ionview\", \"Islington-City Centre West\", \"Junction Area\", \"Keelesdale-Eglinton West\", \"Kennedy Park\", \"Kensington-Chinatown\", \"Kingsview Village-The Westway\", \"Kingsway South\", \"L'Amoreaux\", \"Lambton Baby Point\", \"Lansing-Westgate\", \"Lawrence Park North\", \"Lawrence Park South\", \"Leaside-Bennington\", \"Little Portugal\", \"Long Branch\", \"Malvern\", \"Maple Leaf\", \"Markland Wood\", \"Milliken\", \"Mimico\", \"Morningside\", \"Moss Park\", \"Mount Dennis\", \"Mount Olive-Silverstone-Jamestown\", \"Mount Pleasant East\", \"Mount Pleasant West\", \"New Toronto\", \"Newtonbrook East\", \"Newtonbrook West\", \"Niagara\", \"North Riverdale\", \"North St.James Town\", \"O'Connor-Parkview\", \"Oakridge\", \"Oakwood Village\", \"Old East York\", \"Palmerston-Little Italy\", \"Parkwoods-Donalda\", \"Pelmo Park-Humberlea\", \"Playter Estates-Danforth\", \"Pleasant View\", \"Princess-Rosethorn\", \"Regent Park\", \"Rexdale-Kipling\", \"Rockcliffe-Smythe\", \"Roncesvalles\", \"Rosedale-Moore Park\", \"Rouge\", \"Runnymede-Bloor West Village\", \"Rustic\", \"Scarborough Village\", \"South Parkdale\", \"South Riverdale\", \"St.Andrew-Windfields\", \"Steeles\", \"Stonegate-Queensway\", \"Tam O'Shanter-Sullivan\", \"Taylor-Massey\", \"The Beaches\", \"Thistletown-Beaumond Heights\", \"Thorncliffe Park\", \"Trinity-Bellwoods\", \"University\", \"Victoria Village\", \"Waterfront Communities-The Island\", \"West Hill\", \"West Humber-Clairville\", \"Westminster-Branson\", \"Weston\", \"Weston-Pellam Park\", \"Wexford/Maryvale\", \"Willowdale East\", \"Willowdale West\", \"Willowridge-Martingrove-Richview\", \"Woburn\", \"Woodbine Corridor\", \"Woodbine-Lumsden\", \"Wychwood\", \"Yonge-Eglinton\", \"Yonge-St.Clair\", \"York University Heights\", \"Yorkdale-Glen Park\"], \"xaxis\": \"x3\", \"y\": [293140, 297031, 380342, 663921, 543987, 445807, 376548, 479299, 502546, 826963, 329685, 267642, 388690, 231839, 454571, 324882, 1356757, 394075, 311922, 439171, 321496, 871981, 364291, 360962, 315133, 490234, 371009, 373239, 415024, 374793, 353756, 232869, 386366, 339006, 406710, 424900, 707638, 239060, 238505, 505677, 353553, 275009, 184694, 756983, 1063011, 291172, 344019, 328303, 328823, 473289, 518157, 381156, 351101, 399210, 312935, 284227, 619577, 255698, 401463, 385094, 286886, 255296, 391509, 300725, 749476, 578001, 299190, 545034, 674957, 972384, 716801, 480129, 342930, 228318, 402835, 394610, 306629, 349739, 253323, 363929, 233143, 225031, 602054, 416125, 362468, 497355, 409358, 328854, 624890, 365706, 265146, 375307, 392146, 394111, 553011, 404100, 360352, 576713, 331860, 680604, 348928, 320860, 307227, 452349, 972039, 334448, 490697, 383158, 293162, 397724, 404427, 888017, 334206, 489230, 314574, 212794, 592220, 334072, 226882, 475039, 549567, 312980, 334960, 252998, 305088, 310480, 273761, 312685, 309590, 416893, 414306, 412655, 265315, 395861, 328788, 503046, 719711, 722799, 271887, 382954], \"yaxis\": \"y3\"}, {\"alignmentgroup\": \"True\", \"hovertemplate\": \"year=%{marker.color}<br>neighbourhood=%{x}<br>average_house_value=%{y}<extra></extra>\", \"legendgroup\": \"\", \"marker\": {\"color\": [2011, 2011, 2011, 2011, 2011, 2011, 2011, 2011, 2011, 2011, 2011, 2011, 2011, 2011, 2011, 2011, 2011, 2011, 2011, 2011, 2011, 2011, 2011, 2011, 2011, 2011, 2011, 2011, 2011, 2011, 2011, 2011, 2011, 2011, 2011, 2011, 2011, 2011, 2011, 2011, 2011, 2011, 2011, 2011, 2011, 2011, 2011, 2011, 2011, 2011, 2011, 2011, 2011, 2011, 2011, 2011, 2011, 2011, 2011, 2011, 2011, 2011, 2011, 2011, 2011, 2011, 2011, 2011, 2011, 2011, 2011, 2011, 2011, 2011, 2011, 2011, 2011, 2011, 2011, 2011, 2011, 2011, 2011, 2011, 2011, 2011, 2011, 2011, 2011, 2011, 2011, 2011, 2011, 2011, 2011, 2011, 2011, 2011, 2011, 2011, 2011, 2011, 2011, 2011, 2011, 2011, 2011, 2011, 2011, 2011, 2011, 2011, 2011, 2011, 2011, 2011, 2011, 2011, 2011, 2011, 2011, 2011, 2011, 2011, 2011, 2011, 2011, 2011, 2011, 2011, 2011, 2011, 2011, 2011, 2011, 2011, 2011, 2011, 2011, 2011], \"coloraxis\": \"coloraxis\"}, \"name\": \"\", \"offsetgroup\": \"\", \"orientation\": \"v\", \"showlegend\": false, \"textposition\": \"auto\", \"type\": \"bar\", \"x\": [\"Agincourt North\", \"Agincourt South-Malvern West\", \"Alderwood\", \"Annex\", \"Banbury-Don Mills\", \"Bathurst Manor\", \"Bay Street Corridor\", \"Bayview Village\", \"Bayview Woods-Steeles\", \"Bedford Park-Nortown\", \"Beechborough-Greenbrook\", \"Bendale\", \"Birchcliffe-Cliffside\", \"Black Creek\", \"Blake-Jones\", \"Briar Hill-Belgravia\", \"Bridle Path-Sunnybrook-York Mills\", \"Broadview North\", \"Brookhaven-Amesbury\", \"Cabbagetown-South St.James Town\", \"Caledonia-Fairbank\", \"Casa Loma\", \"Centennial Scarborough\", \"Church-Yonge Corridor\", \"Clairlea-Birchmount\", \"Clanton Park\", \"Cliffcrest\", \"Corso Italia-Davenport\", \"Danforth\", \"Danforth-East York\", \"Don Valley Village\", \"Dorset Park\", \"Dovercourt-Wallace Emerson-Juncti\", \"Downsview-Roding-CFB\", \"Dufferin Grove\", \"East End-Danforth\", \"Edenbridge-Humber Valley\", \"Eglinton East\", \"Elms-Old Rexdale\", \"Englemount-Lawrence\", \"Eringate-Centennial-West Deane\", \"Etobicoke West Mall\", \"Flemingdon Park\", \"Forest Hill North\", \"Forest Hill South\", \"Glenfield-Jane Heights\", \"Greenwood-Coxwell\", \"Guildwood\", \"Henry Farm\", \"High Park North\", \"High Park-Swansea\", \"Highland Creek\", \"Hillcrest Village\", \"Humber Heights-Westmount\", \"Humber Summit\", \"Humbermede\", \"Humewood-Cedarvale\", \"Ionview\", \"Islington-City Centre West\", \"Junction Area\", \"Keelesdale-Eglinton West\", \"Kennedy Park\", \"Kensington-Chinatown\", \"Kingsview Village-The Westway\", \"Kingsway South\", \"L'Amoreaux\", \"Lambton Baby Point\", \"Lansing-Westgate\", \"Lawrence Park North\", \"Lawrence Park South\", \"Leaside-Bennington\", \"Little Portugal\", \"Long Branch\", \"Malvern\", \"Maple Leaf\", \"Markland Wood\", \"Milliken\", \"Mimico\", \"Morningside\", \"Moss Park\", \"Mount Dennis\", \"Mount Olive-Silverstone-Jamestown\", \"Mount Pleasant East\", \"Mount Pleasant West\", \"New Toronto\", \"Newtonbrook East\", \"Newtonbrook West\", \"Niagara\", \"North Riverdale\", \"North St.James Town\", \"O'Connor-Parkview\", \"Oakridge\", \"Oakwood Village\", \"Old East York\", \"Palmerston-Little Italy\", \"Parkwoods-Donalda\", \"Pelmo Park-Humberlea\", \"Playter Estates-Danforth\", \"Pleasant View\", \"Princess-Rosethorn\", \"Regent Park\", \"Rexdale-Kipling\", \"Rockcliffe-Smythe\", \"Roncesvalles\", \"Rosedale-Moore Park\", \"Rouge\", \"Runnymede-Bloor West Village\", \"Rustic\", \"Scarborough Village\", \"South Parkdale\", \"South Riverdale\", \"St.Andrew-Windfields\", \"Steeles\", \"Stonegate-Queensway\", \"Tam O'Shanter-Sullivan\", \"Taylor-Massey\", \"The Beaches\", \"Thistletown-Beaumond Heights\", \"Thorncliffe Park\", \"Trinity-Bellwoods\", \"University\", \"Victoria Village\", \"Waterfront Communities-The Island\", \"West Hill\", \"West Humber-Clairville\", \"Westminster-Branson\", \"Weston\", \"Weston-Pellam Park\", \"Wexford/Maryvale\", \"Willowdale East\", \"Willowdale West\", \"Willowridge-Martingrove-Richview\", \"Woburn\", \"Woodbine Corridor\", \"Woodbine-Lumsden\", \"Wychwood\", \"Yonge-Eglinton\", \"Yonge-St.Clair\", \"York University Heights\", \"Yorkdale-Glen Park\"], \"xaxis\": \"x2\", \"y\": [366667, 371534, 475742, 830450, 680433, 557627, 470996, 599520, 628597, 1034387, 412378, 334773, 486184, 289990, 568589, 406371, 1697067, 492919, 390160, 549326, 402135, 1090696, 455664, 451500, 394176, 613197, 464068, 466857, 519123, 468801, 442487, 291278, 483276, 424038, 508723, 531476, 885132, 299023, 298328, 632514, 442233, 343988, 231020, 946854, 1329642, 364206, 430308, 410650, 411300, 592002, 648124, 476760, 439166, 499342, 391427, 355519, 774983, 319834, 502160, 481686, 358844, 319331, 489709, 376154, 937464, 722978, 374234, 681742, 844253, 1216283, 896593, 600558, 428946, 285586, 503876, 493588, 383540, 437462, 316863, 455212, 291621, 281475, 753065, 520500, 453384, 622104, 512036, 411339, 781629, 457435, 331652, 469444, 490506, 492964, 691720, 505459, 450737, 721368, 415099, 851317, 436448, 401340, 384287, 565810, 1215852, 418336, 613776, 479264, 366694, 497483, 505868, 1110755, 418033, 611942, 393477, 266168, 740764, 417866, 283790, 594191, 687412, 391483, 418977, 316456, 381612, 388356, 342427, 391115, 387243, 521460, 518224, 516160, 331863, 495153, 411256, 629223, 900233, 904096, 340083, 479009], \"yaxis\": \"y2\"}, {\"alignmentgroup\": \"True\", \"hovertemplate\": \"year=%{marker.color}<br>neighbourhood=%{x}<br>average_house_value=%{y}<extra></extra>\", \"legendgroup\": \"\", \"marker\": {\"color\": [2016, 2016, 2016, 2016, 2016, 2016, 2016, 2016, 2016, 2016, 2016, 2016, 2016, 2016, 2016, 2016, 2016, 2016, 2016, 2016, 2016, 2016, 2016, 2016, 2016, 2016, 2016, 2016, 2016, 2016, 2016, 2016, 2016, 2016, 2016, 2016, 2016, 2016, 2016, 2016, 2016, 2016, 2016, 2016, 2016, 2016, 2016, 2016, 2016, 2016, 2016, 2016, 2016, 2016, 2016, 2016, 2016, 2016, 2016, 2016, 2016, 2016, 2016, 2016, 2016, 2016, 2016, 2016, 2016, 2016, 2016, 2016, 2016, 2016, 2016, 2016, 2016, 2016, 2016, 2016, 2016, 2016, 2016, 2016, 2016, 2016, 2016, 2016, 2016, 2016, 2016, 2016, 2016, 2016, 2016, 2016, 2016, 2016, 2016, 2016, 2016, 2016, 2016, 2016, 2016, 2016, 2016, 2016, 2016, 2016, 2016, 2016, 2016, 2016, 2016, 2016, 2016, 2016, 2016, 2016, 2016, 2016, 2016, 2016, 2016, 2016, 2016, 2016, 2016, 2016, 2016, 2016, 2016, 2016, 2016, 2016, 2016, 2016, 2016, 2016], \"coloraxis\": \"coloraxis\"}, \"name\": \"\", \"offsetgroup\": \"\", \"orientation\": \"v\", \"showlegend\": false, \"textposition\": \"auto\", \"type\": \"bar\", \"x\": [\"Agincourt North\", \"Agincourt South-Malvern West\", \"Alderwood\", \"Annex\", \"Banbury-Don Mills\", \"Bathurst Manor\", \"Bay Street Corridor\", \"Bayview Village\", \"Bayview Woods-Steeles\", \"Bedford Park-Nortown\", \"Beechborough-Greenbrook\", \"Bendale\", \"Birchcliffe-Cliffside\", \"Black Creek\", \"Blake-Jones\", \"Briar Hill-Belgravia\", \"Bridle Path-Sunnybrook-York Mills\", \"Broadview North\", \"Brookhaven-Amesbury\", \"Cabbagetown-South St.James Town\", \"Caledonia-Fairbank\", \"Casa Loma\", \"Centennial Scarborough\", \"Church-Yonge Corridor\", \"Clairlea-Birchmount\", \"Clanton Park\", \"Cliffcrest\", \"Corso Italia-Davenport\", \"Danforth\", \"Danforth-East York\", \"Don Valley Village\", \"Dorset Park\", \"Dovercourt-Wallace Emerson-Juncti\", \"Downsview-Roding-CFB\", \"Dufferin Grove\", \"East End-Danforth\", \"Edenbridge-Humber Valley\", \"Eglinton East\", \"Elms-Old Rexdale\", \"Englemount-Lawrence\", \"Eringate-Centennial-West Deane\", \"Etobicoke West Mall\", \"Flemingdon Park\", \"Forest Hill North\", \"Forest Hill South\", \"Glenfield-Jane Heights\", \"Greenwood-Coxwell\", \"Guildwood\", \"Henry Farm\", \"High Park North\", \"High Park-Swansea\", \"Highland Creek\", \"Hillcrest Village\", \"Humber Heights-Westmount\", \"Humber Summit\", \"Humbermede\", \"Humewood-Cedarvale\", \"Ionview\", \"Islington-City Centre West\", \"Junction Area\", \"Keelesdale-Eglinton West\", \"Kennedy Park\", \"Kensington-Chinatown\", \"Kingsview Village-The Westway\", \"Kingsway South\", \"L'Amoreaux\", \"Lambton Baby Point\", \"Lansing-Westgate\", \"Lawrence Park North\", \"Lawrence Park South\", \"Leaside-Bennington\", \"Little Portugal\", \"Long Branch\", \"Malvern\", \"Maple Leaf\", \"Markland Wood\", \"Milliken\", \"Mimico\", \"Morningside\", \"Moss Park\", \"Mount Dennis\", \"Mount Olive-Silverstone-Jamestown\", \"Mount Pleasant East\", \"Mount Pleasant West\", \"New Toronto\", \"Newtonbrook East\", \"Newtonbrook West\", \"Niagara\", \"North Riverdale\", \"North St.James Town\", \"O'Connor-Parkview\", \"Oakridge\", \"Oakwood Village\", \"Old East York\", \"Palmerston-Little Italy\", \"Parkwoods-Donalda\", \"Pelmo Park-Humberlea\", \"Playter Estates-Danforth\", \"Pleasant View\", \"Princess-Rosethorn\", \"Regent Park\", \"Rexdale-Kipling\", \"Rockcliffe-Smythe\", \"Roncesvalles\", \"Rosedale-Moore Park\", \"Rouge\", \"Runnymede-Bloor West Village\", \"Rustic\", \"Scarborough Village\", \"South Parkdale\", \"South Riverdale\", \"St.Andrew-Windfields\", \"Steeles\", \"Stonegate-Queensway\", \"Tam O'Shanter-Sullivan\", \"Taylor-Massey\", \"The Beaches\", \"Thistletown-Beaumond Heights\", \"Thorncliffe Park\", \"Trinity-Bellwoods\", \"University\", \"Victoria Village\", \"Waterfront Communities-The Island\", \"West Hill\", \"West Humber-Clairville\", \"Westminster-Branson\", \"Weston\", \"Weston-Pellam Park\", \"Wexford/Maryvale\", \"Willowdale East\", \"Willowdale West\", \"Willowridge-Martingrove-Richview\", \"Woburn\", \"Woodbine Corridor\", \"Woodbine-Lumsden\", \"Wychwood\", \"Yonge-Eglinton\", \"Yonge-St.Clair\", \"York University Heights\", \"Yorkdale-Glen Park\"], \"xaxis\": \"x\", \"y\": [459051, 465144, 595608, 1039687, 851872, 698124, 589666, 750572, 786976, 1295007, 516279, 419121, 608681, 363055, 711848, 508759, 2124653, 617113, 488463, 687732, 503455, 1365503, 570471, 565258, 493491, 767695, 580993, 584484, 649919, 586918, 553974, 364667, 605040, 530877, 636899, 665384, 1108146, 374364, 373493, 791880, 553656, 430658, 289227, 1185419, 1664653, 455970, 538727, 514116, 514929, 741161, 811423, 596883, 549816, 625154, 490049, 445094, 970245, 400418, 628682, 603050, 449257, 399789, 613094, 470928, 1173663, 905137, 468524, 853511, 1056967, 1522732, 1122495, 751872, 537021, 357541, 630831, 617950, 480175, 547683, 396699, 569905, 365097, 352394, 942804, 651643, 567617, 778847, 641047, 514978, 978565, 572689, 415214, 587723, 614092, 617169, 866003, 632812, 564303, 903121, 519686, 1065811, 546413, 502460, 481110, 708369, 1522193, 523738, 768420, 600017, 459085, 622827, 633325, 1390616, 523359, 766124, 492616, 333230, 927404, 523150, 355293, 743901, 860610, 490119, 524540, 396189, 477762, 486204, 428703, 489659, 484811, 652845, 648794, 646210, 415478, 619910, 514874, 787760, 1127052, 1131888, 425769, 599698], \"yaxis\": \"y\"}],                        {\"annotations\": [{\"font\": {}, \"showarrow\": false, \"text\": \"year=2016\", \"textangle\": 90, \"x\": 0.98, \"xanchor\": \"left\", \"xref\": \"paper\", \"y\": 0.11375, \"yanchor\": \"middle\", \"yref\": \"paper\"}, {\"font\": {}, \"showarrow\": false, \"text\": \"year=2011\", \"textangle\": 90, \"x\": 0.98, \"xanchor\": \"left\", \"xref\": \"paper\", \"y\": 0.37124999999999997, \"yanchor\": \"middle\", \"yref\": \"paper\"}, {\"font\": {}, \"showarrow\": false, \"text\": \"year=2006\", \"textangle\": 90, \"x\": 0.98, \"xanchor\": \"left\", \"xref\": \"paper\", \"y\": 0.62875, \"yanchor\": \"middle\", \"yref\": \"paper\"}, {\"font\": {}, \"showarrow\": false, \"text\": \"year=2001\", \"textangle\": 90, \"x\": 0.98, \"xanchor\": \"left\", \"xref\": \"paper\", \"y\": 0.88625, \"yanchor\": \"middle\", \"yref\": \"paper\"}], \"barmode\": \"relative\", \"coloraxis\": {\"colorbar\": {\"title\": {\"text\": \"year\"}}, \"colorscale\": [[0.0, \"#0d0887\"], [0.1111111111111111, \"#46039f\"], [0.2222222222222222, \"#7201a8\"], [0.3333333333333333, \"#9c179e\"], [0.4444444444444444, \"#bd3786\"], [0.5555555555555556, \"#d8576b\"], [0.6666666666666666, \"#ed7953\"], [0.7777777777777778, \"#fb9f3a\"], [0.8888888888888888, \"#fdca26\"], [1.0, \"#f0f921\"]]}, \"height\": 800, \"legend\": {\"tracegroupgap\": 0}, \"template\": {\"data\": {\"bar\": [{\"error_x\": {\"color\": \"#2a3f5f\"}, \"error_y\": {\"color\": \"#2a3f5f\"}, \"marker\": {\"line\": {\"color\": \"#E5ECF6\", \"width\": 0.5}}, \"type\": \"bar\"}], \"barpolar\": [{\"marker\": {\"line\": {\"color\": \"#E5ECF6\", \"width\": 0.5}}, \"type\": \"barpolar\"}], \"carpet\": [{\"aaxis\": {\"endlinecolor\": \"#2a3f5f\", \"gridcolor\": \"white\", \"linecolor\": \"white\", \"minorgridcolor\": \"white\", \"startlinecolor\": \"#2a3f5f\"}, \"baxis\": {\"endlinecolor\": \"#2a3f5f\", \"gridcolor\": \"white\", \"linecolor\": \"white\", \"minorgridcolor\": \"white\", \"startlinecolor\": \"#2a3f5f\"}, \"type\": \"carpet\"}], \"choropleth\": [{\"colorbar\": {\"outlinewidth\": 0, \"ticks\": \"\"}, \"type\": \"choropleth\"}], \"contour\": [{\"colorbar\": {\"outlinewidth\": 0, \"ticks\": \"\"}, \"colorscale\": [[0.0, \"#0d0887\"], [0.1111111111111111, \"#46039f\"], [0.2222222222222222, \"#7201a8\"], [0.3333333333333333, \"#9c179e\"], [0.4444444444444444, \"#bd3786\"], [0.5555555555555556, \"#d8576b\"], [0.6666666666666666, \"#ed7953\"], [0.7777777777777778, \"#fb9f3a\"], [0.8888888888888888, \"#fdca26\"], [1.0, \"#f0f921\"]], \"type\": \"contour\"}], \"contourcarpet\": [{\"colorbar\": {\"outlinewidth\": 0, \"ticks\": \"\"}, \"type\": \"contourcarpet\"}], \"heatmap\": [{\"colorbar\": {\"outlinewidth\": 0, \"ticks\": \"\"}, \"colorscale\": [[0.0, \"#0d0887\"], [0.1111111111111111, \"#46039f\"], [0.2222222222222222, \"#7201a8\"], [0.3333333333333333, \"#9c179e\"], [0.4444444444444444, \"#bd3786\"], [0.5555555555555556, \"#d8576b\"], [0.6666666666666666, \"#ed7953\"], [0.7777777777777778, \"#fb9f3a\"], [0.8888888888888888, \"#fdca26\"], [1.0, \"#f0f921\"]], \"type\": \"heatmap\"}], \"heatmapgl\": [{\"colorbar\": {\"outlinewidth\": 0, \"ticks\": \"\"}, \"colorscale\": [[0.0, \"#0d0887\"], [0.1111111111111111, \"#46039f\"], [0.2222222222222222, \"#7201a8\"], [0.3333333333333333, \"#9c179e\"], [0.4444444444444444, \"#bd3786\"], [0.5555555555555556, \"#d8576b\"], [0.6666666666666666, \"#ed7953\"], [0.7777777777777778, \"#fb9f3a\"], [0.8888888888888888, \"#fdca26\"], [1.0, \"#f0f921\"]], \"type\": \"heatmapgl\"}], \"histogram\": [{\"marker\": {\"colorbar\": {\"outlinewidth\": 0, \"ticks\": \"\"}}, \"type\": \"histogram\"}], \"histogram2d\": [{\"colorbar\": {\"outlinewidth\": 0, \"ticks\": \"\"}, \"colorscale\": [[0.0, \"#0d0887\"], [0.1111111111111111, \"#46039f\"], [0.2222222222222222, \"#7201a8\"], [0.3333333333333333, \"#9c179e\"], [0.4444444444444444, \"#bd3786\"], [0.5555555555555556, \"#d8576b\"], [0.6666666666666666, \"#ed7953\"], [0.7777777777777778, \"#fb9f3a\"], [0.8888888888888888, \"#fdca26\"], [1.0, \"#f0f921\"]], \"type\": \"histogram2d\"}], \"histogram2dcontour\": [{\"colorbar\": {\"outlinewidth\": 0, \"ticks\": \"\"}, \"colorscale\": [[0.0, \"#0d0887\"], [0.1111111111111111, \"#46039f\"], [0.2222222222222222, \"#7201a8\"], [0.3333333333333333, \"#9c179e\"], [0.4444444444444444, \"#bd3786\"], [0.5555555555555556, \"#d8576b\"], [0.6666666666666666, \"#ed7953\"], [0.7777777777777778, \"#fb9f3a\"], [0.8888888888888888, \"#fdca26\"], [1.0, \"#f0f921\"]], \"type\": \"histogram2dcontour\"}], \"mesh3d\": [{\"colorbar\": {\"outlinewidth\": 0, \"ticks\": \"\"}, \"type\": \"mesh3d\"}], \"parcoords\": [{\"line\": {\"colorbar\": {\"outlinewidth\": 0, \"ticks\": \"\"}}, \"type\": \"parcoords\"}], \"pie\": [{\"automargin\": true, \"type\": \"pie\"}], \"scatter\": [{\"marker\": {\"colorbar\": {\"outlinewidth\": 0, \"ticks\": \"\"}}, \"type\": \"scatter\"}], \"scatter3d\": [{\"line\": {\"colorbar\": {\"outlinewidth\": 0, \"ticks\": \"\"}}, \"marker\": {\"colorbar\": {\"outlinewidth\": 0, \"ticks\": \"\"}}, \"type\": \"scatter3d\"}], \"scattercarpet\": [{\"marker\": {\"colorbar\": {\"outlinewidth\": 0, \"ticks\": \"\"}}, \"type\": \"scattercarpet\"}], \"scattergeo\": [{\"marker\": {\"colorbar\": {\"outlinewidth\": 0, \"ticks\": \"\"}}, \"type\": \"scattergeo\"}], \"scattergl\": [{\"marker\": {\"colorbar\": {\"outlinewidth\": 0, \"ticks\": \"\"}}, \"type\": \"scattergl\"}], \"scattermapbox\": [{\"marker\": {\"colorbar\": {\"outlinewidth\": 0, \"ticks\": \"\"}}, \"type\": \"scattermapbox\"}], \"scatterpolar\": [{\"marker\": {\"colorbar\": {\"outlinewidth\": 0, \"ticks\": \"\"}}, \"type\": \"scatterpolar\"}], \"scatterpolargl\": [{\"marker\": {\"colorbar\": {\"outlinewidth\": 0, \"ticks\": \"\"}}, \"type\": \"scatterpolargl\"}], \"scatterternary\": [{\"marker\": {\"colorbar\": {\"outlinewidth\": 0, \"ticks\": \"\"}}, \"type\": \"scatterternary\"}], \"surface\": [{\"colorbar\": {\"outlinewidth\": 0, \"ticks\": \"\"}, \"colorscale\": [[0.0, \"#0d0887\"], [0.1111111111111111, \"#46039f\"], [0.2222222222222222, \"#7201a8\"], [0.3333333333333333, \"#9c179e\"], [0.4444444444444444, \"#bd3786\"], [0.5555555555555556, \"#d8576b\"], [0.6666666666666666, \"#ed7953\"], [0.7777777777777778, \"#fb9f3a\"], [0.8888888888888888, \"#fdca26\"], [1.0, \"#f0f921\"]], \"type\": \"surface\"}], \"table\": [{\"cells\": {\"fill\": {\"color\": \"#EBF0F8\"}, \"line\": {\"color\": \"white\"}}, \"header\": {\"fill\": {\"color\": \"#C8D4E3\"}, \"line\": {\"color\": \"white\"}}, \"type\": \"table\"}]}, \"layout\": {\"annotationdefaults\": {\"arrowcolor\": \"#2a3f5f\", \"arrowhead\": 0, \"arrowwidth\": 1}, \"autotypenumbers\": \"strict\", \"coloraxis\": {\"colorbar\": {\"outlinewidth\": 0, \"ticks\": \"\"}}, \"colorscale\": {\"diverging\": [[0, \"#8e0152\"], [0.1, \"#c51b7d\"], [0.2, \"#de77ae\"], [0.3, \"#f1b6da\"], [0.4, \"#fde0ef\"], [0.5, \"#f7f7f7\"], [0.6, \"#e6f5d0\"], [0.7, \"#b8e186\"], [0.8, \"#7fbc41\"], [0.9, \"#4d9221\"], [1, \"#276419\"]], \"sequential\": [[0.0, \"#0d0887\"], [0.1111111111111111, \"#46039f\"], [0.2222222222222222, \"#7201a8\"], [0.3333333333333333, \"#9c179e\"], [0.4444444444444444, \"#bd3786\"], [0.5555555555555556, \"#d8576b\"], [0.6666666666666666, \"#ed7953\"], [0.7777777777777778, \"#fb9f3a\"], [0.8888888888888888, \"#fdca26\"], [1.0, \"#f0f921\"]], \"sequentialminus\": [[0.0, \"#0d0887\"], [0.1111111111111111, \"#46039f\"], [0.2222222222222222, \"#7201a8\"], [0.3333333333333333, \"#9c179e\"], [0.4444444444444444, \"#bd3786\"], [0.5555555555555556, \"#d8576b\"], [0.6666666666666666, \"#ed7953\"], [0.7777777777777778, \"#fb9f3a\"], [0.8888888888888888, \"#fdca26\"], [1.0, \"#f0f921\"]]}, \"colorway\": [\"#636efa\", \"#EF553B\", \"#00cc96\", \"#ab63fa\", \"#FFA15A\", \"#19d3f3\", \"#FF6692\", \"#B6E880\", \"#FF97FF\", \"#FECB52\"], \"font\": {\"color\": \"#2a3f5f\"}, \"geo\": {\"bgcolor\": \"white\", \"lakecolor\": \"white\", \"landcolor\": \"#E5ECF6\", \"showlakes\": true, \"showland\": true, \"subunitcolor\": \"white\"}, \"hoverlabel\": {\"align\": \"left\"}, \"hovermode\": \"closest\", \"mapbox\": {\"style\": \"light\"}, \"paper_bgcolor\": \"white\", \"plot_bgcolor\": \"#E5ECF6\", \"polar\": {\"angularaxis\": {\"gridcolor\": \"white\", \"linecolor\": \"white\", \"ticks\": \"\"}, \"bgcolor\": \"#E5ECF6\", \"radialaxis\": {\"gridcolor\": \"white\", \"linecolor\": \"white\", \"ticks\": \"\"}}, \"scene\": {\"xaxis\": {\"backgroundcolor\": \"#E5ECF6\", \"gridcolor\": \"white\", \"gridwidth\": 2, \"linecolor\": \"white\", \"showbackground\": true, \"ticks\": \"\", \"zerolinecolor\": \"white\"}, \"yaxis\": {\"backgroundcolor\": \"#E5ECF6\", \"gridcolor\": \"white\", \"gridwidth\": 2, \"linecolor\": \"white\", \"showbackground\": true, \"ticks\": \"\", \"zerolinecolor\": \"white\"}, \"zaxis\": {\"backgroundcolor\": \"#E5ECF6\", \"gridcolor\": \"white\", \"gridwidth\": 2, \"linecolor\": \"white\", \"showbackground\": true, \"ticks\": \"\", \"zerolinecolor\": \"white\"}}, \"shapedefaults\": {\"line\": {\"color\": \"#2a3f5f\"}}, \"ternary\": {\"aaxis\": {\"gridcolor\": \"white\", \"linecolor\": \"white\", \"ticks\": \"\"}, \"baxis\": {\"gridcolor\": \"white\", \"linecolor\": \"white\", \"ticks\": \"\"}, \"bgcolor\": \"#E5ECF6\", \"caxis\": {\"gridcolor\": \"white\", \"linecolor\": \"white\", \"ticks\": \"\"}}, \"title\": {\"x\": 0.05}, \"xaxis\": {\"automargin\": true, \"gridcolor\": \"white\", \"linecolor\": \"white\", \"ticks\": \"\", \"title\": {\"standoff\": 15}, \"zerolinecolor\": \"white\", \"zerolinewidth\": 2}, \"yaxis\": {\"automargin\": true, \"gridcolor\": \"white\", \"linecolor\": \"white\", \"ticks\": \"\", \"title\": {\"standoff\": 15}, \"zerolinecolor\": \"white\", \"zerolinewidth\": 2}}}, \"title\": {\"text\": \"Average House Values in Toronto per Neighbourhood\"}, \"xaxis\": {\"anchor\": \"y\", \"domain\": [0.0, 0.98], \"title\": {\"text\": \"neighbourhood\"}}, \"xaxis2\": {\"anchor\": \"y2\", \"domain\": [0.0, 0.98], \"matches\": \"x\", \"showticklabels\": false}, \"xaxis3\": {\"anchor\": \"y3\", \"domain\": [0.0, 0.98], \"matches\": \"x\", \"showticklabels\": false}, \"xaxis4\": {\"anchor\": \"y4\", \"domain\": [0.0, 0.98], \"matches\": \"x\", \"showticklabels\": false}, \"yaxis\": {\"anchor\": \"x\", \"domain\": [0.0, 0.2275], \"title\": {\"text\": \"average_house_value\"}}, \"yaxis2\": {\"anchor\": \"x2\", \"domain\": [0.2575, 0.485], \"matches\": \"y\", \"title\": {\"text\": \"average_house_value\"}}, \"yaxis3\": {\"anchor\": \"x3\", \"domain\": [0.515, 0.7425], \"matches\": \"y\", \"title\": {\"text\": \"average_house_value\"}}, \"yaxis4\": {\"anchor\": \"x4\", \"domain\": [0.7725, 1.0], \"matches\": \"y\", \"title\": {\"text\": \"average_house_value\"}}},                        {\"responsive\": true}                    ).then(function(){\n",
       "                            \n",
       "var gd = document.getElementById('73bae5ca-28c9-44ab-a77b-212e3d3dfe1a');\n",
       "var x = new MutationObserver(function (mutations, observer) {{\n",
       "        var display = window.getComputedStyle(gd).display;\n",
       "        if (!display || display === 'none') {{\n",
       "            console.log([gd, 'removed!']);\n",
       "            Plotly.purge(gd);\n",
       "            observer.disconnect();\n",
       "        }}\n",
       "}});\n",
       "\n",
       "// Listen for the removal of the full notebook cells\n",
       "var notebookContainer = gd.closest('#notebook-container');\n",
       "if (notebookContainer) {{\n",
       "    x.observe(notebookContainer, {childList: true});\n",
       "}}\n",
       "\n",
       "// Listen for the clearing of the current output cell\n",
       "var outputEl = gd.closest('.output');\n",
       "if (outputEl) {{\n",
       "    x.observe(outputEl, {childList: true});\n",
       "}}\n",
       "\n",
       "                        })                };                });            </script>        </div>"
      ]
     },
     "metadata": {},
     "output_type": "display_data"
    }
   ],
   "source": [
    "px.bar(average_house_values_neighbourhood, x='neighbourhood', y=\"average_house_value\", color='year', facet_row='year', height=800, title=\"Average House Values in Toronto per Neighbourhood\")\n"
   ]
  },
  {
   "cell_type": "markdown",
   "metadata": {},
   "source": [
    "### Create a sunburst chart to conduct a costs analysis of most expensive neighbourhoods in Toronto per year"
   ]
  },
  {
   "cell_type": "code",
   "execution_count": 62,
   "metadata": {},
   "outputs": [
    {
     "data": {
      "text/html": [
       "<div>\n",
       "<style scoped>\n",
       "    .dataframe tbody tr th:only-of-type {\n",
       "        vertical-align: middle;\n",
       "    }\n",
       "\n",
       "    .dataframe tbody tr th {\n",
       "        vertical-align: top;\n",
       "    }\n",
       "\n",
       "    .dataframe thead th {\n",
       "        text-align: right;\n",
       "    }\n",
       "</style>\n",
       "<table border=\"1\" class=\"dataframe\">\n",
       "  <thead>\n",
       "    <tr style=\"text-align: right;\">\n",
       "      <th></th>\n",
       "      <th>neighbourhood</th>\n",
       "      <th>single_detached_house</th>\n",
       "      <th>apartment_five_storeys_plus</th>\n",
       "      <th>movable_dwelling</th>\n",
       "      <th>semi_detached_house</th>\n",
       "      <th>row_house</th>\n",
       "      <th>duplex</th>\n",
       "      <th>apartment_five_storeys_less</th>\n",
       "      <th>other_house</th>\n",
       "      <th>average_house_value</th>\n",
       "      <th>shelter_costs_owned</th>\n",
       "      <th>shelter_costs_rented</th>\n",
       "    </tr>\n",
       "  </thead>\n",
       "  <tbody>\n",
       "    <tr>\n",
       "      <th>0</th>\n",
       "      <td>Bridle Path-Sunnybrook-York Mills</td>\n",
       "      <td>2260.00</td>\n",
       "      <td>331.25</td>\n",
       "      <td>0.00</td>\n",
       "      <td>36.25</td>\n",
       "      <td>90.00</td>\n",
       "      <td>25.0</td>\n",
       "      <td>40.00</td>\n",
       "      <td>0.00</td>\n",
       "      <td>1526485.75</td>\n",
       "      <td>2360.75</td>\n",
       "      <td>2321.75</td>\n",
       "    </tr>\n",
       "    <tr>\n",
       "      <th>1</th>\n",
       "      <td>Forest Hill South</td>\n",
       "      <td>1742.50</td>\n",
       "      <td>2031.25</td>\n",
       "      <td>1.25</td>\n",
       "      <td>61.25</td>\n",
       "      <td>45.00</td>\n",
       "      <td>75.0</td>\n",
       "      <td>1027.50</td>\n",
       "      <td>3.75</td>\n",
       "      <td>1195992.50</td>\n",
       "      <td>1781.00</td>\n",
       "      <td>1313.75</td>\n",
       "    </tr>\n",
       "    <tr>\n",
       "      <th>2</th>\n",
       "      <td>Lawrence Park South</td>\n",
       "      <td>3472.50</td>\n",
       "      <td>773.75</td>\n",
       "      <td>0.00</td>\n",
       "      <td>126.25</td>\n",
       "      <td>38.75</td>\n",
       "      <td>225.0</td>\n",
       "      <td>966.25</td>\n",
       "      <td>16.25</td>\n",
       "      <td>1094027.75</td>\n",
       "      <td>1954.00</td>\n",
       "      <td>1372.75</td>\n",
       "    </tr>\n",
       "    <tr>\n",
       "      <th>3</th>\n",
       "      <td>Rosedale-Moore Park</td>\n",
       "      <td>2498.75</td>\n",
       "      <td>4641.25</td>\n",
       "      <td>0.00</td>\n",
       "      <td>486.25</td>\n",
       "      <td>245.00</td>\n",
       "      <td>327.5</td>\n",
       "      <td>1618.75</td>\n",
       "      <td>2.50</td>\n",
       "      <td>1093640.00</td>\n",
       "      <td>1909.75</td>\n",
       "      <td>1537.25</td>\n",
       "    </tr>\n",
       "    <tr>\n",
       "      <th>4</th>\n",
       "      <td>St.Andrew-Windfields</td>\n",
       "      <td>3225.00</td>\n",
       "      <td>1670.00</td>\n",
       "      <td>0.00</td>\n",
       "      <td>185.00</td>\n",
       "      <td>552.50</td>\n",
       "      <td>97.5</td>\n",
       "      <td>586.25</td>\n",
       "      <td>5.00</td>\n",
       "      <td>999107.00</td>\n",
       "      <td>1880.25</td>\n",
       "      <td>1384.50</td>\n",
       "    </tr>\n",
       "  </tbody>\n",
       "</table>\n",
       "</div>"
      ],
      "text/plain": [
       "                       neighbourhood  single_detached_house  \\\n",
       "0  Bridle Path-Sunnybrook-York Mills                2260.00   \n",
       "1                  Forest Hill South                1742.50   \n",
       "2                Lawrence Park South                3472.50   \n",
       "3                Rosedale-Moore Park                2498.75   \n",
       "4               St.Andrew-Windfields                3225.00   \n",
       "\n",
       "   apartment_five_storeys_plus  movable_dwelling  semi_detached_house  \\\n",
       "0                       331.25              0.00                36.25   \n",
       "1                      2031.25              1.25                61.25   \n",
       "2                       773.75              0.00               126.25   \n",
       "3                      4641.25              0.00               486.25   \n",
       "4                      1670.00              0.00               185.00   \n",
       "\n",
       "   row_house  duplex  apartment_five_storeys_less  other_house  \\\n",
       "0      90.00    25.0                        40.00         0.00   \n",
       "1      45.00    75.0                      1027.50         3.75   \n",
       "2      38.75   225.0                       966.25        16.25   \n",
       "3     245.00   327.5                      1618.75         2.50   \n",
       "4     552.50    97.5                       586.25         5.00   \n",
       "\n",
       "   average_house_value  shelter_costs_owned  shelter_costs_rented  \n",
       "0           1526485.75              2360.75               2321.75  \n",
       "1           1195992.50              1781.00               1313.75  \n",
       "2           1094027.75              1954.00               1372.75  \n",
       "3           1093640.00              1909.75               1537.25  \n",
       "4            999107.00              1880.25               1384.50  "
      ]
     },
     "execution_count": 62,
     "metadata": {},
     "output_type": "execute_result"
    }
   ],
   "source": [
    "# Fetch the data from all expensive neighbourhoods per year.\n",
    "# YOUR CODE HERE!\n",
    "list(expensive_dwellings.columns)\n",
    "expensive_dwellings.reset_index(inplace=True)\n",
    "dwellings_columns = ['neighbourhood','single_detached_house','apartment_five_storeys_plus', 'movable_dwelling',\n",
    "                     'semi_detached_house', 'row_house','duplex','apartment_five_storeys_less', 'other_house','average_house_value',\n",
    "                      'shelter_costs_owned','shelter_costs_rented']\n",
    "expensive_neighbourhoods =expensive_dwellings[dwellings_columns]\n",
    "expensive_dwellings.head()\n",
    "expensive_neighbourhoods.head()"
   ]
  },
  {
   "cell_type": "code",
   "execution_count": 48,
   "metadata": {},
   "outputs": [],
   "source": [
    "# Create the sunburst chart\n",
    "# YOUR CODE HERE!\n",
    "#df = px.data.gapminder().query(\"year == 2007\")\n",
    "#px.sunburst(expensive_neighbourhoods, path=['average_house_value', 'neighbourhood'], values=('single_detached_house', 'apartment_five_storeys_plus', 'movable_dwelling',\n",
    " #'semi_detached_house', 'row_house', 'duplex', 'apartment_five_storeys_less', 'other_house'), color='average_house_value', hover_data=['neighbourhood'],\n",
    "                  #color_continuous_scale='RdBu')\n",
    "                 # color_continuous_midpoint=np.average(df['lifeExp'], weights=df['pop']))\n",
    "            \n",
    "#data=  expensive_neighbourhoods\n",
    "#fig = px.sunburst(data, path = ['neighbourhood'], values ='average_house_value' )\n",
    "#fig.show()"
   ]
  },
  {
   "cell_type": "code",
   "execution_count": 67,
   "metadata": {},
   "outputs": [
    {
     "data": {
      "text/html": [
       "<div>\n",
       "<style scoped>\n",
       "    .dataframe tbody tr th:only-of-type {\n",
       "        vertical-align: middle;\n",
       "    }\n",
       "\n",
       "    .dataframe tbody tr th {\n",
       "        vertical-align: top;\n",
       "    }\n",
       "\n",
       "    .dataframe thead th {\n",
       "        text-align: right;\n",
       "    }\n",
       "</style>\n",
       "<table border=\"1\" class=\"dataframe\">\n",
       "  <thead>\n",
       "    <tr style=\"text-align: right;\">\n",
       "      <th></th>\n",
       "      <th>year</th>\n",
       "      <th>neighbourhood</th>\n",
       "      <th>single_detached_house</th>\n",
       "      <th>apartment_five_storeys_plus</th>\n",
       "      <th>movable_dwelling</th>\n",
       "      <th>semi_detached_house</th>\n",
       "      <th>row_house</th>\n",
       "      <th>duplex</th>\n",
       "      <th>apartment_five_storeys_less</th>\n",
       "      <th>other_house</th>\n",
       "      <th>average_house_value</th>\n",
       "      <th>shelter_costs_owned</th>\n",
       "      <th>shelter_costs_rented</th>\n",
       "    </tr>\n",
       "  </thead>\n",
       "  <tbody>\n",
       "    <tr>\n",
       "      <th>0</th>\n",
       "      <td>2001</td>\n",
       "      <td>Bedford Park-Nortown</td>\n",
       "      <td>4985</td>\n",
       "      <td>2080</td>\n",
       "      <td>0</td>\n",
       "      <td>45</td>\n",
       "      <td>40</td>\n",
       "      <td>210</td>\n",
       "      <td>1235</td>\n",
       "      <td>15</td>\n",
       "      <td>565304</td>\n",
       "      <td>933</td>\n",
       "      <td>1491</td>\n",
       "    </tr>\n",
       "    <tr>\n",
       "      <th>1</th>\n",
       "      <td>2001</td>\n",
       "      <td>Bridle Path-Sunnybrook-York Mills</td>\n",
       "      <td>2275</td>\n",
       "      <td>110</td>\n",
       "      <td>0</td>\n",
       "      <td>25</td>\n",
       "      <td>15</td>\n",
       "      <td>10</td>\n",
       "      <td>20</td>\n",
       "      <td>0</td>\n",
       "      <td>927466</td>\n",
       "      <td>1983</td>\n",
       "      <td>1790</td>\n",
       "    </tr>\n",
       "    <tr>\n",
       "      <th>2</th>\n",
       "      <td>2001</td>\n",
       "      <td>Casa Loma</td>\n",
       "      <td>1035</td>\n",
       "      <td>1700</td>\n",
       "      <td>0</td>\n",
       "      <td>415</td>\n",
       "      <td>190</td>\n",
       "      <td>185</td>\n",
       "      <td>1090</td>\n",
       "      <td>5</td>\n",
       "      <td>596077</td>\n",
       "      <td>1241</td>\n",
       "      <td>1500</td>\n",
       "    </tr>\n",
       "    <tr>\n",
       "      <th>3</th>\n",
       "      <td>2001</td>\n",
       "      <td>Forest Hill North</td>\n",
       "      <td>1565</td>\n",
       "      <td>3380</td>\n",
       "      <td>0</td>\n",
       "      <td>10</td>\n",
       "      <td>0</td>\n",
       "      <td>0</td>\n",
       "      <td>485</td>\n",
       "      <td>5</td>\n",
       "      <td>517466</td>\n",
       "      <td>940</td>\n",
       "      <td>1428</td>\n",
       "    </tr>\n",
       "    <tr>\n",
       "      <th>4</th>\n",
       "      <td>2001</td>\n",
       "      <td>Forest Hill South</td>\n",
       "      <td>1815</td>\n",
       "      <td>2440</td>\n",
       "      <td>5</td>\n",
       "      <td>65</td>\n",
       "      <td>45</td>\n",
       "      <td>85</td>\n",
       "      <td>1010</td>\n",
       "      <td>15</td>\n",
       "      <td>726664</td>\n",
       "      <td>1001</td>\n",
       "      <td>1469</td>\n",
       "    </tr>\n",
       "  </tbody>\n",
       "</table>\n",
       "</div>"
      ],
      "text/plain": [
       "   year                      neighbourhood  single_detached_house  \\\n",
       "0  2001               Bedford Park-Nortown                   4985   \n",
       "1  2001  Bridle Path-Sunnybrook-York Mills                   2275   \n",
       "2  2001                          Casa Loma                   1035   \n",
       "3  2001                  Forest Hill North                   1565   \n",
       "4  2001                  Forest Hill South                   1815   \n",
       "\n",
       "   apartment_five_storeys_plus  movable_dwelling  semi_detached_house  \\\n",
       "0                         2080                 0                   45   \n",
       "1                          110                 0                   25   \n",
       "2                         1700                 0                  415   \n",
       "3                         3380                 0                   10   \n",
       "4                         2440                 5                   65   \n",
       "\n",
       "   row_house  duplex  apartment_five_storeys_less  other_house  \\\n",
       "0         40     210                         1235           15   \n",
       "1         15      10                           20            0   \n",
       "2        190     185                         1090            5   \n",
       "3          0       0                          485            5   \n",
       "4         45      85                         1010           15   \n",
       "\n",
       "   average_house_value  shelter_costs_owned  shelter_costs_rented  \n",
       "0               565304                  933                  1491  \n",
       "1               927466                 1983                  1790  \n",
       "2               596077                 1241                  1500  \n",
       "3               517466                  940                  1428  \n",
       "4               726664                 1001                  1469  "
      ]
     },
     "execution_count": 67,
     "metadata": {},
     "output_type": "execute_result"
    }
   ],
   "source": [
    "# Fetch the data from all expensive neighbourhoods per year.\n",
    "df_expensive_neighbourhoods_per_year = to_data[to_data[\"neighbourhood\"].isin(expensive_neighbourhoods[\"neighbourhood\"])]\n",
    "df_expensive_neighbourhoods_per_year.reset_index(inplace=True)\n",
    "df_expensive_neighbourhoods_per_year.head()"
   ]
  },
  {
   "cell_type": "code",
   "execution_count": 68,
   "metadata": {},
   "outputs": [
    {
     "ename": "AttributeError",
     "evalue": "type object 'object' has no attribute 'dtype'",
     "output_type": "error",
     "traceback": [
      "\u001b[1;31m---------------------------------------------------------------------------\u001b[0m",
      "\u001b[1;31mAttributeError\u001b[0m                            Traceback (most recent call last)",
      "\u001b[1;32m<ipython-input-68-80871794437f>\u001b[0m in \u001b[0;36m<module>\u001b[1;34m\u001b[0m\n\u001b[0;32m      6\u001b[0m     \u001b[0mhover_data\u001b[0m\u001b[1;33m=\u001b[0m\u001b[1;33m[\u001b[0m\u001b[1;34m'shelter_costs_owned'\u001b[0m\u001b[1;33m,\u001b[0m \u001b[1;34m'shelter_costs_rented'\u001b[0m\u001b[1;33m]\u001b[0m\u001b[1;33m,\u001b[0m\u001b[1;33m\u001b[0m\u001b[1;33m\u001b[0m\u001b[0m\n\u001b[0;32m      7\u001b[0m     \u001b[0mcolor_continuous_scale\u001b[0m\u001b[1;33m=\u001b[0m\u001b[1;34m'Blues'\u001b[0m\u001b[1;33m,\u001b[0m\u001b[1;33m\u001b[0m\u001b[1;33m\u001b[0m\u001b[0m\n\u001b[1;32m----> 8\u001b[1;33m     \u001b[0mtitle\u001b[0m\u001b[1;33m=\u001b[0m\u001b[1;34m\"Costs Analysis of Most Expensive Neighbourhoods in Toronto per Year\"\u001b[0m\u001b[1;33m\u001b[0m\u001b[1;33m\u001b[0m\u001b[0m\n\u001b[0m\u001b[0;32m      9\u001b[0m )\n\u001b[0;32m     10\u001b[0m \u001b[0mplot\u001b[0m\u001b[1;33m.\u001b[0m\u001b[0mshow\u001b[0m\u001b[1;33m(\u001b[0m\u001b[1;33m)\u001b[0m\u001b[1;33m\u001b[0m\u001b[1;33m\u001b[0m\u001b[0m\n",
      "\u001b[1;32m~\\anaconda3\\envs\\pyvizenv\\lib\\site-packages\\plotly\\express\\_chart_types.py\u001b[0m in \u001b[0;36msunburst\u001b[1;34m(data_frame, names, values, parents, path, ids, color, color_continuous_scale, range_color, color_continuous_midpoint, color_discrete_sequence, color_discrete_map, hover_name, hover_data, custom_data, labels, title, template, width, height, branchvalues, maxdepth)\u001b[0m\n\u001b[0;32m   1416\u001b[0m         \u001b[0mconstructor\u001b[0m\u001b[1;33m=\u001b[0m\u001b[0mgo\u001b[0m\u001b[1;33m.\u001b[0m\u001b[0mSunburst\u001b[0m\u001b[1;33m,\u001b[0m\u001b[1;33m\u001b[0m\u001b[1;33m\u001b[0m\u001b[0m\n\u001b[0;32m   1417\u001b[0m         \u001b[0mtrace_patch\u001b[0m\u001b[1;33m=\u001b[0m\u001b[0mdict\u001b[0m\u001b[1;33m(\u001b[0m\u001b[0mbranchvalues\u001b[0m\u001b[1;33m=\u001b[0m\u001b[0mbranchvalues\u001b[0m\u001b[1;33m,\u001b[0m \u001b[0mmaxdepth\u001b[0m\u001b[1;33m=\u001b[0m\u001b[0mmaxdepth\u001b[0m\u001b[1;33m)\u001b[0m\u001b[1;33m,\u001b[0m\u001b[1;33m\u001b[0m\u001b[1;33m\u001b[0m\u001b[0m\n\u001b[1;32m-> 1418\u001b[1;33m         \u001b[0mlayout_patch\u001b[0m\u001b[1;33m=\u001b[0m\u001b[0mlayout_patch\u001b[0m\u001b[1;33m,\u001b[0m\u001b[1;33m\u001b[0m\u001b[1;33m\u001b[0m\u001b[0m\n\u001b[0m\u001b[0;32m   1419\u001b[0m     )\n\u001b[0;32m   1420\u001b[0m \u001b[1;33m\u001b[0m\u001b[0m\n",
      "\u001b[1;32m~\\anaconda3\\envs\\pyvizenv\\lib\\site-packages\\plotly\\express\\_core.py\u001b[0m in \u001b[0;36mmake_figure\u001b[1;34m(args, constructor, trace_patch, layout_patch)\u001b[0m\n\u001b[0;32m   1861\u001b[0m     \u001b[0margs\u001b[0m \u001b[1;33m=\u001b[0m \u001b[0mbuild_dataframe\u001b[0m\u001b[1;33m(\u001b[0m\u001b[0margs\u001b[0m\u001b[1;33m,\u001b[0m \u001b[0mconstructor\u001b[0m\u001b[1;33m)\u001b[0m\u001b[1;33m\u001b[0m\u001b[1;33m\u001b[0m\u001b[0m\n\u001b[0;32m   1862\u001b[0m     \u001b[1;32mif\u001b[0m \u001b[0mconstructor\u001b[0m \u001b[1;32min\u001b[0m \u001b[1;33m[\u001b[0m\u001b[0mgo\u001b[0m\u001b[1;33m.\u001b[0m\u001b[0mTreemap\u001b[0m\u001b[1;33m,\u001b[0m \u001b[0mgo\u001b[0m\u001b[1;33m.\u001b[0m\u001b[0mSunburst\u001b[0m\u001b[1;33m]\u001b[0m \u001b[1;32mand\u001b[0m \u001b[0margs\u001b[0m\u001b[1;33m[\u001b[0m\u001b[1;34m\"path\"\u001b[0m\u001b[1;33m]\u001b[0m \u001b[1;32mis\u001b[0m \u001b[1;32mnot\u001b[0m \u001b[1;32mNone\u001b[0m\u001b[1;33m:\u001b[0m\u001b[1;33m\u001b[0m\u001b[1;33m\u001b[0m\u001b[0m\n\u001b[1;32m-> 1863\u001b[1;33m         \u001b[0margs\u001b[0m \u001b[1;33m=\u001b[0m \u001b[0mprocess_dataframe_hierarchy\u001b[0m\u001b[1;33m(\u001b[0m\u001b[0margs\u001b[0m\u001b[1;33m)\u001b[0m\u001b[1;33m\u001b[0m\u001b[1;33m\u001b[0m\u001b[0m\n\u001b[0m\u001b[0;32m   1864\u001b[0m     \u001b[1;32mif\u001b[0m \u001b[0mconstructor\u001b[0m \u001b[1;33m==\u001b[0m \u001b[1;34m\"timeline\"\u001b[0m\u001b[1;33m:\u001b[0m\u001b[1;33m\u001b[0m\u001b[1;33m\u001b[0m\u001b[0m\n\u001b[0;32m   1865\u001b[0m         \u001b[0mconstructor\u001b[0m \u001b[1;33m=\u001b[0m \u001b[0mgo\u001b[0m\u001b[1;33m.\u001b[0m\u001b[0mBar\u001b[0m\u001b[1;33m\u001b[0m\u001b[1;33m\u001b[0m\u001b[0m\n",
      "\u001b[1;32m~\\anaconda3\\envs\\pyvizenv\\lib\\site-packages\\plotly\\express\\_core.py\u001b[0m in \u001b[0;36mprocess_dataframe_hierarchy\u001b[1;34m(args)\u001b[0m\n\u001b[0;32m   1568\u001b[0m     \u001b[0mcols\u001b[0m \u001b[1;33m=\u001b[0m \u001b[0mlist\u001b[0m\u001b[1;33m(\u001b[0m\u001b[0mset\u001b[0m\u001b[1;33m(\u001b[0m\u001b[0mcols\u001b[0m\u001b[1;33m)\u001b[0m \u001b[1;33m-\u001b[0m \u001b[0mset\u001b[0m\u001b[1;33m(\u001b[0m\u001b[1;33m[\u001b[0m\u001b[1;34m\"labels\"\u001b[0m\u001b[1;33m,\u001b[0m \u001b[1;34m\"parent\"\u001b[0m\u001b[1;33m,\u001b[0m \u001b[1;34m\"id\"\u001b[0m\u001b[1;33m]\u001b[0m\u001b[1;33m)\u001b[0m\u001b[1;33m)\u001b[0m\u001b[1;33m\u001b[0m\u001b[1;33m\u001b[0m\u001b[0m\n\u001b[0;32m   1569\u001b[0m     \u001b[1;31m# ----------------------------------------------------------------------------\u001b[0m\u001b[1;33m\u001b[0m\u001b[1;33m\u001b[0m\u001b[1;33m\u001b[0m\u001b[0m\n\u001b[1;32m-> 1570\u001b[1;33m     \u001b[0mdf_all_trees\u001b[0m \u001b[1;33m=\u001b[0m \u001b[0mpd\u001b[0m\u001b[1;33m.\u001b[0m\u001b[0mDataFrame\u001b[0m\u001b[1;33m(\u001b[0m\u001b[0mcolumns\u001b[0m\u001b[1;33m=\u001b[0m\u001b[1;33m[\u001b[0m\u001b[1;34m\"labels\"\u001b[0m\u001b[1;33m,\u001b[0m \u001b[1;34m\"parent\"\u001b[0m\u001b[1;33m,\u001b[0m \u001b[1;34m\"id\"\u001b[0m\u001b[1;33m]\u001b[0m \u001b[1;33m+\u001b[0m \u001b[0mcols\u001b[0m\u001b[1;33m)\u001b[0m\u001b[1;33m\u001b[0m\u001b[1;33m\u001b[0m\u001b[0m\n\u001b[0m\u001b[0;32m   1571\u001b[0m     \u001b[1;31m#  Set column type here (useful for continuous vs discrete colorscale)\u001b[0m\u001b[1;33m\u001b[0m\u001b[1;33m\u001b[0m\u001b[1;33m\u001b[0m\u001b[0m\n\u001b[0;32m   1572\u001b[0m     \u001b[1;32mfor\u001b[0m \u001b[0mcol\u001b[0m \u001b[1;32min\u001b[0m \u001b[0mcols\u001b[0m\u001b[1;33m:\u001b[0m\u001b[1;33m\u001b[0m\u001b[1;33m\u001b[0m\u001b[0m\n",
      "\u001b[1;32m~\\AppData\\Roaming\\Python\\Python37\\site-packages\\pandas\\core\\frame.py\u001b[0m in \u001b[0;36m__init__\u001b[1;34m(self, data, index, columns, dtype, copy)\u001b[0m\n\u001b[0;32m    390\u001b[0m                                  dtype=dtype, copy=copy)\n\u001b[0;32m    391\u001b[0m         \u001b[1;32melif\u001b[0m \u001b[0misinstance\u001b[0m\u001b[1;33m(\u001b[0m\u001b[0mdata\u001b[0m\u001b[1;33m,\u001b[0m \u001b[0mdict\u001b[0m\u001b[1;33m)\u001b[0m\u001b[1;33m:\u001b[0m\u001b[1;33m\u001b[0m\u001b[1;33m\u001b[0m\u001b[0m\n\u001b[1;32m--> 392\u001b[1;33m             \u001b[0mmgr\u001b[0m \u001b[1;33m=\u001b[0m \u001b[0minit_dict\u001b[0m\u001b[1;33m(\u001b[0m\u001b[0mdata\u001b[0m\u001b[1;33m,\u001b[0m \u001b[0mindex\u001b[0m\u001b[1;33m,\u001b[0m \u001b[0mcolumns\u001b[0m\u001b[1;33m,\u001b[0m \u001b[0mdtype\u001b[0m\u001b[1;33m=\u001b[0m\u001b[0mdtype\u001b[0m\u001b[1;33m)\u001b[0m\u001b[1;33m\u001b[0m\u001b[1;33m\u001b[0m\u001b[0m\n\u001b[0m\u001b[0;32m    393\u001b[0m         \u001b[1;32melif\u001b[0m \u001b[0misinstance\u001b[0m\u001b[1;33m(\u001b[0m\u001b[0mdata\u001b[0m\u001b[1;33m,\u001b[0m \u001b[0mma\u001b[0m\u001b[1;33m.\u001b[0m\u001b[0mMaskedArray\u001b[0m\u001b[1;33m)\u001b[0m\u001b[1;33m:\u001b[0m\u001b[1;33m\u001b[0m\u001b[1;33m\u001b[0m\u001b[0m\n\u001b[0;32m    394\u001b[0m             \u001b[1;32mimport\u001b[0m \u001b[0mnumpy\u001b[0m\u001b[1;33m.\u001b[0m\u001b[0mma\u001b[0m\u001b[1;33m.\u001b[0m\u001b[0mmrecords\u001b[0m \u001b[1;32mas\u001b[0m \u001b[0mmrecords\u001b[0m\u001b[1;33m\u001b[0m\u001b[1;33m\u001b[0m\u001b[0m\n",
      "\u001b[1;32m~\\AppData\\Roaming\\Python\\Python37\\site-packages\\pandas\\core\\internals\\construction.py\u001b[0m in \u001b[0;36minit_dict\u001b[1;34m(data, index, columns, dtype)\u001b[0m\n\u001b[0;32m    194\u001b[0m                 \u001b[0mnan_dtype\u001b[0m \u001b[1;33m=\u001b[0m \u001b[0mdtype\u001b[0m\u001b[1;33m\u001b[0m\u001b[1;33m\u001b[0m\u001b[0m\n\u001b[0;32m    195\u001b[0m             val = construct_1d_arraylike_from_scalar(np.nan, len(index),\n\u001b[1;32m--> 196\u001b[1;33m                                                      nan_dtype)\n\u001b[0m\u001b[0;32m    197\u001b[0m             \u001b[0marrays\u001b[0m\u001b[1;33m.\u001b[0m\u001b[0mloc\u001b[0m\u001b[1;33m[\u001b[0m\u001b[0mmissing\u001b[0m\u001b[1;33m]\u001b[0m \u001b[1;33m=\u001b[0m \u001b[1;33m[\u001b[0m\u001b[0mval\u001b[0m\u001b[1;33m]\u001b[0m \u001b[1;33m*\u001b[0m \u001b[0mmissing\u001b[0m\u001b[1;33m.\u001b[0m\u001b[0msum\u001b[0m\u001b[1;33m(\u001b[0m\u001b[1;33m)\u001b[0m\u001b[1;33m\u001b[0m\u001b[1;33m\u001b[0m\u001b[0m\n\u001b[0;32m    198\u001b[0m \u001b[1;33m\u001b[0m\u001b[0m\n",
      "\u001b[1;32m~\\AppData\\Roaming\\Python\\Python37\\site-packages\\pandas\\core\\dtypes\\cast.py\u001b[0m in \u001b[0;36mconstruct_1d_arraylike_from_scalar\u001b[1;34m(value, length, dtype)\u001b[0m\n\u001b[0;32m   1173\u001b[0m     \u001b[1;32melse\u001b[0m\u001b[1;33m:\u001b[0m\u001b[1;33m\u001b[0m\u001b[1;33m\u001b[0m\u001b[0m\n\u001b[0;32m   1174\u001b[0m         \u001b[1;32mif\u001b[0m \u001b[1;32mnot\u001b[0m \u001b[0misinstance\u001b[0m\u001b[1;33m(\u001b[0m\u001b[0mdtype\u001b[0m\u001b[1;33m,\u001b[0m \u001b[1;33m(\u001b[0m\u001b[0mnp\u001b[0m\u001b[1;33m.\u001b[0m\u001b[0mdtype\u001b[0m\u001b[1;33m,\u001b[0m \u001b[0mtype\u001b[0m\u001b[1;33m(\u001b[0m\u001b[0mnp\u001b[0m\u001b[1;33m.\u001b[0m\u001b[0mdtype\u001b[0m\u001b[1;33m)\u001b[0m\u001b[1;33m)\u001b[0m\u001b[1;33m)\u001b[0m\u001b[1;33m:\u001b[0m\u001b[1;33m\u001b[0m\u001b[1;33m\u001b[0m\u001b[0m\n\u001b[1;32m-> 1175\u001b[1;33m             \u001b[0mdtype\u001b[0m \u001b[1;33m=\u001b[0m \u001b[0mdtype\u001b[0m\u001b[1;33m.\u001b[0m\u001b[0mdtype\u001b[0m\u001b[1;33m\u001b[0m\u001b[1;33m\u001b[0m\u001b[0m\n\u001b[0m\u001b[0;32m   1176\u001b[0m \u001b[1;33m\u001b[0m\u001b[0m\n\u001b[0;32m   1177\u001b[0m         \u001b[1;32mif\u001b[0m \u001b[0mlength\u001b[0m \u001b[1;32mand\u001b[0m \u001b[0mis_integer_dtype\u001b[0m\u001b[1;33m(\u001b[0m\u001b[0mdtype\u001b[0m\u001b[1;33m)\u001b[0m \u001b[1;32mand\u001b[0m \u001b[0misna\u001b[0m\u001b[1;33m(\u001b[0m\u001b[0mvalue\u001b[0m\u001b[1;33m)\u001b[0m\u001b[1;33m:\u001b[0m\u001b[1;33m\u001b[0m\u001b[1;33m\u001b[0m\u001b[0m\n",
      "\u001b[1;31mAttributeError\u001b[0m: type object 'object' has no attribute 'dtype'"
     ]
    }
   ],
   "source": [
    "plot = px.sunburst(\n",
    "    df_expensive_neighbourhoods_per_year,\n",
    "    path=[\"year\", \"neighbourhood\"],\n",
    "    values='average_house_value',\n",
    "    color='shelter_costs_owned',\n",
    "    hover_data=['shelter_costs_owned', 'shelter_costs_rented'],\n",
    "    color_continuous_scale='Blues',\n",
    "    title=\"Costs Analysis of Most Expensive Neighbourhoods in Toronto per Year\"\n",
    ")\n",
    "plot.show()\n"
   ]
  },
  {
   "cell_type": "code",
   "execution_count": null,
   "metadata": {},
   "outputs": [],
   "source": []
  }
 ],
 "metadata": {
  "file_extension": ".py",
  "kernelspec": {
   "display_name": "Python [conda env:pyvizenv] *",
   "language": "python",
   "name": "conda-env-pyvizenv-py"
  },
  "language_info": {
   "codemirror_mode": {
    "name": "ipython",
    "version": 3
   },
   "file_extension": ".py",
   "mimetype": "text/x-python",
   "name": "python",
   "nbconvert_exporter": "python",
   "pygments_lexer": "ipython3",
   "version": "3.7.10"
  },
  "mimetype": "text/x-python",
  "name": "python",
  "npconvert_exporter": "python",
  "pygments_lexer": "ipython3",
  "version": 3
 },
 "nbformat": 4,
 "nbformat_minor": 4
}
